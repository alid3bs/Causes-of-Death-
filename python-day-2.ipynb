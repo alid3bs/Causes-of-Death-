{
 "cells": [
  {
   "cell_type": "markdown",
   "metadata": {},
   "source": [
    "# 1-Conditional Statements\n",
    "- Boolean Expressions\n",
    "- If Statement\n",
    "- If, Elif, Else\n",
    "\n",
    "\n",
    "# 2-Control Flow\n",
    "- For and While Loops\n",
    "- Break and Continue\n",
    "- Zip and Enumerate\n",
    "- List Comprehensions"
   ]
  },
  {
   "cell_type": "markdown",
   "metadata": {},
   "source": [
    "## 1- Conditional Statements\n",
    "\n",
    "#### 1-1 If Statement\n",
    "- An if statement is a conditional statement that runs or skips code based on whether a condition is true or false"
   ]
  },
  {
   "cell_type": "code",
   "execution_count": null,
   "metadata": {
    "execution": {
     "iopub.execute_input": "2024-02-23T08:43:05.961790Z",
     "iopub.status.busy": "2024-02-23T08:43:05.961351Z",
     "iopub.status.idle": "2024-02-23T08:43:05.986921Z",
     "shell.execute_reply": "2024-02-23T08:43:05.986201Z",
     "shell.execute_reply.started": "2024-02-23T08:43:05.961756Z"
    }
   },
   "outputs": [],
   "source": [
    "#First Example - try changing the value of phone_balance\n",
    "#phone_balance = 10\n",
    "#bank_balance = 50\n",
    "\n",
    "#if phone_balance < 10:\n",
    "#    phone_balance += 10\n",
    "#    bank_balance -= 10\n",
    "\n",
    "#print(phone_balance)\n",
    "#print(bank_balance)"
   ]
  },
  {
   "cell_type": "code",
   "execution_count": 2,
   "metadata": {
    "execution": {
     "iopub.execute_input": "2024-02-23T08:56:19.756634Z",
     "iopub.status.busy": "2024-02-23T08:56:19.756037Z",
     "iopub.status.idle": "2024-02-23T08:56:19.762006Z",
     "shell.execute_reply": "2024-02-23T08:56:19.761135Z",
     "shell.execute_reply.started": "2024-02-23T08:56:19.756602Z"
    }
   },
   "outputs": [],
   "source": [
    "phone_balance = 10\n",
    "bank_balance = 50\n",
    "\n",
    "if phone_balance < bank_balance :\n",
    "    phone_balance += 10\n",
    "    bank_balance -= 10"
   ]
  },
  {
   "cell_type": "code",
   "execution_count": 3,
   "metadata": {},
   "outputs": [
    {
     "name": "stdout",
     "output_type": "stream",
     "text": [
      "20 40\n"
     ]
    }
   ],
   "source": [
    "print(phone_balance, bank_balance)"
   ]
  },
  {
   "cell_type": "code",
   "execution_count": null,
   "metadata": {},
   "outputs": [],
   "source": []
  },
  {
   "cell_type": "code",
   "execution_count": null,
   "metadata": {},
   "outputs": [],
   "source": []
  },
  {
   "cell_type": "code",
   "execution_count": null,
   "metadata": {},
   "outputs": [],
   "source": []
  },
  {
   "cell_type": "markdown",
   "metadata": {},
   "source": [
    "#### 1-2 If, Elif, Else"
   ]
  },
  {
   "cell_type": "code",
   "execution_count": null,
   "metadata": {
    "execution": {
     "iopub.execute_input": "2024-02-23T08:43:39.393926Z",
     "iopub.status.busy": "2024-02-23T08:43:39.393091Z",
     "iopub.status.idle": "2024-02-23T08:43:39.406866Z",
     "shell.execute_reply": "2024-02-23T08:43:39.405739Z",
     "shell.execute_reply.started": "2024-02-23T08:43:39.393886Z"
    }
   },
   "outputs": [],
   "source": [
    "#season = 'spring'\n",
    "#if season == 'spring':\n",
    "#    print('plant the garden!')\n",
    "#elif season == 'summer':\n",
    "#    print('water the garden!')\n",
    "#elif season == 'fall':\n",
    "#    print('harvest the garden!')\n",
    "#elif season == 'winter':\n",
    "#    print('stay indoors!')\n",
    "#else:\n",
    "#    print('unrecognized season')"
   ]
  },
  {
   "cell_type": "code",
   "execution_count": 22,
   "metadata": {},
   "outputs": [
    {
     "name": "stdout",
     "output_type": "stream",
     "text": [
      "unrecognized season\n"
     ]
    }
   ],
   "source": [
    "season = 'test'\n",
    "\n",
    "if season == 'spring':\n",
    "    print('plant the garden!')\n",
    "    \n",
    "elif season == 'summer':\n",
    "    print('water the garden!')\n",
    "    \n",
    "elif season == 'fall':\n",
    "    print('harvest the garden!')\n",
    "    \n",
    "elif season == 'winter':\n",
    "    print('stay indoors!')\n",
    "    \n",
    "else:\n",
    "    print('unrecognized season')"
   ]
  },
  {
   "cell_type": "code",
   "execution_count": 12,
   "metadata": {},
   "outputs": [
    {
     "data": {
      "text/plain": [
       "0"
      ]
     },
     "execution_count": 12,
     "metadata": {},
     "output_type": "execute_result"
    }
   ],
   "source": [
    "10 % 2"
   ]
  },
  {
   "cell_type": "code",
   "execution_count": 16,
   "metadata": {},
   "outputs": [
    {
     "name": "stdout",
     "output_type": "stream",
     "text": [
      "Number 145 is odd.\n"
     ]
    }
   ],
   "source": [
    "#Second Example - try changing the value of number\n",
    "\n",
    "number = 145\n",
    "\n",
    "if number % 2 == 0:\n",
    "    print(\"Number \" , number , \" is even.\")\n",
    "    \n",
    "else:\n",
    "    print(\"Number \" + str(number) + \" is odd.\")"
   ]
  },
  {
   "cell_type": "code",
   "execution_count": 17,
   "metadata": {},
   "outputs": [
    {
     "name": "stdout",
     "output_type": "stream",
     "text": [
      "Somebody who is 35 years old will pay $2.5 to ride the bus.\n"
     ]
    }
   ],
   "source": [
    "#Third Example - try to change the value of age\n",
    "age = 35\n",
    "\n",
    "# Here are the age limits for bus fares\n",
    "free_up_to_age = 4\n",
    "child_up_to_age = 18\n",
    "senior_from_age = 65\n",
    "\n",
    "# These lines determine the bus fare prices\n",
    "concession_ticket = 1.25\n",
    "adult_ticket = 2.50\n",
    "\n",
    "# Here is the logic for bus fare prices\n",
    "if age <= free_up_to_age:\n",
    "    ticket_price = 0\n",
    "    \n",
    "elif age <= child_up_to_age:\n",
    "    ticket_price = concession_ticket\n",
    "    \n",
    "elif age >= senior_from_age:\n",
    "    ticket_price = concession_ticket\n",
    "    \n",
    "else:\n",
    "    ticket_price = adult_ticket\n",
    "\n",
    "message = \"Somebody who is {} years old will pay ${} to ride the bus.\".format(age, ticket_price)\n",
    "print(message)"
   ]
  },
  {
   "cell_type": "markdown",
   "metadata": {},
   "source": [
    "## Practice: Which Prize"
   ]
  },
  {
   "cell_type": "markdown",
   "metadata": {},
   "source": [
    "## Points    -----------    Prize\n",
    "### 1 - 50    -----------  wooden rabbit\n",
    "### 51 - 150  -----------   no prize\n",
    "### 151 - 180 ----------- wafer-thin mint\n",
    "### 181 - 200 -----------     penguin"
   ]
  },
  {
   "cell_type": "code",
   "execution_count": 26,
   "metadata": {},
   "outputs": [
    {
     "name": "stdout",
     "output_type": "stream",
     "text": [
      "penguin\n"
     ]
    }
   ],
   "source": [
    "points = 40  # use this input to make your submission\n",
    "\n",
    "# write your if statement here\n",
    "\n",
    "# write your if statement here\n",
    "if 1<=points<=50 :\n",
    "    result= \"wooden rabbit\"\n",
    "    \n",
    "if 51<=points<=150 :\n",
    "    result= \"no prize\"\n",
    "    \n",
    "if 151<=points<=180 :\n",
    "    result=\"wafer-thin mint\"\n",
    "    \n",
    "else :\n",
    "    result = \"penguin\"\n",
    "\n",
    "print(result)"
   ]
  },
  {
   "cell_type": "code",
   "execution_count": 24,
   "metadata": {},
   "outputs": [
    {
     "name": "stdout",
     "output_type": "stream",
     "text": [
      "wooden rabbit\n"
     ]
    }
   ],
   "source": [
    "points = 50  # use this input to make your submission\n",
    "\n",
    "# write your if statement here\n",
    "\n",
    "# write your if statement here\n",
    "if 1<=points<=50 :\n",
    "    result= \"wooden rabbit\"\n",
    "    \n",
    "elif 51<=points<=150 :\n",
    "    result= \"no prize\"\n",
    "    \n",
    "elif 151<=points<=180 :\n",
    "    result=\"wafer-thin mint\"\n",
    "    \n",
    "else :\n",
    "    result = \"penguin\"\n",
    "\n",
    "print(result)"
   ]
  },
  {
   "cell_type": "markdown",
   "metadata": {},
   "source": [
    "### Quiz: Guess My Number"
   ]
  },
  {
   "cell_type": "code",
   "execution_count": null,
   "metadata": {},
   "outputs": [],
   "source": [
    "# '''\n",
    "# You decide you want to play a game where you are hiding \n",
    "# a number from someone.  Store this number in a variable \n",
    "# called 'answer'.  Another user provides a number called\n",
    "# 'guess'.  By comparing guess to answer, you inform the user\n",
    "# if their guess is too high or too low.\n",
    "\n",
    "# Fill in the conditionals below to inform the user about how\n",
    "# their guess compares to the answer.\n",
    "# '''\n",
    "answer = #provide answer\n",
    "guess = #provide guess\n",
    "\n",
    "if #provide conditional\n",
    "    result = \"Oops!  Your guess was too low.\"\n",
    "#provide conditional\n",
    "    result = \"Oops!  Your guess was too high.\"\n",
    "#provide conditional\n",
    "    result = \"Nice!  Your guess matched the answer!\"\n",
    "\n",
    "print(result)"
   ]
  },
  {
   "cell_type": "markdown",
   "metadata": {},
   "source": [
    "## Quiz: Tax Purchase"
   ]
  },
  {
   "cell_type": "code",
   "execution_count": null,
   "metadata": {},
   "outputs": [],
   "source": [
    "# '''\n",
    "# Depending on where an individual is from we need to tax them \n",
    "# appropriately.  The states of CA, MN, and \n",
    "# NY have taxes of 7.5%, 9.5%, and 8.9% respectively.\n",
    "# Use this information to take the amount of a purchase and \n",
    "# the corresponding state to assure that they are taxed by the right\n",
    "# amount.\n",
    "# '''\n",
    "state = #Either CA, MN, or NY\n",
    "purchase_amount = #amount of purchase\n",
    "\n",
    "if #provide conditional for checking state is CA\n",
    "    tax_amount = .075\n",
    "    total_cost = purchase_amount*(1+tax_amount)\n",
    "    result = \"Since you're from {}, your total cost is {}.\".format(state, total_cost)\n",
    "\n",
    "elif #provide conditional for checking state is MN\n",
    "    tax_amount = .095\n",
    "    total_cost = purchase_amount*(1+tax_amount)\n",
    "    result = \"Since you're from {}, your total cost is {}.\".format(state, total_cost)\n",
    "\n",
    "elif #provide conditional for checking state is NY\n",
    "    tax_amount = .089\n",
    "    total_cost = purchase_amount*(1+tax_amount)\n",
    "    result = \"Since you're from {}, your total cost is {}.\".format(state, total_cost)\n",
    "\n",
    "print(result)"
   ]
  },
  {
   "cell_type": "markdown",
   "metadata": {},
   "source": [
    "## 2-Control Flow"
   ]
  },
  {
   "cell_type": "markdown",
   "metadata": {},
   "source": [
    "## For Loops\n",
    "#### A for loop is used to \"iterate\", or do something repeatedly, over an iterable."
   ]
  },
  {
   "cell_type": "code",
   "execution_count": null,
   "metadata": {
    "execution": {
     "iopub.execute_input": "2024-02-23T11:44:17.475461Z",
     "iopub.status.busy": "2024-02-23T11:44:17.475018Z",
     "iopub.status.idle": "2024-02-23T11:44:17.480337Z",
     "shell.execute_reply": "2024-02-23T11:44:17.479429Z",
     "shell.execute_reply.started": "2024-02-23T11:44:17.475427Z"
    }
   },
   "outputs": [],
   "source": [
    "#cities = ['new york city', 'mountain view', 'chicago', 'los angeles']\n",
    "#for city in cities:\n",
    "#    print(city)\n",
    "#print(\"Done!\")"
   ]
  },
  {
   "cell_type": "code",
   "execution_count": null,
   "metadata": {},
   "outputs": [],
   "source": []
  },
  {
   "cell_type": "code",
   "execution_count": null,
   "metadata": {},
   "outputs": [],
   "source": []
  },
  {
   "cell_type": "code",
   "execution_count": null,
   "metadata": {},
   "outputs": [],
   "source": [
    "#Using the range() Function with for Loops\n",
    "#range(start=0, stop, step=1)\n",
    "#for i in range(3):\n",
    "#    print(\"Hello!\")"
   ]
  },
  {
   "cell_type": "code",
   "execution_count": null,
   "metadata": {},
   "outputs": [],
   "source": []
  },
  {
   "cell_type": "code",
   "execution_count": null,
   "metadata": {},
   "outputs": [],
   "source": []
  },
  {
   "cell_type": "code",
   "execution_count": null,
   "metadata": {
    "execution": {
     "iopub.execute_input": "2024-02-23T11:44:33.371259Z",
     "iopub.status.busy": "2024-02-23T11:44:33.369823Z",
     "iopub.status.idle": "2024-02-23T11:44:33.377922Z",
     "shell.execute_reply": "2024-02-23T11:44:33.376203Z",
     "shell.execute_reply.started": "2024-02-23T11:44:33.371218Z"
    }
   },
   "outputs": [],
   "source": [
    "#Creating and Modifying Lists\n",
    "## Creating a new list\n",
    "#cities = ['new york city', 'mountain view', 'chicago', 'los angeles']\n",
    "#capitalized_cities = []\n",
    "\n",
    "#for city in cities:\n",
    "#    capitalized_cities.append(city.title())"
   ]
  },
  {
   "cell_type": "code",
   "execution_count": null,
   "metadata": {},
   "outputs": [],
   "source": []
  },
  {
   "cell_type": "code",
   "execution_count": null,
   "metadata": {},
   "outputs": [],
   "source": []
  },
  {
   "cell_type": "markdown",
   "metadata": {},
   "source": [
    "## Practice: For Loops"
   ]
  },
  {
   "cell_type": "code",
   "execution_count": null,
   "metadata": {},
   "outputs": [],
   "source": [
    "sentence = [\"the\", \"quick\", \"brown\", \"fox\", \"jumped\", \"over\", \"the\", \"lazy\", \"dog\"]\n",
    "\n",
    "# Write a for loop to print out each word in the sentence list, one word per line\n",
    "\n"
   ]
  },
  {
   "cell_type": "code",
   "execution_count": null,
   "metadata": {
    "execution": {
     "iopub.execute_input": "2024-02-23T11:46:44.897885Z",
     "iopub.status.busy": "2024-02-23T11:46:44.897408Z",
     "iopub.status.idle": "2024-02-23T11:46:44.903441Z",
     "shell.execute_reply": "2024-02-23T11:46:44.902274Z",
     "shell.execute_reply.started": "2024-02-23T11:46:44.897848Z"
    }
   },
   "outputs": [],
   "source": [
    "# Write a for loop using range() to print out multiples of 5 up to 30 inclusive\n",
    "\n",
    "\n",
    "\n",
    "#This should output:\n",
    "\n",
    "#5\n",
    "#10\n",
    "#15\n",
    "#20\n",
    "#25\n",
    "#30"
   ]
  },
  {
   "cell_type": "code",
   "execution_count": null,
   "metadata": {},
   "outputs": [],
   "source": [
    "names = [\"Joey Tribbiani\", \"Monica Geller\", \"Chandler Bing\", \"Phoebe Buffay\"]\n",
    "usernames = []\n",
    "\n",
    "# write your for loop here\n",
    "\n",
    "\n",
    "print(usernames)\n",
    "\n",
    "#This should output:\n",
    "#usernames = [\"joey_tribbiani\", \"monica_geller\", \"chandler_bing\", \"phoebe_buffay\"]\n",
    "#HINT: Use the .replace() method to replace the spaces with underscores."
   ]
  },
  {
   "cell_type": "markdown",
   "metadata": {},
   "source": [
    "## Iterating Through Dictionaries with For Loops"
   ]
  },
  {
   "cell_type": "code",
   "execution_count": null,
   "metadata": {
    "execution": {
     "iopub.execute_input": "2023-09-10T11:38:37.842837Z",
     "iopub.status.busy": "2023-09-10T11:38:37.842392Z",
     "iopub.status.idle": "2023-09-10T11:38:37.849110Z",
     "shell.execute_reply": "2023-09-10T11:38:37.847684Z",
     "shell.execute_reply.started": "2023-09-10T11:38:37.842802Z"
    }
   },
   "outputs": [],
   "source": [
    "cast = {\n",
    "           \"Jerry Seinfeld\": 1,\n",
    "           \"Julia Louis-Dreyfus\": 2,\n",
    "           \"Jason Alexander\": 3,\n",
    "           \"Michael Richards\": 4\n",
    "       }"
   ]
  },
  {
   "cell_type": "code",
   "execution_count": null,
   "metadata": {
    "execution": {
     "iopub.execute_input": "2023-09-10T11:38:38.075819Z",
     "iopub.status.busy": "2023-09-10T11:38:38.074844Z",
     "iopub.status.idle": "2023-09-10T11:38:38.081113Z",
     "shell.execute_reply": "2023-09-10T11:38:38.079934Z",
     "shell.execute_reply.started": "2023-09-10T11:38:38.075780Z"
    }
   },
   "outputs": [],
   "source": [
    "for key in cast:\n",
    "    print(key)"
   ]
  },
  {
   "cell_type": "code",
   "execution_count": null,
   "metadata": {
    "execution": {
     "iopub.execute_input": "2023-09-10T11:39:02.811181Z",
     "iopub.status.busy": "2023-09-10T11:39:02.810809Z",
     "iopub.status.idle": "2023-09-10T11:39:02.816946Z",
     "shell.execute_reply": "2023-09-10T11:39:02.815837Z",
     "shell.execute_reply.started": "2023-09-10T11:39:02.811152Z"
    }
   },
   "outputs": [],
   "source": [
    "for key, value in cast.items():\n",
    "    print(\"Actor: {}    number: {}\".format(key, value))"
   ]
  },
  {
   "cell_type": "markdown",
   "metadata": {},
   "source": [
    "## Quiz: Fruit Basket - Task 1"
   ]
  },
  {
   "cell_type": "code",
   "execution_count": null,
   "metadata": {
    "execution": {
     "iopub.execute_input": "2024-02-23T11:50:31.635193Z",
     "iopub.status.busy": "2024-02-23T11:50:31.633757Z",
     "iopub.status.idle": "2024-02-23T11:50:31.643118Z",
     "shell.execute_reply": "2024-02-23T11:50:31.641389Z",
     "shell.execute_reply.started": "2024-02-23T11:50:31.635139Z"
    }
   },
   "outputs": [],
   "source": [
    "# You would like to count the number of fruits in your basket. \n",
    "# In order to do this, you have the following dictionary and list of\n",
    "# fruits.  Use the dictionary and list to count the total number\n",
    "# of fruits, but you do not want to count the other items in your basket.\n",
    "\n",
    "result = 0\n",
    "basket_items = {'apples': 4, 'oranges': 19, 'kites': 3, 'sandwiches': 8}\n",
    "fruits = ['apples', 'oranges', 'pears', 'peaches', 'grapes', 'bananas']\n",
    "\n",
    "#Iterate through the dictionary\n",
    "\n",
    "#if the key is in the list of fruits, add the value (number of fruits) to result\n",
    "\n",
    "\n",
    "print(result)"
   ]
  },
  {
   "cell_type": "markdown",
   "metadata": {},
   "source": [
    "## Quiz: Fruit Basket - Task 2"
   ]
  },
  {
   "cell_type": "code",
   "execution_count": null,
   "metadata": {},
   "outputs": [],
   "source": [
    "# You would like to count the number of fruits in your basket. \n",
    "# In order to do this, you have the following dictionary and list of\n",
    "# fruits.  Use the dictionary and list to count the total number\n",
    "# of fruits and not_fruits.\n",
    "\n",
    "fruit_count, not_fruit_count = 0, 0\n",
    "basket_items = {'apples': 4, 'oranges': 19, 'kites': 3, 'sandwiches': 8}\n",
    "fruits = ['apples', 'oranges', 'pears', 'peaches', 'grapes', 'bananas']\n",
    "\n",
    "#Iterate through the dictionary\n",
    "\n",
    "#if the key is in the list of fruits, add to fruit_count.\n",
    "\n",
    "#if the key is not in the list, then add to the not_fruit_count\n",
    "\n",
    "\n",
    "print(fruit_count, not_fruit_count)"
   ]
  },
  {
   "cell_type": "markdown",
   "metadata": {},
   "source": [
    "## While Loops\n",
    "#### - For loops are an example of \"definite iteration\" meaning that the loop's body is run a predefined number of times. This differs from \"indefinite iteration\" which is when a loop repeats an unknown number of times and ends when some condition is met, which is what happens in a while"
   ]
  },
  {
   "cell_type": "code",
   "execution_count": null,
   "metadata": {
    "execution": {
     "iopub.execute_input": "2024-02-23T11:52:08.563396Z",
     "iopub.status.busy": "2024-02-23T11:52:08.562928Z",
     "iopub.status.idle": "2024-02-23T11:52:08.571216Z",
     "shell.execute_reply": "2024-02-23T11:52:08.569792Z",
     "shell.execute_reply.started": "2024-02-23T11:52:08.563364Z"
    }
   },
   "outputs": [],
   "source": [
    "card_deck = [4, 11, 8, 5, 13, 2, 8, 10]\n",
    "hand = []\n",
    "\n",
    "## adds the last element of the card_deck list to the hand list\n",
    "## until the values in hand add up to 17 or more\n",
    "while sum(hand)  < 17:\n",
    "    hand.append(card_deck.pop())"
   ]
  },
  {
   "cell_type": "code",
   "execution_count": null,
   "metadata": {},
   "outputs": [],
   "source": []
  },
  {
   "cell_type": "code",
   "execution_count": null,
   "metadata": {},
   "outputs": [],
   "source": []
  },
  {
   "cell_type": "markdown",
   "metadata": {},
   "source": [
    "### Practice: Factorials with While Loops"
   ]
  },
  {
   "cell_type": "code",
   "execution_count": null,
   "metadata": {},
   "outputs": [],
   "source": [
    "#6 factorial (written \"6!\") equals 6 x 5 x 4 x 3 x 2 x 1 = 720. So 6! = 720.\n",
    "# number to find the factorial of\n",
    "number = 6   \n",
    "\n",
    "# start with our product equal to one\n",
    "product = 1\n",
    "\n",
    "# track the current number being multiplied\n",
    "current = 1\n",
    "\n",
    "# write your while loop here\n",
    "\n",
    "    # multiply the product so far by the current number\n",
    "    \n",
    "    \n",
    "    # increment current with each iteration until it reaches number\n",
    "\n",
    "\n",
    "\n",
    "# print the factorial of number\n",
    "print(product)"
   ]
  },
  {
   "cell_type": "markdown",
   "metadata": {},
   "source": [
    "## Quiz: Count By"
   ]
  },
  {
   "cell_type": "code",
   "execution_count": null,
   "metadata": {},
   "outputs": [],
   "source": [
    "start_num = #provide some start number\n",
    "end_num = #provide some end number that you stop when you hit\n",
    "count_by = #provide some number to count by \n",
    "\n",
    "# write a while loop that uses break_num as the ongoing number to \n",
    "#   check against end_num\n",
    "\n",
    "\n",
    "print(break_num)"
   ]
  },
  {
   "cell_type": "markdown",
   "metadata": {},
   "source": [
    "## Break, Continue"
   ]
  },
  {
   "cell_type": "code",
   "execution_count": null,
   "metadata": {
    "execution": {
     "iopub.execute_input": "2024-02-23T12:16:03.448080Z",
     "iopub.status.busy": "2024-02-23T12:16:03.447428Z",
     "iopub.status.idle": "2024-02-23T12:16:03.454595Z",
     "shell.execute_reply": "2024-02-23T12:16:03.453506Z",
     "shell.execute_reply.started": "2024-02-23T12:16:03.448032Z"
    }
   },
   "outputs": [],
   "source": [
    "#manifest = [(\"bananas\", 15), (\"mattresses\", 24), (\"dog kennels\", 42), (\"machine\", 120), (\"cheeses\", 5)]\n",
    "\n",
    "# the code breaks the loop when weight exceeds or reaches the limit\n",
    "#print(\"METHOD 1\")\n",
    "#weight = 0\n",
    "#items = []\n",
    "#for cargo_name, cargo_weight in manifest:\n",
    "#    print(\"current weight: {}\".format(weight))\n",
    "#    if weight >= 100:\n",
    "#        print(\"  breaking loop now!\")\n",
    "#        break\n",
    "#    else:\n",
    "#        print(\"  adding {} ({})\".format(cargo_name, cargo_weight))\n",
    "#        items.append(cargo_name)\n",
    "#        weight += cargo_weight\n",
    "\n",
    "#print(\"\\nFinal Weight: {}\".format(weight))\n",
    "#print(\"Final Items: {}\".format(items))"
   ]
  },
  {
   "cell_type": "code",
   "execution_count": null,
   "metadata": {},
   "outputs": [],
   "source": []
  },
  {
   "cell_type": "code",
   "execution_count": null,
   "metadata": {},
   "outputs": [],
   "source": []
  },
  {
   "cell_type": "code",
   "execution_count": null,
   "metadata": {
    "execution": {
     "iopub.execute_input": "2024-02-23T12:16:28.331647Z",
     "iopub.status.busy": "2024-02-23T12:16:28.331131Z",
     "iopub.status.idle": "2024-02-23T12:16:28.338397Z",
     "shell.execute_reply": "2024-02-23T12:16:28.337200Z",
     "shell.execute_reply.started": "2024-02-23T12:16:28.331611Z"
    }
   },
   "outputs": [],
   "source": [
    "#manifest = [(\"bananas\", 15), (\"mattresses\", 24), (\"dog kennels\", 42), (\"machine\", 120), (\"cheeses\", 5)]\n",
    "\n",
    "# skips an iteration when adding an item would exceed the limit\n",
    "# breaks the loop if weight is exactly the value of the limit\n",
    "#print(\"\\nMETHOD 2\")\n",
    "#weight = 0\n",
    "#items = []\n",
    "#for cargo_name, cargo_weight in manifest:\n",
    "#    print(\"current weight: {}\".format(weight))\n",
    "#    if weight >= 100:\n",
    "#        print(\"  breaking from the loop now!\")\n",
    "#        break\n",
    "#    elif weight + cargo_weight > 100:\n",
    "#        print(\"  skipping {} ({})\".format(cargo_name, cargo_weight))\n",
    "#        continue\n",
    "#    else:\n",
    "#        print(\"  adding {} ({})\".format(cargo_name, cargo_weight))\n",
    "#        items.append(cargo_name)\n",
    "#        weight += cargo_weight\n",
    "\n",
    "#print(\"\\nFinal Weight: {}\".format(weight))\n",
    "#print(\"Final Items: {}\".format(items))"
   ]
  },
  {
   "cell_type": "code",
   "execution_count": null,
   "metadata": {},
   "outputs": [],
   "source": []
  },
  {
   "cell_type": "code",
   "execution_count": null,
   "metadata": {},
   "outputs": [],
   "source": []
  },
  {
   "cell_type": "markdown",
   "metadata": {},
   "source": [
    "### Quiz: Break, Continue"
   ]
  },
  {
   "cell_type": "code",
   "execution_count": null,
   "metadata": {},
   "outputs": [],
   "source": [
    "#Write a loop with a break statement to create a string, news_ticker,\n",
    "#that is exactly 140 characters long.\n",
    "#You should create the news ticker by adding headlines from the headlines list,\n",
    "#inserting a space in between each headline.\n",
    "\n",
    "# HINT: modify the headlines list to verify your loop works with different inputs\n",
    "headlines = [\"Local Bear Eaten by Man\",\n",
    "             \"Legislature Announces New Laws\",\n",
    "             \"Peasant Discovers Violence Inherent in System\",\n",
    "             \"Cat Rescues Fireman Stuck in Tree\",\n",
    "             \"Brave Knight Runs Away\",\n",
    "             \"Papperbok Review: Totally Triffic\"]\n",
    "\n",
    "news_ticker = \"\"\n",
    "# write your loop here\n",
    "\n",
    "\n",
    "print(news_ticker)"
   ]
  },
  {
   "cell_type": "markdown",
   "metadata": {},
   "source": [
    "### Zip and Enumerate"
   ]
  },
  {
   "cell_type": "code",
   "execution_count": null,
   "metadata": {
    "execution": {
     "iopub.execute_input": "2023-09-10T12:00:24.698656Z",
     "iopub.status.busy": "2023-09-10T12:00:24.698204Z",
     "iopub.status.idle": "2023-09-10T12:00:24.705367Z",
     "shell.execute_reply": "2023-09-10T12:00:24.704124Z",
     "shell.execute_reply.started": "2023-09-10T12:00:24.698621Z"
    }
   },
   "outputs": [],
   "source": [
    "letters = ['a', 'b', 'c']\n",
    "nums = [1, 2, 3]\n",
    "\n",
    "for letter, num in zip(letters, nums):\n",
    "    print(\"{}: {}\".format(letter, num))"
   ]
  },
  {
   "cell_type": "code",
   "execution_count": null,
   "metadata": {
    "execution": {
     "iopub.execute_input": "2023-09-10T12:00:38.198050Z",
     "iopub.status.busy": "2023-09-10T12:00:38.197656Z",
     "iopub.status.idle": "2023-09-10T12:00:38.204851Z",
     "shell.execute_reply": "2023-09-10T12:00:38.203443Z",
     "shell.execute_reply.started": "2023-09-10T12:00:38.198019Z"
    }
   },
   "outputs": [],
   "source": [
    "letters = ['a', 'b', 'c', 'd', 'e']\n",
    "for i, letter in enumerate(letters):\n",
    "    print(i, letter)"
   ]
  },
  {
   "cell_type": "markdown",
   "metadata": {},
   "source": [
    "### Quiz: Zip Coordinates"
   ]
  },
  {
   "cell_type": "code",
   "execution_count": null,
   "metadata": {
    "execution": {
     "iopub.execute_input": "2024-02-23T12:26:19.532954Z",
     "iopub.status.busy": "2024-02-23T12:26:19.532525Z",
     "iopub.status.idle": "2024-02-23T12:26:19.542736Z",
     "shell.execute_reply": "2024-02-23T12:26:19.541217Z",
     "shell.execute_reply.started": "2024-02-23T12:26:19.532923Z"
    }
   },
   "outputs": [],
   "source": [
    "x_coord = [23, 53, 2, -12, 95, 103, 14, -5]\n",
    "y_coord = [677, 233, 405, 433, 905, 376, 432, 445]\n",
    "z_coord = [4, 16, -6, -42, 3, -6, 23, -1]\n",
    "labels = [\"F\", \"J\", \"A\", \"Q\", \"Y\", \"B\", \"W\", \"X\"]\n",
    "\n",
    "points = []\n",
    "# write your for loop here\n",
    "\n",
    "for point in points:\n",
    "    print(point)\n",
    "    \n",
    "# output\n",
    "#F: 23, 677, 4\n",
    "#J: 53, 233, 16\n",
    "#A: 2, 405, -6"
   ]
  },
  {
   "cell_type": "code",
   "execution_count": null,
   "metadata": {},
   "outputs": [],
   "source": []
  },
  {
   "cell_type": "code",
   "execution_count": null,
   "metadata": {},
   "outputs": [],
   "source": []
  },
  {
   "cell_type": "markdown",
   "metadata": {},
   "source": [
    "### Quiz: Zip Lists to a Dictionary"
   ]
  },
  {
   "cell_type": "code",
   "execution_count": null,
   "metadata": {},
   "outputs": [],
   "source": [
    "#Use zip to create a dictionary cast that uses names as keys and heights as values.\n",
    "cast_names = [\"Barney\", \"Robin\", \"Ted\", \"Lily\", \"Marshall\"]\n",
    "cast_heights = [72, 68, 72, 66, 76]\n",
    "\n",
    "cast = # replace with your code\n",
    "print(cast)\n",
    "\n",
    "#output\n",
    "#{'Lily': 66, 'Barney': 72, 'Marshall': 76, 'Ted': 72, 'Robin': 68}"
   ]
  },
  {
   "cell_type": "code",
   "execution_count": null,
   "metadata": {},
   "outputs": [],
   "source": []
  },
  {
   "cell_type": "code",
   "execution_count": null,
   "metadata": {},
   "outputs": [],
   "source": []
  },
  {
   "cell_type": "code",
   "execution_count": null,
   "metadata": {},
   "outputs": [],
   "source": []
  },
  {
   "cell_type": "markdown",
   "metadata": {},
   "source": [
    "### Quiz: Unzip Tuples"
   ]
  },
  {
   "cell_type": "code",
   "execution_count": null,
   "metadata": {},
   "outputs": [],
   "source": [
    "#Unzip the cast tuple into two names and heights tuples.\n",
    "cast = ((\"Barney\", 72), (\"Robin\", 68), (\"Ted\", 72), (\"Lily\", 66), (\"Marshall\", 76))\n",
    "\n",
    "# define names and heights here\n",
    "\n",
    "\n",
    "print(names)\n",
    "print(heights)\n",
    "#output\n",
    "#('Barney', 'Robin', 'Ted', 'Lily', 'Marshall')\n",
    "#(72, 68, 72, 66, 76)"
   ]
  },
  {
   "cell_type": "code",
   "execution_count": null,
   "metadata": {},
   "outputs": [],
   "source": []
  },
  {
   "cell_type": "code",
   "execution_count": null,
   "metadata": {},
   "outputs": [],
   "source": []
  },
  {
   "cell_type": "markdown",
   "metadata": {},
   "source": [
    "### Quiz: Enumerate"
   ]
  },
  {
   "cell_type": "code",
   "execution_count": null,
   "metadata": {},
   "outputs": [],
   "source": [
    "#Use enumerate to modify the cast list\n",
    "#so that each element contains the name followed by the character's corresponding height.\n",
    "#For example, the first element of cast should change from \"Barney Stinson\" to \"Barney Stinson 72\".\n",
    "\n",
    "cast = [\"Barney Stinson\", \"Robin Scherbatsky\", \"Ted Mosby\", \"Lily Aldrin\", \"Marshall Eriksen\"]\n",
    "heights = [72, 68, 72, 66, 76]\n",
    "\n",
    "# write your for loop here\n",
    "\n",
    "\n",
    "print(cast)\n",
    "\n",
    "#output\n",
    "#['Barney Stinson 72', 'Robin Scherbatsky 68', 'Ted Mosby 72', 'Lily Aldrin 66', 'Marshall Eriksen 76']"
   ]
  },
  {
   "cell_type": "markdown",
   "metadata": {},
   "source": [
    "## List Comprehensions"
   ]
  },
  {
   "cell_type": "code",
   "execution_count": null,
   "metadata": {
    "execution": {
     "iopub.execute_input": "2023-09-10T12:13:05.889330Z",
     "iopub.status.busy": "2023-09-10T12:13:05.888859Z",
     "iopub.status.idle": "2023-09-10T12:13:05.900427Z",
     "shell.execute_reply": "2023-09-10T12:13:05.899025Z",
     "shell.execute_reply.started": "2023-09-10T12:13:05.889294Z"
    }
   },
   "outputs": [],
   "source": [
    "names = [\"Rick Sanchez\", \"Morty Smith\", \"Summer Smith\", \"Jerry Smith\", \"Beth Smith\"]\n",
    "\n",
    "first_names = []\n",
    "for name in names:\n",
    "    first_names.append(name.split()[0])\n",
    "    \n",
    "first_names"
   ]
  },
  {
   "cell_type": "code",
   "execution_count": null,
   "metadata": {
    "execution": {
     "iopub.execute_input": "2023-09-10T12:13:31.431964Z",
     "iopub.status.busy": "2023-09-10T12:13:31.431519Z",
     "iopub.status.idle": "2023-09-10T12:13:31.438441Z",
     "shell.execute_reply": "2023-09-10T12:13:31.437192Z",
     "shell.execute_reply.started": "2023-09-10T12:13:31.431930Z"
    }
   },
   "outputs": [],
   "source": [
    "names = [\"Rick Sanchez\", \"Morty Smith\", \"Summer Smith\", \"Jerry Smith\", \"Beth Smith\"]\n",
    "\n",
    "first_names = [name.split()[0] for name in names]\n",
    "print(first_names)"
   ]
  },
  {
   "cell_type": "code",
   "execution_count": null,
   "metadata": {},
   "outputs": [],
   "source": []
  }
 ],
 "metadata": {
  "kaggle": {
   "accelerator": "none",
   "dataSources": [],
   "dockerImageVersionId": 30558,
   "isGpuEnabled": false,
   "isInternetEnabled": true,
   "language": "python",
   "sourceType": "notebook"
  },
  "kernelspec": {
   "display_name": "Python 3 (ipykernel)",
   "language": "python",
   "name": "python3"
  },
  "language_info": {
   "codemirror_mode": {
    "name": "ipython",
    "version": 3
   },
   "file_extension": ".py",
   "mimetype": "text/x-python",
   "name": "python",
   "nbconvert_exporter": "python",
   "pygments_lexer": "ipython3",
   "version": "3.10.1"
  }
 },
 "nbformat": 4,
 "nbformat_minor": 4
}
