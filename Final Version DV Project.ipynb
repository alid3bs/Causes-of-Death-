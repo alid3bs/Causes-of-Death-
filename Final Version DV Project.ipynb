{
 "cells": [
  {
   "cell_type": "code",
   "execution_count": 44,
   "id": "4de95931",
   "metadata": {},
   "outputs": [
    {
     "name": "stdout",
     "output_type": "stream",
     "text": [
      "Defaulting to user installation because normal site-packages is not writeable\n",
      "Requirement already satisfied: dash in c:\\users\\ali\\appdata\\roaming\\python\\python310\\site-packages (2.3.1)\n",
      "Requirement already satisfied: plotly>=5.0.0 in c:\\users\\ali\\appdata\\roaming\\python\\python310\\site-packages (from dash) (5.7.0)\n",
      "Requirement already satisfied: dash-table==5.0.0 in c:\\users\\ali\\appdata\\roaming\\python\\python310\\site-packages (from dash) (5.0.0)\n",
      "Requirement already satisfied: dash-html-components==2.0.0 in c:\\users\\ali\\appdata\\roaming\\python\\python310\\site-packages (from dash) (2.0.0)\n",
      "Requirement already satisfied: dash-core-components==2.0.0 in c:\\users\\ali\\appdata\\roaming\\python\\python310\\site-packages (from dash) (2.0.0)\n",
      "Requirement already satisfied: flask-compress in c:\\users\\ali\\appdata\\roaming\\python\\python310\\site-packages (from dash) (1.12)\n",
      "Requirement already satisfied: Flask>=1.0.4 in c:\\users\\ali\\appdata\\roaming\\python\\python310\\site-packages (from dash) (2.1.2)\n",
      "Requirement already satisfied: itsdangerous>=2.0 in c:\\users\\ali\\appdata\\roaming\\python\\python310\\site-packages (from Flask>=1.0.4->dash) (2.1.2)\n",
      "Requirement already satisfied: click>=8.0 in c:\\users\\ali\\appdata\\roaming\\python\\python310\\site-packages (from Flask>=1.0.4->dash) (8.1.3)\n",
      "Requirement already satisfied: Jinja2>=3.0 in c:\\users\\ali\\appdata\\roaming\\python\\python310\\site-packages (from Flask>=1.0.4->dash) (3.0.3)\n",
      "Requirement already satisfied: Werkzeug>=2.0 in c:\\users\\ali\\appdata\\roaming\\python\\python310\\site-packages (from Flask>=1.0.4->dash) (2.1.2)\n",
      "Requirement already satisfied: six in c:\\users\\ali\\appdata\\roaming\\python\\python310\\site-packages (from plotly>=5.0.0->dash) (1.16.0)\n",
      "Requirement already satisfied: tenacity>=6.2.0 in c:\\users\\ali\\appdata\\roaming\\python\\python310\\site-packages (from plotly>=5.0.0->dash) (8.0.1)\n",
      "Requirement already satisfied: brotli in c:\\users\\ali\\appdata\\roaming\\python\\python310\\site-packages (from flask-compress->dash) (1.0.9)\n",
      "Requirement already satisfied: colorama in c:\\users\\ali\\appdata\\roaming\\python\\python310\\site-packages (from click>=8.0->Flask>=1.0.4->dash) (0.4.4)\n",
      "Requirement already satisfied: MarkupSafe>=2.0 in c:\\users\\ali\\appdata\\roaming\\python\\python310\\site-packages (from Jinja2>=3.0->Flask>=1.0.4->dash) (2.0.1)\n"
     ]
    }
   ],
   "source": [
    "!pip install dash"
   ]
  },
  {
   "cell_type": "markdown",
   "id": "ecdedc54",
   "metadata": {},
   "source": [
    "## Main Questions\n",
    "- total no. of deaths per country ( most, least)\n",
    "- deaths trend per year \n",
    "- Worst diseases for each country \n",
    "- Number of deaths by cause\n",
    "- correlation between diseases\n",
    "- prediction on diseases\n"
   ]
  },
  {
   "cell_type": "markdown",
   "id": "9906447c",
   "metadata": {},
   "source": [
    "## Import Libraries"
   ]
  },
  {
   "cell_type": "code",
   "execution_count": 45,
   "id": "993cb576",
   "metadata": {},
   "outputs": [],
   "source": [
    "import numpy as np\n",
    "import matplotlib.pyplot as plt \n",
    "import pandas as pd \n",
    "import plotly.express as px\n",
    "import seaborn as sns\n",
    "import plotly.graph_objects as go\n",
    "import math\n",
    "from plotly.subplots import make_subplots\n"
   ]
  },
  {
   "cell_type": "markdown",
   "id": "594f0b75",
   "metadata": {},
   "source": [
    "## Functions"
   ]
  },
  {
   "cell_type": "code",
   "execution_count": 46,
   "id": "cba168df",
   "metadata": {},
   "outputs": [],
   "source": [
    "def multiple_histogram(data):\n",
    "    \n",
    "    num_row = math.ceil(len(data.columns) / 3)\n",
    "    fig = make_subplots(rows=num_row, cols=3,subplot_titles=(df.columns))\n",
    "\n",
    "    place_col = 1\n",
    "    place_row = 1\n",
    "    for i in data.columns:\n",
    "\n",
    "        fig.add_trace(go.Histogram(x=data[i]),row=place_row, col=place_col)\n",
    "\n",
    "        place_col += 1\n",
    "        if place_col == 4:\n",
    "            place_col = 1\n",
    "            place_row += 1\n",
    "    return fig.update_layout(height=1600, width=1100,\n",
    "                          title_text=\"Multiple Histogram for all featrues\")\n",
    "\n",
    "\n",
    "\n",
    "def multiple_boxplot(data):\n",
    "    \n",
    "    num_row = math.ceil(len(data.columns) / 3)\n",
    "    fig = make_subplots(rows=num_row, cols=3,subplot_titles=(df.columns))\n",
    "\n",
    "    place_col = 1\n",
    "    place_row = 1\n",
    "    for i in data.columns:\n",
    "\n",
    "        fig.add_trace(go.Box(y=data[i]),row=place_row, col=place_col)\n",
    "\n",
    "        place_col += 1\n",
    "        if place_col == 4:\n",
    "            place_col = 1\n",
    "            place_row += 1\n",
    "    return fig.update_layout(height=1600, width=1100,\n",
    "                          title_text=\"Multiple Histogram for all featrues\")\n",
    "\n",
    "def split_name(X_data, separator):\n",
    "    \n",
    "    for i in range(len(X_data.columns)):\n",
    "\n",
    "        if  separator in X_data.columns[i]:\n",
    "\n",
    "            new_name = X_data.columns[i].split(separator)[1]\n",
    "            X_data.rename(columns={X_data.columns[i]:new_name}, inplace=True)\n",
    "            \n",
    "def check_nulls(X_data):\n",
    "    \n",
    "    unusual_nulls = X_data[X_data.isin(['{}','[]', \"?\", \".\", \"-\", \"_\", \"\", \" \", \"  \"])].sum()\n",
    "\n",
    "    nulls_df = pd.concat([X_data.isna().sum(), unusual_nulls], axis=1)\n",
    "    nulls_df.columns = [\"usual_nulls\", \"strange_nulls\"]\n",
    "    nulls_df = nulls_df.sort_values('usual_nulls', ascending = False)\n",
    "    return nulls_df\n",
    "\n",
    "def unuseful_featuers(X_data, sum_of_nulls):\n",
    "    columns_Most_NUll = []\n",
    "    for c in prep_df.columns:\n",
    "        if (prep_df[c].isna().sum()) > sum_of_nulls:\n",
    "            columns_Most_NUll.append(c)\n",
    "    return columns_Most_NUll"
   ]
  },
  {
   "cell_type": "markdown",
   "id": "fbcb01bc",
   "metadata": {},
   "source": [
    "## Data Exploration"
   ]
  },
  {
   "cell_type": "code",
   "execution_count": 47,
   "id": "657b3ae2",
   "metadata": {},
   "outputs": [
    {
     "data": {
      "text/html": [
       "<div>\n",
       "<style scoped>\n",
       "    .dataframe tbody tr th:only-of-type {\n",
       "        vertical-align: middle;\n",
       "    }\n",
       "\n",
       "    .dataframe tbody tr th {\n",
       "        vertical-align: top;\n",
       "    }\n",
       "\n",
       "    .dataframe thead th {\n",
       "        text-align: right;\n",
       "    }\n",
       "</style>\n",
       "<table border=\"1\" class=\"dataframe\">\n",
       "  <thead>\n",
       "    <tr style=\"text-align: right;\">\n",
       "      <th></th>\n",
       "      <th>Entity</th>\n",
       "      <th>Code</th>\n",
       "      <th>Year</th>\n",
       "      <th>Number of executions (Amnesty International)</th>\n",
       "      <th>Deaths - Meningitis - Sex: Both - Age: All Ages (Number)</th>\n",
       "      <th>Deaths - Neoplasms - Sex: Both - Age: All Ages (Number)</th>\n",
       "      <th>Deaths - Fire, heat, and hot substances - Sex: Both - Age: All Ages (Number)</th>\n",
       "      <th>Deaths - Malaria - Sex: Both - Age: All Ages (Number)</th>\n",
       "      <th>Deaths - Drowning - Sex: Both - Age: All Ages (Number)</th>\n",
       "      <th>Deaths - Interpersonal violence - Sex: Both - Age: All Ages (Number)</th>\n",
       "      <th>...</th>\n",
       "      <th>Deaths - Protein-energy malnutrition - Sex: Both - Age: All Ages (Number)</th>\n",
       "      <th>Terrorism (deaths)</th>\n",
       "      <th>Deaths - Cardiovascular diseases - Sex: Both - Age: All Ages (Number)</th>\n",
       "      <th>Deaths - Chronic kidney disease - Sex: Both - Age: All Ages (Number)</th>\n",
       "      <th>Deaths - Chronic respiratory diseases - Sex: Both - Age: All Ages (Number)</th>\n",
       "      <th>Deaths - Cirrhosis and other chronic liver diseases - Sex: Both - Age: All Ages (Number)</th>\n",
       "      <th>Deaths - Digestive diseases - Sex: Both - Age: All Ages (Number)</th>\n",
       "      <th>Deaths - Acute hepatitis - Sex: Both - Age: All Ages (Number)</th>\n",
       "      <th>Deaths - Alzheimer's disease and other dementias - Sex: Both - Age: All Ages (Number)</th>\n",
       "      <th>Deaths - Parkinson's disease - Sex: Both - Age: All Ages (Number)</th>\n",
       "    </tr>\n",
       "  </thead>\n",
       "  <tbody>\n",
       "    <tr>\n",
       "      <th>0</th>\n",
       "      <td>Afghanistan</td>\n",
       "      <td>AFG</td>\n",
       "      <td>2007</td>\n",
       "      <td>15</td>\n",
       "      <td>2933.0</td>\n",
       "      <td>15925.0</td>\n",
       "      <td>481.0</td>\n",
       "      <td>393.0</td>\n",
       "      <td>2127.0</td>\n",
       "      <td>3657.0</td>\n",
       "      <td>...</td>\n",
       "      <td>2439.0</td>\n",
       "      <td>1199.0</td>\n",
       "      <td>53962.0</td>\n",
       "      <td>4490.0</td>\n",
       "      <td>7222.0</td>\n",
       "      <td>3346.0</td>\n",
       "      <td>6458.0</td>\n",
       "      <td>3437.0</td>\n",
       "      <td>1402.0</td>\n",
       "      <td>450.0</td>\n",
       "    </tr>\n",
       "    <tr>\n",
       "      <th>1</th>\n",
       "      <td>Afghanistan</td>\n",
       "      <td>AFG</td>\n",
       "      <td>2008</td>\n",
       "      <td>17</td>\n",
       "      <td>2731.0</td>\n",
       "      <td>16148.0</td>\n",
       "      <td>462.0</td>\n",
       "      <td>255.0</td>\n",
       "      <td>1973.0</td>\n",
       "      <td>3785.0</td>\n",
       "      <td>...</td>\n",
       "      <td>2231.0</td>\n",
       "      <td>1092.0</td>\n",
       "      <td>54051.0</td>\n",
       "      <td>4534.0</td>\n",
       "      <td>7143.0</td>\n",
       "      <td>3316.0</td>\n",
       "      <td>6408.0</td>\n",
       "      <td>3005.0</td>\n",
       "      <td>1424.0</td>\n",
       "      <td>455.0</td>\n",
       "    </tr>\n",
       "    <tr>\n",
       "      <th>2</th>\n",
       "      <td>Afghanistan</td>\n",
       "      <td>AFG</td>\n",
       "      <td>2009</td>\n",
       "      <td>0</td>\n",
       "      <td>2460.0</td>\n",
       "      <td>16383.0</td>\n",
       "      <td>448.0</td>\n",
       "      <td>239.0</td>\n",
       "      <td>1852.0</td>\n",
       "      <td>3874.0</td>\n",
       "      <td>...</td>\n",
       "      <td>1998.0</td>\n",
       "      <td>1065.0</td>\n",
       "      <td>53964.0</td>\n",
       "      <td>4597.0</td>\n",
       "      <td>7045.0</td>\n",
       "      <td>3291.0</td>\n",
       "      <td>6358.0</td>\n",
       "      <td>2663.0</td>\n",
       "      <td>1449.0</td>\n",
       "      <td>460.0</td>\n",
       "    </tr>\n",
       "    <tr>\n",
       "      <th>3</th>\n",
       "      <td>Afghanistan</td>\n",
       "      <td>AFG</td>\n",
       "      <td>2011</td>\n",
       "      <td>2</td>\n",
       "      <td>2327.0</td>\n",
       "      <td>17094.0</td>\n",
       "      <td>448.0</td>\n",
       "      <td>390.0</td>\n",
       "      <td>1775.0</td>\n",
       "      <td>4170.0</td>\n",
       "      <td>...</td>\n",
       "      <td>1805.0</td>\n",
       "      <td>1525.0</td>\n",
       "      <td>54347.0</td>\n",
       "      <td>4785.0</td>\n",
       "      <td>6916.0</td>\n",
       "      <td>3318.0</td>\n",
       "      <td>6370.0</td>\n",
       "      <td>2365.0</td>\n",
       "      <td>1508.0</td>\n",
       "      <td>473.0</td>\n",
       "    </tr>\n",
       "    <tr>\n",
       "      <th>4</th>\n",
       "      <td>Afghanistan</td>\n",
       "      <td>AFG</td>\n",
       "      <td>2012</td>\n",
       "      <td>14</td>\n",
       "      <td>2254.0</td>\n",
       "      <td>17522.0</td>\n",
       "      <td>445.0</td>\n",
       "      <td>94.0</td>\n",
       "      <td>1716.0</td>\n",
       "      <td>4245.0</td>\n",
       "      <td>...</td>\n",
       "      <td>1667.0</td>\n",
       "      <td>3521.0</td>\n",
       "      <td>54868.0</td>\n",
       "      <td>4846.0</td>\n",
       "      <td>6878.0</td>\n",
       "      <td>3353.0</td>\n",
       "      <td>6398.0</td>\n",
       "      <td>2264.0</td>\n",
       "      <td>1544.0</td>\n",
       "      <td>482.0</td>\n",
       "    </tr>\n",
       "  </tbody>\n",
       "</table>\n",
       "<p>5 rows × 36 columns</p>\n",
       "</div>"
      ],
      "text/plain": [
       "        Entity Code  Year Number of executions (Amnesty International)  \\\n",
       "0  Afghanistan  AFG  2007                                           15   \n",
       "1  Afghanistan  AFG  2008                                           17   \n",
       "2  Afghanistan  AFG  2009                                            0   \n",
       "3  Afghanistan  AFG  2011                                            2   \n",
       "4  Afghanistan  AFG  2012                                           14   \n",
       "\n",
       "   Deaths - Meningitis - Sex: Both - Age: All Ages (Number)  \\\n",
       "0                                             2933.0          \n",
       "1                                             2731.0          \n",
       "2                                             2460.0          \n",
       "3                                             2327.0          \n",
       "4                                             2254.0          \n",
       "\n",
       "   Deaths - Neoplasms - Sex: Both - Age: All Ages (Number)  \\\n",
       "0                                            15925.0         \n",
       "1                                            16148.0         \n",
       "2                                            16383.0         \n",
       "3                                            17094.0         \n",
       "4                                            17522.0         \n",
       "\n",
       "   Deaths - Fire, heat, and hot substances - Sex: Both - Age: All Ages (Number)  \\\n",
       "0                                              481.0                              \n",
       "1                                              462.0                              \n",
       "2                                              448.0                              \n",
       "3                                              448.0                              \n",
       "4                                              445.0                              \n",
       "\n",
       "   Deaths - Malaria - Sex: Both - Age: All Ages (Number)  \\\n",
       "0                                              393.0       \n",
       "1                                              255.0       \n",
       "2                                              239.0       \n",
       "3                                              390.0       \n",
       "4                                               94.0       \n",
       "\n",
       "   Deaths - Drowning - Sex: Both - Age: All Ages (Number)  \\\n",
       "0                                             2127.0        \n",
       "1                                             1973.0        \n",
       "2                                             1852.0        \n",
       "3                                             1775.0        \n",
       "4                                             1716.0        \n",
       "\n",
       "   Deaths - Interpersonal violence - Sex: Both - Age: All Ages (Number)  ...  \\\n",
       "0                                             3657.0                     ...   \n",
       "1                                             3785.0                     ...   \n",
       "2                                             3874.0                     ...   \n",
       "3                                             4170.0                     ...   \n",
       "4                                             4245.0                     ...   \n",
       "\n",
       "   Deaths - Protein-energy malnutrition - Sex: Both - Age: All Ages (Number)  \\\n",
       "0                                             2439.0                           \n",
       "1                                             2231.0                           \n",
       "2                                             1998.0                           \n",
       "3                                             1805.0                           \n",
       "4                                             1667.0                           \n",
       "\n",
       "   Terrorism (deaths)  \\\n",
       "0              1199.0   \n",
       "1              1092.0   \n",
       "2              1065.0   \n",
       "3              1525.0   \n",
       "4              3521.0   \n",
       "\n",
       "   Deaths - Cardiovascular diseases - Sex: Both - Age: All Ages (Number)  \\\n",
       "0                                            53962.0                       \n",
       "1                                            54051.0                       \n",
       "2                                            53964.0                       \n",
       "3                                            54347.0                       \n",
       "4                                            54868.0                       \n",
       "\n",
       "   Deaths - Chronic kidney disease - Sex: Both - Age: All Ages (Number)  \\\n",
       "0                                             4490.0                      \n",
       "1                                             4534.0                      \n",
       "2                                             4597.0                      \n",
       "3                                             4785.0                      \n",
       "4                                             4846.0                      \n",
       "\n",
       "   Deaths - Chronic respiratory diseases - Sex: Both - Age: All Ages (Number)  \\\n",
       "0                                             7222.0                            \n",
       "1                                             7143.0                            \n",
       "2                                             7045.0                            \n",
       "3                                             6916.0                            \n",
       "4                                             6878.0                            \n",
       "\n",
       "   Deaths - Cirrhosis and other chronic liver diseases - Sex: Both - Age: All Ages (Number)  \\\n",
       "0                                             3346.0                                          \n",
       "1                                             3316.0                                          \n",
       "2                                             3291.0                                          \n",
       "3                                             3318.0                                          \n",
       "4                                             3353.0                                          \n",
       "\n",
       "   Deaths - Digestive diseases - Sex: Both - Age: All Ages (Number)  \\\n",
       "0                                             6458.0                  \n",
       "1                                             6408.0                  \n",
       "2                                             6358.0                  \n",
       "3                                             6370.0                  \n",
       "4                                             6398.0                  \n",
       "\n",
       "   Deaths - Acute hepatitis - Sex: Both - Age: All Ages (Number)  \\\n",
       "0                                             3437.0               \n",
       "1                                             3005.0               \n",
       "2                                             2663.0               \n",
       "3                                             2365.0               \n",
       "4                                             2264.0               \n",
       "\n",
       "   Deaths - Alzheimer's disease and other dementias - Sex: Both - Age: All Ages (Number)  \\\n",
       "0                                             1402.0                                       \n",
       "1                                             1424.0                                       \n",
       "2                                             1449.0                                       \n",
       "3                                             1508.0                                       \n",
       "4                                             1544.0                                       \n",
       "\n",
       "   Deaths - Parkinson's disease - Sex: Both - Age: All Ages (Number)  \n",
       "0                                              450.0                  \n",
       "1                                              455.0                  \n",
       "2                                              460.0                  \n",
       "3                                              473.0                  \n",
       "4                                              482.0                  \n",
       "\n",
       "[5 rows x 36 columns]"
      ]
     },
     "execution_count": 47,
     "metadata": {},
     "output_type": "execute_result"
    }
   ],
   "source": [
    "raw_df = pd.read_csv(\"deaths-by-cause.csv\")\n",
    "raw_df.head()"
   ]
  },
  {
   "cell_type": "code",
   "execution_count": 48,
   "id": "bb2995e4",
   "metadata": {},
   "outputs": [
    {
     "name": "stdout",
     "output_type": "stream",
     "text": [
      "<class 'pandas.core.frame.DataFrame'>\n",
      "RangeIndex: 8254 entries, 0 to 8253\n",
      "Data columns (total 36 columns):\n",
      " #   Column                                                                                    Non-Null Count  Dtype  \n",
      "---  ------                                                                                    --------------  -----  \n",
      " 0   Entity                                                                                    8254 non-null   object \n",
      " 1   Code                                                                                      6206 non-null   object \n",
      " 2   Year                                                                                      8254 non-null   int64  \n",
      " 3   Number of executions (Amnesty International)                                              267 non-null    object \n",
      " 4   Deaths - Meningitis - Sex: Both - Age: All Ages (Number)                                  8010 non-null   float64\n",
      " 5   Deaths - Neoplasms - Sex: Both - Age: All Ages (Number)                                   8010 non-null   float64\n",
      " 6   Deaths - Fire, heat, and hot substances - Sex: Both - Age: All Ages (Number)              8010 non-null   float64\n",
      " 7   Deaths - Malaria - Sex: Both - Age: All Ages (Number)                                     8010 non-null   float64\n",
      " 8   Deaths - Drowning - Sex: Both - Age: All Ages (Number)                                    8010 non-null   float64\n",
      " 9   Deaths - Interpersonal violence - Sex: Both - Age: All Ages (Number)                      8010 non-null   float64\n",
      " 10  Deaths - HIV/AIDS - Sex: Both - Age: All Ages (Number)                                    8010 non-null   float64\n",
      " 11  Deaths - Drug use disorders - Sex: Both - Age: All Ages (Number)                          8010 non-null   float64\n",
      " 12  Deaths - Tuberculosis - Sex: Both - Age: All Ages (Number)                                8010 non-null   float64\n",
      " 13  Deaths - Road injuries - Sex: Both - Age: All Ages (Number)                               8010 non-null   float64\n",
      " 14  Deaths - Maternal disorders - Sex: Both - Age: All Ages (Number)                          8010 non-null   float64\n",
      " 15  Deaths - Lower respiratory infections - Sex: Both - Age: All Ages (Number)                8010 non-null   float64\n",
      " 16  Deaths - Neonatal disorders - Sex: Both - Age: All Ages (Number)                          8010 non-null   float64\n",
      " 17  Deaths - Alcohol use disorders - Sex: Both - Age: All Ages (Number)                       8010 non-null   float64\n",
      " 18  Deaths - Exposure to forces of nature - Sex: Both - Age: All Ages (Number)                8010 non-null   float64\n",
      " 19  Deaths - Diarrheal diseases - Sex: Both - Age: All Ages (Number)                          8010 non-null   float64\n",
      " 20  Deaths - Environmental heat and cold exposure - Sex: Both - Age: All Ages (Number)        8010 non-null   float64\n",
      " 21  Deaths - Nutritional deficiencies - Sex: Both - Age: All Ages (Number)                    8010 non-null   float64\n",
      " 22  Deaths - Self-harm - Sex: Both - Age: All Ages (Number)                                   8010 non-null   float64\n",
      " 23  Deaths - Conflict and terrorism - Sex: Both - Age: All Ages (Number)                      8010 non-null   float64\n",
      " 24  Deaths - Diabetes mellitus - Sex: Both - Age: All Ages (Number)                           8010 non-null   float64\n",
      " 25  Deaths - Poisonings - Sex: Both - Age: All Ages (Number)                                  8010 non-null   float64\n",
      " 26  Deaths - Protein-energy malnutrition - Sex: Both - Age: All Ages (Number)                 8010 non-null   float64\n",
      " 27  Terrorism (deaths)                                                                        2891 non-null   float64\n",
      " 28  Deaths - Cardiovascular diseases - Sex: Both - Age: All Ages (Number)                     8010 non-null   float64\n",
      " 29  Deaths - Chronic kidney disease - Sex: Both - Age: All Ages (Number)                      8010 non-null   float64\n",
      " 30  Deaths - Chronic respiratory diseases - Sex: Both - Age: All Ages (Number)                8010 non-null   float64\n",
      " 31  Deaths - Cirrhosis and other chronic liver diseases - Sex: Both - Age: All Ages (Number)  8010 non-null   float64\n",
      " 32  Deaths - Digestive diseases - Sex: Both - Age: All Ages (Number)                          8010 non-null   float64\n",
      " 33  Deaths - Acute hepatitis - Sex: Both - Age: All Ages (Number)                             8010 non-null   float64\n",
      " 34  Deaths - Alzheimer's disease and other dementias - Sex: Both - Age: All Ages (Number)     8010 non-null   float64\n",
      " 35  Deaths - Parkinson's disease - Sex: Both - Age: All Ages (Number)                         8010 non-null   float64\n",
      "dtypes: float64(32), int64(1), object(3)\n",
      "memory usage: 2.3+ MB\n"
     ]
    }
   ],
   "source": [
    "raw_df.info()"
   ]
  },
  {
   "cell_type": "code",
   "execution_count": 49,
   "id": "0c2419c1",
   "metadata": {},
   "outputs": [
    {
     "data": {
      "text/html": [
       "<div>\n",
       "<style scoped>\n",
       "    .dataframe tbody tr th:only-of-type {\n",
       "        vertical-align: middle;\n",
       "    }\n",
       "\n",
       "    .dataframe tbody tr th {\n",
       "        vertical-align: top;\n",
       "    }\n",
       "\n",
       "    .dataframe thead th {\n",
       "        text-align: right;\n",
       "    }\n",
       "</style>\n",
       "<table border=\"1\" class=\"dataframe\">\n",
       "  <thead>\n",
       "    <tr style=\"text-align: right;\">\n",
       "      <th></th>\n",
       "      <th>Year</th>\n",
       "      <th>Deaths - Meningitis - Sex: Both - Age: All Ages (Number)</th>\n",
       "      <th>Deaths - Neoplasms - Sex: Both - Age: All Ages (Number)</th>\n",
       "      <th>Deaths - Fire, heat, and hot substances - Sex: Both - Age: All Ages (Number)</th>\n",
       "      <th>Deaths - Malaria - Sex: Both - Age: All Ages (Number)</th>\n",
       "      <th>Deaths - Drowning - Sex: Both - Age: All Ages (Number)</th>\n",
       "      <th>Deaths - Interpersonal violence - Sex: Both - Age: All Ages (Number)</th>\n",
       "      <th>Deaths - HIV/AIDS - Sex: Both - Age: All Ages (Number)</th>\n",
       "      <th>Deaths - Drug use disorders - Sex: Both - Age: All Ages (Number)</th>\n",
       "      <th>Deaths - Tuberculosis - Sex: Both - Age: All Ages (Number)</th>\n",
       "      <th>...</th>\n",
       "      <th>Deaths - Protein-energy malnutrition - Sex: Both - Age: All Ages (Number)</th>\n",
       "      <th>Terrorism (deaths)</th>\n",
       "      <th>Deaths - Cardiovascular diseases - Sex: Both - Age: All Ages (Number)</th>\n",
       "      <th>Deaths - Chronic kidney disease - Sex: Both - Age: All Ages (Number)</th>\n",
       "      <th>Deaths - Chronic respiratory diseases - Sex: Both - Age: All Ages (Number)</th>\n",
       "      <th>Deaths - Cirrhosis and other chronic liver diseases - Sex: Both - Age: All Ages (Number)</th>\n",
       "      <th>Deaths - Digestive diseases - Sex: Both - Age: All Ages (Number)</th>\n",
       "      <th>Deaths - Acute hepatitis - Sex: Both - Age: All Ages (Number)</th>\n",
       "      <th>Deaths - Alzheimer's disease and other dementias - Sex: Both - Age: All Ages (Number)</th>\n",
       "      <th>Deaths - Parkinson's disease - Sex: Both - Age: All Ages (Number)</th>\n",
       "    </tr>\n",
       "  </thead>\n",
       "  <tbody>\n",
       "    <tr>\n",
       "      <th>count</th>\n",
       "      <td>8254.000000</td>\n",
       "      <td>8010.000000</td>\n",
       "      <td>8.010000e+03</td>\n",
       "      <td>8010.000000</td>\n",
       "      <td>8010.000000</td>\n",
       "      <td>8010.000000</td>\n",
       "      <td>8010.000000</td>\n",
       "      <td>8.010000e+03</td>\n",
       "      <td>8010.000000</td>\n",
       "      <td>8.010000e+03</td>\n",
       "      <td>...</td>\n",
       "      <td>8010.000000</td>\n",
       "      <td>2891.000000</td>\n",
       "      <td>8.010000e+03</td>\n",
       "      <td>8.010000e+03</td>\n",
       "      <td>8.010000e+03</td>\n",
       "      <td>8.010000e+03</td>\n",
       "      <td>8.010000e+03</td>\n",
       "      <td>8010.000000</td>\n",
       "      <td>8.010000e+03</td>\n",
       "      <td>8010.000000</td>\n",
       "    </tr>\n",
       "    <tr>\n",
       "      <th>mean</th>\n",
       "      <td>2004.448025</td>\n",
       "      <td>12909.701124</td>\n",
       "      <td>2.983985e+05</td>\n",
       "      <td>4444.838077</td>\n",
       "      <td>31812.044569</td>\n",
       "      <td>12532.637953</td>\n",
       "      <td>15315.848315</td>\n",
       "      <td>4.725143e+04</td>\n",
       "      <td>3469.958926</td>\n",
       "      <td>5.605527e+04</td>\n",
       "      <td>...</td>\n",
       "      <td>14441.384519</td>\n",
       "      <td>349.235905</td>\n",
       "      <td>5.672777e+05</td>\n",
       "      <td>3.614545e+04</td>\n",
       "      <td>1.315012e+05</td>\n",
       "      <td>4.668634e+04</td>\n",
       "      <td>8.261491e+04</td>\n",
       "      <td>4586.226592</td>\n",
       "      <td>3.923395e+04</td>\n",
       "      <td>9367.016979</td>\n",
       "    </tr>\n",
       "    <tr>\n",
       "      <th>std</th>\n",
       "      <td>8.642230</td>\n",
       "      <td>41799.388071</td>\n",
       "      <td>8.643901e+05</td>\n",
       "      <td>12111.913749</td>\n",
       "      <td>123035.872293</td>\n",
       "      <td>40095.990735</td>\n",
       "      <td>42888.544878</td>\n",
       "      <td>1.744798e+05</td>\n",
       "      <td>11186.514866</td>\n",
       "      <td>1.837876e+05</td>\n",
       "      <td>...</td>\n",
       "      <td>47987.721059</td>\n",
       "      <td>1917.143788</td>\n",
       "      <td>1.606918e+06</td>\n",
       "      <td>1.028788e+05</td>\n",
       "      <td>4.174924e+05</td>\n",
       "      <td>1.282383e+05</td>\n",
       "      <td>2.253554e+05</td>\n",
       "      <td>16692.425941</td>\n",
       "      <td>1.179772e+05</td>\n",
       "      <td>27358.717966</td>\n",
       "    </tr>\n",
       "    <tr>\n",
       "      <th>min</th>\n",
       "      <td>1990.000000</td>\n",
       "      <td>0.000000</td>\n",
       "      <td>1.000000e+00</td>\n",
       "      <td>0.000000</td>\n",
       "      <td>0.000000</td>\n",
       "      <td>0.000000</td>\n",
       "      <td>0.000000</td>\n",
       "      <td>0.000000e+00</td>\n",
       "      <td>0.000000</td>\n",
       "      <td>0.000000e+00</td>\n",
       "      <td>...</td>\n",
       "      <td>0.000000</td>\n",
       "      <td>0.000000</td>\n",
       "      <td>4.000000e+00</td>\n",
       "      <td>0.000000e+00</td>\n",
       "      <td>1.000000e+00</td>\n",
       "      <td>0.000000e+00</td>\n",
       "      <td>0.000000e+00</td>\n",
       "      <td>0.000000</td>\n",
       "      <td>0.000000e+00</td>\n",
       "      <td>0.000000</td>\n",
       "    </tr>\n",
       "    <tr>\n",
       "      <th>25%</th>\n",
       "      <td>1997.000000</td>\n",
       "      <td>29.000000</td>\n",
       "      <td>1.934250e+03</td>\n",
       "      <td>35.000000</td>\n",
       "      <td>0.000000</td>\n",
       "      <td>58.000000</td>\n",
       "      <td>76.250000</td>\n",
       "      <td>2.600000e+01</td>\n",
       "      <td>7.000000</td>\n",
       "      <td>6.200000e+01</td>\n",
       "      <td>...</td>\n",
       "      <td>10.000000</td>\n",
       "      <td>0.000000</td>\n",
       "      <td>4.348500e+03</td>\n",
       "      <td>2.810000e+02</td>\n",
       "      <td>5.262500e+02</td>\n",
       "      <td>3.040000e+02</td>\n",
       "      <td>5.990000e+02</td>\n",
       "      <td>3.000000</td>\n",
       "      <td>2.010000e+02</td>\n",
       "      <td>55.000000</td>\n",
       "    </tr>\n",
       "    <tr>\n",
       "      <th>50%</th>\n",
       "      <td>2004.000000</td>\n",
       "      <td>294.000000</td>\n",
       "      <td>1.033850e+04</td>\n",
       "      <td>244.000000</td>\n",
       "      <td>1.000000</td>\n",
       "      <td>393.500000</td>\n",
       "      <td>494.000000</td>\n",
       "      <td>4.200000e+02</td>\n",
       "      <td>57.000000</td>\n",
       "      <td>9.560000e+02</td>\n",
       "      <td>...</td>\n",
       "      <td>233.500000</td>\n",
       "      <td>5.000000</td>\n",
       "      <td>2.326550e+04</td>\n",
       "      <td>1.651000e+03</td>\n",
       "      <td>2.960500e+03</td>\n",
       "      <td>2.134000e+03</td>\n",
       "      <td>4.032500e+03</td>\n",
       "      <td>47.000000</td>\n",
       "      <td>1.337000e+03</td>\n",
       "      <td>331.000000</td>\n",
       "    </tr>\n",
       "    <tr>\n",
       "      <th>75%</th>\n",
       "      <td>2012.000000</td>\n",
       "      <td>3187.750000</td>\n",
       "      <td>9.186925e+04</td>\n",
       "      <td>1470.750000</td>\n",
       "      <td>2462.000000</td>\n",
       "      <td>3017.750000</td>\n",
       "      <td>4372.500000</td>\n",
       "      <td>9.484500e+03</td>\n",
       "      <td>518.750000</td>\n",
       "      <td>1.037775e+04</td>\n",
       "      <td>...</td>\n",
       "      <td>4245.000000</td>\n",
       "      <td>60.000000</td>\n",
       "      <td>1.663318e+05</td>\n",
       "      <td>1.192175e+04</td>\n",
       "      <td>2.815650e+04</td>\n",
       "      <td>1.680225e+04</td>\n",
       "      <td>2.838875e+04</td>\n",
       "      <td>453.750000</td>\n",
       "      <td>1.186775e+04</td>\n",
       "      <td>2954.000000</td>\n",
       "    </tr>\n",
       "    <tr>\n",
       "      <th>max</th>\n",
       "      <td>2019.000000</td>\n",
       "      <td>432524.000000</td>\n",
       "      <td>1.007964e+07</td>\n",
       "      <td>129705.000000</td>\n",
       "      <td>961129.000000</td>\n",
       "      <td>460665.000000</td>\n",
       "      <td>463129.000000</td>\n",
       "      <td>1.844490e+06</td>\n",
       "      <td>128083.000000</td>\n",
       "      <td>1.808478e+06</td>\n",
       "      <td>...</td>\n",
       "      <td>656314.000000</td>\n",
       "      <td>44490.000000</td>\n",
       "      <td>1.856251e+07</td>\n",
       "      <td>1.427232e+06</td>\n",
       "      <td>3.974315e+06</td>\n",
       "      <td>1.472012e+06</td>\n",
       "      <td>2.557689e+06</td>\n",
       "      <td>166405.000000</td>\n",
       "      <td>1.623276e+06</td>\n",
       "      <td>362907.000000</td>\n",
       "    </tr>\n",
       "  </tbody>\n",
       "</table>\n",
       "<p>8 rows × 33 columns</p>\n",
       "</div>"
      ],
      "text/plain": [
       "              Year  Deaths - Meningitis - Sex: Both - Age: All Ages (Number)  \\\n",
       "count  8254.000000                                        8010.000000          \n",
       "mean   2004.448025                                       12909.701124          \n",
       "std       8.642230                                       41799.388071          \n",
       "min    1990.000000                                           0.000000          \n",
       "25%    1997.000000                                          29.000000          \n",
       "50%    2004.000000                                         294.000000          \n",
       "75%    2012.000000                                        3187.750000          \n",
       "max    2019.000000                                      432524.000000          \n",
       "\n",
       "       Deaths - Neoplasms - Sex: Both - Age: All Ages (Number)  \\\n",
       "count                                       8.010000e+03         \n",
       "mean                                        2.983985e+05         \n",
       "std                                         8.643901e+05         \n",
       "min                                         1.000000e+00         \n",
       "25%                                         1.934250e+03         \n",
       "50%                                         1.033850e+04         \n",
       "75%                                         9.186925e+04         \n",
       "max                                         1.007964e+07         \n",
       "\n",
       "       Deaths - Fire, heat, and hot substances - Sex: Both - Age: All Ages (Number)  \\\n",
       "count                                        8010.000000                              \n",
       "mean                                         4444.838077                              \n",
       "std                                         12111.913749                              \n",
       "min                                             0.000000                              \n",
       "25%                                            35.000000                              \n",
       "50%                                           244.000000                              \n",
       "75%                                          1470.750000                              \n",
       "max                                        129705.000000                              \n",
       "\n",
       "       Deaths - Malaria - Sex: Both - Age: All Ages (Number)  \\\n",
       "count                                        8010.000000       \n",
       "mean                                        31812.044569       \n",
       "std                                        123035.872293       \n",
       "min                                             0.000000       \n",
       "25%                                             0.000000       \n",
       "50%                                             1.000000       \n",
       "75%                                          2462.000000       \n",
       "max                                        961129.000000       \n",
       "\n",
       "       Deaths - Drowning - Sex: Both - Age: All Ages (Number)  \\\n",
       "count                                        8010.000000        \n",
       "mean                                        12532.637953        \n",
       "std                                         40095.990735        \n",
       "min                                             0.000000        \n",
       "25%                                            58.000000        \n",
       "50%                                           393.500000        \n",
       "75%                                          3017.750000        \n",
       "max                                        460665.000000        \n",
       "\n",
       "       Deaths - Interpersonal violence - Sex: Both - Age: All Ages (Number)  \\\n",
       "count                                        8010.000000                      \n",
       "mean                                        15315.848315                      \n",
       "std                                         42888.544878                      \n",
       "min                                             0.000000                      \n",
       "25%                                            76.250000                      \n",
       "50%                                           494.000000                      \n",
       "75%                                          4372.500000                      \n",
       "max                                        463129.000000                      \n",
       "\n",
       "       Deaths - HIV/AIDS - Sex: Both - Age: All Ages (Number)  \\\n",
       "count                                       8.010000e+03        \n",
       "mean                                        4.725143e+04        \n",
       "std                                         1.744798e+05        \n",
       "min                                         0.000000e+00        \n",
       "25%                                         2.600000e+01        \n",
       "50%                                         4.200000e+02        \n",
       "75%                                         9.484500e+03        \n",
       "max                                         1.844490e+06        \n",
       "\n",
       "       Deaths - Drug use disorders - Sex: Both - Age: All Ages (Number)  \\\n",
       "count                                        8010.000000                  \n",
       "mean                                         3469.958926                  \n",
       "std                                         11186.514866                  \n",
       "min                                             0.000000                  \n",
       "25%                                             7.000000                  \n",
       "50%                                            57.000000                  \n",
       "75%                                           518.750000                  \n",
       "max                                        128083.000000                  \n",
       "\n",
       "       Deaths - Tuberculosis - Sex: Both - Age: All Ages (Number)  ...  \\\n",
       "count                                       8.010000e+03           ...   \n",
       "mean                                        5.605527e+04           ...   \n",
       "std                                         1.837876e+05           ...   \n",
       "min                                         0.000000e+00           ...   \n",
       "25%                                         6.200000e+01           ...   \n",
       "50%                                         9.560000e+02           ...   \n",
       "75%                                         1.037775e+04           ...   \n",
       "max                                         1.808478e+06           ...   \n",
       "\n",
       "       Deaths - Protein-energy malnutrition - Sex: Both - Age: All Ages (Number)  \\\n",
       "count                                        8010.000000                           \n",
       "mean                                        14441.384519                           \n",
       "std                                         47987.721059                           \n",
       "min                                             0.000000                           \n",
       "25%                                            10.000000                           \n",
       "50%                                           233.500000                           \n",
       "75%                                          4245.000000                           \n",
       "max                                        656314.000000                           \n",
       "\n",
       "       Terrorism (deaths)  \\\n",
       "count         2891.000000   \n",
       "mean           349.235905   \n",
       "std           1917.143788   \n",
       "min              0.000000   \n",
       "25%              0.000000   \n",
       "50%              5.000000   \n",
       "75%             60.000000   \n",
       "max          44490.000000   \n",
       "\n",
       "       Deaths - Cardiovascular diseases - Sex: Both - Age: All Ages (Number)  \\\n",
       "count                                       8.010000e+03                       \n",
       "mean                                        5.672777e+05                       \n",
       "std                                         1.606918e+06                       \n",
       "min                                         4.000000e+00                       \n",
       "25%                                         4.348500e+03                       \n",
       "50%                                         2.326550e+04                       \n",
       "75%                                         1.663318e+05                       \n",
       "max                                         1.856251e+07                       \n",
       "\n",
       "       Deaths - Chronic kidney disease - Sex: Both - Age: All Ages (Number)  \\\n",
       "count                                       8.010000e+03                      \n",
       "mean                                        3.614545e+04                      \n",
       "std                                         1.028788e+05                      \n",
       "min                                         0.000000e+00                      \n",
       "25%                                         2.810000e+02                      \n",
       "50%                                         1.651000e+03                      \n",
       "75%                                         1.192175e+04                      \n",
       "max                                         1.427232e+06                      \n",
       "\n",
       "       Deaths - Chronic respiratory diseases - Sex: Both - Age: All Ages (Number)  \\\n",
       "count                                       8.010000e+03                            \n",
       "mean                                        1.315012e+05                            \n",
       "std                                         4.174924e+05                            \n",
       "min                                         1.000000e+00                            \n",
       "25%                                         5.262500e+02                            \n",
       "50%                                         2.960500e+03                            \n",
       "75%                                         2.815650e+04                            \n",
       "max                                         3.974315e+06                            \n",
       "\n",
       "       Deaths - Cirrhosis and other chronic liver diseases - Sex: Both - Age: All Ages (Number)  \\\n",
       "count                                       8.010000e+03                                          \n",
       "mean                                        4.668634e+04                                          \n",
       "std                                         1.282383e+05                                          \n",
       "min                                         0.000000e+00                                          \n",
       "25%                                         3.040000e+02                                          \n",
       "50%                                         2.134000e+03                                          \n",
       "75%                                         1.680225e+04                                          \n",
       "max                                         1.472012e+06                                          \n",
       "\n",
       "       Deaths - Digestive diseases - Sex: Both - Age: All Ages (Number)  \\\n",
       "count                                       8.010000e+03                  \n",
       "mean                                        8.261491e+04                  \n",
       "std                                         2.253554e+05                  \n",
       "min                                         0.000000e+00                  \n",
       "25%                                         5.990000e+02                  \n",
       "50%                                         4.032500e+03                  \n",
       "75%                                         2.838875e+04                  \n",
       "max                                         2.557689e+06                  \n",
       "\n",
       "       Deaths - Acute hepatitis - Sex: Both - Age: All Ages (Number)  \\\n",
       "count                                        8010.000000               \n",
       "mean                                         4586.226592               \n",
       "std                                         16692.425941               \n",
       "min                                             0.000000               \n",
       "25%                                             3.000000               \n",
       "50%                                            47.000000               \n",
       "75%                                           453.750000               \n",
       "max                                        166405.000000               \n",
       "\n",
       "       Deaths - Alzheimer's disease and other dementias - Sex: Both - Age: All Ages (Number)  \\\n",
       "count                                       8.010000e+03                                       \n",
       "mean                                        3.923395e+04                                       \n",
       "std                                         1.179772e+05                                       \n",
       "min                                         0.000000e+00                                       \n",
       "25%                                         2.010000e+02                                       \n",
       "50%                                         1.337000e+03                                       \n",
       "75%                                         1.186775e+04                                       \n",
       "max                                         1.623276e+06                                       \n",
       "\n",
       "       Deaths - Parkinson's disease - Sex: Both - Age: All Ages (Number)  \n",
       "count                                        8010.000000                  \n",
       "mean                                         9367.016979                  \n",
       "std                                         27358.717966                  \n",
       "min                                             0.000000                  \n",
       "25%                                            55.000000                  \n",
       "50%                                           331.000000                  \n",
       "75%                                          2954.000000                  \n",
       "max                                        362907.000000                  \n",
       "\n",
       "[8 rows x 33 columns]"
      ]
     },
     "execution_count": 49,
     "metadata": {},
     "output_type": "execute_result"
    }
   ],
   "source": [
    "raw_df.describe()"
   ]
  },
  {
   "cell_type": "code",
   "execution_count": 50,
   "id": "28c10f1e",
   "metadata": {},
   "outputs": [
    {
     "data": {
      "text/plain": [
       "Entity                                                                                         Peru\n",
       "Code                                                                                            PER\n",
       "Year                                                                                           1994\n",
       "Number of executions (Amnesty International)                                                    NaN\n",
       "Deaths - Meningitis - Sex: Both - Age: All Ages (Number)                                      486.0\n",
       "Deaths - Neoplasms - Sex: Both - Age: All Ages (Number)                                     17890.0\n",
       "Deaths - Fire, heat, and hot substances - Sex: Both - Age: All Ages (Number)                  455.0\n",
       "Deaths - Malaria - Sex: Both - Age: All Ages (Number)                                         476.0\n",
       "Deaths - Drowning - Sex: Both - Age: All Ages (Number)                                       1287.0\n",
       "Deaths - Interpersonal violence - Sex: Both - Age: All Ages (Number)                         1514.0\n",
       "Deaths - HIV/AIDS - Sex: Both - Age: All Ages (Number)                                        809.0\n",
       "Deaths - Drug use disorders - Sex: Both - Age: All Ages (Number)                               92.0\n",
       "Deaths - Tuberculosis - Sex: Both - Age: All Ages (Number)                                   7434.0\n",
       "Deaths - Road injuries - Sex: Both - Age: All Ages (Number)                                  4066.0\n",
       "Deaths - Maternal disorders - Sex: Both - Age: All Ages (Number)                             1705.0\n",
       "Deaths - Lower respiratory infections - Sex: Both - Age: All Ages (Number)                  17335.0\n",
       "Deaths - Neonatal disorders - Sex: Both - Age: All Ages (Number)                            10318.0\n",
       "Deaths - Alcohol use disorders - Sex: Both - Age: All Ages (Number)                           375.0\n",
       "Deaths - Exposure to forces of nature - Sex: Both - Age: All Ages (Number)                     85.0\n",
       "Deaths - Diarrheal diseases - Sex: Both - Age: All Ages (Number)                             4577.0\n",
       "Deaths - Environmental heat and cold exposure - Sex: Both - Age: All Ages (Number)             73.0\n",
       "Deaths - Nutritional deficiencies - Sex: Both - Age: All Ages (Number)                       3047.0\n",
       "Deaths - Self-harm - Sex: Both - Age: All Ages (Number)                                       804.0\n",
       "Deaths - Conflict and terrorism - Sex: Both - Age: All Ages (Number)                          450.0\n",
       "Deaths - Diabetes mellitus - Sex: Both - Age: All Ages (Number)                              1969.0\n",
       "Deaths - Poisonings - Sex: Both - Age: All Ages (Number)                                      317.0\n",
       "Deaths - Protein-energy malnutrition - Sex: Both - Age: All Ages (Number)                    2861.0\n",
       "Terrorism (deaths)                                                                             81.0\n",
       "Deaths - Cardiovascular diseases - Sex: Both - Age: All Ages (Number)                       21914.0\n",
       "Deaths - Chronic kidney disease - Sex: Both - Age: All Ages (Number)                         3460.0\n",
       "Deaths - Chronic respiratory diseases - Sex: Both - Age: All Ages (Number)                   3408.0\n",
       "Deaths - Cirrhosis and other chronic liver diseases - Sex: Both - Age: All Ages (Number)     4475.0\n",
       "Deaths - Digestive diseases - Sex: Both - Age: All Ages (Number)                            10525.0\n",
       "Deaths - Acute hepatitis - Sex: Both - Age: All Ages (Number)                                 146.0\n",
       "Deaths - Alzheimer's disease and other dementias - Sex: Both - Age: All Ages (Number)        2330.0\n",
       "Deaths - Parkinson's disease - Sex: Both - Age: All Ages (Number)                             569.0\n",
       "Name: 5709, dtype: object"
      ]
     },
     "execution_count": 50,
     "metadata": {},
     "output_type": "execute_result"
    }
   ],
   "source": [
    "raw_df.sample(1).iloc[0]"
   ]
  },
  {
   "cell_type": "markdown",
   "id": "cb46aa7b",
   "metadata": {},
   "source": [
    "## Data Preprocessing\n",
    "\n",
    "- 1- Handeling columns names \n",
    "- 2- Checkning null values \n",
    "- 3- Dropping unusefull features\n",
    "- 4- invesgating on features types"
   ]
  },
  {
   "cell_type": "markdown",
   "id": "6344d79c",
   "metadata": {},
   "source": [
    "### 1- Handeling columns names\n",
    "\n",
    "- Split columns names"
   ]
  },
  {
   "cell_type": "code",
   "execution_count": 51,
   "id": "42007bf0",
   "metadata": {},
   "outputs": [],
   "source": [
    "# take a copy from the original data\n",
    "prep_df = raw_df.copy()"
   ]
  },
  {
   "cell_type": "code",
   "execution_count": 52,
   "id": "f9aa9691",
   "metadata": {},
   "outputs": [],
   "source": [
    "# this function takes a dataframe and splits its column names based on given separator(i.e ' - ')\n",
    "split_name(prep_df, ' - ')"
   ]
  },
  {
   "cell_type": "code",
   "execution_count": 53,
   "id": "26324957",
   "metadata": {},
   "outputs": [
    {
     "name": "stdout",
     "output_type": "stream",
     "text": [
      "<class 'pandas.core.frame.DataFrame'>\n",
      "RangeIndex: 8254 entries, 0 to 8253\n",
      "Data columns (total 36 columns):\n",
      " #   Column                                        Non-Null Count  Dtype  \n",
      "---  ------                                        --------------  -----  \n",
      " 0   Entity                                        8254 non-null   object \n",
      " 1   Code                                          6206 non-null   object \n",
      " 2   Year                                          8254 non-null   int64  \n",
      " 3   Number of executions (Amnesty International)  267 non-null    object \n",
      " 4   Meningitis                                    8010 non-null   float64\n",
      " 5   Neoplasms                                     8010 non-null   float64\n",
      " 6   Fire, heat, and hot substances                8010 non-null   float64\n",
      " 7   Malaria                                       8010 non-null   float64\n",
      " 8   Drowning                                      8010 non-null   float64\n",
      " 9   Interpersonal violence                        8010 non-null   float64\n",
      " 10  HIV/AIDS                                      8010 non-null   float64\n",
      " 11  Drug use disorders                            8010 non-null   float64\n",
      " 12  Tuberculosis                                  8010 non-null   float64\n",
      " 13  Road injuries                                 8010 non-null   float64\n",
      " 14  Maternal disorders                            8010 non-null   float64\n",
      " 15  Lower respiratory infections                  8010 non-null   float64\n",
      " 16  Neonatal disorders                            8010 non-null   float64\n",
      " 17  Alcohol use disorders                         8010 non-null   float64\n",
      " 18  Exposure to forces of nature                  8010 non-null   float64\n",
      " 19  Diarrheal diseases                            8010 non-null   float64\n",
      " 20  Environmental heat and cold exposure          8010 non-null   float64\n",
      " 21  Nutritional deficiencies                      8010 non-null   float64\n",
      " 22  Self-harm                                     8010 non-null   float64\n",
      " 23  Conflict and terrorism                        8010 non-null   float64\n",
      " 24  Diabetes mellitus                             8010 non-null   float64\n",
      " 25  Poisonings                                    8010 non-null   float64\n",
      " 26  Protein-energy malnutrition                   8010 non-null   float64\n",
      " 27  Terrorism (deaths)                            2891 non-null   float64\n",
      " 28  Cardiovascular diseases                       8010 non-null   float64\n",
      " 29  Chronic kidney disease                        8010 non-null   float64\n",
      " 30  Chronic respiratory diseases                  8010 non-null   float64\n",
      " 31  Cirrhosis and other chronic liver diseases    8010 non-null   float64\n",
      " 32  Digestive diseases                            8010 non-null   float64\n",
      " 33  Acute hepatitis                               8010 non-null   float64\n",
      " 34  Alzheimer's disease and other dementias       8010 non-null   float64\n",
      " 35  Parkinson's disease                           8010 non-null   float64\n",
      "dtypes: float64(32), int64(1), object(3)\n",
      "memory usage: 2.3+ MB\n"
     ]
    }
   ],
   "source": [
    "prep_df.info()"
   ]
  },
  {
   "cell_type": "code",
   "execution_count": 54,
   "id": "f85ff722",
   "metadata": {},
   "outputs": [],
   "source": [
    "prep_df.rename(columns = {'Cirrhosis and other chronic liver diseases':'Cirrhosis',\n",
    "                          \"Alzheimer's disease and other dementias\":'Dementias',\n",
    "                         \"Environmental heat and cold exposure\": 'Climate Change',\n",
    "                         \"Fire, heat, and hot substances\": 'Fire',\n",
    "                         \"Lower respiratory infections\":\"respiratory infections\",\n",
    "                         \"Chronic respiratory diseases\":\"Chronic respiratory\",\n",
    "                         \"Parkinson's disease\":\"Parkinson\",\n",
    "                         \"Conflict and terrorism\":\"terrorism\",\n",
    "                         \"Cardiovascular diseases\":\"Cardiovascular\",\n",
    "                         \"Digestive diseases\":\"Digestive\"},\n",
    "               inplace = True)"
   ]
  },
  {
   "cell_type": "markdown",
   "id": "27dda298",
   "metadata": {},
   "source": [
    "### 2- Checkning null values"
   ]
  },
  {
   "cell_type": "code",
   "execution_count": 55,
   "id": "ca7d72ec",
   "metadata": {},
   "outputs": [
    {
     "data": {
      "text/html": [
       "<div>\n",
       "<style scoped>\n",
       "    .dataframe tbody tr th:only-of-type {\n",
       "        vertical-align: middle;\n",
       "    }\n",
       "\n",
       "    .dataframe tbody tr th {\n",
       "        vertical-align: top;\n",
       "    }\n",
       "\n",
       "    .dataframe thead th {\n",
       "        text-align: right;\n",
       "    }\n",
       "</style>\n",
       "<table border=\"1\" class=\"dataframe\">\n",
       "  <thead>\n",
       "    <tr style=\"text-align: right;\">\n",
       "      <th></th>\n",
       "      <th>usual_nulls</th>\n",
       "      <th>strange_nulls</th>\n",
       "    </tr>\n",
       "  </thead>\n",
       "  <tbody>\n",
       "    <tr>\n",
       "      <th>Number of executions (Amnesty International)</th>\n",
       "      <td>7987</td>\n",
       "      <td>0</td>\n",
       "    </tr>\n",
       "    <tr>\n",
       "      <th>Terrorism (deaths)</th>\n",
       "      <td>5363</td>\n",
       "      <td>0.0</td>\n",
       "    </tr>\n",
       "    <tr>\n",
       "      <th>Code</th>\n",
       "      <td>2048</td>\n",
       "      <td>0</td>\n",
       "    </tr>\n",
       "    <tr>\n",
       "      <th>Climate Change</th>\n",
       "      <td>244</td>\n",
       "      <td>0.0</td>\n",
       "    </tr>\n",
       "    <tr>\n",
       "      <th>Nutritional deficiencies</th>\n",
       "      <td>244</td>\n",
       "      <td>0.0</td>\n",
       "    </tr>\n",
       "    <tr>\n",
       "      <th>Self-harm</th>\n",
       "      <td>244</td>\n",
       "      <td>0.0</td>\n",
       "    </tr>\n",
       "    <tr>\n",
       "      <th>terrorism</th>\n",
       "      <td>244</td>\n",
       "      <td>0.0</td>\n",
       "    </tr>\n",
       "    <tr>\n",
       "      <th>Diabetes mellitus</th>\n",
       "      <td>244</td>\n",
       "      <td>0.0</td>\n",
       "    </tr>\n",
       "    <tr>\n",
       "      <th>Poisonings</th>\n",
       "      <td>244</td>\n",
       "      <td>0.0</td>\n",
       "    </tr>\n",
       "    <tr>\n",
       "      <th>Protein-energy malnutrition</th>\n",
       "      <td>244</td>\n",
       "      <td>0.0</td>\n",
       "    </tr>\n",
       "    <tr>\n",
       "      <th>Exposure to forces of nature</th>\n",
       "      <td>244</td>\n",
       "      <td>0.0</td>\n",
       "    </tr>\n",
       "    <tr>\n",
       "      <th>Diarrheal diseases</th>\n",
       "      <td>244</td>\n",
       "      <td>0.0</td>\n",
       "    </tr>\n",
       "    <tr>\n",
       "      <th>Chronic kidney disease</th>\n",
       "      <td>244</td>\n",
       "      <td>0.0</td>\n",
       "    </tr>\n",
       "    <tr>\n",
       "      <th>Chronic respiratory</th>\n",
       "      <td>244</td>\n",
       "      <td>0.0</td>\n",
       "    </tr>\n",
       "    <tr>\n",
       "      <th>Cirrhosis</th>\n",
       "      <td>244</td>\n",
       "      <td>0.0</td>\n",
       "    </tr>\n",
       "    <tr>\n",
       "      <th>Digestive</th>\n",
       "      <td>244</td>\n",
       "      <td>0.0</td>\n",
       "    </tr>\n",
       "    <tr>\n",
       "      <th>Acute hepatitis</th>\n",
       "      <td>244</td>\n",
       "      <td>0.0</td>\n",
       "    </tr>\n",
       "    <tr>\n",
       "      <th>Dementias</th>\n",
       "      <td>244</td>\n",
       "      <td>0.0</td>\n",
       "    </tr>\n",
       "    <tr>\n",
       "      <th>Cardiovascular</th>\n",
       "      <td>244</td>\n",
       "      <td>0.0</td>\n",
       "    </tr>\n",
       "    <tr>\n",
       "      <th>Parkinson</th>\n",
       "      <td>244</td>\n",
       "      <td>0.0</td>\n",
       "    </tr>\n",
       "    <tr>\n",
       "      <th>Alcohol use disorders</th>\n",
       "      <td>244</td>\n",
       "      <td>0.0</td>\n",
       "    </tr>\n",
       "    <tr>\n",
       "      <th>Neonatal disorders</th>\n",
       "      <td>244</td>\n",
       "      <td>0.0</td>\n",
       "    </tr>\n",
       "    <tr>\n",
       "      <th>respiratory infections</th>\n",
       "      <td>244</td>\n",
       "      <td>0.0</td>\n",
       "    </tr>\n",
       "    <tr>\n",
       "      <th>Maternal disorders</th>\n",
       "      <td>244</td>\n",
       "      <td>0.0</td>\n",
       "    </tr>\n",
       "    <tr>\n",
       "      <th>Road injuries</th>\n",
       "      <td>244</td>\n",
       "      <td>0.0</td>\n",
       "    </tr>\n",
       "    <tr>\n",
       "      <th>Tuberculosis</th>\n",
       "      <td>244</td>\n",
       "      <td>0.0</td>\n",
       "    </tr>\n",
       "    <tr>\n",
       "      <th>Drug use disorders</th>\n",
       "      <td>244</td>\n",
       "      <td>0.0</td>\n",
       "    </tr>\n",
       "    <tr>\n",
       "      <th>HIV/AIDS</th>\n",
       "      <td>244</td>\n",
       "      <td>0.0</td>\n",
       "    </tr>\n",
       "    <tr>\n",
       "      <th>Interpersonal violence</th>\n",
       "      <td>244</td>\n",
       "      <td>0.0</td>\n",
       "    </tr>\n",
       "    <tr>\n",
       "      <th>Drowning</th>\n",
       "      <td>244</td>\n",
       "      <td>0.0</td>\n",
       "    </tr>\n",
       "    <tr>\n",
       "      <th>Malaria</th>\n",
       "      <td>244</td>\n",
       "      <td>0.0</td>\n",
       "    </tr>\n",
       "    <tr>\n",
       "      <th>Fire</th>\n",
       "      <td>244</td>\n",
       "      <td>0.0</td>\n",
       "    </tr>\n",
       "    <tr>\n",
       "      <th>Neoplasms</th>\n",
       "      <td>244</td>\n",
       "      <td>0.0</td>\n",
       "    </tr>\n",
       "    <tr>\n",
       "      <th>Meningitis</th>\n",
       "      <td>244</td>\n",
       "      <td>0.0</td>\n",
       "    </tr>\n",
       "    <tr>\n",
       "      <th>Year</th>\n",
       "      <td>0</td>\n",
       "      <td>0.0</td>\n",
       "    </tr>\n",
       "    <tr>\n",
       "      <th>Entity</th>\n",
       "      <td>0</td>\n",
       "      <td>0</td>\n",
       "    </tr>\n",
       "  </tbody>\n",
       "</table>\n",
       "</div>"
      ],
      "text/plain": [
       "                                              usual_nulls strange_nulls\n",
       "Number of executions (Amnesty International)         7987             0\n",
       "Terrorism (deaths)                                   5363           0.0\n",
       "Code                                                 2048             0\n",
       "Climate Change                                        244           0.0\n",
       "Nutritional deficiencies                              244           0.0\n",
       "Self-harm                                             244           0.0\n",
       "terrorism                                             244           0.0\n",
       "Diabetes mellitus                                     244           0.0\n",
       "Poisonings                                            244           0.0\n",
       "Protein-energy malnutrition                           244           0.0\n",
       "Exposure to forces of nature                          244           0.0\n",
       "Diarrheal diseases                                    244           0.0\n",
       "Chronic kidney disease                                244           0.0\n",
       "Chronic respiratory                                   244           0.0\n",
       "Cirrhosis                                             244           0.0\n",
       "Digestive                                             244           0.0\n",
       "Acute hepatitis                                       244           0.0\n",
       "Dementias                                             244           0.0\n",
       "Cardiovascular                                        244           0.0\n",
       "Parkinson                                             244           0.0\n",
       "Alcohol use disorders                                 244           0.0\n",
       "Neonatal disorders                                    244           0.0\n",
       "respiratory infections                                244           0.0\n",
       "Maternal disorders                                    244           0.0\n",
       "Road injuries                                         244           0.0\n",
       "Tuberculosis                                          244           0.0\n",
       "Drug use disorders                                    244           0.0\n",
       "HIV/AIDS                                              244           0.0\n",
       "Interpersonal violence                                244           0.0\n",
       "Drowning                                              244           0.0\n",
       "Malaria                                               244           0.0\n",
       "Fire                                                  244           0.0\n",
       "Neoplasms                                             244           0.0\n",
       "Meningitis                                            244           0.0\n",
       "Year                                                    0           0.0\n",
       "Entity                                                  0             0"
      ]
     },
     "execution_count": 55,
     "metadata": {},
     "output_type": "execute_result"
    }
   ],
   "source": [
    "# this function takes a dataframe and check its nulls whether usual_nulls (np.nan) or strange_nulls (i.e {}, '','?')\n",
    "nulls_df = check_nulls(prep_df)\n",
    "nulls_df"
   ]
  },
  {
   "cell_type": "markdown",
   "id": "63ebd82e",
   "metadata": {},
   "source": [
    "### 3- Dropping unusefull features"
   ]
  },
  {
   "cell_type": "code",
   "execution_count": 56,
   "id": "b9d1a324",
   "metadata": {},
   "outputs": [
    {
     "data": {
      "application/vnd.plotly.v1+json": {
       "config": {
        "plotlyServerURL": "https://plot.ly"
       },
       "data": [
        {
         "type": "bar",
         "x": [
          "Number of executions (Amnesty International)",
          "Terrorism (deaths)",
          "Code",
          "Climate Change",
          "Nutritional deficiencies",
          "Self-harm",
          "terrorism",
          "Diabetes mellitus",
          "Poisonings",
          "Protein-energy malnutrition",
          "Exposure to forces of nature",
          "Diarrheal diseases",
          "Chronic kidney disease",
          "Chronic respiratory",
          "Cirrhosis",
          "Digestive",
          "Acute hepatitis",
          "Dementias",
          "Cardiovascular",
          "Parkinson",
          "Alcohol use disorders",
          "Neonatal disorders",
          "respiratory infections",
          "Maternal disorders",
          "Road injuries",
          "Tuberculosis",
          "Drug use disorders",
          "HIV/AIDS",
          "Interpersonal violence",
          "Drowning",
          "Malaria",
          "Fire",
          "Neoplasms",
          "Meningitis",
          "Year",
          "Entity"
         ],
         "y": [
          7987,
          5363,
          2048,
          244,
          244,
          244,
          244,
          244,
          244,
          244,
          244,
          244,
          244,
          244,
          244,
          244,
          244,
          244,
          244,
          244,
          244,
          244,
          244,
          244,
          244,
          244,
          244,
          244,
          244,
          244,
          244,
          244,
          244,
          244,
          0,
          0
         ]
        }
       ],
       "layout": {
        "height": 720,
        "template": {
         "data": {
          "bar": [
           {
            "error_x": {
             "color": "#2a3f5f"
            },
            "error_y": {
             "color": "#2a3f5f"
            },
            "marker": {
             "line": {
              "color": "#E5ECF6",
              "width": 0.5
             },
             "pattern": {
              "fillmode": "overlay",
              "size": 10,
              "solidity": 0.2
             }
            },
            "type": "bar"
           }
          ],
          "barpolar": [
           {
            "marker": {
             "line": {
              "color": "#E5ECF6",
              "width": 0.5
             },
             "pattern": {
              "fillmode": "overlay",
              "size": 10,
              "solidity": 0.2
             }
            },
            "type": "barpolar"
           }
          ],
          "carpet": [
           {
            "aaxis": {
             "endlinecolor": "#2a3f5f",
             "gridcolor": "white",
             "linecolor": "white",
             "minorgridcolor": "white",
             "startlinecolor": "#2a3f5f"
            },
            "baxis": {
             "endlinecolor": "#2a3f5f",
             "gridcolor": "white",
             "linecolor": "white",
             "minorgridcolor": "white",
             "startlinecolor": "#2a3f5f"
            },
            "type": "carpet"
           }
          ],
          "choropleth": [
           {
            "colorbar": {
             "outlinewidth": 0,
             "ticks": ""
            },
            "type": "choropleth"
           }
          ],
          "contour": [
           {
            "colorbar": {
             "outlinewidth": 0,
             "ticks": ""
            },
            "colorscale": [
             [
              0,
              "#0d0887"
             ],
             [
              0.1111111111111111,
              "#46039f"
             ],
             [
              0.2222222222222222,
              "#7201a8"
             ],
             [
              0.3333333333333333,
              "#9c179e"
             ],
             [
              0.4444444444444444,
              "#bd3786"
             ],
             [
              0.5555555555555556,
              "#d8576b"
             ],
             [
              0.6666666666666666,
              "#ed7953"
             ],
             [
              0.7777777777777778,
              "#fb9f3a"
             ],
             [
              0.8888888888888888,
              "#fdca26"
             ],
             [
              1,
              "#f0f921"
             ]
            ],
            "type": "contour"
           }
          ],
          "contourcarpet": [
           {
            "colorbar": {
             "outlinewidth": 0,
             "ticks": ""
            },
            "type": "contourcarpet"
           }
          ],
          "heatmap": [
           {
            "colorbar": {
             "outlinewidth": 0,
             "ticks": ""
            },
            "colorscale": [
             [
              0,
              "#0d0887"
             ],
             [
              0.1111111111111111,
              "#46039f"
             ],
             [
              0.2222222222222222,
              "#7201a8"
             ],
             [
              0.3333333333333333,
              "#9c179e"
             ],
             [
              0.4444444444444444,
              "#bd3786"
             ],
             [
              0.5555555555555556,
              "#d8576b"
             ],
             [
              0.6666666666666666,
              "#ed7953"
             ],
             [
              0.7777777777777778,
              "#fb9f3a"
             ],
             [
              0.8888888888888888,
              "#fdca26"
             ],
             [
              1,
              "#f0f921"
             ]
            ],
            "type": "heatmap"
           }
          ],
          "heatmapgl": [
           {
            "colorbar": {
             "outlinewidth": 0,
             "ticks": ""
            },
            "colorscale": [
             [
              0,
              "#0d0887"
             ],
             [
              0.1111111111111111,
              "#46039f"
             ],
             [
              0.2222222222222222,
              "#7201a8"
             ],
             [
              0.3333333333333333,
              "#9c179e"
             ],
             [
              0.4444444444444444,
              "#bd3786"
             ],
             [
              0.5555555555555556,
              "#d8576b"
             ],
             [
              0.6666666666666666,
              "#ed7953"
             ],
             [
              0.7777777777777778,
              "#fb9f3a"
             ],
             [
              0.8888888888888888,
              "#fdca26"
             ],
             [
              1,
              "#f0f921"
             ]
            ],
            "type": "heatmapgl"
           }
          ],
          "histogram": [
           {
            "marker": {
             "pattern": {
              "fillmode": "overlay",
              "size": 10,
              "solidity": 0.2
             }
            },
            "type": "histogram"
           }
          ],
          "histogram2d": [
           {
            "colorbar": {
             "outlinewidth": 0,
             "ticks": ""
            },
            "colorscale": [
             [
              0,
              "#0d0887"
             ],
             [
              0.1111111111111111,
              "#46039f"
             ],
             [
              0.2222222222222222,
              "#7201a8"
             ],
             [
              0.3333333333333333,
              "#9c179e"
             ],
             [
              0.4444444444444444,
              "#bd3786"
             ],
             [
              0.5555555555555556,
              "#d8576b"
             ],
             [
              0.6666666666666666,
              "#ed7953"
             ],
             [
              0.7777777777777778,
              "#fb9f3a"
             ],
             [
              0.8888888888888888,
              "#fdca26"
             ],
             [
              1,
              "#f0f921"
             ]
            ],
            "type": "histogram2d"
           }
          ],
          "histogram2dcontour": [
           {
            "colorbar": {
             "outlinewidth": 0,
             "ticks": ""
            },
            "colorscale": [
             [
              0,
              "#0d0887"
             ],
             [
              0.1111111111111111,
              "#46039f"
             ],
             [
              0.2222222222222222,
              "#7201a8"
             ],
             [
              0.3333333333333333,
              "#9c179e"
             ],
             [
              0.4444444444444444,
              "#bd3786"
             ],
             [
              0.5555555555555556,
              "#d8576b"
             ],
             [
              0.6666666666666666,
              "#ed7953"
             ],
             [
              0.7777777777777778,
              "#fb9f3a"
             ],
             [
              0.8888888888888888,
              "#fdca26"
             ],
             [
              1,
              "#f0f921"
             ]
            ],
            "type": "histogram2dcontour"
           }
          ],
          "mesh3d": [
           {
            "colorbar": {
             "outlinewidth": 0,
             "ticks": ""
            },
            "type": "mesh3d"
           }
          ],
          "parcoords": [
           {
            "line": {
             "colorbar": {
              "outlinewidth": 0,
              "ticks": ""
             }
            },
            "type": "parcoords"
           }
          ],
          "pie": [
           {
            "automargin": true,
            "type": "pie"
           }
          ],
          "scatter": [
           {
            "fillpattern": {
             "fillmode": "overlay",
             "size": 10,
             "solidity": 0.2
            },
            "type": "scatter"
           }
          ],
          "scatter3d": [
           {
            "line": {
             "colorbar": {
              "outlinewidth": 0,
              "ticks": ""
             }
            },
            "marker": {
             "colorbar": {
              "outlinewidth": 0,
              "ticks": ""
             }
            },
            "type": "scatter3d"
           }
          ],
          "scattercarpet": [
           {
            "marker": {
             "colorbar": {
              "outlinewidth": 0,
              "ticks": ""
             }
            },
            "type": "scattercarpet"
           }
          ],
          "scattergeo": [
           {
            "marker": {
             "colorbar": {
              "outlinewidth": 0,
              "ticks": ""
             }
            },
            "type": "scattergeo"
           }
          ],
          "scattergl": [
           {
            "marker": {
             "colorbar": {
              "outlinewidth": 0,
              "ticks": ""
             }
            },
            "type": "scattergl"
           }
          ],
          "scattermapbox": [
           {
            "marker": {
             "colorbar": {
              "outlinewidth": 0,
              "ticks": ""
             }
            },
            "type": "scattermapbox"
           }
          ],
          "scatterpolar": [
           {
            "marker": {
             "colorbar": {
              "outlinewidth": 0,
              "ticks": ""
             }
            },
            "type": "scatterpolar"
           }
          ],
          "scatterpolargl": [
           {
            "marker": {
             "colorbar": {
              "outlinewidth": 0,
              "ticks": ""
             }
            },
            "type": "scatterpolargl"
           }
          ],
          "scatterternary": [
           {
            "marker": {
             "colorbar": {
              "outlinewidth": 0,
              "ticks": ""
             }
            },
            "type": "scatterternary"
           }
          ],
          "surface": [
           {
            "colorbar": {
             "outlinewidth": 0,
             "ticks": ""
            },
            "colorscale": [
             [
              0,
              "#0d0887"
             ],
             [
              0.1111111111111111,
              "#46039f"
             ],
             [
              0.2222222222222222,
              "#7201a8"
             ],
             [
              0.3333333333333333,
              "#9c179e"
             ],
             [
              0.4444444444444444,
              "#bd3786"
             ],
             [
              0.5555555555555556,
              "#d8576b"
             ],
             [
              0.6666666666666666,
              "#ed7953"
             ],
             [
              0.7777777777777778,
              "#fb9f3a"
             ],
             [
              0.8888888888888888,
              "#fdca26"
             ],
             [
              1,
              "#f0f921"
             ]
            ],
            "type": "surface"
           }
          ],
          "table": [
           {
            "cells": {
             "fill": {
              "color": "#EBF0F8"
             },
             "line": {
              "color": "white"
             }
            },
            "header": {
             "fill": {
              "color": "#C8D4E3"
             },
             "line": {
              "color": "white"
             }
            },
            "type": "table"
           }
          ]
         },
         "layout": {
          "annotationdefaults": {
           "arrowcolor": "#2a3f5f",
           "arrowhead": 0,
           "arrowwidth": 1
          },
          "autotypenumbers": "strict",
          "coloraxis": {
           "colorbar": {
            "outlinewidth": 0,
            "ticks": ""
           }
          },
          "colorscale": {
           "diverging": [
            [
             0,
             "#8e0152"
            ],
            [
             0.1,
             "#c51b7d"
            ],
            [
             0.2,
             "#de77ae"
            ],
            [
             0.3,
             "#f1b6da"
            ],
            [
             0.4,
             "#fde0ef"
            ],
            [
             0.5,
             "#f7f7f7"
            ],
            [
             0.6,
             "#e6f5d0"
            ],
            [
             0.7,
             "#b8e186"
            ],
            [
             0.8,
             "#7fbc41"
            ],
            [
             0.9,
             "#4d9221"
            ],
            [
             1,
             "#276419"
            ]
           ],
           "sequential": [
            [
             0,
             "#0d0887"
            ],
            [
             0.1111111111111111,
             "#46039f"
            ],
            [
             0.2222222222222222,
             "#7201a8"
            ],
            [
             0.3333333333333333,
             "#9c179e"
            ],
            [
             0.4444444444444444,
             "#bd3786"
            ],
            [
             0.5555555555555556,
             "#d8576b"
            ],
            [
             0.6666666666666666,
             "#ed7953"
            ],
            [
             0.7777777777777778,
             "#fb9f3a"
            ],
            [
             0.8888888888888888,
             "#fdca26"
            ],
            [
             1,
             "#f0f921"
            ]
           ],
           "sequentialminus": [
            [
             0,
             "#0d0887"
            ],
            [
             0.1111111111111111,
             "#46039f"
            ],
            [
             0.2222222222222222,
             "#7201a8"
            ],
            [
             0.3333333333333333,
             "#9c179e"
            ],
            [
             0.4444444444444444,
             "#bd3786"
            ],
            [
             0.5555555555555556,
             "#d8576b"
            ],
            [
             0.6666666666666666,
             "#ed7953"
            ],
            [
             0.7777777777777778,
             "#fb9f3a"
            ],
            [
             0.8888888888888888,
             "#fdca26"
            ],
            [
             1,
             "#f0f921"
            ]
           ]
          },
          "colorway": [
           "#636efa",
           "#EF553B",
           "#00cc96",
           "#ab63fa",
           "#FFA15A",
           "#19d3f3",
           "#FF6692",
           "#B6E880",
           "#FF97FF",
           "#FECB52"
          ],
          "font": {
           "color": "#2a3f5f"
          },
          "geo": {
           "bgcolor": "white",
           "lakecolor": "white",
           "landcolor": "#E5ECF6",
           "showlakes": true,
           "showland": true,
           "subunitcolor": "white"
          },
          "hoverlabel": {
           "align": "left"
          },
          "hovermode": "closest",
          "mapbox": {
           "style": "light"
          },
          "paper_bgcolor": "white",
          "plot_bgcolor": "#E5ECF6",
          "polar": {
           "angularaxis": {
            "gridcolor": "white",
            "linecolor": "white",
            "ticks": ""
           },
           "bgcolor": "#E5ECF6",
           "radialaxis": {
            "gridcolor": "white",
            "linecolor": "white",
            "ticks": ""
           }
          },
          "scene": {
           "xaxis": {
            "backgroundcolor": "#E5ECF6",
            "gridcolor": "white",
            "gridwidth": 2,
            "linecolor": "white",
            "showbackground": true,
            "ticks": "",
            "zerolinecolor": "white"
           },
           "yaxis": {
            "backgroundcolor": "#E5ECF6",
            "gridcolor": "white",
            "gridwidth": 2,
            "linecolor": "white",
            "showbackground": true,
            "ticks": "",
            "zerolinecolor": "white"
           },
           "zaxis": {
            "backgroundcolor": "#E5ECF6",
            "gridcolor": "white",
            "gridwidth": 2,
            "linecolor": "white",
            "showbackground": true,
            "ticks": "",
            "zerolinecolor": "white"
           }
          },
          "shapedefaults": {
           "line": {
            "color": "#2a3f5f"
           }
          },
          "ternary": {
           "aaxis": {
            "gridcolor": "white",
            "linecolor": "white",
            "ticks": ""
           },
           "baxis": {
            "gridcolor": "white",
            "linecolor": "white",
            "ticks": ""
           },
           "bgcolor": "#E5ECF6",
           "caxis": {
            "gridcolor": "white",
            "linecolor": "white",
            "ticks": ""
           }
          },
          "title": {
           "x": 0.05
          },
          "xaxis": {
           "automargin": true,
           "gridcolor": "white",
           "linecolor": "white",
           "ticks": "",
           "title": {
            "standoff": 15
           },
           "zerolinecolor": "white",
           "zerolinewidth": 2
          },
          "yaxis": {
           "automargin": true,
           "gridcolor": "white",
           "linecolor": "white",
           "ticks": "",
           "title": {
            "standoff": 15
           },
           "zerolinecolor": "white",
           "zerolinewidth": 2
          }
         }
        },
        "title": {
         "text": "Nulls per featrue"
        },
        "width": 1024,
        "xaxis": {
         "tickangle": 45
        }
       }
      },
      "text/html": [
       "<div>                            <div id=\"65d631bc-3e2a-4776-b4e7-673e57532ed9\" class=\"plotly-graph-div\" style=\"height:720px; width:1024px;\"></div>            <script type=\"text/javascript\">                require([\"plotly\"], function(Plotly) {                    window.PLOTLYENV=window.PLOTLYENV || {};                                    if (document.getElementById(\"65d631bc-3e2a-4776-b4e7-673e57532ed9\")) {                    Plotly.newPlot(                        \"65d631bc-3e2a-4776-b4e7-673e57532ed9\",                        [{\"x\":[\"Number of executions (Amnesty International)\",\"Terrorism (deaths)\",\"Code\",\"Climate Change\",\"Nutritional deficiencies\",\"Self-harm\",\"terrorism\",\"Diabetes mellitus\",\"Poisonings\",\"Protein-energy malnutrition\",\"Exposure to forces of nature\",\"Diarrheal diseases\",\"Chronic kidney disease\",\"Chronic respiratory\",\"Cirrhosis\",\"Digestive\",\"Acute hepatitis\",\"Dementias\",\"Cardiovascular\",\"Parkinson\",\"Alcohol use disorders\",\"Neonatal disorders\",\"respiratory infections\",\"Maternal disorders\",\"Road injuries\",\"Tuberculosis\",\"Drug use disorders\",\"HIV/AIDS\",\"Interpersonal violence\",\"Drowning\",\"Malaria\",\"Fire\",\"Neoplasms\",\"Meningitis\",\"Year\",\"Entity\"],\"y\":[7987,5363,2048,244,244,244,244,244,244,244,244,244,244,244,244,244,244,244,244,244,244,244,244,244,244,244,244,244,244,244,244,244,244,244,0,0],\"type\":\"bar\"}],                        {\"template\":{\"data\":{\"histogram2dcontour\":[{\"type\":\"histogram2dcontour\",\"colorbar\":{\"outlinewidth\":0,\"ticks\":\"\"},\"colorscale\":[[0.0,\"#0d0887\"],[0.1111111111111111,\"#46039f\"],[0.2222222222222222,\"#7201a8\"],[0.3333333333333333,\"#9c179e\"],[0.4444444444444444,\"#bd3786\"],[0.5555555555555556,\"#d8576b\"],[0.6666666666666666,\"#ed7953\"],[0.7777777777777778,\"#fb9f3a\"],[0.8888888888888888,\"#fdca26\"],[1.0,\"#f0f921\"]]}],\"choropleth\":[{\"type\":\"choropleth\",\"colorbar\":{\"outlinewidth\":0,\"ticks\":\"\"}}],\"histogram2d\":[{\"type\":\"histogram2d\",\"colorbar\":{\"outlinewidth\":0,\"ticks\":\"\"},\"colorscale\":[[0.0,\"#0d0887\"],[0.1111111111111111,\"#46039f\"],[0.2222222222222222,\"#7201a8\"],[0.3333333333333333,\"#9c179e\"],[0.4444444444444444,\"#bd3786\"],[0.5555555555555556,\"#d8576b\"],[0.6666666666666666,\"#ed7953\"],[0.7777777777777778,\"#fb9f3a\"],[0.8888888888888888,\"#fdca26\"],[1.0,\"#f0f921\"]]}],\"heatmap\":[{\"type\":\"heatmap\",\"colorbar\":{\"outlinewidth\":0,\"ticks\":\"\"},\"colorscale\":[[0.0,\"#0d0887\"],[0.1111111111111111,\"#46039f\"],[0.2222222222222222,\"#7201a8\"],[0.3333333333333333,\"#9c179e\"],[0.4444444444444444,\"#bd3786\"],[0.5555555555555556,\"#d8576b\"],[0.6666666666666666,\"#ed7953\"],[0.7777777777777778,\"#fb9f3a\"],[0.8888888888888888,\"#fdca26\"],[1.0,\"#f0f921\"]]}],\"heatmapgl\":[{\"type\":\"heatmapgl\",\"colorbar\":{\"outlinewidth\":0,\"ticks\":\"\"},\"colorscale\":[[0.0,\"#0d0887\"],[0.1111111111111111,\"#46039f\"],[0.2222222222222222,\"#7201a8\"],[0.3333333333333333,\"#9c179e\"],[0.4444444444444444,\"#bd3786\"],[0.5555555555555556,\"#d8576b\"],[0.6666666666666666,\"#ed7953\"],[0.7777777777777778,\"#fb9f3a\"],[0.8888888888888888,\"#fdca26\"],[1.0,\"#f0f921\"]]}],\"contourcarpet\":[{\"type\":\"contourcarpet\",\"colorbar\":{\"outlinewidth\":0,\"ticks\":\"\"}}],\"contour\":[{\"type\":\"contour\",\"colorbar\":{\"outlinewidth\":0,\"ticks\":\"\"},\"colorscale\":[[0.0,\"#0d0887\"],[0.1111111111111111,\"#46039f\"],[0.2222222222222222,\"#7201a8\"],[0.3333333333333333,\"#9c179e\"],[0.4444444444444444,\"#bd3786\"],[0.5555555555555556,\"#d8576b\"],[0.6666666666666666,\"#ed7953\"],[0.7777777777777778,\"#fb9f3a\"],[0.8888888888888888,\"#fdca26\"],[1.0,\"#f0f921\"]]}],\"surface\":[{\"type\":\"surface\",\"colorbar\":{\"outlinewidth\":0,\"ticks\":\"\"},\"colorscale\":[[0.0,\"#0d0887\"],[0.1111111111111111,\"#46039f\"],[0.2222222222222222,\"#7201a8\"],[0.3333333333333333,\"#9c179e\"],[0.4444444444444444,\"#bd3786\"],[0.5555555555555556,\"#d8576b\"],[0.6666666666666666,\"#ed7953\"],[0.7777777777777778,\"#fb9f3a\"],[0.8888888888888888,\"#fdca26\"],[1.0,\"#f0f921\"]]}],\"mesh3d\":[{\"type\":\"mesh3d\",\"colorbar\":{\"outlinewidth\":0,\"ticks\":\"\"}}],\"scatter\":[{\"fillpattern\":{\"fillmode\":\"overlay\",\"size\":10,\"solidity\":0.2},\"type\":\"scatter\"}],\"parcoords\":[{\"type\":\"parcoords\",\"line\":{\"colorbar\":{\"outlinewidth\":0,\"ticks\":\"\"}}}],\"scatterpolargl\":[{\"type\":\"scatterpolargl\",\"marker\":{\"colorbar\":{\"outlinewidth\":0,\"ticks\":\"\"}}}],\"bar\":[{\"error_x\":{\"color\":\"#2a3f5f\"},\"error_y\":{\"color\":\"#2a3f5f\"},\"marker\":{\"line\":{\"color\":\"#E5ECF6\",\"width\":0.5},\"pattern\":{\"fillmode\":\"overlay\",\"size\":10,\"solidity\":0.2}},\"type\":\"bar\"}],\"scattergeo\":[{\"type\":\"scattergeo\",\"marker\":{\"colorbar\":{\"outlinewidth\":0,\"ticks\":\"\"}}}],\"scatterpolar\":[{\"type\":\"scatterpolar\",\"marker\":{\"colorbar\":{\"outlinewidth\":0,\"ticks\":\"\"}}}],\"histogram\":[{\"marker\":{\"pattern\":{\"fillmode\":\"overlay\",\"size\":10,\"solidity\":0.2}},\"type\":\"histogram\"}],\"scattergl\":[{\"type\":\"scattergl\",\"marker\":{\"colorbar\":{\"outlinewidth\":0,\"ticks\":\"\"}}}],\"scatter3d\":[{\"type\":\"scatter3d\",\"line\":{\"colorbar\":{\"outlinewidth\":0,\"ticks\":\"\"}},\"marker\":{\"colorbar\":{\"outlinewidth\":0,\"ticks\":\"\"}}}],\"scattermapbox\":[{\"type\":\"scattermapbox\",\"marker\":{\"colorbar\":{\"outlinewidth\":0,\"ticks\":\"\"}}}],\"scatterternary\":[{\"type\":\"scatterternary\",\"marker\":{\"colorbar\":{\"outlinewidth\":0,\"ticks\":\"\"}}}],\"scattercarpet\":[{\"type\":\"scattercarpet\",\"marker\":{\"colorbar\":{\"outlinewidth\":0,\"ticks\":\"\"}}}],\"carpet\":[{\"aaxis\":{\"endlinecolor\":\"#2a3f5f\",\"gridcolor\":\"white\",\"linecolor\":\"white\",\"minorgridcolor\":\"white\",\"startlinecolor\":\"#2a3f5f\"},\"baxis\":{\"endlinecolor\":\"#2a3f5f\",\"gridcolor\":\"white\",\"linecolor\":\"white\",\"minorgridcolor\":\"white\",\"startlinecolor\":\"#2a3f5f\"},\"type\":\"carpet\"}],\"table\":[{\"cells\":{\"fill\":{\"color\":\"#EBF0F8\"},\"line\":{\"color\":\"white\"}},\"header\":{\"fill\":{\"color\":\"#C8D4E3\"},\"line\":{\"color\":\"white\"}},\"type\":\"table\"}],\"barpolar\":[{\"marker\":{\"line\":{\"color\":\"#E5ECF6\",\"width\":0.5},\"pattern\":{\"fillmode\":\"overlay\",\"size\":10,\"solidity\":0.2}},\"type\":\"barpolar\"}],\"pie\":[{\"automargin\":true,\"type\":\"pie\"}]},\"layout\":{\"autotypenumbers\":\"strict\",\"colorway\":[\"#636efa\",\"#EF553B\",\"#00cc96\",\"#ab63fa\",\"#FFA15A\",\"#19d3f3\",\"#FF6692\",\"#B6E880\",\"#FF97FF\",\"#FECB52\"],\"font\":{\"color\":\"#2a3f5f\"},\"hovermode\":\"closest\",\"hoverlabel\":{\"align\":\"left\"},\"paper_bgcolor\":\"white\",\"plot_bgcolor\":\"#E5ECF6\",\"polar\":{\"bgcolor\":\"#E5ECF6\",\"angularaxis\":{\"gridcolor\":\"white\",\"linecolor\":\"white\",\"ticks\":\"\"},\"radialaxis\":{\"gridcolor\":\"white\",\"linecolor\":\"white\",\"ticks\":\"\"}},\"ternary\":{\"bgcolor\":\"#E5ECF6\",\"aaxis\":{\"gridcolor\":\"white\",\"linecolor\":\"white\",\"ticks\":\"\"},\"baxis\":{\"gridcolor\":\"white\",\"linecolor\":\"white\",\"ticks\":\"\"},\"caxis\":{\"gridcolor\":\"white\",\"linecolor\":\"white\",\"ticks\":\"\"}},\"coloraxis\":{\"colorbar\":{\"outlinewidth\":0,\"ticks\":\"\"}},\"colorscale\":{\"sequential\":[[0.0,\"#0d0887\"],[0.1111111111111111,\"#46039f\"],[0.2222222222222222,\"#7201a8\"],[0.3333333333333333,\"#9c179e\"],[0.4444444444444444,\"#bd3786\"],[0.5555555555555556,\"#d8576b\"],[0.6666666666666666,\"#ed7953\"],[0.7777777777777778,\"#fb9f3a\"],[0.8888888888888888,\"#fdca26\"],[1.0,\"#f0f921\"]],\"sequentialminus\":[[0.0,\"#0d0887\"],[0.1111111111111111,\"#46039f\"],[0.2222222222222222,\"#7201a8\"],[0.3333333333333333,\"#9c179e\"],[0.4444444444444444,\"#bd3786\"],[0.5555555555555556,\"#d8576b\"],[0.6666666666666666,\"#ed7953\"],[0.7777777777777778,\"#fb9f3a\"],[0.8888888888888888,\"#fdca26\"],[1.0,\"#f0f921\"]],\"diverging\":[[0,\"#8e0152\"],[0.1,\"#c51b7d\"],[0.2,\"#de77ae\"],[0.3,\"#f1b6da\"],[0.4,\"#fde0ef\"],[0.5,\"#f7f7f7\"],[0.6,\"#e6f5d0\"],[0.7,\"#b8e186\"],[0.8,\"#7fbc41\"],[0.9,\"#4d9221\"],[1,\"#276419\"]]},\"xaxis\":{\"gridcolor\":\"white\",\"linecolor\":\"white\",\"ticks\":\"\",\"title\":{\"standoff\":15},\"zerolinecolor\":\"white\",\"automargin\":true,\"zerolinewidth\":2},\"yaxis\":{\"gridcolor\":\"white\",\"linecolor\":\"white\",\"ticks\":\"\",\"title\":{\"standoff\":15},\"zerolinecolor\":\"white\",\"automargin\":true,\"zerolinewidth\":2},\"scene\":{\"xaxis\":{\"backgroundcolor\":\"#E5ECF6\",\"gridcolor\":\"white\",\"linecolor\":\"white\",\"showbackground\":true,\"ticks\":\"\",\"zerolinecolor\":\"white\",\"gridwidth\":2},\"yaxis\":{\"backgroundcolor\":\"#E5ECF6\",\"gridcolor\":\"white\",\"linecolor\":\"white\",\"showbackground\":true,\"ticks\":\"\",\"zerolinecolor\":\"white\",\"gridwidth\":2},\"zaxis\":{\"backgroundcolor\":\"#E5ECF6\",\"gridcolor\":\"white\",\"linecolor\":\"white\",\"showbackground\":true,\"ticks\":\"\",\"zerolinecolor\":\"white\",\"gridwidth\":2}},\"shapedefaults\":{\"line\":{\"color\":\"#2a3f5f\"}},\"annotationdefaults\":{\"arrowcolor\":\"#2a3f5f\",\"arrowhead\":0,\"arrowwidth\":1},\"geo\":{\"bgcolor\":\"white\",\"landcolor\":\"#E5ECF6\",\"subunitcolor\":\"white\",\"showland\":true,\"showlakes\":true,\"lakecolor\":\"white\"},\"title\":{\"x\":0.05},\"mapbox\":{\"style\":\"light\"}}},\"title\":{\"text\":\"Nulls per featrue\"},\"height\":720,\"width\":1024,\"xaxis\":{\"tickangle\":45}},                        {\"responsive\": true}                    ).then(function(){\n",
       "                            \n",
       "var gd = document.getElementById('65d631bc-3e2a-4776-b4e7-673e57532ed9');\n",
       "var x = new MutationObserver(function (mutations, observer) {{\n",
       "        var display = window.getComputedStyle(gd).display;\n",
       "        if (!display || display === 'none') {{\n",
       "            console.log([gd, 'removed!']);\n",
       "            Plotly.purge(gd);\n",
       "            observer.disconnect();\n",
       "        }}\n",
       "}});\n",
       "\n",
       "// Listen for the removal of the full notebook cells\n",
       "var notebookContainer = gd.closest('#notebook-container');\n",
       "if (notebookContainer) {{\n",
       "    x.observe(notebookContainer, {childList: true});\n",
       "}}\n",
       "\n",
       "// Listen for the clearing of the current output cell\n",
       "var outputEl = gd.closest('.output');\n",
       "if (outputEl) {{\n",
       "    x.observe(outputEl, {childList: true});\n",
       "}}\n",
       "\n",
       "                        })                };                });            </script>        </div>"
      ]
     },
     "metadata": {},
     "output_type": "display_data"
    }
   ],
   "source": [
    "fig = go.Figure()\n",
    "\n",
    "fig.add_trace(go.Bar(y=nulls_df['usual_nulls'], x=nulls_df.index))\n",
    "fig.update_layout(height=720, width=1024,title_text=\"Nulls per featrue\",\n",
    "                          xaxis = go.layout.XAxis( tickangle = 45))"
   ]
  },
  {
   "cell_type": "code",
   "execution_count": 57,
   "id": "60b0415d",
   "metadata": {},
   "outputs": [
    {
     "data": {
      "text/plain": [
       "['Number of executions (Amnesty International)', 'Terrorism (deaths)']"
      ]
     },
     "execution_count": 57,
     "metadata": {},
     "output_type": "execute_result"
    }
   ],
   "source": [
    "# this function takes a dataframe and return features with null values higher than given threshold\n",
    "unuseful_featuers = unuseful_featuers(prep_df, 2500)\n",
    "unuseful_featuers"
   ]
  },
  {
   "cell_type": "code",
   "execution_count": 58,
   "id": "6c7d1e2d",
   "metadata": {},
   "outputs": [],
   "source": [
    "# drop_unuseful_featuers\n",
    "prep_df.drop(unuseful_featuers, axis=1, inplace=True)"
   ]
  },
  {
   "cell_type": "markdown",
   "id": "3929cf21",
   "metadata": {},
   "source": [
    "### 4- invesgating on features types"
   ]
  },
  {
   "cell_type": "code",
   "execution_count": 59,
   "id": "153595b0",
   "metadata": {},
   "outputs": [
    {
     "name": "stdout",
     "output_type": "stream",
     "text": [
      "<class 'pandas.core.frame.DataFrame'>\n",
      "RangeIndex: 8254 entries, 0 to 8253\n",
      "Data columns (total 34 columns):\n",
      " #   Column                        Non-Null Count  Dtype  \n",
      "---  ------                        --------------  -----  \n",
      " 0   Entity                        8254 non-null   object \n",
      " 1   Code                          6206 non-null   object \n",
      " 2   Year                          8254 non-null   int64  \n",
      " 3   Meningitis                    8010 non-null   float64\n",
      " 4   Neoplasms                     8010 non-null   float64\n",
      " 5   Fire                          8010 non-null   float64\n",
      " 6   Malaria                       8010 non-null   float64\n",
      " 7   Drowning                      8010 non-null   float64\n",
      " 8   Interpersonal violence        8010 non-null   float64\n",
      " 9   HIV/AIDS                      8010 non-null   float64\n",
      " 10  Drug use disorders            8010 non-null   float64\n",
      " 11  Tuberculosis                  8010 non-null   float64\n",
      " 12  Road injuries                 8010 non-null   float64\n",
      " 13  Maternal disorders            8010 non-null   float64\n",
      " 14  respiratory infections        8010 non-null   float64\n",
      " 15  Neonatal disorders            8010 non-null   float64\n",
      " 16  Alcohol use disorders         8010 non-null   float64\n",
      " 17  Exposure to forces of nature  8010 non-null   float64\n",
      " 18  Diarrheal diseases            8010 non-null   float64\n",
      " 19  Climate Change                8010 non-null   float64\n",
      " 20  Nutritional deficiencies      8010 non-null   float64\n",
      " 21  Self-harm                     8010 non-null   float64\n",
      " 22  terrorism                     8010 non-null   float64\n",
      " 23  Diabetes mellitus             8010 non-null   float64\n",
      " 24  Poisonings                    8010 non-null   float64\n",
      " 25  Protein-energy malnutrition   8010 non-null   float64\n",
      " 26  Cardiovascular                8010 non-null   float64\n",
      " 27  Chronic kidney disease        8010 non-null   float64\n",
      " 28  Chronic respiratory           8010 non-null   float64\n",
      " 29  Cirrhosis                     8010 non-null   float64\n",
      " 30  Digestive                     8010 non-null   float64\n",
      " 31  Acute hepatitis               8010 non-null   float64\n",
      " 32  Dementias                     8010 non-null   float64\n",
      " 33  Parkinson                     8010 non-null   float64\n",
      "dtypes: float64(31), int64(1), object(2)\n",
      "memory usage: 2.1+ MB\n"
     ]
    }
   ],
   "source": [
    "prep_df.info()"
   ]
  },
  {
   "cell_type": "code",
   "execution_count": 60,
   "id": "1602b686",
   "metadata": {},
   "outputs": [],
   "source": [
    "# Year colmns should be object\n",
    "prep_df.Year = prep_df.Year.astype(object)"
   ]
  },
  {
   "cell_type": "code",
   "execution_count": 61,
   "id": "e41bce1f",
   "metadata": {},
   "outputs": [
    {
     "data": {
      "text/plain": [
       "array(['Africa', 'African Region', 'African Union', 'America',\n",
       "       'Andean Latin America', 'Asia', 'Australasia',\n",
       "       'Australasia & Oceania', 'Bosnia-Herzegovina', 'Caribbean',\n",
       "       'Central America & Caribbean', 'Central Asia', 'Central Europe',\n",
       "       'Central Europe, Eastern Europe, and Central Asia',\n",
       "       'Central Latin America', 'Central sub-Saharan Africa',\n",
       "       'Commonwealth', 'Commonwealth High Income',\n",
       "       'Commonwealth Low Income', 'Commonwealth Middle Income',\n",
       "       'East Asia', 'East Asia & Pacific - World Bank region',\n",
       "       'East Germany (GDR)', 'East Timor', 'Eastern Europe',\n",
       "       'Eastern Mediterranean Region', 'Eastern sub-Saharan Africa',\n",
       "       'England', 'Europe', 'Europe & Central Asia - World Bank region',\n",
       "       'European Region', 'European Union', 'G20', 'High SDI',\n",
       "       'High-income', 'High-income Asia Pacific',\n",
       "       'High-income North America', 'High-middle SDI', 'International',\n",
       "       'Latin America & Caribbean - World Bank region', 'Low SDI',\n",
       "       'Low-middle SDI', 'Macau', 'Middle East & North Africa',\n",
       "       'Middle SDI', 'Nordic Region', 'North Africa and Middle East',\n",
       "       'North America', 'Northern Ireland', 'OECD Countries', 'Oceania',\n",
       "       'Region of the Americas', 'Scotland', 'Serbia-Montenegro',\n",
       "       'South America', 'South Asia', 'South Asia - World Bank region',\n",
       "       'South-East Asia Region', 'Southeast Asia',\n",
       "       'Southeast Asia, East Asia, and Oceania', 'Southern Latin America',\n",
       "       'Southern sub-Saharan Africa', 'Sub-Saharan Africa',\n",
       "       'Sub-Saharan Africa - World Bank region', 'Tropical Latin America',\n",
       "       'Wales', 'West Germany (FRG)', 'Western Europe',\n",
       "       'Western Pacific Region', 'Western sub-Saharan Africa',\n",
       "       'World (excluding China)', 'World Bank High Income',\n",
       "       'World Bank Low Income', 'World Bank Lower Middle Income',\n",
       "       'World Bank Upper Middle Income', 'Zaire'], dtype=object)"
      ]
     },
     "execution_count": 61,
     "metadata": {},
     "output_type": "execute_result"
    }
   ],
   "source": [
    "# before removing any nulls lets check countries with no code\n",
    "\n",
    "raw_df[raw_df['Code'].isnull()]['Entity'].unique()"
   ]
  },
  {
   "cell_type": "code",
   "execution_count": 62,
   "id": "ebf28535",
   "metadata": {},
   "outputs": [
    {
     "data": {
      "text/plain": [
       "(6150, 34)"
      ]
     },
     "execution_count": 62,
     "metadata": {},
     "output_type": "execute_result"
    }
   ],
   "source": [
    "# Thoses are not real countries so we can remove their rows\n",
    "prep_df.dropna(axis = 0,inplace=True)\n",
    "prep_df.shape"
   ]
  },
  {
   "cell_type": "code",
   "execution_count": 63,
   "id": "e8446144",
   "metadata": {},
   "outputs": [
    {
     "data": {
      "text/plain": [
       "array(['Afghanistan', 'Albania', 'Algeria', 'American Samoa', 'Andorra',\n",
       "       'Angola', 'Antigua and Barbuda', 'Argentina', 'Armenia',\n",
       "       'Australia', 'Austria', 'Azerbaijan', 'Bahamas', 'Bahrain',\n",
       "       'Bangladesh', 'Barbados', 'Belarus', 'Belgium', 'Belize', 'Benin',\n",
       "       'Bermuda', 'Bhutan', 'Bolivia', 'Bosnia and Herzegovina',\n",
       "       'Botswana', 'Brazil', 'Brunei', 'Bulgaria', 'Burkina Faso',\n",
       "       'Burundi', 'Cambodia', 'Cameroon', 'Canada', 'Cape Verde',\n",
       "       'Central African Republic', 'Chad', 'Chile', 'China', 'Colombia',\n",
       "       'Comoros', 'Congo', 'Cook Islands', 'Costa Rica', \"Cote d'Ivoire\",\n",
       "       'Croatia', 'Cuba', 'Cyprus', 'Czechia',\n",
       "       'Democratic Republic of Congo', 'Denmark', 'Djibouti', 'Dominica',\n",
       "       'Dominican Republic', 'Ecuador', 'Egypt', 'El Salvador',\n",
       "       'Equatorial Guinea', 'Eritrea', 'Estonia', 'Eswatini', 'Ethiopia',\n",
       "       'Fiji', 'Finland', 'France', 'Gabon', 'Gambia', 'Georgia',\n",
       "       'Germany', 'Ghana', 'Greece', 'Greenland', 'Grenada', 'Guam',\n",
       "       'Guatemala', 'Guinea', 'Guinea-Bissau', 'Guyana', 'Haiti',\n",
       "       'Honduras', 'Hungary', 'Iceland', 'India', 'Indonesia', 'Iran',\n",
       "       'Iraq', 'Ireland', 'Israel', 'Italy', 'Jamaica', 'Japan', 'Jordan',\n",
       "       'Kazakhstan', 'Kenya', 'Kiribati', 'Kuwait', 'Kyrgyzstan', 'Laos',\n",
       "       'Latvia', 'Lebanon', 'Lesotho', 'Liberia', 'Libya', 'Lithuania',\n",
       "       'Luxembourg', 'Madagascar', 'Malawi', 'Malaysia', 'Maldives',\n",
       "       'Mali', 'Malta', 'Marshall Islands', 'Mauritania', 'Mauritius',\n",
       "       'Mexico', 'Micronesia (country)', 'Moldova', 'Monaco', 'Mongolia',\n",
       "       'Montenegro', 'Morocco', 'Mozambique', 'Myanmar', 'Namibia',\n",
       "       'Nauru', 'Nepal', 'Netherlands', 'New Zealand', 'Nicaragua',\n",
       "       'Niger', 'Nigeria', 'Niue', 'North Korea', 'North Macedonia',\n",
       "       'Northern Mariana Islands', 'Norway', 'Oman', 'Pakistan', 'Palau',\n",
       "       'Palestine', 'Panama', 'Papua New Guinea', 'Paraguay', 'Peru',\n",
       "       'Philippines', 'Poland', 'Portugal', 'Puerto Rico', 'Qatar',\n",
       "       'Romania', 'Russia', 'Rwanda', 'Saint Kitts and Nevis',\n",
       "       'Saint Lucia', 'Saint Vincent and the Grenadines', 'Samoa',\n",
       "       'San Marino', 'Sao Tome and Principe', 'Saudi Arabia', 'Senegal',\n",
       "       'Serbia', 'Seychelles', 'Sierra Leone', 'Singapore', 'Slovakia',\n",
       "       'Slovenia', 'Solomon Islands', 'Somalia', 'South Africa',\n",
       "       'South Korea', 'South Sudan', 'Spain', 'Sri Lanka', 'Sudan',\n",
       "       'Suriname', 'Sweden', 'Switzerland', 'Syria', 'Taiwan',\n",
       "       'Tajikistan', 'Tanzania', 'Thailand', 'Timor', 'Togo', 'Tokelau',\n",
       "       'Tonga', 'Trinidad and Tobago', 'Tunisia', 'Turkey',\n",
       "       'Turkmenistan', 'Tuvalu', 'Uganda', 'Ukraine',\n",
       "       'United Arab Emirates', 'United Kingdom', 'United States',\n",
       "       'United States Virgin Islands', 'Uruguay', 'Uzbekistan', 'Vanuatu',\n",
       "       'Venezuela', 'Vietnam', 'World', 'Yemen', 'Zambia', 'Zimbabwe'],\n",
       "      dtype=object)"
      ]
     },
     "execution_count": 63,
     "metadata": {},
     "output_type": "execute_result"
    }
   ],
   "source": [
    "# Exploring unique Countries\n",
    "prep_df['Entity'].unique()"
   ]
  },
  {
   "cell_type": "markdown",
   "id": "9b1ab166",
   "metadata": {},
   "source": [
    "## 1- Total no. of deaths per country (from 1990 to 2019)"
   ]
  },
  {
   "cell_type": "code",
   "execution_count": 64,
   "id": "ad805d2b",
   "metadata": {},
   "outputs": [],
   "source": [
    "# dropping world rows which is the sum of all deaths from all countries \n",
    "world_index = prep_df[prep_df['Entity']=='World'].index\n",
    "prep_df.drop(index=world_index, axis= 0, inplace= True)"
   ]
  },
  {
   "cell_type": "code",
   "execution_count": 65,
   "id": "ee3c3875",
   "metadata": {},
   "outputs": [
    {
     "data": {
      "text/html": [
       "<div>\n",
       "<style scoped>\n",
       "    .dataframe tbody tr th:only-of-type {\n",
       "        vertical-align: middle;\n",
       "    }\n",
       "\n",
       "    .dataframe tbody tr th {\n",
       "        vertical-align: top;\n",
       "    }\n",
       "\n",
       "    .dataframe thead th {\n",
       "        text-align: right;\n",
       "    }\n",
       "</style>\n",
       "<table border=\"1\" class=\"dataframe\">\n",
       "  <thead>\n",
       "    <tr style=\"text-align: right;\">\n",
       "      <th></th>\n",
       "      <th>Meningitis</th>\n",
       "      <th>Neoplasms</th>\n",
       "      <th>Fire</th>\n",
       "      <th>Malaria</th>\n",
       "      <th>Drowning</th>\n",
       "      <th>Interpersonal violence</th>\n",
       "      <th>HIV/AIDS</th>\n",
       "      <th>Drug use disorders</th>\n",
       "      <th>Tuberculosis</th>\n",
       "      <th>Road injuries</th>\n",
       "      <th>...</th>\n",
       "      <th>Protein-energy malnutrition</th>\n",
       "      <th>Cardiovascular</th>\n",
       "      <th>Chronic kidney disease</th>\n",
       "      <th>Chronic respiratory</th>\n",
       "      <th>Cirrhosis</th>\n",
       "      <th>Digestive</th>\n",
       "      <th>Acute hepatitis</th>\n",
       "      <th>Dementias</th>\n",
       "      <th>Parkinson</th>\n",
       "      <th>Total of deaths</th>\n",
       "    </tr>\n",
       "    <tr>\n",
       "      <th>Entity</th>\n",
       "      <th></th>\n",
       "      <th></th>\n",
       "      <th></th>\n",
       "      <th></th>\n",
       "      <th></th>\n",
       "      <th></th>\n",
       "      <th></th>\n",
       "      <th></th>\n",
       "      <th></th>\n",
       "      <th></th>\n",
       "      <th></th>\n",
       "      <th></th>\n",
       "      <th></th>\n",
       "      <th></th>\n",
       "      <th></th>\n",
       "      <th></th>\n",
       "      <th></th>\n",
       "      <th></th>\n",
       "      <th></th>\n",
       "      <th></th>\n",
       "      <th></th>\n",
       "    </tr>\n",
       "  </thead>\n",
       "  <tbody>\n",
       "    <tr>\n",
       "      <th>China</th>\n",
       "      <td>480898.0</td>\n",
       "      <td>61060528.0</td>\n",
       "      <td>383401.0</td>\n",
       "      <td>13419.0</td>\n",
       "      <td>2873619.0</td>\n",
       "      <td>776275.0</td>\n",
       "      <td>433709.0</td>\n",
       "      <td>626914.0</td>\n",
       "      <td>2708461.0</td>\n",
       "      <td>8350399.0</td>\n",
       "      <td>...</td>\n",
       "      <td>507664.0</td>\n",
       "      <td>100505973.0</td>\n",
       "      <td>4195276.0</td>\n",
       "      <td>36676826.0</td>\n",
       "      <td>4918899.0</td>\n",
       "      <td>8924906.0</td>\n",
       "      <td>318564.0</td>\n",
       "      <td>5381846.0</td>\n",
       "      <td>1533092.0</td>\n",
       "      <td>265408107.0</td>\n",
       "    </tr>\n",
       "    <tr>\n",
       "      <th>India</th>\n",
       "      <td>2008944.0</td>\n",
       "      <td>17762703.0</td>\n",
       "      <td>730580.0</td>\n",
       "      <td>2439244.0</td>\n",
       "      <td>2110438.0</td>\n",
       "      <td>1237163.0</td>\n",
       "      <td>2454374.0</td>\n",
       "      <td>168928.0</td>\n",
       "      <td>15820922.0</td>\n",
       "      <td>5346154.0</td>\n",
       "      <td>...</td>\n",
       "      <td>2356221.0</td>\n",
       "      <td>52994710.0</td>\n",
       "      <td>4556172.0</td>\n",
       "      <td>25232974.0</td>\n",
       "      <td>6294910.0</td>\n",
       "      <td>11804381.0</td>\n",
       "      <td>1672179.0</td>\n",
       "      <td>1707561.0</td>\n",
       "      <td>756832.0</td>\n",
       "      <td>238158165.0</td>\n",
       "    </tr>\n",
       "    <tr>\n",
       "      <th>United States</th>\n",
       "      <td>40032.0</td>\n",
       "      <td>18905315.0</td>\n",
       "      <td>126712.0</td>\n",
       "      <td>0.0</td>\n",
       "      <td>114753.0</td>\n",
       "      <td>596818.0</td>\n",
       "      <td>528417.0</td>\n",
       "      <td>800798.0</td>\n",
       "      <td>38127.0</td>\n",
       "      <td>1359744.0</td>\n",
       "      <td>...</td>\n",
       "      <td>121030.0</td>\n",
       "      <td>26438346.0</td>\n",
       "      <td>2018497.0</td>\n",
       "      <td>4949052.0</td>\n",
       "      <td>1514325.0</td>\n",
       "      <td>3026943.0</td>\n",
       "      <td>5851.0</td>\n",
       "      <td>3302609.0</td>\n",
       "      <td>661288.0</td>\n",
       "      <td>71197804.0</td>\n",
       "    </tr>\n",
       "    <tr>\n",
       "      <th>Russia</th>\n",
       "      <td>60519.0</td>\n",
       "      <td>9079313.0</td>\n",
       "      <td>322573.0</td>\n",
       "      <td>0.0</td>\n",
       "      <td>423044.0</td>\n",
       "      <td>1215179.0</td>\n",
       "      <td>350679.0</td>\n",
       "      <td>259452.0</td>\n",
       "      <td>529853.0</td>\n",
       "      <td>1067226.0</td>\n",
       "      <td>...</td>\n",
       "      <td>8167.0</td>\n",
       "      <td>33903781.0</td>\n",
       "      <td>325433.0</td>\n",
       "      <td>1518195.0</td>\n",
       "      <td>1233608.0</td>\n",
       "      <td>2398456.0</td>\n",
       "      <td>3598.0</td>\n",
       "      <td>972305.0</td>\n",
       "      <td>236367.0</td>\n",
       "      <td>59591156.0</td>\n",
       "    </tr>\n",
       "    <tr>\n",
       "      <th>Indonesia</th>\n",
       "      <td>337724.0</td>\n",
       "      <td>4672674.0</td>\n",
       "      <td>51790.0</td>\n",
       "      <td>74664.0</td>\n",
       "      <td>237902.0</td>\n",
       "      <td>81342.0</td>\n",
       "      <td>74981.0</td>\n",
       "      <td>12980.0</td>\n",
       "      <td>3197011.0</td>\n",
       "      <td>1325509.0</td>\n",
       "      <td>...</td>\n",
       "      <td>560546.0</td>\n",
       "      <td>13587012.0</td>\n",
       "      <td>964478.0</td>\n",
       "      <td>2559457.0</td>\n",
       "      <td>2249388.0</td>\n",
       "      <td>3204786.0</td>\n",
       "      <td>231909.0</td>\n",
       "      <td>487566.0</td>\n",
       "      <td>145752.0</td>\n",
       "      <td>44046940.0</td>\n",
       "    </tr>\n",
       "  </tbody>\n",
       "</table>\n",
       "<p>5 rows × 32 columns</p>\n",
       "</div>"
      ],
      "text/plain": [
       "               Meningitis   Neoplasms      Fire    Malaria   Drowning  \\\n",
       "Entity                                                                  \n",
       "China            480898.0  61060528.0  383401.0    13419.0  2873619.0   \n",
       "India           2008944.0  17762703.0  730580.0  2439244.0  2110438.0   \n",
       "United States     40032.0  18905315.0  126712.0        0.0   114753.0   \n",
       "Russia            60519.0   9079313.0  322573.0        0.0   423044.0   \n",
       "Indonesia        337724.0   4672674.0   51790.0    74664.0   237902.0   \n",
       "\n",
       "               Interpersonal violence   HIV/AIDS  Drug use disorders  \\\n",
       "Entity                                                                 \n",
       "China                        776275.0   433709.0            626914.0   \n",
       "India                       1237163.0  2454374.0            168928.0   \n",
       "United States                596818.0   528417.0            800798.0   \n",
       "Russia                      1215179.0   350679.0            259452.0   \n",
       "Indonesia                     81342.0    74981.0             12980.0   \n",
       "\n",
       "               Tuberculosis  Road injuries  ...  Protein-energy malnutrition  \\\n",
       "Entity                                      ...                                \n",
       "China             2708461.0      8350399.0  ...                     507664.0   \n",
       "India            15820922.0      5346154.0  ...                    2356221.0   \n",
       "United States       38127.0      1359744.0  ...                     121030.0   \n",
       "Russia             529853.0      1067226.0  ...                       8167.0   \n",
       "Indonesia         3197011.0      1325509.0  ...                     560546.0   \n",
       "\n",
       "               Cardiovascular  Chronic kidney disease  Chronic respiratory  \\\n",
       "Entity                                                                       \n",
       "China             100505973.0               4195276.0           36676826.0   \n",
       "India              52994710.0               4556172.0           25232974.0   \n",
       "United States      26438346.0               2018497.0            4949052.0   \n",
       "Russia             33903781.0                325433.0            1518195.0   \n",
       "Indonesia          13587012.0                964478.0            2559457.0   \n",
       "\n",
       "               Cirrhosis   Digestive  Acute hepatitis  Dementias  Parkinson  \\\n",
       "Entity                                                                        \n",
       "China          4918899.0   8924906.0         318564.0  5381846.0  1533092.0   \n",
       "India          6294910.0  11804381.0        1672179.0  1707561.0   756832.0   \n",
       "United States  1514325.0   3026943.0           5851.0  3302609.0   661288.0   \n",
       "Russia         1233608.0   2398456.0           3598.0   972305.0   236367.0   \n",
       "Indonesia      2249388.0   3204786.0         231909.0   487566.0   145752.0   \n",
       "\n",
       "               Total of deaths  \n",
       "Entity                          \n",
       "China              265408107.0  \n",
       "India              238158165.0  \n",
       "United States       71197804.0  \n",
       "Russia              59591156.0  \n",
       "Indonesia           44046940.0  \n",
       "\n",
       "[5 rows x 32 columns]"
      ]
     },
     "execution_count": 65,
     "metadata": {},
     "output_type": "execute_result"
    }
   ],
   "source": [
    "total_ofDeaths = prep_df.groupby(['Entity']).sum()\n",
    "total_ofDeaths['Total of deaths'] = total_ofDeaths.sum(axis=1)\n",
    "total_ofDeaths = total_ofDeaths.sort_values('Total of deaths', ascending = False)\n",
    "total_ofDeaths.head()"
   ]
  },
  {
   "cell_type": "code",
   "execution_count": null,
   "id": "530104ea",
   "metadata": {},
   "outputs": [],
   "source": []
  },
  {
   "cell_type": "code",
   "execution_count": 66,
   "id": "6ab1dc2b",
   "metadata": {},
   "outputs": [
    {
     "data": {
      "application/vnd.plotly.v1+json": {
       "config": {
        "plotlyServerURL": "https://plot.ly"
       },
       "data": [
        {
         "type": "bar",
         "x": [
          "China",
          "India",
          "United States",
          "Russia",
          "Indonesia",
          "Nigeria",
          "Pakistan",
          "Brazil",
          "Japan",
          "Germany",
          "Bangladesh",
          "Ukraine",
          "Ethiopia",
          "Democratic Republic of Congo",
          "United Kingdom",
          "Italy",
          "South Africa",
          "Mexico",
          "France",
          "Egypt",
          "Vietnam",
          "Philippines",
          "Myanmar",
          "Thailand",
          "Tanzania",
          "Poland",
          "Spain",
          "Turkey",
          "Iran",
          "Kenya",
          "Uganda",
          "Argentina",
          "Romania",
          "South Korea",
          "Mozambique",
          "North Korea",
          "Canada",
          "Sudan",
          "Afghanistan",
          "Colombia",
          "Cote d'Ivoire",
          "Uzbekistan",
          "Morocco",
          "Ghana",
          "Angola",
          "Nepal",
          "Cameroon",
          "Mali",
          "Niger",
          "Burkina Faso"
         ],
         "y": [
          265408107,
          238158165,
          71197804,
          59591156,
          44046940,
          43670014,
          38151876,
          32674113,
          31922803,
          25559668,
          24803500,
          21245448,
          20880666,
          17446536,
          17281599,
          16779305,
          15807131,
          15720799,
          15093779,
          14878358,
          14444651,
          13680036,
          13486762,
          11358486,
          11195695,
          11173484,
          10888774,
          10748954,
          9278363,
          8605264,
          8575535,
          8552885,
          7883519,
          7540359,
          7045722,
          7029043,
          6534939,
          5986751,
          5982630,
          5849273,
          5732264,
          5581617,
          5574034,
          5448870,
          5366715,
          5159451,
          5155971,
          4932834,
          4891553,
          4869270,
          4681530,
          4601205,
          4526448,
          4485737,
          4418586,
          4248735,
          4110709,
          4105624,
          4088625,
          4042756,
          4025327,
          3929991,
          3889556,
          3856108,
          3803704,
          3714522,
          3697749,
          3554422,
          3479257,
          3387622,
          3366450,
          3253305,
          3177198,
          3138946,
          3124017,
          3090411,
          3070778,
          3006745,
          2807116,
          2791937,
          2645895,
          2626923,
          2591836,
          2489408,
          2422451,
          2337812,
          2322243,
          2293163,
          2290887,
          2170344,
          2059372,
          2028239,
          1967355,
          1875279,
          1832362,
          1805384,
          1619398,
          1611979,
          1576883,
          1550150,
          1525867,
          1519069,
          1457784,
          1453210,
          1414509,
          1412598,
          1349158,
          1335833,
          1273194,
          1217384,
          1205649,
          1133215,
          1118630,
          1087929,
          1060980,
          1021356,
          1016460,
          968037,
          929218,
          924736,
          919327,
          905969,
          861098,
          854187,
          819242,
          783175,
          744776,
          701473,
          670895,
          652060,
          643716,
          629919,
          611953,
          610290,
          569911,
          555604,
          535857,
          523549,
          511673,
          488770,
          485854,
          457510,
          436106,
          418150,
          411257,
          387047,
          372630,
          343581,
          336489,
          304946,
          282435,
          252726,
          198856,
          198601,
          198007,
          183494,
          178311,
          173735,
          173610,
          171686,
          148273,
          139389,
          119146,
          109715,
          93959,
          89155,
          81422,
          75939,
          69611,
          67332,
          56963,
          53199,
          46024,
          38670,
          36806,
          34511,
          32935,
          29988,
          29937,
          29352,
          27515,
          24536,
          23445,
          23064,
          21106,
          20348,
          19082,
          17581,
          14592,
          14269,
          13812,
          12803,
          12535,
          12184,
          10185,
          8624,
          7828,
          6761,
          4817,
          3998,
          2964,
          2251,
          591,
          302
         ]
        }
       ],
       "layout": {
        "height": 720,
        "template": {
         "data": {
          "bar": [
           {
            "error_x": {
             "color": "#2a3f5f"
            },
            "error_y": {
             "color": "#2a3f5f"
            },
            "marker": {
             "line": {
              "color": "#E5ECF6",
              "width": 0.5
             },
             "pattern": {
              "fillmode": "overlay",
              "size": 10,
              "solidity": 0.2
             }
            },
            "type": "bar"
           }
          ],
          "barpolar": [
           {
            "marker": {
             "line": {
              "color": "#E5ECF6",
              "width": 0.5
             },
             "pattern": {
              "fillmode": "overlay",
              "size": 10,
              "solidity": 0.2
             }
            },
            "type": "barpolar"
           }
          ],
          "carpet": [
           {
            "aaxis": {
             "endlinecolor": "#2a3f5f",
             "gridcolor": "white",
             "linecolor": "white",
             "minorgridcolor": "white",
             "startlinecolor": "#2a3f5f"
            },
            "baxis": {
             "endlinecolor": "#2a3f5f",
             "gridcolor": "white",
             "linecolor": "white",
             "minorgridcolor": "white",
             "startlinecolor": "#2a3f5f"
            },
            "type": "carpet"
           }
          ],
          "choropleth": [
           {
            "colorbar": {
             "outlinewidth": 0,
             "ticks": ""
            },
            "type": "choropleth"
           }
          ],
          "contour": [
           {
            "colorbar": {
             "outlinewidth": 0,
             "ticks": ""
            },
            "colorscale": [
             [
              0,
              "#0d0887"
             ],
             [
              0.1111111111111111,
              "#46039f"
             ],
             [
              0.2222222222222222,
              "#7201a8"
             ],
             [
              0.3333333333333333,
              "#9c179e"
             ],
             [
              0.4444444444444444,
              "#bd3786"
             ],
             [
              0.5555555555555556,
              "#d8576b"
             ],
             [
              0.6666666666666666,
              "#ed7953"
             ],
             [
              0.7777777777777778,
              "#fb9f3a"
             ],
             [
              0.8888888888888888,
              "#fdca26"
             ],
             [
              1,
              "#f0f921"
             ]
            ],
            "type": "contour"
           }
          ],
          "contourcarpet": [
           {
            "colorbar": {
             "outlinewidth": 0,
             "ticks": ""
            },
            "type": "contourcarpet"
           }
          ],
          "heatmap": [
           {
            "colorbar": {
             "outlinewidth": 0,
             "ticks": ""
            },
            "colorscale": [
             [
              0,
              "#0d0887"
             ],
             [
              0.1111111111111111,
              "#46039f"
             ],
             [
              0.2222222222222222,
              "#7201a8"
             ],
             [
              0.3333333333333333,
              "#9c179e"
             ],
             [
              0.4444444444444444,
              "#bd3786"
             ],
             [
              0.5555555555555556,
              "#d8576b"
             ],
             [
              0.6666666666666666,
              "#ed7953"
             ],
             [
              0.7777777777777778,
              "#fb9f3a"
             ],
             [
              0.8888888888888888,
              "#fdca26"
             ],
             [
              1,
              "#f0f921"
             ]
            ],
            "type": "heatmap"
           }
          ],
          "heatmapgl": [
           {
            "colorbar": {
             "outlinewidth": 0,
             "ticks": ""
            },
            "colorscale": [
             [
              0,
              "#0d0887"
             ],
             [
              0.1111111111111111,
              "#46039f"
             ],
             [
              0.2222222222222222,
              "#7201a8"
             ],
             [
              0.3333333333333333,
              "#9c179e"
             ],
             [
              0.4444444444444444,
              "#bd3786"
             ],
             [
              0.5555555555555556,
              "#d8576b"
             ],
             [
              0.6666666666666666,
              "#ed7953"
             ],
             [
              0.7777777777777778,
              "#fb9f3a"
             ],
             [
              0.8888888888888888,
              "#fdca26"
             ],
             [
              1,
              "#f0f921"
             ]
            ],
            "type": "heatmapgl"
           }
          ],
          "histogram": [
           {
            "marker": {
             "pattern": {
              "fillmode": "overlay",
              "size": 10,
              "solidity": 0.2
             }
            },
            "type": "histogram"
           }
          ],
          "histogram2d": [
           {
            "colorbar": {
             "outlinewidth": 0,
             "ticks": ""
            },
            "colorscale": [
             [
              0,
              "#0d0887"
             ],
             [
              0.1111111111111111,
              "#46039f"
             ],
             [
              0.2222222222222222,
              "#7201a8"
             ],
             [
              0.3333333333333333,
              "#9c179e"
             ],
             [
              0.4444444444444444,
              "#bd3786"
             ],
             [
              0.5555555555555556,
              "#d8576b"
             ],
             [
              0.6666666666666666,
              "#ed7953"
             ],
             [
              0.7777777777777778,
              "#fb9f3a"
             ],
             [
              0.8888888888888888,
              "#fdca26"
             ],
             [
              1,
              "#f0f921"
             ]
            ],
            "type": "histogram2d"
           }
          ],
          "histogram2dcontour": [
           {
            "colorbar": {
             "outlinewidth": 0,
             "ticks": ""
            },
            "colorscale": [
             [
              0,
              "#0d0887"
             ],
             [
              0.1111111111111111,
              "#46039f"
             ],
             [
              0.2222222222222222,
              "#7201a8"
             ],
             [
              0.3333333333333333,
              "#9c179e"
             ],
             [
              0.4444444444444444,
              "#bd3786"
             ],
             [
              0.5555555555555556,
              "#d8576b"
             ],
             [
              0.6666666666666666,
              "#ed7953"
             ],
             [
              0.7777777777777778,
              "#fb9f3a"
             ],
             [
              0.8888888888888888,
              "#fdca26"
             ],
             [
              1,
              "#f0f921"
             ]
            ],
            "type": "histogram2dcontour"
           }
          ],
          "mesh3d": [
           {
            "colorbar": {
             "outlinewidth": 0,
             "ticks": ""
            },
            "type": "mesh3d"
           }
          ],
          "parcoords": [
           {
            "line": {
             "colorbar": {
              "outlinewidth": 0,
              "ticks": ""
             }
            },
            "type": "parcoords"
           }
          ],
          "pie": [
           {
            "automargin": true,
            "type": "pie"
           }
          ],
          "scatter": [
           {
            "fillpattern": {
             "fillmode": "overlay",
             "size": 10,
             "solidity": 0.2
            },
            "type": "scatter"
           }
          ],
          "scatter3d": [
           {
            "line": {
             "colorbar": {
              "outlinewidth": 0,
              "ticks": ""
             }
            },
            "marker": {
             "colorbar": {
              "outlinewidth": 0,
              "ticks": ""
             }
            },
            "type": "scatter3d"
           }
          ],
          "scattercarpet": [
           {
            "marker": {
             "colorbar": {
              "outlinewidth": 0,
              "ticks": ""
             }
            },
            "type": "scattercarpet"
           }
          ],
          "scattergeo": [
           {
            "marker": {
             "colorbar": {
              "outlinewidth": 0,
              "ticks": ""
             }
            },
            "type": "scattergeo"
           }
          ],
          "scattergl": [
           {
            "marker": {
             "colorbar": {
              "outlinewidth": 0,
              "ticks": ""
             }
            },
            "type": "scattergl"
           }
          ],
          "scattermapbox": [
           {
            "marker": {
             "colorbar": {
              "outlinewidth": 0,
              "ticks": ""
             }
            },
            "type": "scattermapbox"
           }
          ],
          "scatterpolar": [
           {
            "marker": {
             "colorbar": {
              "outlinewidth": 0,
              "ticks": ""
             }
            },
            "type": "scatterpolar"
           }
          ],
          "scatterpolargl": [
           {
            "marker": {
             "colorbar": {
              "outlinewidth": 0,
              "ticks": ""
             }
            },
            "type": "scatterpolargl"
           }
          ],
          "scatterternary": [
           {
            "marker": {
             "colorbar": {
              "outlinewidth": 0,
              "ticks": ""
             }
            },
            "type": "scatterternary"
           }
          ],
          "surface": [
           {
            "colorbar": {
             "outlinewidth": 0,
             "ticks": ""
            },
            "colorscale": [
             [
              0,
              "#0d0887"
             ],
             [
              0.1111111111111111,
              "#46039f"
             ],
             [
              0.2222222222222222,
              "#7201a8"
             ],
             [
              0.3333333333333333,
              "#9c179e"
             ],
             [
              0.4444444444444444,
              "#bd3786"
             ],
             [
              0.5555555555555556,
              "#d8576b"
             ],
             [
              0.6666666666666666,
              "#ed7953"
             ],
             [
              0.7777777777777778,
              "#fb9f3a"
             ],
             [
              0.8888888888888888,
              "#fdca26"
             ],
             [
              1,
              "#f0f921"
             ]
            ],
            "type": "surface"
           }
          ],
          "table": [
           {
            "cells": {
             "fill": {
              "color": "#EBF0F8"
             },
             "line": {
              "color": "white"
             }
            },
            "header": {
             "fill": {
              "color": "#C8D4E3"
             },
             "line": {
              "color": "white"
             }
            },
            "type": "table"
           }
          ]
         },
         "layout": {
          "annotationdefaults": {
           "arrowcolor": "#2a3f5f",
           "arrowhead": 0,
           "arrowwidth": 1
          },
          "autotypenumbers": "strict",
          "coloraxis": {
           "colorbar": {
            "outlinewidth": 0,
            "ticks": ""
           }
          },
          "colorscale": {
           "diverging": [
            [
             0,
             "#8e0152"
            ],
            [
             0.1,
             "#c51b7d"
            ],
            [
             0.2,
             "#de77ae"
            ],
            [
             0.3,
             "#f1b6da"
            ],
            [
             0.4,
             "#fde0ef"
            ],
            [
             0.5,
             "#f7f7f7"
            ],
            [
             0.6,
             "#e6f5d0"
            ],
            [
             0.7,
             "#b8e186"
            ],
            [
             0.8,
             "#7fbc41"
            ],
            [
             0.9,
             "#4d9221"
            ],
            [
             1,
             "#276419"
            ]
           ],
           "sequential": [
            [
             0,
             "#0d0887"
            ],
            [
             0.1111111111111111,
             "#46039f"
            ],
            [
             0.2222222222222222,
             "#7201a8"
            ],
            [
             0.3333333333333333,
             "#9c179e"
            ],
            [
             0.4444444444444444,
             "#bd3786"
            ],
            [
             0.5555555555555556,
             "#d8576b"
            ],
            [
             0.6666666666666666,
             "#ed7953"
            ],
            [
             0.7777777777777778,
             "#fb9f3a"
            ],
            [
             0.8888888888888888,
             "#fdca26"
            ],
            [
             1,
             "#f0f921"
            ]
           ],
           "sequentialminus": [
            [
             0,
             "#0d0887"
            ],
            [
             0.1111111111111111,
             "#46039f"
            ],
            [
             0.2222222222222222,
             "#7201a8"
            ],
            [
             0.3333333333333333,
             "#9c179e"
            ],
            [
             0.4444444444444444,
             "#bd3786"
            ],
            [
             0.5555555555555556,
             "#d8576b"
            ],
            [
             0.6666666666666666,
             "#ed7953"
            ],
            [
             0.7777777777777778,
             "#fb9f3a"
            ],
            [
             0.8888888888888888,
             "#fdca26"
            ],
            [
             1,
             "#f0f921"
            ]
           ]
          },
          "colorway": [
           "#636efa",
           "#EF553B",
           "#00cc96",
           "#ab63fa",
           "#FFA15A",
           "#19d3f3",
           "#FF6692",
           "#B6E880",
           "#FF97FF",
           "#FECB52"
          ],
          "font": {
           "color": "#2a3f5f"
          },
          "geo": {
           "bgcolor": "white",
           "lakecolor": "white",
           "landcolor": "#E5ECF6",
           "showlakes": true,
           "showland": true,
           "subunitcolor": "white"
          },
          "hoverlabel": {
           "align": "left"
          },
          "hovermode": "closest",
          "mapbox": {
           "style": "light"
          },
          "paper_bgcolor": "white",
          "plot_bgcolor": "#E5ECF6",
          "polar": {
           "angularaxis": {
            "gridcolor": "white",
            "linecolor": "white",
            "ticks": ""
           },
           "bgcolor": "#E5ECF6",
           "radialaxis": {
            "gridcolor": "white",
            "linecolor": "white",
            "ticks": ""
           }
          },
          "scene": {
           "xaxis": {
            "backgroundcolor": "#E5ECF6",
            "gridcolor": "white",
            "gridwidth": 2,
            "linecolor": "white",
            "showbackground": true,
            "ticks": "",
            "zerolinecolor": "white"
           },
           "yaxis": {
            "backgroundcolor": "#E5ECF6",
            "gridcolor": "white",
            "gridwidth": 2,
            "linecolor": "white",
            "showbackground": true,
            "ticks": "",
            "zerolinecolor": "white"
           },
           "zaxis": {
            "backgroundcolor": "#E5ECF6",
            "gridcolor": "white",
            "gridwidth": 2,
            "linecolor": "white",
            "showbackground": true,
            "ticks": "",
            "zerolinecolor": "white"
           }
          },
          "shapedefaults": {
           "line": {
            "color": "#2a3f5f"
           }
          },
          "ternary": {
           "aaxis": {
            "gridcolor": "white",
            "linecolor": "white",
            "ticks": ""
           },
           "baxis": {
            "gridcolor": "white",
            "linecolor": "white",
            "ticks": ""
           },
           "bgcolor": "#E5ECF6",
           "caxis": {
            "gridcolor": "white",
            "linecolor": "white",
            "ticks": ""
           }
          },
          "title": {
           "x": 0.05
          },
          "xaxis": {
           "automargin": true,
           "gridcolor": "white",
           "linecolor": "white",
           "ticks": "",
           "title": {
            "standoff": 15
           },
           "zerolinecolor": "white",
           "zerolinewidth": 2
          },
          "yaxis": {
           "automargin": true,
           "gridcolor": "white",
           "linecolor": "white",
           "ticks": "",
           "title": {
            "standoff": 15
           },
           "zerolinecolor": "white",
           "zerolinewidth": 2
          }
         }
        },
        "title": {
         "text": "Total no. of deaths from 1990 to 2019 for each contry"
        },
        "width": 1024,
        "xaxis": {
         "tickangle": 45
        }
       }
      },
      "text/html": [
       "<div>                            <div id=\"d59943e3-d3ba-481d-b704-43ab0006e8ca\" class=\"plotly-graph-div\" style=\"height:720px; width:1024px;\"></div>            <script type=\"text/javascript\">                require([\"plotly\"], function(Plotly) {                    window.PLOTLYENV=window.PLOTLYENV || {};                                    if (document.getElementById(\"d59943e3-d3ba-481d-b704-43ab0006e8ca\")) {                    Plotly.newPlot(                        \"d59943e3-d3ba-481d-b704-43ab0006e8ca\",                        [{\"x\":[\"China\",\"India\",\"United States\",\"Russia\",\"Indonesia\",\"Nigeria\",\"Pakistan\",\"Brazil\",\"Japan\",\"Germany\",\"Bangladesh\",\"Ukraine\",\"Ethiopia\",\"Democratic Republic of Congo\",\"United Kingdom\",\"Italy\",\"South Africa\",\"Mexico\",\"France\",\"Egypt\",\"Vietnam\",\"Philippines\",\"Myanmar\",\"Thailand\",\"Tanzania\",\"Poland\",\"Spain\",\"Turkey\",\"Iran\",\"Kenya\",\"Uganda\",\"Argentina\",\"Romania\",\"South Korea\",\"Mozambique\",\"North Korea\",\"Canada\",\"Sudan\",\"Afghanistan\",\"Colombia\",\"Cote d'Ivoire\",\"Uzbekistan\",\"Morocco\",\"Ghana\",\"Angola\",\"Nepal\",\"Cameroon\",\"Mali\",\"Niger\",\"Burkina Faso\"],\"y\":[265408107.0,238158165.0,71197804.0,59591156.0,44046940.0,43670014.0,38151876.0,32674113.0,31922803.0,25559668.0,24803500.0,21245448.0,20880666.0,17446536.0,17281599.0,16779305.0,15807131.0,15720799.0,15093779.0,14878358.0,14444651.0,13680036.0,13486762.0,11358486.0,11195695.0,11173484.0,10888774.0,10748954.0,9278363.0,8605264.0,8575535.0,8552885.0,7883519.0,7540359.0,7045722.0,7029043.0,6534939.0,5986751.0,5982630.0,5849273.0,5732264.0,5581617.0,5574034.0,5448870.0,5366715.0,5159451.0,5155971.0,4932834.0,4891553.0,4869270.0,4681530.0,4601205.0,4526448.0,4485737.0,4418586.0,4248735.0,4110709.0,4105624.0,4088625.0,4042756.0,4025327.0,3929991.0,3889556.0,3856108.0,3803704.0,3714522.0,3697749.0,3554422.0,3479257.0,3387622.0,3366450.0,3253305.0,3177198.0,3138946.0,3124017.0,3090411.0,3070778.0,3006745.0,2807116.0,2791937.0,2645895.0,2626923.0,2591836.0,2489408.0,2422451.0,2337812.0,2322243.0,2293163.0,2290887.0,2170344.0,2059372.0,2028239.0,1967355.0,1875279.0,1832362.0,1805384.0,1619398.0,1611979.0,1576883.0,1550150.0,1525867.0,1519069.0,1457784.0,1453210.0,1414509.0,1412598.0,1349158.0,1335833.0,1273194.0,1217384.0,1205649.0,1133215.0,1118630.0,1087929.0,1060980.0,1021356.0,1016460.0,968037.0,929218.0,924736.0,919327.0,905969.0,861098.0,854187.0,819242.0,783175.0,744776.0,701473.0,670895.0,652060.0,643716.0,629919.0,611953.0,610290.0,569911.0,555604.0,535857.0,523549.0,511673.0,488770.0,485854.0,457510.0,436106.0,418150.0,411257.0,387047.0,372630.0,343581.0,336489.0,304946.0,282435.0,252726.0,198856.0,198601.0,198007.0,183494.0,178311.0,173735.0,173610.0,171686.0,148273.0,139389.0,119146.0,109715.0,93959.0,89155.0,81422.0,75939.0,69611.0,67332.0,56963.0,53199.0,46024.0,38670.0,36806.0,34511.0,32935.0,29988.0,29937.0,29352.0,27515.0,24536.0,23445.0,23064.0,21106.0,20348.0,19082.0,17581.0,14592.0,14269.0,13812.0,12803.0,12535.0,12184.0,10185.0,8624.0,7828.0,6761.0,4817.0,3998.0,2964.0,2251.0,591.0,302.0],\"type\":\"bar\"}],                        {\"template\":{\"data\":{\"histogram2dcontour\":[{\"type\":\"histogram2dcontour\",\"colorbar\":{\"outlinewidth\":0,\"ticks\":\"\"},\"colorscale\":[[0.0,\"#0d0887\"],[0.1111111111111111,\"#46039f\"],[0.2222222222222222,\"#7201a8\"],[0.3333333333333333,\"#9c179e\"],[0.4444444444444444,\"#bd3786\"],[0.5555555555555556,\"#d8576b\"],[0.6666666666666666,\"#ed7953\"],[0.7777777777777778,\"#fb9f3a\"],[0.8888888888888888,\"#fdca26\"],[1.0,\"#f0f921\"]]}],\"choropleth\":[{\"type\":\"choropleth\",\"colorbar\":{\"outlinewidth\":0,\"ticks\":\"\"}}],\"histogram2d\":[{\"type\":\"histogram2d\",\"colorbar\":{\"outlinewidth\":0,\"ticks\":\"\"},\"colorscale\":[[0.0,\"#0d0887\"],[0.1111111111111111,\"#46039f\"],[0.2222222222222222,\"#7201a8\"],[0.3333333333333333,\"#9c179e\"],[0.4444444444444444,\"#bd3786\"],[0.5555555555555556,\"#d8576b\"],[0.6666666666666666,\"#ed7953\"],[0.7777777777777778,\"#fb9f3a\"],[0.8888888888888888,\"#fdca26\"],[1.0,\"#f0f921\"]]}],\"heatmap\":[{\"type\":\"heatmap\",\"colorbar\":{\"outlinewidth\":0,\"ticks\":\"\"},\"colorscale\":[[0.0,\"#0d0887\"],[0.1111111111111111,\"#46039f\"],[0.2222222222222222,\"#7201a8\"],[0.3333333333333333,\"#9c179e\"],[0.4444444444444444,\"#bd3786\"],[0.5555555555555556,\"#d8576b\"],[0.6666666666666666,\"#ed7953\"],[0.7777777777777778,\"#fb9f3a\"],[0.8888888888888888,\"#fdca26\"],[1.0,\"#f0f921\"]]}],\"heatmapgl\":[{\"type\":\"heatmapgl\",\"colorbar\":{\"outlinewidth\":0,\"ticks\":\"\"},\"colorscale\":[[0.0,\"#0d0887\"],[0.1111111111111111,\"#46039f\"],[0.2222222222222222,\"#7201a8\"],[0.3333333333333333,\"#9c179e\"],[0.4444444444444444,\"#bd3786\"],[0.5555555555555556,\"#d8576b\"],[0.6666666666666666,\"#ed7953\"],[0.7777777777777778,\"#fb9f3a\"],[0.8888888888888888,\"#fdca26\"],[1.0,\"#f0f921\"]]}],\"contourcarpet\":[{\"type\":\"contourcarpet\",\"colorbar\":{\"outlinewidth\":0,\"ticks\":\"\"}}],\"contour\":[{\"type\":\"contour\",\"colorbar\":{\"outlinewidth\":0,\"ticks\":\"\"},\"colorscale\":[[0.0,\"#0d0887\"],[0.1111111111111111,\"#46039f\"],[0.2222222222222222,\"#7201a8\"],[0.3333333333333333,\"#9c179e\"],[0.4444444444444444,\"#bd3786\"],[0.5555555555555556,\"#d8576b\"],[0.6666666666666666,\"#ed7953\"],[0.7777777777777778,\"#fb9f3a\"],[0.8888888888888888,\"#fdca26\"],[1.0,\"#f0f921\"]]}],\"surface\":[{\"type\":\"surface\",\"colorbar\":{\"outlinewidth\":0,\"ticks\":\"\"},\"colorscale\":[[0.0,\"#0d0887\"],[0.1111111111111111,\"#46039f\"],[0.2222222222222222,\"#7201a8\"],[0.3333333333333333,\"#9c179e\"],[0.4444444444444444,\"#bd3786\"],[0.5555555555555556,\"#d8576b\"],[0.6666666666666666,\"#ed7953\"],[0.7777777777777778,\"#fb9f3a\"],[0.8888888888888888,\"#fdca26\"],[1.0,\"#f0f921\"]]}],\"mesh3d\":[{\"type\":\"mesh3d\",\"colorbar\":{\"outlinewidth\":0,\"ticks\":\"\"}}],\"scatter\":[{\"fillpattern\":{\"fillmode\":\"overlay\",\"size\":10,\"solidity\":0.2},\"type\":\"scatter\"}],\"parcoords\":[{\"type\":\"parcoords\",\"line\":{\"colorbar\":{\"outlinewidth\":0,\"ticks\":\"\"}}}],\"scatterpolargl\":[{\"type\":\"scatterpolargl\",\"marker\":{\"colorbar\":{\"outlinewidth\":0,\"ticks\":\"\"}}}],\"bar\":[{\"error_x\":{\"color\":\"#2a3f5f\"},\"error_y\":{\"color\":\"#2a3f5f\"},\"marker\":{\"line\":{\"color\":\"#E5ECF6\",\"width\":0.5},\"pattern\":{\"fillmode\":\"overlay\",\"size\":10,\"solidity\":0.2}},\"type\":\"bar\"}],\"scattergeo\":[{\"type\":\"scattergeo\",\"marker\":{\"colorbar\":{\"outlinewidth\":0,\"ticks\":\"\"}}}],\"scatterpolar\":[{\"type\":\"scatterpolar\",\"marker\":{\"colorbar\":{\"outlinewidth\":0,\"ticks\":\"\"}}}],\"histogram\":[{\"marker\":{\"pattern\":{\"fillmode\":\"overlay\",\"size\":10,\"solidity\":0.2}},\"type\":\"histogram\"}],\"scattergl\":[{\"type\":\"scattergl\",\"marker\":{\"colorbar\":{\"outlinewidth\":0,\"ticks\":\"\"}}}],\"scatter3d\":[{\"type\":\"scatter3d\",\"line\":{\"colorbar\":{\"outlinewidth\":0,\"ticks\":\"\"}},\"marker\":{\"colorbar\":{\"outlinewidth\":0,\"ticks\":\"\"}}}],\"scattermapbox\":[{\"type\":\"scattermapbox\",\"marker\":{\"colorbar\":{\"outlinewidth\":0,\"ticks\":\"\"}}}],\"scatterternary\":[{\"type\":\"scatterternary\",\"marker\":{\"colorbar\":{\"outlinewidth\":0,\"ticks\":\"\"}}}],\"scattercarpet\":[{\"type\":\"scattercarpet\",\"marker\":{\"colorbar\":{\"outlinewidth\":0,\"ticks\":\"\"}}}],\"carpet\":[{\"aaxis\":{\"endlinecolor\":\"#2a3f5f\",\"gridcolor\":\"white\",\"linecolor\":\"white\",\"minorgridcolor\":\"white\",\"startlinecolor\":\"#2a3f5f\"},\"baxis\":{\"endlinecolor\":\"#2a3f5f\",\"gridcolor\":\"white\",\"linecolor\":\"white\",\"minorgridcolor\":\"white\",\"startlinecolor\":\"#2a3f5f\"},\"type\":\"carpet\"}],\"table\":[{\"cells\":{\"fill\":{\"color\":\"#EBF0F8\"},\"line\":{\"color\":\"white\"}},\"header\":{\"fill\":{\"color\":\"#C8D4E3\"},\"line\":{\"color\":\"white\"}},\"type\":\"table\"}],\"barpolar\":[{\"marker\":{\"line\":{\"color\":\"#E5ECF6\",\"width\":0.5},\"pattern\":{\"fillmode\":\"overlay\",\"size\":10,\"solidity\":0.2}},\"type\":\"barpolar\"}],\"pie\":[{\"automargin\":true,\"type\":\"pie\"}]},\"layout\":{\"autotypenumbers\":\"strict\",\"colorway\":[\"#636efa\",\"#EF553B\",\"#00cc96\",\"#ab63fa\",\"#FFA15A\",\"#19d3f3\",\"#FF6692\",\"#B6E880\",\"#FF97FF\",\"#FECB52\"],\"font\":{\"color\":\"#2a3f5f\"},\"hovermode\":\"closest\",\"hoverlabel\":{\"align\":\"left\"},\"paper_bgcolor\":\"white\",\"plot_bgcolor\":\"#E5ECF6\",\"polar\":{\"bgcolor\":\"#E5ECF6\",\"angularaxis\":{\"gridcolor\":\"white\",\"linecolor\":\"white\",\"ticks\":\"\"},\"radialaxis\":{\"gridcolor\":\"white\",\"linecolor\":\"white\",\"ticks\":\"\"}},\"ternary\":{\"bgcolor\":\"#E5ECF6\",\"aaxis\":{\"gridcolor\":\"white\",\"linecolor\":\"white\",\"ticks\":\"\"},\"baxis\":{\"gridcolor\":\"white\",\"linecolor\":\"white\",\"ticks\":\"\"},\"caxis\":{\"gridcolor\":\"white\",\"linecolor\":\"white\",\"ticks\":\"\"}},\"coloraxis\":{\"colorbar\":{\"outlinewidth\":0,\"ticks\":\"\"}},\"colorscale\":{\"sequential\":[[0.0,\"#0d0887\"],[0.1111111111111111,\"#46039f\"],[0.2222222222222222,\"#7201a8\"],[0.3333333333333333,\"#9c179e\"],[0.4444444444444444,\"#bd3786\"],[0.5555555555555556,\"#d8576b\"],[0.6666666666666666,\"#ed7953\"],[0.7777777777777778,\"#fb9f3a\"],[0.8888888888888888,\"#fdca26\"],[1.0,\"#f0f921\"]],\"sequentialminus\":[[0.0,\"#0d0887\"],[0.1111111111111111,\"#46039f\"],[0.2222222222222222,\"#7201a8\"],[0.3333333333333333,\"#9c179e\"],[0.4444444444444444,\"#bd3786\"],[0.5555555555555556,\"#d8576b\"],[0.6666666666666666,\"#ed7953\"],[0.7777777777777778,\"#fb9f3a\"],[0.8888888888888888,\"#fdca26\"],[1.0,\"#f0f921\"]],\"diverging\":[[0,\"#8e0152\"],[0.1,\"#c51b7d\"],[0.2,\"#de77ae\"],[0.3,\"#f1b6da\"],[0.4,\"#fde0ef\"],[0.5,\"#f7f7f7\"],[0.6,\"#e6f5d0\"],[0.7,\"#b8e186\"],[0.8,\"#7fbc41\"],[0.9,\"#4d9221\"],[1,\"#276419\"]]},\"xaxis\":{\"gridcolor\":\"white\",\"linecolor\":\"white\",\"ticks\":\"\",\"title\":{\"standoff\":15},\"zerolinecolor\":\"white\",\"automargin\":true,\"zerolinewidth\":2},\"yaxis\":{\"gridcolor\":\"white\",\"linecolor\":\"white\",\"ticks\":\"\",\"title\":{\"standoff\":15},\"zerolinecolor\":\"white\",\"automargin\":true,\"zerolinewidth\":2},\"scene\":{\"xaxis\":{\"backgroundcolor\":\"#E5ECF6\",\"gridcolor\":\"white\",\"linecolor\":\"white\",\"showbackground\":true,\"ticks\":\"\",\"zerolinecolor\":\"white\",\"gridwidth\":2},\"yaxis\":{\"backgroundcolor\":\"#E5ECF6\",\"gridcolor\":\"white\",\"linecolor\":\"white\",\"showbackground\":true,\"ticks\":\"\",\"zerolinecolor\":\"white\",\"gridwidth\":2},\"zaxis\":{\"backgroundcolor\":\"#E5ECF6\",\"gridcolor\":\"white\",\"linecolor\":\"white\",\"showbackground\":true,\"ticks\":\"\",\"zerolinecolor\":\"white\",\"gridwidth\":2}},\"shapedefaults\":{\"line\":{\"color\":\"#2a3f5f\"}},\"annotationdefaults\":{\"arrowcolor\":\"#2a3f5f\",\"arrowhead\":0,\"arrowwidth\":1},\"geo\":{\"bgcolor\":\"white\",\"landcolor\":\"#E5ECF6\",\"subunitcolor\":\"white\",\"showland\":true,\"showlakes\":true,\"lakecolor\":\"white\"},\"title\":{\"x\":0.05},\"mapbox\":{\"style\":\"light\"}}},\"title\":{\"text\":\"Total no. of deaths from 1990 to 2019 for each contry\"},\"height\":720,\"width\":1024,\"xaxis\":{\"tickangle\":45}},                        {\"responsive\": true}                    ).then(function(){\n",
       "                            \n",
       "var gd = document.getElementById('d59943e3-d3ba-481d-b704-43ab0006e8ca');\n",
       "var x = new MutationObserver(function (mutations, observer) {{\n",
       "        var display = window.getComputedStyle(gd).display;\n",
       "        if (!display || display === 'none') {{\n",
       "            console.log([gd, 'removed!']);\n",
       "            Plotly.purge(gd);\n",
       "            observer.disconnect();\n",
       "        }}\n",
       "}});\n",
       "\n",
       "// Listen for the removal of the full notebook cells\n",
       "var notebookContainer = gd.closest('#notebook-container');\n",
       "if (notebookContainer) {{\n",
       "    x.observe(notebookContainer, {childList: true});\n",
       "}}\n",
       "\n",
       "// Listen for the clearing of the current output cell\n",
       "var outputEl = gd.closest('.output');\n",
       "if (outputEl) {{\n",
       "    x.observe(outputEl, {childList: true});\n",
       "}}\n",
       "\n",
       "                        })                };                });            </script>        </div>"
      ]
     },
     "metadata": {},
     "output_type": "display_data"
    }
   ],
   "source": [
    "fig = go.Figure()\n",
    "fig.add_trace(go.Bar(y=total_ofDeaths['Total of deaths'], x=total_ofDeaths.index[:50]))\n",
    "fig.update_layout(height=720, width=1024,title_text=\"Total no. of deaths from 1990 to 2019 for each contry\",\n",
    "                          xaxis = go.layout.XAxis( tickangle = 45))"
   ]
  },
  {
   "cell_type": "markdown",
   "id": "73e9806b",
   "metadata": {},
   "source": [
    "## 2- Deaths trend per year "
   ]
  },
  {
   "cell_type": "code",
   "execution_count": 67,
   "id": "2ab34d0e",
   "metadata": {},
   "outputs": [
    {
     "data": {
      "text/html": [
       "<div>\n",
       "<style scoped>\n",
       "    .dataframe tbody tr th:only-of-type {\n",
       "        vertical-align: middle;\n",
       "    }\n",
       "\n",
       "    .dataframe tbody tr th {\n",
       "        vertical-align: top;\n",
       "    }\n",
       "\n",
       "    .dataframe thead th {\n",
       "        text-align: right;\n",
       "    }\n",
       "</style>\n",
       "<table border=\"1\" class=\"dataframe\">\n",
       "  <thead>\n",
       "    <tr style=\"text-align: right;\">\n",
       "      <th></th>\n",
       "      <th>Meningitis</th>\n",
       "      <th>Neoplasms</th>\n",
       "      <th>Fire</th>\n",
       "      <th>Malaria</th>\n",
       "      <th>Drowning</th>\n",
       "      <th>Interpersonal violence</th>\n",
       "      <th>HIV/AIDS</th>\n",
       "      <th>Drug use disorders</th>\n",
       "      <th>Tuberculosis</th>\n",
       "      <th>Road injuries</th>\n",
       "      <th>...</th>\n",
       "      <th>Protein-energy malnutrition</th>\n",
       "      <th>Cardiovascular</th>\n",
       "      <th>Chronic kidney disease</th>\n",
       "      <th>Chronic respiratory</th>\n",
       "      <th>Cirrhosis</th>\n",
       "      <th>Digestive</th>\n",
       "      <th>Acute hepatitis</th>\n",
       "      <th>Dementias</th>\n",
       "      <th>Parkinson</th>\n",
       "      <th>Total of deaths</th>\n",
       "    </tr>\n",
       "    <tr>\n",
       "      <th>Year</th>\n",
       "      <th></th>\n",
       "      <th></th>\n",
       "      <th></th>\n",
       "      <th></th>\n",
       "      <th></th>\n",
       "      <th></th>\n",
       "      <th></th>\n",
       "      <th></th>\n",
       "      <th></th>\n",
       "      <th></th>\n",
       "      <th></th>\n",
       "      <th></th>\n",
       "      <th></th>\n",
       "      <th></th>\n",
       "      <th></th>\n",
       "      <th></th>\n",
       "      <th></th>\n",
       "      <th></th>\n",
       "      <th></th>\n",
       "      <th></th>\n",
       "      <th></th>\n",
       "    </tr>\n",
       "  </thead>\n",
       "  <tbody>\n",
       "    <tr>\n",
       "      <th>1990</th>\n",
       "      <td>432254.0</td>\n",
       "      <td>5752597.0</td>\n",
       "      <td>123123.0</td>\n",
       "      <td>840298.0</td>\n",
       "      <td>460461.0</td>\n",
       "      <td>372497.0</td>\n",
       "      <td>336058.0</td>\n",
       "      <td>56133.0</td>\n",
       "      <td>1776727.0</td>\n",
       "      <td>1112768.0</td>\n",
       "      <td>...</td>\n",
       "      <td>655977.0</td>\n",
       "      <td>12062181.0</td>\n",
       "      <td>600926.0</td>\n",
       "      <td>3092759.0</td>\n",
       "      <td>1012423.0</td>\n",
       "      <td>1854392.0</td>\n",
       "      <td>166343.0</td>\n",
       "      <td>560616.0</td>\n",
       "      <td>147155.0</td>\n",
       "      <td>43518524.0</td>\n",
       "    </tr>\n",
       "    <tr>\n",
       "      <th>1991</th>\n",
       "      <td>428621.0</td>\n",
       "      <td>5867965.0</td>\n",
       "      <td>123942.0</td>\n",
       "      <td>858984.0</td>\n",
       "      <td>454375.0</td>\n",
       "      <td>383688.0</td>\n",
       "      <td>430725.0</td>\n",
       "      <td>61889.0</td>\n",
       "      <td>1786389.0</td>\n",
       "      <td>1117025.0</td>\n",
       "      <td>...</td>\n",
       "      <td>631012.0</td>\n",
       "      <td>12220282.0</td>\n",
       "      <td>613590.0</td>\n",
       "      <td>3148289.0</td>\n",
       "      <td>1026869.0</td>\n",
       "      <td>1877516.0</td>\n",
       "      <td>165276.0</td>\n",
       "      <td>583166.0</td>\n",
       "      <td>150874.0</td>\n",
       "      <td>44059730.0</td>\n",
       "    </tr>\n",
       "    <tr>\n",
       "      <th>1992</th>\n",
       "      <td>426440.0</td>\n",
       "      <td>5996098.0</td>\n",
       "      <td>124995.0</td>\n",
       "      <td>856415.0</td>\n",
       "      <td>447055.0</td>\n",
       "      <td>407177.0</td>\n",
       "      <td>540070.0</td>\n",
       "      <td>66826.0</td>\n",
       "      <td>1807742.0</td>\n",
       "      <td>1125567.0</td>\n",
       "      <td>...</td>\n",
       "      <td>606015.0</td>\n",
       "      <td>12437978.0</td>\n",
       "      <td>630160.0</td>\n",
       "      <td>3207816.0</td>\n",
       "      <td>1042953.0</td>\n",
       "      <td>1903759.0</td>\n",
       "      <td>163689.0</td>\n",
       "      <td>605894.0</td>\n",
       "      <td>154887.0</td>\n",
       "      <td>44459144.0</td>\n",
       "    </tr>\n",
       "    <tr>\n",
       "      <th>1993</th>\n",
       "      <td>420835.0</td>\n",
       "      <td>6167068.0</td>\n",
       "      <td>127494.0</td>\n",
       "      <td>862217.0</td>\n",
       "      <td>445435.0</td>\n",
       "      <td>432858.0</td>\n",
       "      <td>664464.0</td>\n",
       "      <td>71603.0</td>\n",
       "      <td>1774711.0</td>\n",
       "      <td>1137444.0</td>\n",
       "      <td>...</td>\n",
       "      <td>583918.0</td>\n",
       "      <td>12802108.0</td>\n",
       "      <td>647255.0</td>\n",
       "      <td>3266611.0</td>\n",
       "      <td>1067730.0</td>\n",
       "      <td>1939557.0</td>\n",
       "      <td>161899.0</td>\n",
       "      <td>629570.0</td>\n",
       "      <td>160249.0</td>\n",
       "      <td>45185711.0</td>\n",
       "    </tr>\n",
       "    <tr>\n",
       "      <th>1994</th>\n",
       "      <td>413799.0</td>\n",
       "      <td>6296065.0</td>\n",
       "      <td>129611.0</td>\n",
       "      <td>855671.0</td>\n",
       "      <td>443351.0</td>\n",
       "      <td>441971.0</td>\n",
       "      <td>800169.0</td>\n",
       "      <td>76717.0</td>\n",
       "      <td>1753811.0</td>\n",
       "      <td>1153642.0</td>\n",
       "      <td>...</td>\n",
       "      <td>564046.0</td>\n",
       "      <td>13026288.0</td>\n",
       "      <td>665363.0</td>\n",
       "      <td>3297293.0</td>\n",
       "      <td>1089330.0</td>\n",
       "      <td>1967669.0</td>\n",
       "      <td>159424.0</td>\n",
       "      <td>652177.0</td>\n",
       "      <td>164381.0</td>\n",
       "      <td>46182613.0</td>\n",
       "    </tr>\n",
       "  </tbody>\n",
       "</table>\n",
       "<p>5 rows × 32 columns</p>\n",
       "</div>"
      ],
      "text/plain": [
       "      Meningitis  Neoplasms      Fire   Malaria  Drowning  \\\n",
       "Year                                                        \n",
       "1990    432254.0  5752597.0  123123.0  840298.0  460461.0   \n",
       "1991    428621.0  5867965.0  123942.0  858984.0  454375.0   \n",
       "1992    426440.0  5996098.0  124995.0  856415.0  447055.0   \n",
       "1993    420835.0  6167068.0  127494.0  862217.0  445435.0   \n",
       "1994    413799.0  6296065.0  129611.0  855671.0  443351.0   \n",
       "\n",
       "      Interpersonal violence  HIV/AIDS  Drug use disorders  Tuberculosis  \\\n",
       "Year                                                                       \n",
       "1990                372497.0  336058.0             56133.0     1776727.0   \n",
       "1991                383688.0  430725.0             61889.0     1786389.0   \n",
       "1992                407177.0  540070.0             66826.0     1807742.0   \n",
       "1993                432858.0  664464.0             71603.0     1774711.0   \n",
       "1994                441971.0  800169.0             76717.0     1753811.0   \n",
       "\n",
       "      Road injuries  ...  Protein-energy malnutrition  Cardiovascular  \\\n",
       "Year                 ...                                                \n",
       "1990      1112768.0  ...                     655977.0      12062181.0   \n",
       "1991      1117025.0  ...                     631012.0      12220282.0   \n",
       "1992      1125567.0  ...                     606015.0      12437978.0   \n",
       "1993      1137444.0  ...                     583918.0      12802108.0   \n",
       "1994      1153642.0  ...                     564046.0      13026288.0   \n",
       "\n",
       "      Chronic kidney disease  Chronic respiratory  Cirrhosis  Digestive  \\\n",
       "Year                                                                      \n",
       "1990                600926.0            3092759.0  1012423.0  1854392.0   \n",
       "1991                613590.0            3148289.0  1026869.0  1877516.0   \n",
       "1992                630160.0            3207816.0  1042953.0  1903759.0   \n",
       "1993                647255.0            3266611.0  1067730.0  1939557.0   \n",
       "1994                665363.0            3297293.0  1089330.0  1967669.0   \n",
       "\n",
       "      Acute hepatitis  Dementias  Parkinson  Total of deaths  \n",
       "Year                                                          \n",
       "1990         166343.0   560616.0   147155.0       43518524.0  \n",
       "1991         165276.0   583166.0   150874.0       44059730.0  \n",
       "1992         163689.0   605894.0   154887.0       44459144.0  \n",
       "1993         161899.0   629570.0   160249.0       45185711.0  \n",
       "1994         159424.0   652177.0   164381.0       46182613.0  \n",
       "\n",
       "[5 rows x 32 columns]"
      ]
     },
     "execution_count": 67,
     "metadata": {},
     "output_type": "execute_result"
    }
   ],
   "source": [
    "year_Deaths= prep_df.groupby(['Year']).sum()\n",
    "year_Deaths['Total of deaths'] = year_Deaths.sum(axis=1)\n",
    "year_Deaths.head()"
   ]
  },
  {
   "cell_type": "code",
   "execution_count": 68,
   "id": "7b416f34",
   "metadata": {},
   "outputs": [
    {
     "data": {
      "application/vnd.plotly.v1+json": {
       "config": {
        "plotlyServerURL": "https://plot.ly"
       },
       "data": [
        {
         "type": "bar",
         "x": [
          "China",
          "India",
          "United States",
          "Russia",
          "Indonesia",
          "Nigeria",
          "Pakistan",
          "Brazil",
          "Japan",
          "Germany",
          "Bangladesh",
          "Ukraine",
          "Ethiopia",
          "Democratic Republic of Congo",
          "United Kingdom",
          "Italy",
          "South Africa",
          "Mexico",
          "France",
          "Egypt",
          "Vietnam",
          "Philippines",
          "Myanmar",
          "Thailand",
          "Tanzania",
          "Poland",
          "Spain",
          "Turkey",
          "Iran",
          "Kenya",
          "Uganda",
          "Argentina",
          "Romania",
          "South Korea",
          "Mozambique",
          "North Korea",
          "Canada",
          "Sudan",
          "Afghanistan",
          "Colombia",
          "Cote d'Ivoire",
          "Uzbekistan",
          "Morocco",
          "Ghana",
          "Angola",
          "Nepal",
          "Cameroon",
          "Mali",
          "Niger",
          "Burkina Faso"
         ],
         "y": [
          265408107,
          238158165,
          71197804,
          59591156,
          44046940,
          43670014,
          38151876,
          32674113,
          31922803,
          25559668,
          24803500,
          21245448,
          20880666,
          17446536,
          17281599,
          16779305,
          15807131,
          15720799,
          15093779,
          14878358,
          14444651,
          13680036,
          13486762,
          11358486,
          11195695,
          11173484,
          10888774,
          10748954,
          9278363,
          8605264,
          8575535,
          8552885,
          7883519,
          7540359,
          7045722,
          7029043,
          6534939,
          5986751,
          5982630,
          5849273,
          5732264,
          5581617,
          5574034,
          5448870,
          5366715,
          5159451,
          5155971,
          4932834,
          4891553,
          4869270,
          4681530,
          4601205,
          4526448,
          4485737,
          4418586,
          4248735,
          4110709,
          4105624,
          4088625,
          4042756,
          4025327,
          3929991,
          3889556,
          3856108,
          3803704,
          3714522,
          3697749,
          3554422,
          3479257,
          3387622,
          3366450,
          3253305,
          3177198,
          3138946,
          3124017,
          3090411,
          3070778,
          3006745,
          2807116,
          2791937,
          2645895,
          2626923,
          2591836,
          2489408,
          2422451,
          2337812,
          2322243,
          2293163,
          2290887,
          2170344,
          2059372,
          2028239,
          1967355,
          1875279,
          1832362,
          1805384,
          1619398,
          1611979,
          1576883,
          1550150,
          1525867,
          1519069,
          1457784,
          1453210,
          1414509,
          1412598,
          1349158,
          1335833,
          1273194,
          1217384,
          1205649,
          1133215,
          1118630,
          1087929,
          1060980,
          1021356,
          1016460,
          968037,
          929218,
          924736,
          919327,
          905969,
          861098,
          854187,
          819242,
          783175,
          744776,
          701473,
          670895,
          652060,
          643716,
          629919,
          611953,
          610290,
          569911,
          555604,
          535857,
          523549,
          511673,
          488770,
          485854,
          457510,
          436106,
          418150,
          411257,
          387047,
          372630,
          343581,
          336489,
          304946,
          282435,
          252726,
          198856,
          198601,
          198007,
          183494,
          178311,
          173735,
          173610,
          171686,
          148273,
          139389,
          119146,
          109715,
          93959,
          89155,
          81422,
          75939,
          69611,
          67332,
          56963,
          53199,
          46024,
          38670,
          36806,
          34511,
          32935,
          29988,
          29937,
          29352,
          27515,
          24536,
          23445,
          23064,
          21106,
          20348,
          19082,
          17581,
          14592,
          14269,
          13812,
          12803,
          12535,
          12184,
          10185,
          8624,
          7828,
          6761,
          4817,
          3998,
          2964,
          2251,
          591,
          302
         ]
        },
        {
         "type": "scatter",
         "x": [
          1990,
          1991,
          1992,
          1993,
          1994,
          1995,
          1996,
          1997,
          1998,
          1999,
          2000,
          2001,
          2002,
          2003,
          2004,
          2005,
          2006,
          2007,
          2008,
          2009,
          2010,
          2011,
          2012,
          2013,
          2014,
          2015,
          2016,
          2017,
          2018,
          2019
         ],
         "y": [
          43518524,
          44059730,
          44459144,
          45185711,
          46182613,
          46177018,
          46320830,
          46672375,
          47066091,
          47652089,
          48050321,
          48385703,
          48897028,
          49123954,
          49330179,
          49591907,
          49424521,
          49495210,
          50115748,
          49900666,
          50422772,
          50413301,
          50597659,
          50931540,
          51268371,
          51856400,
          52337441,
          52789758,
          53545248,
          54362908
         ]
        }
       ],
       "layout": {
        "height": 550,
        "margin": {
         "b": 20,
         "l": 30,
         "r": 10,
         "t": 0
        },
        "paper_bgcolor": "rgba(0,0,0,0)",
        "plot_bgcolor": "rgba(0,0,0,0)",
        "template": {
         "data": {
          "bar": [
           {
            "error_x": {
             "color": "#2a3f5f"
            },
            "error_y": {
             "color": "#2a3f5f"
            },
            "marker": {
             "line": {
              "color": "#E5ECF6",
              "width": 0.5
             },
             "pattern": {
              "fillmode": "overlay",
              "size": 10,
              "solidity": 0.2
             }
            },
            "type": "bar"
           }
          ],
          "barpolar": [
           {
            "marker": {
             "line": {
              "color": "#E5ECF6",
              "width": 0.5
             },
             "pattern": {
              "fillmode": "overlay",
              "size": 10,
              "solidity": 0.2
             }
            },
            "type": "barpolar"
           }
          ],
          "carpet": [
           {
            "aaxis": {
             "endlinecolor": "#2a3f5f",
             "gridcolor": "white",
             "linecolor": "white",
             "minorgridcolor": "white",
             "startlinecolor": "#2a3f5f"
            },
            "baxis": {
             "endlinecolor": "#2a3f5f",
             "gridcolor": "white",
             "linecolor": "white",
             "minorgridcolor": "white",
             "startlinecolor": "#2a3f5f"
            },
            "type": "carpet"
           }
          ],
          "choropleth": [
           {
            "colorbar": {
             "outlinewidth": 0,
             "ticks": ""
            },
            "type": "choropleth"
           }
          ],
          "contour": [
           {
            "colorbar": {
             "outlinewidth": 0,
             "ticks": ""
            },
            "colorscale": [
             [
              0,
              "#0d0887"
             ],
             [
              0.1111111111111111,
              "#46039f"
             ],
             [
              0.2222222222222222,
              "#7201a8"
             ],
             [
              0.3333333333333333,
              "#9c179e"
             ],
             [
              0.4444444444444444,
              "#bd3786"
             ],
             [
              0.5555555555555556,
              "#d8576b"
             ],
             [
              0.6666666666666666,
              "#ed7953"
             ],
             [
              0.7777777777777778,
              "#fb9f3a"
             ],
             [
              0.8888888888888888,
              "#fdca26"
             ],
             [
              1,
              "#f0f921"
             ]
            ],
            "type": "contour"
           }
          ],
          "contourcarpet": [
           {
            "colorbar": {
             "outlinewidth": 0,
             "ticks": ""
            },
            "type": "contourcarpet"
           }
          ],
          "heatmap": [
           {
            "colorbar": {
             "outlinewidth": 0,
             "ticks": ""
            },
            "colorscale": [
             [
              0,
              "#0d0887"
             ],
             [
              0.1111111111111111,
              "#46039f"
             ],
             [
              0.2222222222222222,
              "#7201a8"
             ],
             [
              0.3333333333333333,
              "#9c179e"
             ],
             [
              0.4444444444444444,
              "#bd3786"
             ],
             [
              0.5555555555555556,
              "#d8576b"
             ],
             [
              0.6666666666666666,
              "#ed7953"
             ],
             [
              0.7777777777777778,
              "#fb9f3a"
             ],
             [
              0.8888888888888888,
              "#fdca26"
             ],
             [
              1,
              "#f0f921"
             ]
            ],
            "type": "heatmap"
           }
          ],
          "heatmapgl": [
           {
            "colorbar": {
             "outlinewidth": 0,
             "ticks": ""
            },
            "colorscale": [
             [
              0,
              "#0d0887"
             ],
             [
              0.1111111111111111,
              "#46039f"
             ],
             [
              0.2222222222222222,
              "#7201a8"
             ],
             [
              0.3333333333333333,
              "#9c179e"
             ],
             [
              0.4444444444444444,
              "#bd3786"
             ],
             [
              0.5555555555555556,
              "#d8576b"
             ],
             [
              0.6666666666666666,
              "#ed7953"
             ],
             [
              0.7777777777777778,
              "#fb9f3a"
             ],
             [
              0.8888888888888888,
              "#fdca26"
             ],
             [
              1,
              "#f0f921"
             ]
            ],
            "type": "heatmapgl"
           }
          ],
          "histogram": [
           {
            "marker": {
             "pattern": {
              "fillmode": "overlay",
              "size": 10,
              "solidity": 0.2
             }
            },
            "type": "histogram"
           }
          ],
          "histogram2d": [
           {
            "colorbar": {
             "outlinewidth": 0,
             "ticks": ""
            },
            "colorscale": [
             [
              0,
              "#0d0887"
             ],
             [
              0.1111111111111111,
              "#46039f"
             ],
             [
              0.2222222222222222,
              "#7201a8"
             ],
             [
              0.3333333333333333,
              "#9c179e"
             ],
             [
              0.4444444444444444,
              "#bd3786"
             ],
             [
              0.5555555555555556,
              "#d8576b"
             ],
             [
              0.6666666666666666,
              "#ed7953"
             ],
             [
              0.7777777777777778,
              "#fb9f3a"
             ],
             [
              0.8888888888888888,
              "#fdca26"
             ],
             [
              1,
              "#f0f921"
             ]
            ],
            "type": "histogram2d"
           }
          ],
          "histogram2dcontour": [
           {
            "colorbar": {
             "outlinewidth": 0,
             "ticks": ""
            },
            "colorscale": [
             [
              0,
              "#0d0887"
             ],
             [
              0.1111111111111111,
              "#46039f"
             ],
             [
              0.2222222222222222,
              "#7201a8"
             ],
             [
              0.3333333333333333,
              "#9c179e"
             ],
             [
              0.4444444444444444,
              "#bd3786"
             ],
             [
              0.5555555555555556,
              "#d8576b"
             ],
             [
              0.6666666666666666,
              "#ed7953"
             ],
             [
              0.7777777777777778,
              "#fb9f3a"
             ],
             [
              0.8888888888888888,
              "#fdca26"
             ],
             [
              1,
              "#f0f921"
             ]
            ],
            "type": "histogram2dcontour"
           }
          ],
          "mesh3d": [
           {
            "colorbar": {
             "outlinewidth": 0,
             "ticks": ""
            },
            "type": "mesh3d"
           }
          ],
          "parcoords": [
           {
            "line": {
             "colorbar": {
              "outlinewidth": 0,
              "ticks": ""
             }
            },
            "type": "parcoords"
           }
          ],
          "pie": [
           {
            "automargin": true,
            "type": "pie"
           }
          ],
          "scatter": [
           {
            "fillpattern": {
             "fillmode": "overlay",
             "size": 10,
             "solidity": 0.2
            },
            "type": "scatter"
           }
          ],
          "scatter3d": [
           {
            "line": {
             "colorbar": {
              "outlinewidth": 0,
              "ticks": ""
             }
            },
            "marker": {
             "colorbar": {
              "outlinewidth": 0,
              "ticks": ""
             }
            },
            "type": "scatter3d"
           }
          ],
          "scattercarpet": [
           {
            "marker": {
             "colorbar": {
              "outlinewidth": 0,
              "ticks": ""
             }
            },
            "type": "scattercarpet"
           }
          ],
          "scattergeo": [
           {
            "marker": {
             "colorbar": {
              "outlinewidth": 0,
              "ticks": ""
             }
            },
            "type": "scattergeo"
           }
          ],
          "scattergl": [
           {
            "marker": {
             "colorbar": {
              "outlinewidth": 0,
              "ticks": ""
             }
            },
            "type": "scattergl"
           }
          ],
          "scattermapbox": [
           {
            "marker": {
             "colorbar": {
              "outlinewidth": 0,
              "ticks": ""
             }
            },
            "type": "scattermapbox"
           }
          ],
          "scatterpolar": [
           {
            "marker": {
             "colorbar": {
              "outlinewidth": 0,
              "ticks": ""
             }
            },
            "type": "scatterpolar"
           }
          ],
          "scatterpolargl": [
           {
            "marker": {
             "colorbar": {
              "outlinewidth": 0,
              "ticks": ""
             }
            },
            "type": "scatterpolargl"
           }
          ],
          "scatterternary": [
           {
            "marker": {
             "colorbar": {
              "outlinewidth": 0,
              "ticks": ""
             }
            },
            "type": "scatterternary"
           }
          ],
          "surface": [
           {
            "colorbar": {
             "outlinewidth": 0,
             "ticks": ""
            },
            "colorscale": [
             [
              0,
              "#0d0887"
             ],
             [
              0.1111111111111111,
              "#46039f"
             ],
             [
              0.2222222222222222,
              "#7201a8"
             ],
             [
              0.3333333333333333,
              "#9c179e"
             ],
             [
              0.4444444444444444,
              "#bd3786"
             ],
             [
              0.5555555555555556,
              "#d8576b"
             ],
             [
              0.6666666666666666,
              "#ed7953"
             ],
             [
              0.7777777777777778,
              "#fb9f3a"
             ],
             [
              0.8888888888888888,
              "#fdca26"
             ],
             [
              1,
              "#f0f921"
             ]
            ],
            "type": "surface"
           }
          ],
          "table": [
           {
            "cells": {
             "fill": {
              "color": "#EBF0F8"
             },
             "line": {
              "color": "white"
             }
            },
            "header": {
             "fill": {
              "color": "#C8D4E3"
             },
             "line": {
              "color": "white"
             }
            },
            "type": "table"
           }
          ]
         },
         "layout": {
          "annotationdefaults": {
           "arrowcolor": "#2a3f5f",
           "arrowhead": 0,
           "arrowwidth": 1
          },
          "autotypenumbers": "strict",
          "coloraxis": {
           "colorbar": {
            "outlinewidth": 0,
            "ticks": ""
           }
          },
          "colorscale": {
           "diverging": [
            [
             0,
             "#8e0152"
            ],
            [
             0.1,
             "#c51b7d"
            ],
            [
             0.2,
             "#de77ae"
            ],
            [
             0.3,
             "#f1b6da"
            ],
            [
             0.4,
             "#fde0ef"
            ],
            [
             0.5,
             "#f7f7f7"
            ],
            [
             0.6,
             "#e6f5d0"
            ],
            [
             0.7,
             "#b8e186"
            ],
            [
             0.8,
             "#7fbc41"
            ],
            [
             0.9,
             "#4d9221"
            ],
            [
             1,
             "#276419"
            ]
           ],
           "sequential": [
            [
             0,
             "#0d0887"
            ],
            [
             0.1111111111111111,
             "#46039f"
            ],
            [
             0.2222222222222222,
             "#7201a8"
            ],
            [
             0.3333333333333333,
             "#9c179e"
            ],
            [
             0.4444444444444444,
             "#bd3786"
            ],
            [
             0.5555555555555556,
             "#d8576b"
            ],
            [
             0.6666666666666666,
             "#ed7953"
            ],
            [
             0.7777777777777778,
             "#fb9f3a"
            ],
            [
             0.8888888888888888,
             "#fdca26"
            ],
            [
             1,
             "#f0f921"
            ]
           ],
           "sequentialminus": [
            [
             0,
             "#0d0887"
            ],
            [
             0.1111111111111111,
             "#46039f"
            ],
            [
             0.2222222222222222,
             "#7201a8"
            ],
            [
             0.3333333333333333,
             "#9c179e"
            ],
            [
             0.4444444444444444,
             "#bd3786"
            ],
            [
             0.5555555555555556,
             "#d8576b"
            ],
            [
             0.6666666666666666,
             "#ed7953"
            ],
            [
             0.7777777777777778,
             "#fb9f3a"
            ],
            [
             0.8888888888888888,
             "#fdca26"
            ],
            [
             1,
             "#f0f921"
            ]
           ]
          },
          "colorway": [
           "#636efa",
           "#EF553B",
           "#00cc96",
           "#ab63fa",
           "#FFA15A",
           "#19d3f3",
           "#FF6692",
           "#B6E880",
           "#FF97FF",
           "#FECB52"
          ],
          "font": {
           "color": "#2a3f5f"
          },
          "geo": {
           "bgcolor": "white",
           "lakecolor": "white",
           "landcolor": "#E5ECF6",
           "showlakes": true,
           "showland": true,
           "subunitcolor": "white"
          },
          "hoverlabel": {
           "align": "left"
          },
          "hovermode": "closest",
          "mapbox": {
           "style": "light"
          },
          "paper_bgcolor": "white",
          "plot_bgcolor": "#E5ECF6",
          "polar": {
           "angularaxis": {
            "gridcolor": "white",
            "linecolor": "white",
            "ticks": ""
           },
           "bgcolor": "#E5ECF6",
           "radialaxis": {
            "gridcolor": "white",
            "linecolor": "white",
            "ticks": ""
           }
          },
          "scene": {
           "xaxis": {
            "backgroundcolor": "#E5ECF6",
            "gridcolor": "white",
            "gridwidth": 2,
            "linecolor": "white",
            "showbackground": true,
            "ticks": "",
            "zerolinecolor": "white"
           },
           "yaxis": {
            "backgroundcolor": "#E5ECF6",
            "gridcolor": "white",
            "gridwidth": 2,
            "linecolor": "white",
            "showbackground": true,
            "ticks": "",
            "zerolinecolor": "white"
           },
           "zaxis": {
            "backgroundcolor": "#E5ECF6",
            "gridcolor": "white",
            "gridwidth": 2,
            "linecolor": "white",
            "showbackground": true,
            "ticks": "",
            "zerolinecolor": "white"
           }
          },
          "shapedefaults": {
           "line": {
            "color": "#2a3f5f"
           }
          },
          "ternary": {
           "aaxis": {
            "gridcolor": "white",
            "linecolor": "white",
            "ticks": ""
           },
           "baxis": {
            "gridcolor": "white",
            "linecolor": "white",
            "ticks": ""
           },
           "bgcolor": "#E5ECF6",
           "caxis": {
            "gridcolor": "white",
            "linecolor": "white",
            "ticks": ""
           }
          },
          "title": {
           "x": 0.05
          },
          "xaxis": {
           "automargin": true,
           "gridcolor": "white",
           "linecolor": "white",
           "ticks": "",
           "title": {
            "standoff": 15
           },
           "zerolinecolor": "white",
           "zerolinewidth": 2
          },
          "yaxis": {
           "automargin": true,
           "gridcolor": "white",
           "linecolor": "white",
           "ticks": "",
           "title": {
            "standoff": 15
           },
           "zerolinecolor": "white",
           "zerolinewidth": 2
          }
         }
        },
        "title": {
         "text": "Total no. of deaths from 1990 to 2019 for each contry"
        },
        "width": 800,
        "xaxis": {
         "tickangle": 45
        }
       }
      },
      "text/html": [
       "<div>                            <div id=\"c93aa3c4-a6eb-42a4-9864-3cd17b06a46a\" class=\"plotly-graph-div\" style=\"height:550px; width:800px;\"></div>            <script type=\"text/javascript\">                require([\"plotly\"], function(Plotly) {                    window.PLOTLYENV=window.PLOTLYENV || {};                                    if (document.getElementById(\"c93aa3c4-a6eb-42a4-9864-3cd17b06a46a\")) {                    Plotly.newPlot(                        \"c93aa3c4-a6eb-42a4-9864-3cd17b06a46a\",                        [{\"x\":[\"China\",\"India\",\"United States\",\"Russia\",\"Indonesia\",\"Nigeria\",\"Pakistan\",\"Brazil\",\"Japan\",\"Germany\",\"Bangladesh\",\"Ukraine\",\"Ethiopia\",\"Democratic Republic of Congo\",\"United Kingdom\",\"Italy\",\"South Africa\",\"Mexico\",\"France\",\"Egypt\",\"Vietnam\",\"Philippines\",\"Myanmar\",\"Thailand\",\"Tanzania\",\"Poland\",\"Spain\",\"Turkey\",\"Iran\",\"Kenya\",\"Uganda\",\"Argentina\",\"Romania\",\"South Korea\",\"Mozambique\",\"North Korea\",\"Canada\",\"Sudan\",\"Afghanistan\",\"Colombia\",\"Cote d'Ivoire\",\"Uzbekistan\",\"Morocco\",\"Ghana\",\"Angola\",\"Nepal\",\"Cameroon\",\"Mali\",\"Niger\",\"Burkina Faso\"],\"y\":[265408107.0,238158165.0,71197804.0,59591156.0,44046940.0,43670014.0,38151876.0,32674113.0,31922803.0,25559668.0,24803500.0,21245448.0,20880666.0,17446536.0,17281599.0,16779305.0,15807131.0,15720799.0,15093779.0,14878358.0,14444651.0,13680036.0,13486762.0,11358486.0,11195695.0,11173484.0,10888774.0,10748954.0,9278363.0,8605264.0,8575535.0,8552885.0,7883519.0,7540359.0,7045722.0,7029043.0,6534939.0,5986751.0,5982630.0,5849273.0,5732264.0,5581617.0,5574034.0,5448870.0,5366715.0,5159451.0,5155971.0,4932834.0,4891553.0,4869270.0,4681530.0,4601205.0,4526448.0,4485737.0,4418586.0,4248735.0,4110709.0,4105624.0,4088625.0,4042756.0,4025327.0,3929991.0,3889556.0,3856108.0,3803704.0,3714522.0,3697749.0,3554422.0,3479257.0,3387622.0,3366450.0,3253305.0,3177198.0,3138946.0,3124017.0,3090411.0,3070778.0,3006745.0,2807116.0,2791937.0,2645895.0,2626923.0,2591836.0,2489408.0,2422451.0,2337812.0,2322243.0,2293163.0,2290887.0,2170344.0,2059372.0,2028239.0,1967355.0,1875279.0,1832362.0,1805384.0,1619398.0,1611979.0,1576883.0,1550150.0,1525867.0,1519069.0,1457784.0,1453210.0,1414509.0,1412598.0,1349158.0,1335833.0,1273194.0,1217384.0,1205649.0,1133215.0,1118630.0,1087929.0,1060980.0,1021356.0,1016460.0,968037.0,929218.0,924736.0,919327.0,905969.0,861098.0,854187.0,819242.0,783175.0,744776.0,701473.0,670895.0,652060.0,643716.0,629919.0,611953.0,610290.0,569911.0,555604.0,535857.0,523549.0,511673.0,488770.0,485854.0,457510.0,436106.0,418150.0,411257.0,387047.0,372630.0,343581.0,336489.0,304946.0,282435.0,252726.0,198856.0,198601.0,198007.0,183494.0,178311.0,173735.0,173610.0,171686.0,148273.0,139389.0,119146.0,109715.0,93959.0,89155.0,81422.0,75939.0,69611.0,67332.0,56963.0,53199.0,46024.0,38670.0,36806.0,34511.0,32935.0,29988.0,29937.0,29352.0,27515.0,24536.0,23445.0,23064.0,21106.0,20348.0,19082.0,17581.0,14592.0,14269.0,13812.0,12803.0,12535.0,12184.0,10185.0,8624.0,7828.0,6761.0,4817.0,3998.0,2964.0,2251.0,591.0,302.0],\"type\":\"bar\"},{\"x\":[1990,1991,1992,1993,1994,1995,1996,1997,1998,1999,2000,2001,2002,2003,2004,2005,2006,2007,2008,2009,2010,2011,2012,2013,2014,2015,2016,2017,2018,2019],\"y\":[43518524.0,44059730.0,44459144.0,45185711.0,46182613.0,46177018.0,46320830.0,46672375.0,47066091.0,47652089.0,48050321.0,48385703.0,48897028.0,49123954.0,49330179.0,49591907.0,49424521.0,49495210.0,50115748.0,49900666.0,50422772.0,50413301.0,50597659.0,50931540.0,51268371.0,51856400.0,52337441.0,52789758.0,53545248.0,54362908.0],\"type\":\"scatter\"}],                        {\"template\":{\"data\":{\"histogram2dcontour\":[{\"type\":\"histogram2dcontour\",\"colorbar\":{\"outlinewidth\":0,\"ticks\":\"\"},\"colorscale\":[[0.0,\"#0d0887\"],[0.1111111111111111,\"#46039f\"],[0.2222222222222222,\"#7201a8\"],[0.3333333333333333,\"#9c179e\"],[0.4444444444444444,\"#bd3786\"],[0.5555555555555556,\"#d8576b\"],[0.6666666666666666,\"#ed7953\"],[0.7777777777777778,\"#fb9f3a\"],[0.8888888888888888,\"#fdca26\"],[1.0,\"#f0f921\"]]}],\"choropleth\":[{\"type\":\"choropleth\",\"colorbar\":{\"outlinewidth\":0,\"ticks\":\"\"}}],\"histogram2d\":[{\"type\":\"histogram2d\",\"colorbar\":{\"outlinewidth\":0,\"ticks\":\"\"},\"colorscale\":[[0.0,\"#0d0887\"],[0.1111111111111111,\"#46039f\"],[0.2222222222222222,\"#7201a8\"],[0.3333333333333333,\"#9c179e\"],[0.4444444444444444,\"#bd3786\"],[0.5555555555555556,\"#d8576b\"],[0.6666666666666666,\"#ed7953\"],[0.7777777777777778,\"#fb9f3a\"],[0.8888888888888888,\"#fdca26\"],[1.0,\"#f0f921\"]]}],\"heatmap\":[{\"type\":\"heatmap\",\"colorbar\":{\"outlinewidth\":0,\"ticks\":\"\"},\"colorscale\":[[0.0,\"#0d0887\"],[0.1111111111111111,\"#46039f\"],[0.2222222222222222,\"#7201a8\"],[0.3333333333333333,\"#9c179e\"],[0.4444444444444444,\"#bd3786\"],[0.5555555555555556,\"#d8576b\"],[0.6666666666666666,\"#ed7953\"],[0.7777777777777778,\"#fb9f3a\"],[0.8888888888888888,\"#fdca26\"],[1.0,\"#f0f921\"]]}],\"heatmapgl\":[{\"type\":\"heatmapgl\",\"colorbar\":{\"outlinewidth\":0,\"ticks\":\"\"},\"colorscale\":[[0.0,\"#0d0887\"],[0.1111111111111111,\"#46039f\"],[0.2222222222222222,\"#7201a8\"],[0.3333333333333333,\"#9c179e\"],[0.4444444444444444,\"#bd3786\"],[0.5555555555555556,\"#d8576b\"],[0.6666666666666666,\"#ed7953\"],[0.7777777777777778,\"#fb9f3a\"],[0.8888888888888888,\"#fdca26\"],[1.0,\"#f0f921\"]]}],\"contourcarpet\":[{\"type\":\"contourcarpet\",\"colorbar\":{\"outlinewidth\":0,\"ticks\":\"\"}}],\"contour\":[{\"type\":\"contour\",\"colorbar\":{\"outlinewidth\":0,\"ticks\":\"\"},\"colorscale\":[[0.0,\"#0d0887\"],[0.1111111111111111,\"#46039f\"],[0.2222222222222222,\"#7201a8\"],[0.3333333333333333,\"#9c179e\"],[0.4444444444444444,\"#bd3786\"],[0.5555555555555556,\"#d8576b\"],[0.6666666666666666,\"#ed7953\"],[0.7777777777777778,\"#fb9f3a\"],[0.8888888888888888,\"#fdca26\"],[1.0,\"#f0f921\"]]}],\"surface\":[{\"type\":\"surface\",\"colorbar\":{\"outlinewidth\":0,\"ticks\":\"\"},\"colorscale\":[[0.0,\"#0d0887\"],[0.1111111111111111,\"#46039f\"],[0.2222222222222222,\"#7201a8\"],[0.3333333333333333,\"#9c179e\"],[0.4444444444444444,\"#bd3786\"],[0.5555555555555556,\"#d8576b\"],[0.6666666666666666,\"#ed7953\"],[0.7777777777777778,\"#fb9f3a\"],[0.8888888888888888,\"#fdca26\"],[1.0,\"#f0f921\"]]}],\"mesh3d\":[{\"type\":\"mesh3d\",\"colorbar\":{\"outlinewidth\":0,\"ticks\":\"\"}}],\"scatter\":[{\"fillpattern\":{\"fillmode\":\"overlay\",\"size\":10,\"solidity\":0.2},\"type\":\"scatter\"}],\"parcoords\":[{\"type\":\"parcoords\",\"line\":{\"colorbar\":{\"outlinewidth\":0,\"ticks\":\"\"}}}],\"scatterpolargl\":[{\"type\":\"scatterpolargl\",\"marker\":{\"colorbar\":{\"outlinewidth\":0,\"ticks\":\"\"}}}],\"bar\":[{\"error_x\":{\"color\":\"#2a3f5f\"},\"error_y\":{\"color\":\"#2a3f5f\"},\"marker\":{\"line\":{\"color\":\"#E5ECF6\",\"width\":0.5},\"pattern\":{\"fillmode\":\"overlay\",\"size\":10,\"solidity\":0.2}},\"type\":\"bar\"}],\"scattergeo\":[{\"type\":\"scattergeo\",\"marker\":{\"colorbar\":{\"outlinewidth\":0,\"ticks\":\"\"}}}],\"scatterpolar\":[{\"type\":\"scatterpolar\",\"marker\":{\"colorbar\":{\"outlinewidth\":0,\"ticks\":\"\"}}}],\"histogram\":[{\"marker\":{\"pattern\":{\"fillmode\":\"overlay\",\"size\":10,\"solidity\":0.2}},\"type\":\"histogram\"}],\"scattergl\":[{\"type\":\"scattergl\",\"marker\":{\"colorbar\":{\"outlinewidth\":0,\"ticks\":\"\"}}}],\"scatter3d\":[{\"type\":\"scatter3d\",\"line\":{\"colorbar\":{\"outlinewidth\":0,\"ticks\":\"\"}},\"marker\":{\"colorbar\":{\"outlinewidth\":0,\"ticks\":\"\"}}}],\"scattermapbox\":[{\"type\":\"scattermapbox\",\"marker\":{\"colorbar\":{\"outlinewidth\":0,\"ticks\":\"\"}}}],\"scatterternary\":[{\"type\":\"scatterternary\",\"marker\":{\"colorbar\":{\"outlinewidth\":0,\"ticks\":\"\"}}}],\"scattercarpet\":[{\"type\":\"scattercarpet\",\"marker\":{\"colorbar\":{\"outlinewidth\":0,\"ticks\":\"\"}}}],\"carpet\":[{\"aaxis\":{\"endlinecolor\":\"#2a3f5f\",\"gridcolor\":\"white\",\"linecolor\":\"white\",\"minorgridcolor\":\"white\",\"startlinecolor\":\"#2a3f5f\"},\"baxis\":{\"endlinecolor\":\"#2a3f5f\",\"gridcolor\":\"white\",\"linecolor\":\"white\",\"minorgridcolor\":\"white\",\"startlinecolor\":\"#2a3f5f\"},\"type\":\"carpet\"}],\"table\":[{\"cells\":{\"fill\":{\"color\":\"#EBF0F8\"},\"line\":{\"color\":\"white\"}},\"header\":{\"fill\":{\"color\":\"#C8D4E3\"},\"line\":{\"color\":\"white\"}},\"type\":\"table\"}],\"barpolar\":[{\"marker\":{\"line\":{\"color\":\"#E5ECF6\",\"width\":0.5},\"pattern\":{\"fillmode\":\"overlay\",\"size\":10,\"solidity\":0.2}},\"type\":\"barpolar\"}],\"pie\":[{\"automargin\":true,\"type\":\"pie\"}]},\"layout\":{\"autotypenumbers\":\"strict\",\"colorway\":[\"#636efa\",\"#EF553B\",\"#00cc96\",\"#ab63fa\",\"#FFA15A\",\"#19d3f3\",\"#FF6692\",\"#B6E880\",\"#FF97FF\",\"#FECB52\"],\"font\":{\"color\":\"#2a3f5f\"},\"hovermode\":\"closest\",\"hoverlabel\":{\"align\":\"left\"},\"paper_bgcolor\":\"white\",\"plot_bgcolor\":\"#E5ECF6\",\"polar\":{\"bgcolor\":\"#E5ECF6\",\"angularaxis\":{\"gridcolor\":\"white\",\"linecolor\":\"white\",\"ticks\":\"\"},\"radialaxis\":{\"gridcolor\":\"white\",\"linecolor\":\"white\",\"ticks\":\"\"}},\"ternary\":{\"bgcolor\":\"#E5ECF6\",\"aaxis\":{\"gridcolor\":\"white\",\"linecolor\":\"white\",\"ticks\":\"\"},\"baxis\":{\"gridcolor\":\"white\",\"linecolor\":\"white\",\"ticks\":\"\"},\"caxis\":{\"gridcolor\":\"white\",\"linecolor\":\"white\",\"ticks\":\"\"}},\"coloraxis\":{\"colorbar\":{\"outlinewidth\":0,\"ticks\":\"\"}},\"colorscale\":{\"sequential\":[[0.0,\"#0d0887\"],[0.1111111111111111,\"#46039f\"],[0.2222222222222222,\"#7201a8\"],[0.3333333333333333,\"#9c179e\"],[0.4444444444444444,\"#bd3786\"],[0.5555555555555556,\"#d8576b\"],[0.6666666666666666,\"#ed7953\"],[0.7777777777777778,\"#fb9f3a\"],[0.8888888888888888,\"#fdca26\"],[1.0,\"#f0f921\"]],\"sequentialminus\":[[0.0,\"#0d0887\"],[0.1111111111111111,\"#46039f\"],[0.2222222222222222,\"#7201a8\"],[0.3333333333333333,\"#9c179e\"],[0.4444444444444444,\"#bd3786\"],[0.5555555555555556,\"#d8576b\"],[0.6666666666666666,\"#ed7953\"],[0.7777777777777778,\"#fb9f3a\"],[0.8888888888888888,\"#fdca26\"],[1.0,\"#f0f921\"]],\"diverging\":[[0,\"#8e0152\"],[0.1,\"#c51b7d\"],[0.2,\"#de77ae\"],[0.3,\"#f1b6da\"],[0.4,\"#fde0ef\"],[0.5,\"#f7f7f7\"],[0.6,\"#e6f5d0\"],[0.7,\"#b8e186\"],[0.8,\"#7fbc41\"],[0.9,\"#4d9221\"],[1,\"#276419\"]]},\"xaxis\":{\"gridcolor\":\"white\",\"linecolor\":\"white\",\"ticks\":\"\",\"title\":{\"standoff\":15},\"zerolinecolor\":\"white\",\"automargin\":true,\"zerolinewidth\":2},\"yaxis\":{\"gridcolor\":\"white\",\"linecolor\":\"white\",\"ticks\":\"\",\"title\":{\"standoff\":15},\"zerolinecolor\":\"white\",\"automargin\":true,\"zerolinewidth\":2},\"scene\":{\"xaxis\":{\"backgroundcolor\":\"#E5ECF6\",\"gridcolor\":\"white\",\"linecolor\":\"white\",\"showbackground\":true,\"ticks\":\"\",\"zerolinecolor\":\"white\",\"gridwidth\":2},\"yaxis\":{\"backgroundcolor\":\"#E5ECF6\",\"gridcolor\":\"white\",\"linecolor\":\"white\",\"showbackground\":true,\"ticks\":\"\",\"zerolinecolor\":\"white\",\"gridwidth\":2},\"zaxis\":{\"backgroundcolor\":\"#E5ECF6\",\"gridcolor\":\"white\",\"linecolor\":\"white\",\"showbackground\":true,\"ticks\":\"\",\"zerolinecolor\":\"white\",\"gridwidth\":2}},\"shapedefaults\":{\"line\":{\"color\":\"#2a3f5f\"}},\"annotationdefaults\":{\"arrowcolor\":\"#2a3f5f\",\"arrowhead\":0,\"arrowwidth\":1},\"geo\":{\"bgcolor\":\"white\",\"landcolor\":\"#E5ECF6\",\"subunitcolor\":\"white\",\"showland\":true,\"showlakes\":true,\"lakecolor\":\"white\"},\"title\":{\"x\":0.05},\"mapbox\":{\"style\":\"light\"}}},\"title\":{\"text\":\"Total no. of deaths from 1990 to 2019 for each contry\"},\"height\":550,\"width\":800,\"xaxis\":{\"tickangle\":45},\"margin\":{\"l\":30,\"r\":10,\"t\":0,\"b\":20},\"paper_bgcolor\":\"rgba(0,0,0,0)\",\"plot_bgcolor\":\"rgba(0,0,0,0)\"},                        {\"responsive\": true}                    ).then(function(){\n",
       "                            \n",
       "var gd = document.getElementById('c93aa3c4-a6eb-42a4-9864-3cd17b06a46a');\n",
       "var x = new MutationObserver(function (mutations, observer) {{\n",
       "        var display = window.getComputedStyle(gd).display;\n",
       "        if (!display || display === 'none') {{\n",
       "            console.log([gd, 'removed!']);\n",
       "            Plotly.purge(gd);\n",
       "            observer.disconnect();\n",
       "        }}\n",
       "}});\n",
       "\n",
       "// Listen for the removal of the full notebook cells\n",
       "var notebookContainer = gd.closest('#notebook-container');\n",
       "if (notebookContainer) {{\n",
       "    x.observe(notebookContainer, {childList: true});\n",
       "}}\n",
       "\n",
       "// Listen for the clearing of the current output cell\n",
       "var outputEl = gd.closest('.output');\n",
       "if (outputEl) {{\n",
       "    x.observe(outputEl, {childList: true});\n",
       "}}\n",
       "\n",
       "                        })                };                });            </script>        </div>"
      ]
     },
     "metadata": {},
     "output_type": "display_data"
    }
   ],
   "source": [
    "\n",
    "fig.add_trace(go.Scatter(x=year_Deaths.index, y=year_Deaths['Total of deaths']))\n",
    "fig5 = fig.update_layout(height=550, width=800,margin=dict(l=30, r=10, t=0, b=20),\n",
    "                         paper_bgcolor='rgba(0,0,0,0)',\n",
    "                         plot_bgcolor='rgba(0,0,0,0)')\n",
    "fig5.show()\n",
    "#\"plotly\", \"plotly_white\", \"plotly_dark\", \"ggplot2\", \"seaborn\", \"simple_white\", \"none\" ,,template=\"plotly_white\" ,title_text=\"Deaths trend per year\""
   ]
  },
  {
   "cell_type": "markdown",
   "id": "8a30b8dd",
   "metadata": {},
   "source": [
    "## 3_ Diseases map for each country for a given year"
   ]
  },
  {
   "cell_type": "code",
   "execution_count": 69,
   "id": "a1526f17",
   "metadata": {},
   "outputs": [
    {
     "data": {
      "text/html": [
       "<div>\n",
       "<style scoped>\n",
       "    .dataframe tbody tr th:only-of-type {\n",
       "        vertical-align: middle;\n",
       "    }\n",
       "\n",
       "    .dataframe tbody tr th {\n",
       "        vertical-align: top;\n",
       "    }\n",
       "\n",
       "    .dataframe thead th {\n",
       "        text-align: right;\n",
       "    }\n",
       "</style>\n",
       "<table border=\"1\" class=\"dataframe\">\n",
       "  <thead>\n",
       "    <tr style=\"text-align: right;\">\n",
       "      <th></th>\n",
       "      <th>Entity</th>\n",
       "      <th>Code</th>\n",
       "      <th>Year</th>\n",
       "      <th>Meningitis</th>\n",
       "      <th>Neoplasms</th>\n",
       "      <th>Fire</th>\n",
       "      <th>Malaria</th>\n",
       "      <th>Drowning</th>\n",
       "      <th>Interpersonal violence</th>\n",
       "      <th>HIV/AIDS</th>\n",
       "      <th>...</th>\n",
       "      <th>Poisonings</th>\n",
       "      <th>Protein-energy malnutrition</th>\n",
       "      <th>Cardiovascular</th>\n",
       "      <th>Chronic kidney disease</th>\n",
       "      <th>Chronic respiratory</th>\n",
       "      <th>Cirrhosis</th>\n",
       "      <th>Digestive</th>\n",
       "      <th>Acute hepatitis</th>\n",
       "      <th>Dementias</th>\n",
       "      <th>Parkinson</th>\n",
       "    </tr>\n",
       "  </thead>\n",
       "  <tbody>\n",
       "    <tr>\n",
       "      <th>0</th>\n",
       "      <td>Afghanistan</td>\n",
       "      <td>AFG</td>\n",
       "      <td>2007</td>\n",
       "      <td>2933.0</td>\n",
       "      <td>15925.0</td>\n",
       "      <td>481.0</td>\n",
       "      <td>393.0</td>\n",
       "      <td>2127.0</td>\n",
       "      <td>3657.0</td>\n",
       "      <td>148.0</td>\n",
       "      <td>...</td>\n",
       "      <td>513.0</td>\n",
       "      <td>2439.0</td>\n",
       "      <td>53962.0</td>\n",
       "      <td>4490.0</td>\n",
       "      <td>7222.0</td>\n",
       "      <td>3346.0</td>\n",
       "      <td>6458.0</td>\n",
       "      <td>3437.0</td>\n",
       "      <td>1402.0</td>\n",
       "      <td>450.0</td>\n",
       "    </tr>\n",
       "    <tr>\n",
       "      <th>137</th>\n",
       "      <td>Albania</td>\n",
       "      <td>ALB</td>\n",
       "      <td>2007</td>\n",
       "      <td>24.0</td>\n",
       "      <td>3357.0</td>\n",
       "      <td>16.0</td>\n",
       "      <td>0.0</td>\n",
       "      <td>44.0</td>\n",
       "      <td>76.0</td>\n",
       "      <td>2.0</td>\n",
       "      <td>...</td>\n",
       "      <td>12.0</td>\n",
       "      <td>4.0</td>\n",
       "      <td>9024.0</td>\n",
       "      <td>231.0</td>\n",
       "      <td>586.0</td>\n",
       "      <td>260.0</td>\n",
       "      <td>413.0</td>\n",
       "      <td>1.0</td>\n",
       "      <td>543.0</td>\n",
       "      <td>146.0</td>\n",
       "    </tr>\n",
       "    <tr>\n",
       "      <th>167</th>\n",
       "      <td>Algeria</td>\n",
       "      <td>DZA</td>\n",
       "      <td>2007</td>\n",
       "      <td>489.0</td>\n",
       "      <td>15949.0</td>\n",
       "      <td>842.0</td>\n",
       "      <td>0.0</td>\n",
       "      <td>686.0</td>\n",
       "      <td>535.0</td>\n",
       "      <td>278.0</td>\n",
       "      <td>...</td>\n",
       "      <td>391.0</td>\n",
       "      <td>133.0</td>\n",
       "      <td>70099.0</td>\n",
       "      <td>5133.0</td>\n",
       "      <td>5594.0</td>\n",
       "      <td>3087.0</td>\n",
       "      <td>4899.0</td>\n",
       "      <td>272.0</td>\n",
       "      <td>2976.0</td>\n",
       "      <td>777.0</td>\n",
       "    </tr>\n",
       "    <tr>\n",
       "      <th>227</th>\n",
       "      <td>American Samoa</td>\n",
       "      <td>ASM</td>\n",
       "      <td>2007</td>\n",
       "      <td>1.0</td>\n",
       "      <td>52.0</td>\n",
       "      <td>0.0</td>\n",
       "      <td>0.0</td>\n",
       "      <td>4.0</td>\n",
       "      <td>3.0</td>\n",
       "      <td>1.0</td>\n",
       "      <td>...</td>\n",
       "      <td>0.0</td>\n",
       "      <td>2.0</td>\n",
       "      <td>97.0</td>\n",
       "      <td>19.0</td>\n",
       "      <td>21.0</td>\n",
       "      <td>6.0</td>\n",
       "      <td>11.0</td>\n",
       "      <td>0.0</td>\n",
       "      <td>5.0</td>\n",
       "      <td>2.0</td>\n",
       "    </tr>\n",
       "    <tr>\n",
       "      <th>287</th>\n",
       "      <td>Andorra</td>\n",
       "      <td>AND</td>\n",
       "      <td>2007</td>\n",
       "      <td>0.0</td>\n",
       "      <td>185.0</td>\n",
       "      <td>0.0</td>\n",
       "      <td>0.0</td>\n",
       "      <td>0.0</td>\n",
       "      <td>1.0</td>\n",
       "      <td>3.0</td>\n",
       "      <td>...</td>\n",
       "      <td>0.0</td>\n",
       "      <td>0.0</td>\n",
       "      <td>126.0</td>\n",
       "      <td>11.0</td>\n",
       "      <td>30.0</td>\n",
       "      <td>10.0</td>\n",
       "      <td>20.0</td>\n",
       "      <td>1.0</td>\n",
       "      <td>23.0</td>\n",
       "      <td>5.0</td>\n",
       "    </tr>\n",
       "  </tbody>\n",
       "</table>\n",
       "<p>5 rows × 34 columns</p>\n",
       "</div>"
      ],
      "text/plain": [
       "             Entity Code  Year  Meningitis  Neoplasms   Fire  Malaria  \\\n",
       "0       Afghanistan  AFG  2007      2933.0    15925.0  481.0    393.0   \n",
       "137         Albania  ALB  2007        24.0     3357.0   16.0      0.0   \n",
       "167         Algeria  DZA  2007       489.0    15949.0  842.0      0.0   \n",
       "227  American Samoa  ASM  2007         1.0       52.0    0.0      0.0   \n",
       "287         Andorra  AND  2007         0.0      185.0    0.0      0.0   \n",
       "\n",
       "     Drowning  Interpersonal violence  HIV/AIDS  ...  Poisonings  \\\n",
       "0      2127.0                  3657.0     148.0  ...       513.0   \n",
       "137      44.0                    76.0       2.0  ...        12.0   \n",
       "167     686.0                   535.0     278.0  ...       391.0   \n",
       "227       4.0                     3.0       1.0  ...         0.0   \n",
       "287       0.0                     1.0       3.0  ...         0.0   \n",
       "\n",
       "     Protein-energy malnutrition  Cardiovascular  Chronic kidney disease  \\\n",
       "0                         2439.0         53962.0                  4490.0   \n",
       "137                          4.0          9024.0                   231.0   \n",
       "167                        133.0         70099.0                  5133.0   \n",
       "227                          2.0            97.0                    19.0   \n",
       "287                          0.0           126.0                    11.0   \n",
       "\n",
       "     Chronic respiratory  Cirrhosis  Digestive  Acute hepatitis  Dementias  \\\n",
       "0                 7222.0     3346.0     6458.0           3437.0     1402.0   \n",
       "137                586.0      260.0      413.0              1.0      543.0   \n",
       "167               5594.0     3087.0     4899.0            272.0     2976.0   \n",
       "227                 21.0        6.0       11.0              0.0        5.0   \n",
       "287                 30.0       10.0       20.0              1.0       23.0   \n",
       "\n",
       "     Parkinson  \n",
       "0        450.0  \n",
       "137      146.0  \n",
       "167      777.0  \n",
       "227        2.0  \n",
       "287        5.0  \n",
       "\n",
       "[5 rows x 34 columns]"
      ]
     },
     "execution_count": 69,
     "metadata": {},
     "output_type": "execute_result"
    }
   ],
   "source": [
    "df_2007 = prep_df[prep_df['Year']==2007]\n",
    "df_2007.head(5)"
   ]
  },
  {
   "cell_type": "code",
   "execution_count": 70,
   "id": "d283fd05",
   "metadata": {},
   "outputs": [
    {
     "data": {
      "application/vnd.plotly.v1+json": {
       "config": {
        "plotlyServerURL": "https://plot.ly"
       },
       "data": [
        {
         "autocolorscale": false,
         "colorscale": [
          [
           0,
           "rgb(255,255,204)"
          ],
          [
           0.125,
           "rgb(255,237,160)"
          ],
          [
           0.25,
           "rgb(254,217,118)"
          ],
          [
           0.375,
           "rgb(254,178,76)"
          ],
          [
           0.5,
           "rgb(253,141,60)"
          ],
          [
           0.625,
           "rgb(252,78,42)"
          ],
          [
           0.75,
           "rgb(227,26,28)"
          ],
          [
           0.875,
           "rgb(189,0,38)"
          ],
          [
           1,
           "rgb(128,0,38)"
          ]
         ],
         "locations": [
          "AFG",
          "ALB",
          "DZA",
          "ASM",
          "AND",
          "AGO",
          "ATG",
          "ARG",
          "ARM",
          "AUS",
          "AUT",
          "AZE",
          "BHS",
          "BHR",
          "BGD",
          "BRB",
          "BLR",
          "BEL",
          "BLZ",
          "BEN",
          "BMU",
          "BTN",
          "BOL",
          "BIH",
          "BWA",
          "BRA",
          "BRN",
          "BGR",
          "BFA",
          "BDI",
          "KHM",
          "CMR",
          "CAN",
          "CPV",
          "CAF",
          "TCD",
          "CHL",
          "CHN",
          "COL",
          "COM",
          "COG",
          "COK",
          "CRI",
          "CIV",
          "HRV",
          "CUB",
          "CYP",
          "CZE",
          "COD",
          "DNK",
          "DJI",
          "DMA",
          "DOM",
          "ECU",
          "EGY",
          "SLV",
          "GNQ",
          "ERI",
          "EST",
          "SWZ",
          "ETH",
          "FJI",
          "FIN",
          "FRA",
          "GAB",
          "GMB",
          "GEO",
          "DEU",
          "GHA",
          "GRC",
          "GRL",
          "GRD",
          "GUM",
          "GTM",
          "GIN",
          "GNB",
          "GUY",
          "HTI",
          "HND",
          "HUN",
          "ISL",
          "IND",
          "IDN",
          "IRN",
          "IRQ",
          "IRL",
          "ISR",
          "ITA",
          "JAM",
          "JPN",
          "JOR",
          "KAZ",
          "KEN",
          "KIR",
          "KWT",
          "KGZ",
          "LAO",
          "LVA",
          "LBN",
          "LSO",
          "LBR",
          "LBY",
          "LTU",
          "LUX",
          "MDG",
          "MWI",
          "MYS",
          "MDV",
          "MLI",
          "MLT",
          "MHL",
          "MRT",
          "MUS",
          "MEX",
          "FSM",
          "MDA",
          "MCO",
          "MNG",
          "MNE",
          "MAR",
          "MOZ",
          "MMR",
          "NAM",
          "NRU",
          "NPL",
          "NLD",
          "NZL",
          "NIC",
          "NER",
          "NGA",
          "NIU",
          "PRK",
          "MKD",
          "MNP",
          "NOR",
          "OMN",
          "PAK",
          "PLW",
          "PSE",
          "PAN",
          "PNG",
          "PRY",
          "PER",
          "PHL",
          "POL",
          "PRT",
          "PRI",
          "QAT",
          "ROU",
          "RUS",
          "RWA",
          "KNA",
          "LCA",
          "VCT",
          "WSM",
          "SMR",
          "STP",
          "SAU",
          "SEN",
          "SRB",
          "SYC",
          "SLE",
          "SGP",
          "SVK",
          "SVN",
          "SLB",
          "SOM",
          "ZAF",
          "KOR",
          "SSD",
          "ESP",
          "LKA",
          "SDN",
          "SUR",
          "SWE",
          "CHE",
          "SYR",
          "TWN",
          "TJK",
          "TZA",
          "THA",
          "TLS",
          "TGO",
          "TKL",
          "TON",
          "TTO",
          "TUN",
          "TUR",
          "TKM",
          "TUV",
          "UGA",
          "UKR",
          "ARE",
          "GBR",
          "USA",
          "VIR",
          "URY",
          "UZB",
          "VUT",
          "VEN",
          "VNM",
          "YEM",
          "ZMB",
          "ZWE"
         ],
         "marker": {
          "line": {
           "color": "darkgray",
           "width": 0.5
          }
         },
         "text": [
          "Afghanistan",
          "Albania",
          "Algeria",
          "American Samoa",
          "Andorra",
          "Angola",
          "Antigua and Barbuda",
          "Argentina",
          "Armenia",
          "Australia",
          "Austria",
          "Azerbaijan",
          "Bahamas",
          "Bahrain",
          "Bangladesh",
          "Barbados",
          "Belarus",
          "Belgium",
          "Belize",
          "Benin",
          "Bermuda",
          "Bhutan",
          "Bolivia",
          "Bosnia and Herzegovina",
          "Botswana",
          "Brazil",
          "Brunei",
          "Bulgaria",
          "Burkina Faso",
          "Burundi",
          "Cambodia",
          "Cameroon",
          "Canada",
          "Cape Verde",
          "Central African Republic",
          "Chad",
          "Chile",
          "China",
          "Colombia",
          "Comoros",
          "Congo",
          "Cook Islands",
          "Costa Rica",
          "Cote d'Ivoire",
          "Croatia",
          "Cuba",
          "Cyprus",
          "Czechia",
          "Democratic Republic of Congo",
          "Denmark",
          "Djibouti",
          "Dominica",
          "Dominican Republic",
          "Ecuador",
          "Egypt",
          "El Salvador",
          "Equatorial Guinea",
          "Eritrea",
          "Estonia",
          "Eswatini",
          "Ethiopia",
          "Fiji",
          "Finland",
          "France",
          "Gabon",
          "Gambia",
          "Georgia",
          "Germany",
          "Ghana",
          "Greece",
          "Greenland",
          "Grenada",
          "Guam",
          "Guatemala",
          "Guinea",
          "Guinea-Bissau",
          "Guyana",
          "Haiti",
          "Honduras",
          "Hungary",
          "Iceland",
          "India",
          "Indonesia",
          "Iran",
          "Iraq",
          "Ireland",
          "Israel",
          "Italy",
          "Jamaica",
          "Japan",
          "Jordan",
          "Kazakhstan",
          "Kenya",
          "Kiribati",
          "Kuwait",
          "Kyrgyzstan",
          "Laos",
          "Latvia",
          "Lebanon",
          "Lesotho",
          "Liberia",
          "Libya",
          "Lithuania",
          "Luxembourg",
          "Madagascar",
          "Malawi",
          "Malaysia",
          "Maldives",
          "Mali",
          "Malta",
          "Marshall Islands",
          "Mauritania",
          "Mauritius",
          "Mexico",
          "Micronesia (country)",
          "Moldova",
          "Monaco",
          "Mongolia",
          "Montenegro",
          "Morocco",
          "Mozambique",
          "Myanmar",
          "Namibia",
          "Nauru",
          "Nepal",
          "Netherlands",
          "New Zealand",
          "Nicaragua",
          "Niger",
          "Nigeria",
          "Niue",
          "North Korea",
          "North Macedonia",
          "Northern Mariana Islands",
          "Norway",
          "Oman",
          "Pakistan",
          "Palau",
          "Palestine",
          "Panama",
          "Papua New Guinea",
          "Paraguay",
          "Peru",
          "Philippines",
          "Poland",
          "Portugal",
          "Puerto Rico",
          "Qatar",
          "Romania",
          "Russia",
          "Rwanda",
          "Saint Kitts and Nevis",
          "Saint Lucia",
          "Saint Vincent and the Grenadines",
          "Samoa",
          "San Marino",
          "Sao Tome and Principe",
          "Saudi Arabia",
          "Senegal",
          "Serbia",
          "Seychelles",
          "Sierra Leone",
          "Singapore",
          "Slovakia",
          "Slovenia",
          "Solomon Islands",
          "Somalia",
          "South Africa",
          "South Korea",
          "South Sudan",
          "Spain",
          "Sri Lanka",
          "Sudan",
          "Suriname",
          "Sweden",
          "Switzerland",
          "Syria",
          "Taiwan",
          "Tajikistan",
          "Tanzania",
          "Thailand",
          "Timor",
          "Togo",
          "Tokelau",
          "Tonga",
          "Trinidad and Tobago",
          "Tunisia",
          "Turkey",
          "Turkmenistan",
          "Tuvalu",
          "Uganda",
          "Ukraine",
          "United Arab Emirates",
          "United Kingdom",
          "United States",
          "United States Virgin Islands",
          "Uruguay",
          "Uzbekistan",
          "Vanuatu",
          "Venezuela",
          "Vietnam",
          "Yemen",
          "Zambia",
          "Zimbabwe"
         ],
         "type": "choropleth",
         "z": [
          2127,
          44,
          686,
          4,
          0,
          1280,
          4,
          718,
          64,
          204,
          72,
          345,
          24,
          12,
          22024,
          11,
          1136,
          88,
          21,
          390,
          2,
          29,
          538,
          68,
          91,
          8041,
          15,
          226,
          621,
          349,
          1298,
          594,
          293,
          36,
          339,
          562,
          469,
          76277,
          1385,
          18,
          120,
          1,
          126,
          647,
          96,
          282,
          30,
          211,
          2973,
          45,
          29,
          5,
          262,
          685,
          1011,
          251,
          22,
          182,
          84,
          58,
          2697,
          66,
          142,
          1144,
          34,
          45,
          87,
          467,
          611,
          389,
          5,
          8,
          6,
          421,
          535,
          88,
          68,
          1323,
          223,
          192,
          3,
          67595,
          7087,
          1675,
          1118,
          56,
          49,
          422,
          12,
          6689,
          104,
          1498,
          598,
          6,
          20,
          339,
          570,
          244,
          51,
          106,
          95,
          98,
          415,
          3,
          485,
          402,
          708,
          18,
          799,
          5,
          7,
          55,
          41,
          2800,
          13,
          320,
          1,
          172,
          13,
          527,
          813,
          4724,
          76,
          2,
          1865,
          89,
          58,
          168,
          827,
          3883,
          0,
          1859,
          27,
          6,
          60,
          112,
          2997,
          2,
          57,
          139,
          350,
          155,
          778,
          4673,
          1175,
          119,
          40,
          28,
          1000,
          13946,
          321,
          2,
          9,
          7,
          13,
          0,
          3,
          593,
          319,
          145,
          11,
          343,
          23,
          177,
          27,
          106,
          687,
          1957,
          876,
          304,
          554,
          1070,
          1988,
          28,
          110,
          54,
          205,
          685,
          727,
          1322,
          5473,
          64,
          167,
          0,
          6,
          52,
          173,
          614,
          258,
          1,
          795,
          4674,
          110,
          316,
          3864,
          5,
          100,
          2046,
          28,
          574,
          6533,
          917,
          441,
          590
         ]
        }
       ],
       "layout": {
        "geo": {
         "projection": {
          "type": "equirectangular"
         },
         "showcoastlines": false,
         "showframe": false
        },
        "margin": {
         "b": 0,
         "l": 0,
         "r": 0,
         "t": 50
        },
        "paper_bgcolor": "rgba(0,0,0,0)",
        "plot_bgcolor": "rgba(0,0,0,0)",
        "template": {
         "data": {
          "bar": [
           {
            "error_x": {
             "color": "#2a3f5f"
            },
            "error_y": {
             "color": "#2a3f5f"
            },
            "marker": {
             "line": {
              "color": "#E5ECF6",
              "width": 0.5
             },
             "pattern": {
              "fillmode": "overlay",
              "size": 10,
              "solidity": 0.2
             }
            },
            "type": "bar"
           }
          ],
          "barpolar": [
           {
            "marker": {
             "line": {
              "color": "#E5ECF6",
              "width": 0.5
             },
             "pattern": {
              "fillmode": "overlay",
              "size": 10,
              "solidity": 0.2
             }
            },
            "type": "barpolar"
           }
          ],
          "carpet": [
           {
            "aaxis": {
             "endlinecolor": "#2a3f5f",
             "gridcolor": "white",
             "linecolor": "white",
             "minorgridcolor": "white",
             "startlinecolor": "#2a3f5f"
            },
            "baxis": {
             "endlinecolor": "#2a3f5f",
             "gridcolor": "white",
             "linecolor": "white",
             "minorgridcolor": "white",
             "startlinecolor": "#2a3f5f"
            },
            "type": "carpet"
           }
          ],
          "choropleth": [
           {
            "colorbar": {
             "outlinewidth": 0,
             "ticks": ""
            },
            "type": "choropleth"
           }
          ],
          "contour": [
           {
            "colorbar": {
             "outlinewidth": 0,
             "ticks": ""
            },
            "colorscale": [
             [
              0,
              "#0d0887"
             ],
             [
              0.1111111111111111,
              "#46039f"
             ],
             [
              0.2222222222222222,
              "#7201a8"
             ],
             [
              0.3333333333333333,
              "#9c179e"
             ],
             [
              0.4444444444444444,
              "#bd3786"
             ],
             [
              0.5555555555555556,
              "#d8576b"
             ],
             [
              0.6666666666666666,
              "#ed7953"
             ],
             [
              0.7777777777777778,
              "#fb9f3a"
             ],
             [
              0.8888888888888888,
              "#fdca26"
             ],
             [
              1,
              "#f0f921"
             ]
            ],
            "type": "contour"
           }
          ],
          "contourcarpet": [
           {
            "colorbar": {
             "outlinewidth": 0,
             "ticks": ""
            },
            "type": "contourcarpet"
           }
          ],
          "heatmap": [
           {
            "colorbar": {
             "outlinewidth": 0,
             "ticks": ""
            },
            "colorscale": [
             [
              0,
              "#0d0887"
             ],
             [
              0.1111111111111111,
              "#46039f"
             ],
             [
              0.2222222222222222,
              "#7201a8"
             ],
             [
              0.3333333333333333,
              "#9c179e"
             ],
             [
              0.4444444444444444,
              "#bd3786"
             ],
             [
              0.5555555555555556,
              "#d8576b"
             ],
             [
              0.6666666666666666,
              "#ed7953"
             ],
             [
              0.7777777777777778,
              "#fb9f3a"
             ],
             [
              0.8888888888888888,
              "#fdca26"
             ],
             [
              1,
              "#f0f921"
             ]
            ],
            "type": "heatmap"
           }
          ],
          "heatmapgl": [
           {
            "colorbar": {
             "outlinewidth": 0,
             "ticks": ""
            },
            "colorscale": [
             [
              0,
              "#0d0887"
             ],
             [
              0.1111111111111111,
              "#46039f"
             ],
             [
              0.2222222222222222,
              "#7201a8"
             ],
             [
              0.3333333333333333,
              "#9c179e"
             ],
             [
              0.4444444444444444,
              "#bd3786"
             ],
             [
              0.5555555555555556,
              "#d8576b"
             ],
             [
              0.6666666666666666,
              "#ed7953"
             ],
             [
              0.7777777777777778,
              "#fb9f3a"
             ],
             [
              0.8888888888888888,
              "#fdca26"
             ],
             [
              1,
              "#f0f921"
             ]
            ],
            "type": "heatmapgl"
           }
          ],
          "histogram": [
           {
            "marker": {
             "pattern": {
              "fillmode": "overlay",
              "size": 10,
              "solidity": 0.2
             }
            },
            "type": "histogram"
           }
          ],
          "histogram2d": [
           {
            "colorbar": {
             "outlinewidth": 0,
             "ticks": ""
            },
            "colorscale": [
             [
              0,
              "#0d0887"
             ],
             [
              0.1111111111111111,
              "#46039f"
             ],
             [
              0.2222222222222222,
              "#7201a8"
             ],
             [
              0.3333333333333333,
              "#9c179e"
             ],
             [
              0.4444444444444444,
              "#bd3786"
             ],
             [
              0.5555555555555556,
              "#d8576b"
             ],
             [
              0.6666666666666666,
              "#ed7953"
             ],
             [
              0.7777777777777778,
              "#fb9f3a"
             ],
             [
              0.8888888888888888,
              "#fdca26"
             ],
             [
              1,
              "#f0f921"
             ]
            ],
            "type": "histogram2d"
           }
          ],
          "histogram2dcontour": [
           {
            "colorbar": {
             "outlinewidth": 0,
             "ticks": ""
            },
            "colorscale": [
             [
              0,
              "#0d0887"
             ],
             [
              0.1111111111111111,
              "#46039f"
             ],
             [
              0.2222222222222222,
              "#7201a8"
             ],
             [
              0.3333333333333333,
              "#9c179e"
             ],
             [
              0.4444444444444444,
              "#bd3786"
             ],
             [
              0.5555555555555556,
              "#d8576b"
             ],
             [
              0.6666666666666666,
              "#ed7953"
             ],
             [
              0.7777777777777778,
              "#fb9f3a"
             ],
             [
              0.8888888888888888,
              "#fdca26"
             ],
             [
              1,
              "#f0f921"
             ]
            ],
            "type": "histogram2dcontour"
           }
          ],
          "mesh3d": [
           {
            "colorbar": {
             "outlinewidth": 0,
             "ticks": ""
            },
            "type": "mesh3d"
           }
          ],
          "parcoords": [
           {
            "line": {
             "colorbar": {
              "outlinewidth": 0,
              "ticks": ""
             }
            },
            "type": "parcoords"
           }
          ],
          "pie": [
           {
            "automargin": true,
            "type": "pie"
           }
          ],
          "scatter": [
           {
            "fillpattern": {
             "fillmode": "overlay",
             "size": 10,
             "solidity": 0.2
            },
            "type": "scatter"
           }
          ],
          "scatter3d": [
           {
            "line": {
             "colorbar": {
              "outlinewidth": 0,
              "ticks": ""
             }
            },
            "marker": {
             "colorbar": {
              "outlinewidth": 0,
              "ticks": ""
             }
            },
            "type": "scatter3d"
           }
          ],
          "scattercarpet": [
           {
            "marker": {
             "colorbar": {
              "outlinewidth": 0,
              "ticks": ""
             }
            },
            "type": "scattercarpet"
           }
          ],
          "scattergeo": [
           {
            "marker": {
             "colorbar": {
              "outlinewidth": 0,
              "ticks": ""
             }
            },
            "type": "scattergeo"
           }
          ],
          "scattergl": [
           {
            "marker": {
             "colorbar": {
              "outlinewidth": 0,
              "ticks": ""
             }
            },
            "type": "scattergl"
           }
          ],
          "scattermapbox": [
           {
            "marker": {
             "colorbar": {
              "outlinewidth": 0,
              "ticks": ""
             }
            },
            "type": "scattermapbox"
           }
          ],
          "scatterpolar": [
           {
            "marker": {
             "colorbar": {
              "outlinewidth": 0,
              "ticks": ""
             }
            },
            "type": "scatterpolar"
           }
          ],
          "scatterpolargl": [
           {
            "marker": {
             "colorbar": {
              "outlinewidth": 0,
              "ticks": ""
             }
            },
            "type": "scatterpolargl"
           }
          ],
          "scatterternary": [
           {
            "marker": {
             "colorbar": {
              "outlinewidth": 0,
              "ticks": ""
             }
            },
            "type": "scatterternary"
           }
          ],
          "surface": [
           {
            "colorbar": {
             "outlinewidth": 0,
             "ticks": ""
            },
            "colorscale": [
             [
              0,
              "#0d0887"
             ],
             [
              0.1111111111111111,
              "#46039f"
             ],
             [
              0.2222222222222222,
              "#7201a8"
             ],
             [
              0.3333333333333333,
              "#9c179e"
             ],
             [
              0.4444444444444444,
              "#bd3786"
             ],
             [
              0.5555555555555556,
              "#d8576b"
             ],
             [
              0.6666666666666666,
              "#ed7953"
             ],
             [
              0.7777777777777778,
              "#fb9f3a"
             ],
             [
              0.8888888888888888,
              "#fdca26"
             ],
             [
              1,
              "#f0f921"
             ]
            ],
            "type": "surface"
           }
          ],
          "table": [
           {
            "cells": {
             "fill": {
              "color": "#EBF0F8"
             },
             "line": {
              "color": "white"
             }
            },
            "header": {
             "fill": {
              "color": "#C8D4E3"
             },
             "line": {
              "color": "white"
             }
            },
            "type": "table"
           }
          ]
         },
         "layout": {
          "annotationdefaults": {
           "arrowcolor": "#2a3f5f",
           "arrowhead": 0,
           "arrowwidth": 1
          },
          "autotypenumbers": "strict",
          "coloraxis": {
           "colorbar": {
            "outlinewidth": 0,
            "ticks": ""
           }
          },
          "colorscale": {
           "diverging": [
            [
             0,
             "#8e0152"
            ],
            [
             0.1,
             "#c51b7d"
            ],
            [
             0.2,
             "#de77ae"
            ],
            [
             0.3,
             "#f1b6da"
            ],
            [
             0.4,
             "#fde0ef"
            ],
            [
             0.5,
             "#f7f7f7"
            ],
            [
             0.6,
             "#e6f5d0"
            ],
            [
             0.7,
             "#b8e186"
            ],
            [
             0.8,
             "#7fbc41"
            ],
            [
             0.9,
             "#4d9221"
            ],
            [
             1,
             "#276419"
            ]
           ],
           "sequential": [
            [
             0,
             "#0d0887"
            ],
            [
             0.1111111111111111,
             "#46039f"
            ],
            [
             0.2222222222222222,
             "#7201a8"
            ],
            [
             0.3333333333333333,
             "#9c179e"
            ],
            [
             0.4444444444444444,
             "#bd3786"
            ],
            [
             0.5555555555555556,
             "#d8576b"
            ],
            [
             0.6666666666666666,
             "#ed7953"
            ],
            [
             0.7777777777777778,
             "#fb9f3a"
            ],
            [
             0.8888888888888888,
             "#fdca26"
            ],
            [
             1,
             "#f0f921"
            ]
           ],
           "sequentialminus": [
            [
             0,
             "#0d0887"
            ],
            [
             0.1111111111111111,
             "#46039f"
            ],
            [
             0.2222222222222222,
             "#7201a8"
            ],
            [
             0.3333333333333333,
             "#9c179e"
            ],
            [
             0.4444444444444444,
             "#bd3786"
            ],
            [
             0.5555555555555556,
             "#d8576b"
            ],
            [
             0.6666666666666666,
             "#ed7953"
            ],
            [
             0.7777777777777778,
             "#fb9f3a"
            ],
            [
             0.8888888888888888,
             "#fdca26"
            ],
            [
             1,
             "#f0f921"
            ]
           ]
          },
          "colorway": [
           "#636efa",
           "#EF553B",
           "#00cc96",
           "#ab63fa",
           "#FFA15A",
           "#19d3f3",
           "#FF6692",
           "#B6E880",
           "#FF97FF",
           "#FECB52"
          ],
          "font": {
           "color": "#2a3f5f"
          },
          "geo": {
           "bgcolor": "white",
           "lakecolor": "white",
           "landcolor": "#E5ECF6",
           "showlakes": true,
           "showland": true,
           "subunitcolor": "white"
          },
          "hoverlabel": {
           "align": "left"
          },
          "hovermode": "closest",
          "mapbox": {
           "style": "light"
          },
          "paper_bgcolor": "white",
          "plot_bgcolor": "#E5ECF6",
          "polar": {
           "angularaxis": {
            "gridcolor": "white",
            "linecolor": "white",
            "ticks": ""
           },
           "bgcolor": "#E5ECF6",
           "radialaxis": {
            "gridcolor": "white",
            "linecolor": "white",
            "ticks": ""
           }
          },
          "scene": {
           "xaxis": {
            "backgroundcolor": "#E5ECF6",
            "gridcolor": "white",
            "gridwidth": 2,
            "linecolor": "white",
            "showbackground": true,
            "ticks": "",
            "zerolinecolor": "white"
           },
           "yaxis": {
            "backgroundcolor": "#E5ECF6",
            "gridcolor": "white",
            "gridwidth": 2,
            "linecolor": "white",
            "showbackground": true,
            "ticks": "",
            "zerolinecolor": "white"
           },
           "zaxis": {
            "backgroundcolor": "#E5ECF6",
            "gridcolor": "white",
            "gridwidth": 2,
            "linecolor": "white",
            "showbackground": true,
            "ticks": "",
            "zerolinecolor": "white"
           }
          },
          "shapedefaults": {
           "line": {
            "color": "#2a3f5f"
           }
          },
          "ternary": {
           "aaxis": {
            "gridcolor": "white",
            "linecolor": "white",
            "ticks": ""
           },
           "baxis": {
            "gridcolor": "white",
            "linecolor": "white",
            "ticks": ""
           },
           "bgcolor": "#E5ECF6",
           "caxis": {
            "gridcolor": "white",
            "linecolor": "white",
            "ticks": ""
           }
          },
          "title": {
           "x": 0.05
          },
          "xaxis": {
           "automargin": true,
           "gridcolor": "white",
           "linecolor": "white",
           "ticks": "",
           "title": {
            "standoff": 15
           },
           "zerolinecolor": "white",
           "zerolinewidth": 2
          },
          "yaxis": {
           "automargin": true,
           "gridcolor": "white",
           "linecolor": "white",
           "ticks": "",
           "title": {
            "standoff": 15
           },
           "zerolinecolor": "white",
           "zerolinewidth": 2
          }
         }
        }
       }
      },
      "text/html": [
       "<div>                            <div id=\"196027ae-2373-42a7-9c5c-d1a5fe7da0da\" class=\"plotly-graph-div\" style=\"height:525px; width:100%;\"></div>            <script type=\"text/javascript\">                require([\"plotly\"], function(Plotly) {                    window.PLOTLYENV=window.PLOTLYENV || {};                                    if (document.getElementById(\"196027ae-2373-42a7-9c5c-d1a5fe7da0da\")) {                    Plotly.newPlot(                        \"196027ae-2373-42a7-9c5c-d1a5fe7da0da\",                        [{\"autocolorscale\":false,\"colorscale\":[[0.0,\"rgb(255,255,204)\"],[0.125,\"rgb(255,237,160)\"],[0.25,\"rgb(254,217,118)\"],[0.375,\"rgb(254,178,76)\"],[0.5,\"rgb(253,141,60)\"],[0.625,\"rgb(252,78,42)\"],[0.75,\"rgb(227,26,28)\"],[0.875,\"rgb(189,0,38)\"],[1.0,\"rgb(128,0,38)\"]],\"locations\":[\"AFG\",\"ALB\",\"DZA\",\"ASM\",\"AND\",\"AGO\",\"ATG\",\"ARG\",\"ARM\",\"AUS\",\"AUT\",\"AZE\",\"BHS\",\"BHR\",\"BGD\",\"BRB\",\"BLR\",\"BEL\",\"BLZ\",\"BEN\",\"BMU\",\"BTN\",\"BOL\",\"BIH\",\"BWA\",\"BRA\",\"BRN\",\"BGR\",\"BFA\",\"BDI\",\"KHM\",\"CMR\",\"CAN\",\"CPV\",\"CAF\",\"TCD\",\"CHL\",\"CHN\",\"COL\",\"COM\",\"COG\",\"COK\",\"CRI\",\"CIV\",\"HRV\",\"CUB\",\"CYP\",\"CZE\",\"COD\",\"DNK\",\"DJI\",\"DMA\",\"DOM\",\"ECU\",\"EGY\",\"SLV\",\"GNQ\",\"ERI\",\"EST\",\"SWZ\",\"ETH\",\"FJI\",\"FIN\",\"FRA\",\"GAB\",\"GMB\",\"GEO\",\"DEU\",\"GHA\",\"GRC\",\"GRL\",\"GRD\",\"GUM\",\"GTM\",\"GIN\",\"GNB\",\"GUY\",\"HTI\",\"HND\",\"HUN\",\"ISL\",\"IND\",\"IDN\",\"IRN\",\"IRQ\",\"IRL\",\"ISR\",\"ITA\",\"JAM\",\"JPN\",\"JOR\",\"KAZ\",\"KEN\",\"KIR\",\"KWT\",\"KGZ\",\"LAO\",\"LVA\",\"LBN\",\"LSO\",\"LBR\",\"LBY\",\"LTU\",\"LUX\",\"MDG\",\"MWI\",\"MYS\",\"MDV\",\"MLI\",\"MLT\",\"MHL\",\"MRT\",\"MUS\",\"MEX\",\"FSM\",\"MDA\",\"MCO\",\"MNG\",\"MNE\",\"MAR\",\"MOZ\",\"MMR\",\"NAM\",\"NRU\",\"NPL\",\"NLD\",\"NZL\",\"NIC\",\"NER\",\"NGA\",\"NIU\",\"PRK\",\"MKD\",\"MNP\",\"NOR\",\"OMN\",\"PAK\",\"PLW\",\"PSE\",\"PAN\",\"PNG\",\"PRY\",\"PER\",\"PHL\",\"POL\",\"PRT\",\"PRI\",\"QAT\",\"ROU\",\"RUS\",\"RWA\",\"KNA\",\"LCA\",\"VCT\",\"WSM\",\"SMR\",\"STP\",\"SAU\",\"SEN\",\"SRB\",\"SYC\",\"SLE\",\"SGP\",\"SVK\",\"SVN\",\"SLB\",\"SOM\",\"ZAF\",\"KOR\",\"SSD\",\"ESP\",\"LKA\",\"SDN\",\"SUR\",\"SWE\",\"CHE\",\"SYR\",\"TWN\",\"TJK\",\"TZA\",\"THA\",\"TLS\",\"TGO\",\"TKL\",\"TON\",\"TTO\",\"TUN\",\"TUR\",\"TKM\",\"TUV\",\"UGA\",\"UKR\",\"ARE\",\"GBR\",\"USA\",\"VIR\",\"URY\",\"UZB\",\"VUT\",\"VEN\",\"VNM\",\"YEM\",\"ZMB\",\"ZWE\"],\"marker\":{\"line\":{\"color\":\"darkgray\",\"width\":0.5}},\"text\":[\"Afghanistan\",\"Albania\",\"Algeria\",\"American Samoa\",\"Andorra\",\"Angola\",\"Antigua and Barbuda\",\"Argentina\",\"Armenia\",\"Australia\",\"Austria\",\"Azerbaijan\",\"Bahamas\",\"Bahrain\",\"Bangladesh\",\"Barbados\",\"Belarus\",\"Belgium\",\"Belize\",\"Benin\",\"Bermuda\",\"Bhutan\",\"Bolivia\",\"Bosnia and Herzegovina\",\"Botswana\",\"Brazil\",\"Brunei\",\"Bulgaria\",\"Burkina Faso\",\"Burundi\",\"Cambodia\",\"Cameroon\",\"Canada\",\"Cape Verde\",\"Central African Republic\",\"Chad\",\"Chile\",\"China\",\"Colombia\",\"Comoros\",\"Congo\",\"Cook Islands\",\"Costa Rica\",\"Cote d'Ivoire\",\"Croatia\",\"Cuba\",\"Cyprus\",\"Czechia\",\"Democratic Republic of Congo\",\"Denmark\",\"Djibouti\",\"Dominica\",\"Dominican Republic\",\"Ecuador\",\"Egypt\",\"El Salvador\",\"Equatorial Guinea\",\"Eritrea\",\"Estonia\",\"Eswatini\",\"Ethiopia\",\"Fiji\",\"Finland\",\"France\",\"Gabon\",\"Gambia\",\"Georgia\",\"Germany\",\"Ghana\",\"Greece\",\"Greenland\",\"Grenada\",\"Guam\",\"Guatemala\",\"Guinea\",\"Guinea-Bissau\",\"Guyana\",\"Haiti\",\"Honduras\",\"Hungary\",\"Iceland\",\"India\",\"Indonesia\",\"Iran\",\"Iraq\",\"Ireland\",\"Israel\",\"Italy\",\"Jamaica\",\"Japan\",\"Jordan\",\"Kazakhstan\",\"Kenya\",\"Kiribati\",\"Kuwait\",\"Kyrgyzstan\",\"Laos\",\"Latvia\",\"Lebanon\",\"Lesotho\",\"Liberia\",\"Libya\",\"Lithuania\",\"Luxembourg\",\"Madagascar\",\"Malawi\",\"Malaysia\",\"Maldives\",\"Mali\",\"Malta\",\"Marshall Islands\",\"Mauritania\",\"Mauritius\",\"Mexico\",\"Micronesia (country)\",\"Moldova\",\"Monaco\",\"Mongolia\",\"Montenegro\",\"Morocco\",\"Mozambique\",\"Myanmar\",\"Namibia\",\"Nauru\",\"Nepal\",\"Netherlands\",\"New Zealand\",\"Nicaragua\",\"Niger\",\"Nigeria\",\"Niue\",\"North Korea\",\"North Macedonia\",\"Northern Mariana Islands\",\"Norway\",\"Oman\",\"Pakistan\",\"Palau\",\"Palestine\",\"Panama\",\"Papua New Guinea\",\"Paraguay\",\"Peru\",\"Philippines\",\"Poland\",\"Portugal\",\"Puerto Rico\",\"Qatar\",\"Romania\",\"Russia\",\"Rwanda\",\"Saint Kitts and Nevis\",\"Saint Lucia\",\"Saint Vincent and the Grenadines\",\"Samoa\",\"San Marino\",\"Sao Tome and Principe\",\"Saudi Arabia\",\"Senegal\",\"Serbia\",\"Seychelles\",\"Sierra Leone\",\"Singapore\",\"Slovakia\",\"Slovenia\",\"Solomon Islands\",\"Somalia\",\"South Africa\",\"South Korea\",\"South Sudan\",\"Spain\",\"Sri Lanka\",\"Sudan\",\"Suriname\",\"Sweden\",\"Switzerland\",\"Syria\",\"Taiwan\",\"Tajikistan\",\"Tanzania\",\"Thailand\",\"Timor\",\"Togo\",\"Tokelau\",\"Tonga\",\"Trinidad and Tobago\",\"Tunisia\",\"Turkey\",\"Turkmenistan\",\"Tuvalu\",\"Uganda\",\"Ukraine\",\"United Arab Emirates\",\"United Kingdom\",\"United States\",\"United States Virgin Islands\",\"Uruguay\",\"Uzbekistan\",\"Vanuatu\",\"Venezuela\",\"Vietnam\",\"Yemen\",\"Zambia\",\"Zimbabwe\"],\"z\":[2127.0,44.0,686.0,4.0,0.0,1280.0,4.0,718.0,64.0,204.0,72.0,345.0,24.0,12.0,22024.0,11.0,1136.0,88.0,21.0,390.0,2.0,29.0,538.0,68.0,91.0,8041.0,15.0,226.0,621.0,349.0,1298.0,594.0,293.0,36.0,339.0,562.0,469.0,76277.0,1385.0,18.0,120.0,1.0,126.0,647.0,96.0,282.0,30.0,211.0,2973.0,45.0,29.0,5.0,262.0,685.0,1011.0,251.0,22.0,182.0,84.0,58.0,2697.0,66.0,142.0,1144.0,34.0,45.0,87.0,467.0,611.0,389.0,5.0,8.0,6.0,421.0,535.0,88.0,68.0,1323.0,223.0,192.0,3.0,67595.0,7087.0,1675.0,1118.0,56.0,49.0,422.0,12.0,6689.0,104.0,1498.0,598.0,6.0,20.0,339.0,570.0,244.0,51.0,106.0,95.0,98.0,415.0,3.0,485.0,402.0,708.0,18.0,799.0,5.0,7.0,55.0,41.0,2800.0,13.0,320.0,1.0,172.0,13.0,527.0,813.0,4724.0,76.0,2.0,1865.0,89.0,58.0,168.0,827.0,3883.0,0.0,1859.0,27.0,6.0,60.0,112.0,2997.0,2.0,57.0,139.0,350.0,155.0,778.0,4673.0,1175.0,119.0,40.0,28.0,1000.0,13946.0,321.0,2.0,9.0,7.0,13.0,0.0,3.0,593.0,319.0,145.0,11.0,343.0,23.0,177.0,27.0,106.0,687.0,1957.0,876.0,304.0,554.0,1070.0,1988.0,28.0,110.0,54.0,205.0,685.0,727.0,1322.0,5473.0,64.0,167.0,0.0,6.0,52.0,173.0,614.0,258.0,1.0,795.0,4674.0,110.0,316.0,3864.0,5.0,100.0,2046.0,28.0,574.0,6533.0,917.0,441.0,590.0],\"type\":\"choropleth\"}],                        {\"geo\":{\"projection\":{\"type\":\"equirectangular\"},\"showcoastlines\":false,\"showframe\":false},\"margin\":{\"b\":0,\"l\":0,\"r\":0,\"t\":50},\"paper_bgcolor\":\"rgba(0,0,0,0)\",\"plot_bgcolor\":\"rgba(0,0,0,0)\",\"template\":{\"data\":{\"histogram2dcontour\":[{\"type\":\"histogram2dcontour\",\"colorbar\":{\"outlinewidth\":0,\"ticks\":\"\"},\"colorscale\":[[0.0,\"#0d0887\"],[0.1111111111111111,\"#46039f\"],[0.2222222222222222,\"#7201a8\"],[0.3333333333333333,\"#9c179e\"],[0.4444444444444444,\"#bd3786\"],[0.5555555555555556,\"#d8576b\"],[0.6666666666666666,\"#ed7953\"],[0.7777777777777778,\"#fb9f3a\"],[0.8888888888888888,\"#fdca26\"],[1.0,\"#f0f921\"]]}],\"choropleth\":[{\"type\":\"choropleth\",\"colorbar\":{\"outlinewidth\":0,\"ticks\":\"\"}}],\"histogram2d\":[{\"type\":\"histogram2d\",\"colorbar\":{\"outlinewidth\":0,\"ticks\":\"\"},\"colorscale\":[[0.0,\"#0d0887\"],[0.1111111111111111,\"#46039f\"],[0.2222222222222222,\"#7201a8\"],[0.3333333333333333,\"#9c179e\"],[0.4444444444444444,\"#bd3786\"],[0.5555555555555556,\"#d8576b\"],[0.6666666666666666,\"#ed7953\"],[0.7777777777777778,\"#fb9f3a\"],[0.8888888888888888,\"#fdca26\"],[1.0,\"#f0f921\"]]}],\"heatmap\":[{\"type\":\"heatmap\",\"colorbar\":{\"outlinewidth\":0,\"ticks\":\"\"},\"colorscale\":[[0.0,\"#0d0887\"],[0.1111111111111111,\"#46039f\"],[0.2222222222222222,\"#7201a8\"],[0.3333333333333333,\"#9c179e\"],[0.4444444444444444,\"#bd3786\"],[0.5555555555555556,\"#d8576b\"],[0.6666666666666666,\"#ed7953\"],[0.7777777777777778,\"#fb9f3a\"],[0.8888888888888888,\"#fdca26\"],[1.0,\"#f0f921\"]]}],\"heatmapgl\":[{\"type\":\"heatmapgl\",\"colorbar\":{\"outlinewidth\":0,\"ticks\":\"\"},\"colorscale\":[[0.0,\"#0d0887\"],[0.1111111111111111,\"#46039f\"],[0.2222222222222222,\"#7201a8\"],[0.3333333333333333,\"#9c179e\"],[0.4444444444444444,\"#bd3786\"],[0.5555555555555556,\"#d8576b\"],[0.6666666666666666,\"#ed7953\"],[0.7777777777777778,\"#fb9f3a\"],[0.8888888888888888,\"#fdca26\"],[1.0,\"#f0f921\"]]}],\"contourcarpet\":[{\"type\":\"contourcarpet\",\"colorbar\":{\"outlinewidth\":0,\"ticks\":\"\"}}],\"contour\":[{\"type\":\"contour\",\"colorbar\":{\"outlinewidth\":0,\"ticks\":\"\"},\"colorscale\":[[0.0,\"#0d0887\"],[0.1111111111111111,\"#46039f\"],[0.2222222222222222,\"#7201a8\"],[0.3333333333333333,\"#9c179e\"],[0.4444444444444444,\"#bd3786\"],[0.5555555555555556,\"#d8576b\"],[0.6666666666666666,\"#ed7953\"],[0.7777777777777778,\"#fb9f3a\"],[0.8888888888888888,\"#fdca26\"],[1.0,\"#f0f921\"]]}],\"surface\":[{\"type\":\"surface\",\"colorbar\":{\"outlinewidth\":0,\"ticks\":\"\"},\"colorscale\":[[0.0,\"#0d0887\"],[0.1111111111111111,\"#46039f\"],[0.2222222222222222,\"#7201a8\"],[0.3333333333333333,\"#9c179e\"],[0.4444444444444444,\"#bd3786\"],[0.5555555555555556,\"#d8576b\"],[0.6666666666666666,\"#ed7953\"],[0.7777777777777778,\"#fb9f3a\"],[0.8888888888888888,\"#fdca26\"],[1.0,\"#f0f921\"]]}],\"mesh3d\":[{\"type\":\"mesh3d\",\"colorbar\":{\"outlinewidth\":0,\"ticks\":\"\"}}],\"scatter\":[{\"fillpattern\":{\"fillmode\":\"overlay\",\"size\":10,\"solidity\":0.2},\"type\":\"scatter\"}],\"parcoords\":[{\"type\":\"parcoords\",\"line\":{\"colorbar\":{\"outlinewidth\":0,\"ticks\":\"\"}}}],\"scatterpolargl\":[{\"type\":\"scatterpolargl\",\"marker\":{\"colorbar\":{\"outlinewidth\":0,\"ticks\":\"\"}}}],\"bar\":[{\"error_x\":{\"color\":\"#2a3f5f\"},\"error_y\":{\"color\":\"#2a3f5f\"},\"marker\":{\"line\":{\"color\":\"#E5ECF6\",\"width\":0.5},\"pattern\":{\"fillmode\":\"overlay\",\"size\":10,\"solidity\":0.2}},\"type\":\"bar\"}],\"scattergeo\":[{\"type\":\"scattergeo\",\"marker\":{\"colorbar\":{\"outlinewidth\":0,\"ticks\":\"\"}}}],\"scatterpolar\":[{\"type\":\"scatterpolar\",\"marker\":{\"colorbar\":{\"outlinewidth\":0,\"ticks\":\"\"}}}],\"histogram\":[{\"marker\":{\"pattern\":{\"fillmode\":\"overlay\",\"size\":10,\"solidity\":0.2}},\"type\":\"histogram\"}],\"scattergl\":[{\"type\":\"scattergl\",\"marker\":{\"colorbar\":{\"outlinewidth\":0,\"ticks\":\"\"}}}],\"scatter3d\":[{\"type\":\"scatter3d\",\"line\":{\"colorbar\":{\"outlinewidth\":0,\"ticks\":\"\"}},\"marker\":{\"colorbar\":{\"outlinewidth\":0,\"ticks\":\"\"}}}],\"scattermapbox\":[{\"type\":\"scattermapbox\",\"marker\":{\"colorbar\":{\"outlinewidth\":0,\"ticks\":\"\"}}}],\"scatterternary\":[{\"type\":\"scatterternary\",\"marker\":{\"colorbar\":{\"outlinewidth\":0,\"ticks\":\"\"}}}],\"scattercarpet\":[{\"type\":\"scattercarpet\",\"marker\":{\"colorbar\":{\"outlinewidth\":0,\"ticks\":\"\"}}}],\"carpet\":[{\"aaxis\":{\"endlinecolor\":\"#2a3f5f\",\"gridcolor\":\"white\",\"linecolor\":\"white\",\"minorgridcolor\":\"white\",\"startlinecolor\":\"#2a3f5f\"},\"baxis\":{\"endlinecolor\":\"#2a3f5f\",\"gridcolor\":\"white\",\"linecolor\":\"white\",\"minorgridcolor\":\"white\",\"startlinecolor\":\"#2a3f5f\"},\"type\":\"carpet\"}],\"table\":[{\"cells\":{\"fill\":{\"color\":\"#EBF0F8\"},\"line\":{\"color\":\"white\"}},\"header\":{\"fill\":{\"color\":\"#C8D4E3\"},\"line\":{\"color\":\"white\"}},\"type\":\"table\"}],\"barpolar\":[{\"marker\":{\"line\":{\"color\":\"#E5ECF6\",\"width\":0.5},\"pattern\":{\"fillmode\":\"overlay\",\"size\":10,\"solidity\":0.2}},\"type\":\"barpolar\"}],\"pie\":[{\"automargin\":true,\"type\":\"pie\"}]},\"layout\":{\"autotypenumbers\":\"strict\",\"colorway\":[\"#636efa\",\"#EF553B\",\"#00cc96\",\"#ab63fa\",\"#FFA15A\",\"#19d3f3\",\"#FF6692\",\"#B6E880\",\"#FF97FF\",\"#FECB52\"],\"font\":{\"color\":\"#2a3f5f\"},\"hovermode\":\"closest\",\"hoverlabel\":{\"align\":\"left\"},\"paper_bgcolor\":\"white\",\"plot_bgcolor\":\"#E5ECF6\",\"polar\":{\"bgcolor\":\"#E5ECF6\",\"angularaxis\":{\"gridcolor\":\"white\",\"linecolor\":\"white\",\"ticks\":\"\"},\"radialaxis\":{\"gridcolor\":\"white\",\"linecolor\":\"white\",\"ticks\":\"\"}},\"ternary\":{\"bgcolor\":\"#E5ECF6\",\"aaxis\":{\"gridcolor\":\"white\",\"linecolor\":\"white\",\"ticks\":\"\"},\"baxis\":{\"gridcolor\":\"white\",\"linecolor\":\"white\",\"ticks\":\"\"},\"caxis\":{\"gridcolor\":\"white\",\"linecolor\":\"white\",\"ticks\":\"\"}},\"coloraxis\":{\"colorbar\":{\"outlinewidth\":0,\"ticks\":\"\"}},\"colorscale\":{\"sequential\":[[0.0,\"#0d0887\"],[0.1111111111111111,\"#46039f\"],[0.2222222222222222,\"#7201a8\"],[0.3333333333333333,\"#9c179e\"],[0.4444444444444444,\"#bd3786\"],[0.5555555555555556,\"#d8576b\"],[0.6666666666666666,\"#ed7953\"],[0.7777777777777778,\"#fb9f3a\"],[0.8888888888888888,\"#fdca26\"],[1.0,\"#f0f921\"]],\"sequentialminus\":[[0.0,\"#0d0887\"],[0.1111111111111111,\"#46039f\"],[0.2222222222222222,\"#7201a8\"],[0.3333333333333333,\"#9c179e\"],[0.4444444444444444,\"#bd3786\"],[0.5555555555555556,\"#d8576b\"],[0.6666666666666666,\"#ed7953\"],[0.7777777777777778,\"#fb9f3a\"],[0.8888888888888888,\"#fdca26\"],[1.0,\"#f0f921\"]],\"diverging\":[[0,\"#8e0152\"],[0.1,\"#c51b7d\"],[0.2,\"#de77ae\"],[0.3,\"#f1b6da\"],[0.4,\"#fde0ef\"],[0.5,\"#f7f7f7\"],[0.6,\"#e6f5d0\"],[0.7,\"#b8e186\"],[0.8,\"#7fbc41\"],[0.9,\"#4d9221\"],[1,\"#276419\"]]},\"xaxis\":{\"gridcolor\":\"white\",\"linecolor\":\"white\",\"ticks\":\"\",\"title\":{\"standoff\":15},\"zerolinecolor\":\"white\",\"automargin\":true,\"zerolinewidth\":2},\"yaxis\":{\"gridcolor\":\"white\",\"linecolor\":\"white\",\"ticks\":\"\",\"title\":{\"standoff\":15},\"zerolinecolor\":\"white\",\"automargin\":true,\"zerolinewidth\":2},\"scene\":{\"xaxis\":{\"backgroundcolor\":\"#E5ECF6\",\"gridcolor\":\"white\",\"linecolor\":\"white\",\"showbackground\":true,\"ticks\":\"\",\"zerolinecolor\":\"white\",\"gridwidth\":2},\"yaxis\":{\"backgroundcolor\":\"#E5ECF6\",\"gridcolor\":\"white\",\"linecolor\":\"white\",\"showbackground\":true,\"ticks\":\"\",\"zerolinecolor\":\"white\",\"gridwidth\":2},\"zaxis\":{\"backgroundcolor\":\"#E5ECF6\",\"gridcolor\":\"white\",\"linecolor\":\"white\",\"showbackground\":true,\"ticks\":\"\",\"zerolinecolor\":\"white\",\"gridwidth\":2}},\"shapedefaults\":{\"line\":{\"color\":\"#2a3f5f\"}},\"annotationdefaults\":{\"arrowcolor\":\"#2a3f5f\",\"arrowhead\":0,\"arrowwidth\":1},\"geo\":{\"bgcolor\":\"white\",\"landcolor\":\"#E5ECF6\",\"subunitcolor\":\"white\",\"showland\":true,\"showlakes\":true,\"lakecolor\":\"white\"},\"title\":{\"x\":0.05},\"mapbox\":{\"style\":\"light\"}}}},                        {\"responsive\": true}                    ).then(function(){\n",
       "                            \n",
       "var gd = document.getElementById('196027ae-2373-42a7-9c5c-d1a5fe7da0da');\n",
       "var x = new MutationObserver(function (mutations, observer) {{\n",
       "        var display = window.getComputedStyle(gd).display;\n",
       "        if (!display || display === 'none') {{\n",
       "            console.log([gd, 'removed!']);\n",
       "            Plotly.purge(gd);\n",
       "            observer.disconnect();\n",
       "        }}\n",
       "}});\n",
       "\n",
       "// Listen for the removal of the full notebook cells\n",
       "var notebookContainer = gd.closest('#notebook-container');\n",
       "if (notebookContainer) {{\n",
       "    x.observe(notebookContainer, {childList: true});\n",
       "}}\n",
       "\n",
       "// Listen for the clearing of the current output cell\n",
       "var outputEl = gd.closest('.output');\n",
       "if (outputEl) {{\n",
       "    x.observe(outputEl, {childList: true});\n",
       "}}\n",
       "\n",
       "                        })                };                });            </script>        </div>"
      ]
     },
     "metadata": {},
     "output_type": "display_data"
    }
   ],
   "source": [
    "fig1 =  go.Figure(data=go.Choropleth(\n",
    "    locations=df_2007['Code'], # Spatial coordinates\n",
    "    z = df_2007['Drowning'],\n",
    "    text = df_2007['Entity'],# Data to be color-coded\n",
    "    colorscale = 'YlOrRd',\n",
    "    autocolorscale=False,\n",
    "    marker_line_color='darkgray',\n",
    "    marker_line_width=0.5,\n",
    "    #colorbar_title = ,\n",
    "), layout=go.Layout(\n",
    "        #title=go.layout.Title(text=\"Diseases map for each country for a given year\"),\n",
    "\n",
    "    paper_bgcolor='rgba(0,0,0,0)',\n",
    "    plot_bgcolor='rgba(0,0,0,0)',\n",
    "    geo=dict(\n",
    "            showframe=False,\n",
    "            showcoastlines=False,\n",
    "            projection_type='equirectangular'\n",
    "        ),margin={\"r\":0,\"t\":50,\"l\":0,\"b\":0},\n",
    "    \n",
    "\n",
    "    ))\n",
    "fig1.show()\n",
    "#Blackbody,Bluered,Blues,C ividis,Earth,Electric,Greens,Greys,Hot,Jet,Picnic,Portl and,Rainbow,RdBu,Reds,Viridis,YlGnBu,YlOrRd.\n",
    "#\"plotly\", \"plotly_white\", \"plotly_dark\", \"ggplot2\", \"seaborn\", \"simple_white\", \"none\""
   ]
  },
  {
   "cell_type": "code",
   "execution_count": 71,
   "id": "fe40af0a",
   "metadata": {},
   "outputs": [
    {
     "name": "stderr",
     "output_type": "stream",
     "text": [
      "C:\\Users\\ali\\AppData\\Local\\Temp\\ipykernel_15480\\3762371655.py:1: FutureWarning:\n",
      "\n",
      "Dropping of nuisance columns in DataFrame reductions (with 'numeric_only=None') is deprecated; in a future version this will raise TypeError.  Select only valid columns before calling the reduction.\n",
      "\n"
     ]
    },
    {
     "data": {
      "text/plain": [
       "2371    468409.0\n",
       "dtype: float64"
      ]
     },
     "execution_count": 71,
     "metadata": {},
     "output_type": "execute_result"
    }
   ],
   "source": [
    "prep_df[(prep_df.Entity== 'Egypt')&(prep_df.Year == 1990)].sum(axis=1)"
   ]
  },
  {
   "cell_type": "markdown",
   "id": "b52ad8a1",
   "metadata": {},
   "source": [
    "# 4-Egypt_Diseases"
   ]
  },
  {
   "cell_type": "code",
   "execution_count": 72,
   "id": "0e3225dc",
   "metadata": {},
   "outputs": [
    {
     "data": {
      "text/html": [
       "<div>\n",
       "<style scoped>\n",
       "    .dataframe tbody tr th:only-of-type {\n",
       "        vertical-align: middle;\n",
       "    }\n",
       "\n",
       "    .dataframe tbody tr th {\n",
       "        vertical-align: top;\n",
       "    }\n",
       "\n",
       "    .dataframe thead th {\n",
       "        text-align: right;\n",
       "    }\n",
       "</style>\n",
       "<table border=\"1\" class=\"dataframe\">\n",
       "  <thead>\n",
       "    <tr style=\"text-align: right;\">\n",
       "      <th></th>\n",
       "      <th>Entity</th>\n",
       "      <th>Code</th>\n",
       "      <th>Year</th>\n",
       "      <th>Meningitis</th>\n",
       "      <th>Neoplasms</th>\n",
       "      <th>Fire</th>\n",
       "      <th>Malaria</th>\n",
       "      <th>Drowning</th>\n",
       "      <th>Interpersonal violence</th>\n",
       "      <th>HIV/AIDS</th>\n",
       "      <th>...</th>\n",
       "      <th>Poisonings</th>\n",
       "      <th>Protein-energy malnutrition</th>\n",
       "      <th>Cardiovascular</th>\n",
       "      <th>Chronic kidney disease</th>\n",
       "      <th>Chronic respiratory</th>\n",
       "      <th>Cirrhosis</th>\n",
       "      <th>Digestive</th>\n",
       "      <th>Acute hepatitis</th>\n",
       "      <th>Dementias</th>\n",
       "      <th>Parkinson</th>\n",
       "    </tr>\n",
       "  </thead>\n",
       "  <tbody>\n",
       "    <tr>\n",
       "      <th>2364</th>\n",
       "      <td>Egypt</td>\n",
       "      <td>EGY</td>\n",
       "      <td>2008</td>\n",
       "      <td>1138.0</td>\n",
       "      <td>42135.0</td>\n",
       "      <td>1378.0</td>\n",
       "      <td>0.0</td>\n",
       "      <td>1025.0</td>\n",
       "      <td>503.0</td>\n",
       "      <td>93.0</td>\n",
       "      <td>...</td>\n",
       "      <td>175.0</td>\n",
       "      <td>736.0</td>\n",
       "      <td>207451.0</td>\n",
       "      <td>15535.0</td>\n",
       "      <td>18612.0</td>\n",
       "      <td>48127.0</td>\n",
       "      <td>53614.0</td>\n",
       "      <td>1689.0</td>\n",
       "      <td>5212.0</td>\n",
       "      <td>1732.0</td>\n",
       "    </tr>\n",
       "  </tbody>\n",
       "</table>\n",
       "<p>1 rows × 34 columns</p>\n",
       "</div>"
      ],
      "text/plain": [
       "     Entity Code  Year  Meningitis  Neoplasms    Fire  Malaria  Drowning  \\\n",
       "2364  Egypt  EGY  2008      1138.0    42135.0  1378.0      0.0    1025.0   \n",
       "\n",
       "      Interpersonal violence  HIV/AIDS  ...  Poisonings  \\\n",
       "2364                   503.0      93.0  ...       175.0   \n",
       "\n",
       "      Protein-energy malnutrition  Cardiovascular  Chronic kidney disease  \\\n",
       "2364                        736.0        207451.0                 15535.0   \n",
       "\n",
       "      Chronic respiratory  Cirrhosis  Digestive  Acute hepatitis  Dementias  \\\n",
       "2364              18612.0    48127.0    53614.0           1689.0     5212.0   \n",
       "\n",
       "      Parkinson  \n",
       "2364     1732.0  \n",
       "\n",
       "[1 rows x 34 columns]"
      ]
     },
     "execution_count": 72,
     "metadata": {},
     "output_type": "execute_result"
    }
   ],
   "source": [
    "egy_df = prep_df[prep_df.Entity== 'Egypt']\n",
    "egy_df.head(1)"
   ]
  },
  {
   "cell_type": "code",
   "execution_count": 73,
   "id": "84063497",
   "metadata": {},
   "outputs": [
    {
     "name": "stderr",
     "output_type": "stream",
     "text": [
      "C:\\Users\\ali\\AppData\\Local\\Temp\\ipykernel_15480\\3330877122.py:1: FutureWarning:\n",
      "\n",
      "Dropping of nuisance columns in DataFrame reductions (with 'numeric_only=None') is deprecated; in a future version this will raise TypeError.  Select only valid columns before calling the reduction.\n",
      "\n",
      "C:\\Users\\ali\\AppData\\Local\\Temp\\ipykernel_15480\\3330877122.py:1: SettingWithCopyWarning:\n",
      "\n",
      "\n",
      "A value is trying to be set on a copy of a slice from a DataFrame.\n",
      "Try using .loc[row_indexer,col_indexer] = value instead\n",
      "\n",
      "See the caveats in the documentation: https://pandas.pydata.org/pandas-docs/stable/user_guide/indexing.html#returning-a-view-versus-a-copy\n",
      "\n"
     ]
    },
    {
     "data": {
      "text/html": [
       "<div>\n",
       "<style scoped>\n",
       "    .dataframe tbody tr th:only-of-type {\n",
       "        vertical-align: middle;\n",
       "    }\n",
       "\n",
       "    .dataframe tbody tr th {\n",
       "        vertical-align: top;\n",
       "    }\n",
       "\n",
       "    .dataframe thead th {\n",
       "        text-align: right;\n",
       "    }\n",
       "</style>\n",
       "<table border=\"1\" class=\"dataframe\">\n",
       "  <thead>\n",
       "    <tr style=\"text-align: right;\">\n",
       "      <th></th>\n",
       "      <th>Entity</th>\n",
       "      <th>Code</th>\n",
       "      <th>Year</th>\n",
       "      <th>Meningitis</th>\n",
       "      <th>Neoplasms</th>\n",
       "      <th>Fire</th>\n",
       "      <th>Malaria</th>\n",
       "      <th>Drowning</th>\n",
       "      <th>Interpersonal violence</th>\n",
       "      <th>HIV/AIDS</th>\n",
       "      <th>...</th>\n",
       "      <th>Protein-energy malnutrition</th>\n",
       "      <th>Cardiovascular</th>\n",
       "      <th>Chronic kidney disease</th>\n",
       "      <th>Chronic respiratory</th>\n",
       "      <th>Cirrhosis</th>\n",
       "      <th>Digestive</th>\n",
       "      <th>Acute hepatitis</th>\n",
       "      <th>Dementias</th>\n",
       "      <th>Parkinson</th>\n",
       "      <th>Total of deaths</th>\n",
       "    </tr>\n",
       "  </thead>\n",
       "  <tbody>\n",
       "    <tr>\n",
       "      <th>2364</th>\n",
       "      <td>Egypt</td>\n",
       "      <td>EGY</td>\n",
       "      <td>2008</td>\n",
       "      <td>1138.0</td>\n",
       "      <td>42135.0</td>\n",
       "      <td>1378.0</td>\n",
       "      <td>0.0</td>\n",
       "      <td>1025.0</td>\n",
       "      <td>503.0</td>\n",
       "      <td>93.0</td>\n",
       "      <td>...</td>\n",
       "      <td>736.0</td>\n",
       "      <td>207451.0</td>\n",
       "      <td>15535.0</td>\n",
       "      <td>18612.0</td>\n",
       "      <td>48127.0</td>\n",
       "      <td>53614.0</td>\n",
       "      <td>1689.0</td>\n",
       "      <td>5212.0</td>\n",
       "      <td>1732.0</td>\n",
       "      <td>499896.0</td>\n",
       "    </tr>\n",
       "    <tr>\n",
       "      <th>2365</th>\n",
       "      <td>Egypt</td>\n",
       "      <td>EGY</td>\n",
       "      <td>2009</td>\n",
       "      <td>1137.0</td>\n",
       "      <td>44866.0</td>\n",
       "      <td>1415.0</td>\n",
       "      <td>0.0</td>\n",
       "      <td>1051.0</td>\n",
       "      <td>535.0</td>\n",
       "      <td>93.0</td>\n",
       "      <td>...</td>\n",
       "      <td>734.0</td>\n",
       "      <td>214374.0</td>\n",
       "      <td>16199.0</td>\n",
       "      <td>19088.0</td>\n",
       "      <td>49630.0</td>\n",
       "      <td>55290.0</td>\n",
       "      <td>1657.0</td>\n",
       "      <td>5340.0</td>\n",
       "      <td>1796.0</td>\n",
       "      <td>514724.0</td>\n",
       "    </tr>\n",
       "    <tr>\n",
       "      <th>2366</th>\n",
       "      <td>Egypt</td>\n",
       "      <td>EGY</td>\n",
       "      <td>2010</td>\n",
       "      <td>1111.0</td>\n",
       "      <td>46171.0</td>\n",
       "      <td>1447.0</td>\n",
       "      <td>0.0</td>\n",
       "      <td>1070.0</td>\n",
       "      <td>535.0</td>\n",
       "      <td>95.0</td>\n",
       "      <td>...</td>\n",
       "      <td>718.0</td>\n",
       "      <td>219382.0</td>\n",
       "      <td>16806.0</td>\n",
       "      <td>19409.0</td>\n",
       "      <td>50816.0</td>\n",
       "      <td>56588.0</td>\n",
       "      <td>1605.0</td>\n",
       "      <td>5464.0</td>\n",
       "      <td>1847.0</td>\n",
       "      <td>523236.0</td>\n",
       "    </tr>\n",
       "    <tr>\n",
       "      <th>2367</th>\n",
       "      <td>Egypt</td>\n",
       "      <td>EGY</td>\n",
       "      <td>2011</td>\n",
       "      <td>1115.0</td>\n",
       "      <td>47360.0</td>\n",
       "      <td>1462.0</td>\n",
       "      <td>0.0</td>\n",
       "      <td>1093.0</td>\n",
       "      <td>562.0</td>\n",
       "      <td>101.0</td>\n",
       "      <td>...</td>\n",
       "      <td>713.0</td>\n",
       "      <td>221812.0</td>\n",
       "      <td>17195.0</td>\n",
       "      <td>19685.0</td>\n",
       "      <td>51945.0</td>\n",
       "      <td>57828.0</td>\n",
       "      <td>1568.0</td>\n",
       "      <td>5607.0</td>\n",
       "      <td>1898.0</td>\n",
       "      <td>529436.0</td>\n",
       "    </tr>\n",
       "    <tr>\n",
       "      <th>2368</th>\n",
       "      <td>Egypt</td>\n",
       "      <td>EGY</td>\n",
       "      <td>2014</td>\n",
       "      <td>925.0</td>\n",
       "      <td>50183.0</td>\n",
       "      <td>1474.0</td>\n",
       "      <td>0.0</td>\n",
       "      <td>1051.0</td>\n",
       "      <td>593.0</td>\n",
       "      <td>98.0</td>\n",
       "      <td>...</td>\n",
       "      <td>677.0</td>\n",
       "      <td>236288.0</td>\n",
       "      <td>18893.0</td>\n",
       "      <td>20849.0</td>\n",
       "      <td>55221.0</td>\n",
       "      <td>61427.0</td>\n",
       "      <td>1443.0</td>\n",
       "      <td>5999.0</td>\n",
       "      <td>2053.0</td>\n",
       "      <td>551643.0</td>\n",
       "    </tr>\n",
       "    <tr>\n",
       "      <th>2369</th>\n",
       "      <td>Egypt</td>\n",
       "      <td>EGY</td>\n",
       "      <td>2015</td>\n",
       "      <td>925.0</td>\n",
       "      <td>52885.0</td>\n",
       "      <td>1497.0</td>\n",
       "      <td>0.0</td>\n",
       "      <td>1045.0</td>\n",
       "      <td>537.0</td>\n",
       "      <td>84.0</td>\n",
       "      <td>...</td>\n",
       "      <td>699.0</td>\n",
       "      <td>251445.0</td>\n",
       "      <td>20276.0</td>\n",
       "      <td>21784.0</td>\n",
       "      <td>57801.0</td>\n",
       "      <td>64205.0</td>\n",
       "      <td>1454.0</td>\n",
       "      <td>6190.0</td>\n",
       "      <td>2214.0</td>\n",
       "      <td>581847.0</td>\n",
       "    </tr>\n",
       "    <tr>\n",
       "      <th>2370</th>\n",
       "      <td>Egypt</td>\n",
       "      <td>EGY</td>\n",
       "      <td>2016</td>\n",
       "      <td>852.0</td>\n",
       "      <td>54414.0</td>\n",
       "      <td>1488.0</td>\n",
       "      <td>0.0</td>\n",
       "      <td>1006.0</td>\n",
       "      <td>530.0</td>\n",
       "      <td>70.0</td>\n",
       "      <td>...</td>\n",
       "      <td>678.0</td>\n",
       "      <td>255662.0</td>\n",
       "      <td>20918.0</td>\n",
       "      <td>22094.0</td>\n",
       "      <td>59305.0</td>\n",
       "      <td>65758.0</td>\n",
       "      <td>1427.0</td>\n",
       "      <td>6343.0</td>\n",
       "      <td>2296.0</td>\n",
       "      <td>587923.0</td>\n",
       "    </tr>\n",
       "    <tr>\n",
       "      <th>2371</th>\n",
       "      <td>Egypt</td>\n",
       "      <td>EGY</td>\n",
       "      <td>1990</td>\n",
       "      <td>2119.0</td>\n",
       "      <td>23605.0</td>\n",
       "      <td>1575.0</td>\n",
       "      <td>0.0</td>\n",
       "      <td>1544.0</td>\n",
       "      <td>255.0</td>\n",
       "      <td>56.0</td>\n",
       "      <td>...</td>\n",
       "      <td>1358.0</td>\n",
       "      <td>156674.0</td>\n",
       "      <td>9720.0</td>\n",
       "      <td>15225.0</td>\n",
       "      <td>39203.0</td>\n",
       "      <td>44121.0</td>\n",
       "      <td>3023.0</td>\n",
       "      <td>3282.0</td>\n",
       "      <td>1045.0</td>\n",
       "      <td>468409.0</td>\n",
       "    </tr>\n",
       "    <tr>\n",
       "      <th>2372</th>\n",
       "      <td>Egypt</td>\n",
       "      <td>EGY</td>\n",
       "      <td>1991</td>\n",
       "      <td>2224.0</td>\n",
       "      <td>23951.0</td>\n",
       "      <td>1482.0</td>\n",
       "      <td>0.0</td>\n",
       "      <td>1410.0</td>\n",
       "      <td>247.0</td>\n",
       "      <td>65.0</td>\n",
       "      <td>...</td>\n",
       "      <td>1304.0</td>\n",
       "      <td>156391.0</td>\n",
       "      <td>9847.0</td>\n",
       "      <td>15172.0</td>\n",
       "      <td>38839.0</td>\n",
       "      <td>43668.0</td>\n",
       "      <td>2783.0</td>\n",
       "      <td>3363.0</td>\n",
       "      <td>1062.0</td>\n",
       "      <td>457492.0</td>\n",
       "    </tr>\n",
       "    <tr>\n",
       "      <th>2373</th>\n",
       "      <td>Egypt</td>\n",
       "      <td>EGY</td>\n",
       "      <td>1992</td>\n",
       "      <td>2118.0</td>\n",
       "      <td>24212.0</td>\n",
       "      <td>1430.0</td>\n",
       "      <td>0.0</td>\n",
       "      <td>1327.0</td>\n",
       "      <td>236.0</td>\n",
       "      <td>74.0</td>\n",
       "      <td>...</td>\n",
       "      <td>1269.0</td>\n",
       "      <td>155190.0</td>\n",
       "      <td>9910.0</td>\n",
       "      <td>14896.0</td>\n",
       "      <td>38663.0</td>\n",
       "      <td>43425.0</td>\n",
       "      <td>2529.0</td>\n",
       "      <td>3451.0</td>\n",
       "      <td>1067.0</td>\n",
       "      <td>447129.0</td>\n",
       "    </tr>\n",
       "    <tr>\n",
       "      <th>2374</th>\n",
       "      <td>Egypt</td>\n",
       "      <td>EGY</td>\n",
       "      <td>1993</td>\n",
       "      <td>1829.0</td>\n",
       "      <td>25319.0</td>\n",
       "      <td>1455.0</td>\n",
       "      <td>0.0</td>\n",
       "      <td>1349.0</td>\n",
       "      <td>232.0</td>\n",
       "      <td>82.0</td>\n",
       "      <td>...</td>\n",
       "      <td>1255.0</td>\n",
       "      <td>160199.0</td>\n",
       "      <td>10352.0</td>\n",
       "      <td>15300.0</td>\n",
       "      <td>39272.0</td>\n",
       "      <td>44053.0</td>\n",
       "      <td>2420.0</td>\n",
       "      <td>3568.0</td>\n",
       "      <td>1124.0</td>\n",
       "      <td>448294.0</td>\n",
       "    </tr>\n",
       "    <tr>\n",
       "      <th>2375</th>\n",
       "      <td>Egypt</td>\n",
       "      <td>EGY</td>\n",
       "      <td>1994</td>\n",
       "      <td>1748.0</td>\n",
       "      <td>26295.0</td>\n",
       "      <td>1458.0</td>\n",
       "      <td>0.0</td>\n",
       "      <td>1338.0</td>\n",
       "      <td>232.0</td>\n",
       "      <td>88.0</td>\n",
       "      <td>...</td>\n",
       "      <td>1199.0</td>\n",
       "      <td>164016.0</td>\n",
       "      <td>10742.0</td>\n",
       "      <td>15642.0</td>\n",
       "      <td>39754.0</td>\n",
       "      <td>44542.0</td>\n",
       "      <td>2331.0</td>\n",
       "      <td>3684.0</td>\n",
       "      <td>1178.0</td>\n",
       "      <td>448394.0</td>\n",
       "    </tr>\n",
       "    <tr>\n",
       "      <th>2376</th>\n",
       "      <td>Egypt</td>\n",
       "      <td>EGY</td>\n",
       "      <td>1995</td>\n",
       "      <td>1657.0</td>\n",
       "      <td>26667.0</td>\n",
       "      <td>1413.0</td>\n",
       "      <td>0.0</td>\n",
       "      <td>1286.0</td>\n",
       "      <td>241.0</td>\n",
       "      <td>93.0</td>\n",
       "      <td>...</td>\n",
       "      <td>1150.0</td>\n",
       "      <td>162510.0</td>\n",
       "      <td>10808.0</td>\n",
       "      <td>15517.0</td>\n",
       "      <td>39338.0</td>\n",
       "      <td>44031.0</td>\n",
       "      <td>2217.0</td>\n",
       "      <td>3779.0</td>\n",
       "      <td>1189.0</td>\n",
       "      <td>438552.0</td>\n",
       "    </tr>\n",
       "    <tr>\n",
       "      <th>2377</th>\n",
       "      <td>Egypt</td>\n",
       "      <td>EGY</td>\n",
       "      <td>1996</td>\n",
       "      <td>1531.0</td>\n",
       "      <td>27486.0</td>\n",
       "      <td>1396.0</td>\n",
       "      <td>0.0</td>\n",
       "      <td>1233.0</td>\n",
       "      <td>241.0</td>\n",
       "      <td>98.0</td>\n",
       "      <td>...</td>\n",
       "      <td>1061.0</td>\n",
       "      <td>163709.0</td>\n",
       "      <td>11122.0</td>\n",
       "      <td>15578.0</td>\n",
       "      <td>39456.0</td>\n",
       "      <td>44104.0</td>\n",
       "      <td>2148.0</td>\n",
       "      <td>3870.0</td>\n",
       "      <td>1208.0</td>\n",
       "      <td>432618.0</td>\n",
       "    </tr>\n",
       "    <tr>\n",
       "      <th>2378</th>\n",
       "      <td>Egypt</td>\n",
       "      <td>EGY</td>\n",
       "      <td>1997</td>\n",
       "      <td>1465.0</td>\n",
       "      <td>28493.0</td>\n",
       "      <td>1390.0</td>\n",
       "      <td>0.0</td>\n",
       "      <td>1192.0</td>\n",
       "      <td>247.0</td>\n",
       "      <td>103.0</td>\n",
       "      <td>...</td>\n",
       "      <td>1011.0</td>\n",
       "      <td>167701.0</td>\n",
       "      <td>11538.0</td>\n",
       "      <td>15878.0</td>\n",
       "      <td>40152.0</td>\n",
       "      <td>44834.0</td>\n",
       "      <td>2117.0</td>\n",
       "      <td>3972.0</td>\n",
       "      <td>1254.0</td>\n",
       "      <td>435796.0</td>\n",
       "    </tr>\n",
       "    <tr>\n",
       "      <th>2379</th>\n",
       "      <td>Egypt</td>\n",
       "      <td>EGY</td>\n",
       "      <td>1998</td>\n",
       "      <td>1465.0</td>\n",
       "      <td>29155.0</td>\n",
       "      <td>1354.0</td>\n",
       "      <td>0.0</td>\n",
       "      <td>1140.0</td>\n",
       "      <td>254.0</td>\n",
       "      <td>106.0</td>\n",
       "      <td>...</td>\n",
       "      <td>978.0</td>\n",
       "      <td>170232.0</td>\n",
       "      <td>11876.0</td>\n",
       "      <td>16062.0</td>\n",
       "      <td>40712.0</td>\n",
       "      <td>45401.0</td>\n",
       "      <td>2072.0</td>\n",
       "      <td>4070.0</td>\n",
       "      <td>1305.0</td>\n",
       "      <td>436987.0</td>\n",
       "    </tr>\n",
       "    <tr>\n",
       "      <th>2380</th>\n",
       "      <td>Egypt</td>\n",
       "      <td>EGY</td>\n",
       "      <td>1999</td>\n",
       "      <td>1375.0</td>\n",
       "      <td>30113.0</td>\n",
       "      <td>1340.0</td>\n",
       "      <td>0.0</td>\n",
       "      <td>1114.0</td>\n",
       "      <td>258.0</td>\n",
       "      <td>108.0</td>\n",
       "      <td>...</td>\n",
       "      <td>946.0</td>\n",
       "      <td>171454.0</td>\n",
       "      <td>12169.0</td>\n",
       "      <td>16092.0</td>\n",
       "      <td>41259.0</td>\n",
       "      <td>45948.0</td>\n",
       "      <td>2047.0</td>\n",
       "      <td>4153.0</td>\n",
       "      <td>1336.0</td>\n",
       "      <td>438946.0</td>\n",
       "    </tr>\n",
       "    <tr>\n",
       "      <th>2381</th>\n",
       "      <td>Egypt</td>\n",
       "      <td>EGY</td>\n",
       "      <td>2000</td>\n",
       "      <td>1317.0</td>\n",
       "      <td>30582.0</td>\n",
       "      <td>1293.0</td>\n",
       "      <td>0.0</td>\n",
       "      <td>1059.0</td>\n",
       "      <td>264.0</td>\n",
       "      <td>109.0</td>\n",
       "      <td>...</td>\n",
       "      <td>873.0</td>\n",
       "      <td>166895.0</td>\n",
       "      <td>12124.0</td>\n",
       "      <td>15600.0</td>\n",
       "      <td>40904.0</td>\n",
       "      <td>45486.0</td>\n",
       "      <td>1970.0</td>\n",
       "      <td>4224.0</td>\n",
       "      <td>1316.0</td>\n",
       "      <td>429426.0</td>\n",
       "    </tr>\n",
       "    <tr>\n",
       "      <th>2382</th>\n",
       "      <td>Egypt</td>\n",
       "      <td>EGY</td>\n",
       "      <td>2001</td>\n",
       "      <td>1296.0</td>\n",
       "      <td>32833.0</td>\n",
       "      <td>1329.0</td>\n",
       "      <td>0.0</td>\n",
       "      <td>1066.0</td>\n",
       "      <td>284.0</td>\n",
       "      <td>110.0</td>\n",
       "      <td>...</td>\n",
       "      <td>873.0</td>\n",
       "      <td>177263.0</td>\n",
       "      <td>12881.0</td>\n",
       "      <td>16442.0</td>\n",
       "      <td>42823.0</td>\n",
       "      <td>47573.0</td>\n",
       "      <td>2010.0</td>\n",
       "      <td>4400.0</td>\n",
       "      <td>1418.0</td>\n",
       "      <td>448267.0</td>\n",
       "    </tr>\n",
       "    <tr>\n",
       "      <th>2383</th>\n",
       "      <td>Egypt</td>\n",
       "      <td>EGY</td>\n",
       "      <td>2002</td>\n",
       "      <td>1259.0</td>\n",
       "      <td>34528.0</td>\n",
       "      <td>1343.0</td>\n",
       "      <td>0.0</td>\n",
       "      <td>1055.0</td>\n",
       "      <td>309.0</td>\n",
       "      <td>111.0</td>\n",
       "      <td>...</td>\n",
       "      <td>851.0</td>\n",
       "      <td>186203.0</td>\n",
       "      <td>13524.0</td>\n",
       "      <td>17199.0</td>\n",
       "      <td>44520.0</td>\n",
       "      <td>49415.0</td>\n",
       "      <td>1993.0</td>\n",
       "      <td>4603.0</td>\n",
       "      <td>1521.0</td>\n",
       "      <td>463365.0</td>\n",
       "    </tr>\n",
       "    <tr>\n",
       "      <th>2384</th>\n",
       "      <td>Egypt</td>\n",
       "      <td>EGY</td>\n",
       "      <td>2003</td>\n",
       "      <td>1239.0</td>\n",
       "      <td>36300.0</td>\n",
       "      <td>1353.0</td>\n",
       "      <td>0.0</td>\n",
       "      <td>1039.0</td>\n",
       "      <td>337.0</td>\n",
       "      <td>113.0</td>\n",
       "      <td>...</td>\n",
       "      <td>862.0</td>\n",
       "      <td>196452.0</td>\n",
       "      <td>14259.0</td>\n",
       "      <td>18031.0</td>\n",
       "      <td>46515.0</td>\n",
       "      <td>51576.0</td>\n",
       "      <td>1970.0</td>\n",
       "      <td>4779.0</td>\n",
       "      <td>1645.0</td>\n",
       "      <td>481773.0</td>\n",
       "    </tr>\n",
       "    <tr>\n",
       "      <th>2385</th>\n",
       "      <td>Egypt</td>\n",
       "      <td>EGY</td>\n",
       "      <td>2004</td>\n",
       "      <td>1203.0</td>\n",
       "      <td>37419.0</td>\n",
       "      <td>1343.0</td>\n",
       "      <td>0.0</td>\n",
       "      <td>1012.0</td>\n",
       "      <td>364.0</td>\n",
       "      <td>114.0</td>\n",
       "      <td>...</td>\n",
       "      <td>823.0</td>\n",
       "      <td>197750.0</td>\n",
       "      <td>14493.0</td>\n",
       "      <td>18030.0</td>\n",
       "      <td>46893.0</td>\n",
       "      <td>51941.0</td>\n",
       "      <td>1893.0</td>\n",
       "      <td>4858.0</td>\n",
       "      <td>1669.0</td>\n",
       "      <td>483542.0</td>\n",
       "    </tr>\n",
       "    <tr>\n",
       "      <th>2386</th>\n",
       "      <td>Egypt</td>\n",
       "      <td>EGY</td>\n",
       "      <td>2005</td>\n",
       "      <td>1176.0</td>\n",
       "      <td>38242.0</td>\n",
       "      <td>1371.0</td>\n",
       "      <td>0.0</td>\n",
       "      <td>997.0</td>\n",
       "      <td>392.0</td>\n",
       "      <td>116.0</td>\n",
       "      <td>...</td>\n",
       "      <td>788.0</td>\n",
       "      <td>197027.0</td>\n",
       "      <td>14537.0</td>\n",
       "      <td>17851.0</td>\n",
       "      <td>46652.0</td>\n",
       "      <td>51646.0</td>\n",
       "      <td>1826.0</td>\n",
       "      <td>4902.0</td>\n",
       "      <td>1652.0</td>\n",
       "      <td>481658.0</td>\n",
       "    </tr>\n",
       "    <tr>\n",
       "      <th>2387</th>\n",
       "      <td>Egypt</td>\n",
       "      <td>EGY</td>\n",
       "      <td>2006</td>\n",
       "      <td>1163.0</td>\n",
       "      <td>39646.0</td>\n",
       "      <td>1354.0</td>\n",
       "      <td>0.0</td>\n",
       "      <td>1004.0</td>\n",
       "      <td>428.0</td>\n",
       "      <td>118.0</td>\n",
       "      <td>...</td>\n",
       "      <td>760.0</td>\n",
       "      <td>199763.0</td>\n",
       "      <td>14794.0</td>\n",
       "      <td>18026.0</td>\n",
       "      <td>46610.0</td>\n",
       "      <td>51771.0</td>\n",
       "      <td>1809.0</td>\n",
       "      <td>4968.0</td>\n",
       "      <td>1657.0</td>\n",
       "      <td>485863.0</td>\n",
       "    </tr>\n",
       "    <tr>\n",
       "      <th>2388</th>\n",
       "      <td>Egypt</td>\n",
       "      <td>EGY</td>\n",
       "      <td>2007</td>\n",
       "      <td>1153.0</td>\n",
       "      <td>40485.0</td>\n",
       "      <td>1355.0</td>\n",
       "      <td>0.0</td>\n",
       "      <td>1011.0</td>\n",
       "      <td>465.0</td>\n",
       "      <td>104.0</td>\n",
       "      <td>...</td>\n",
       "      <td>741.0</td>\n",
       "      <td>201143.0</td>\n",
       "      <td>14943.0</td>\n",
       "      <td>18126.0</td>\n",
       "      <td>46823.0</td>\n",
       "      <td>52118.0</td>\n",
       "      <td>1732.0</td>\n",
       "      <td>5074.0</td>\n",
       "      <td>1670.0</td>\n",
       "      <td>488266.0</td>\n",
       "    </tr>\n",
       "    <tr>\n",
       "      <th>2389</th>\n",
       "      <td>Egypt</td>\n",
       "      <td>EGY</td>\n",
       "      <td>2012</td>\n",
       "      <td>1102.0</td>\n",
       "      <td>48813.0</td>\n",
       "      <td>1497.0</td>\n",
       "      <td>0.0</td>\n",
       "      <td>1104.0</td>\n",
       "      <td>618.0</td>\n",
       "      <td>105.0</td>\n",
       "      <td>...</td>\n",
       "      <td>717.0</td>\n",
       "      <td>231012.0</td>\n",
       "      <td>18053.0</td>\n",
       "      <td>20395.0</td>\n",
       "      <td>53786.0</td>\n",
       "      <td>59861.0</td>\n",
       "      <td>1542.0</td>\n",
       "      <td>5746.0</td>\n",
       "      <td>1989.0</td>\n",
       "      <td>544796.0</td>\n",
       "    </tr>\n",
       "    <tr>\n",
       "      <th>2390</th>\n",
       "      <td>Egypt</td>\n",
       "      <td>EGY</td>\n",
       "      <td>2013</td>\n",
       "      <td>1082.0</td>\n",
       "      <td>48629.0</td>\n",
       "      <td>1481.0</td>\n",
       "      <td>0.0</td>\n",
       "      <td>1095.0</td>\n",
       "      <td>684.0</td>\n",
       "      <td>103.0</td>\n",
       "      <td>...</td>\n",
       "      <td>684.0</td>\n",
       "      <td>229434.0</td>\n",
       "      <td>18037.0</td>\n",
       "      <td>20325.0</td>\n",
       "      <td>53648.0</td>\n",
       "      <td>59739.0</td>\n",
       "      <td>1481.0</td>\n",
       "      <td>5816.0</td>\n",
       "      <td>1964.0</td>\n",
       "      <td>540252.0</td>\n",
       "    </tr>\n",
       "    <tr>\n",
       "      <th>2391</th>\n",
       "      <td>Egypt</td>\n",
       "      <td>EGY</td>\n",
       "      <td>2017</td>\n",
       "      <td>823.0</td>\n",
       "      <td>55291.0</td>\n",
       "      <td>1494.0</td>\n",
       "      <td>0.0</td>\n",
       "      <td>1005.0</td>\n",
       "      <td>522.0</td>\n",
       "      <td>62.0</td>\n",
       "      <td>...</td>\n",
       "      <td>650.0</td>\n",
       "      <td>254927.0</td>\n",
       "      <td>20956.0</td>\n",
       "      <td>21957.0</td>\n",
       "      <td>59798.0</td>\n",
       "      <td>66243.0</td>\n",
       "      <td>1397.0</td>\n",
       "      <td>6469.0</td>\n",
       "      <td>2296.0</td>\n",
       "      <td>588017.0</td>\n",
       "    </tr>\n",
       "    <tr>\n",
       "      <th>2392</th>\n",
       "      <td>Egypt</td>\n",
       "      <td>EGY</td>\n",
       "      <td>2018</td>\n",
       "      <td>790.0</td>\n",
       "      <td>56627.0</td>\n",
       "      <td>1492.0</td>\n",
       "      <td>0.0</td>\n",
       "      <td>988.0</td>\n",
       "      <td>516.0</td>\n",
       "      <td>56.0</td>\n",
       "      <td>...</td>\n",
       "      <td>639.0</td>\n",
       "      <td>259239.0</td>\n",
       "      <td>21461.0</td>\n",
       "      <td>22235.0</td>\n",
       "      <td>61156.0</td>\n",
       "      <td>67659.0</td>\n",
       "      <td>1373.0</td>\n",
       "      <td>6681.0</td>\n",
       "      <td>2366.0</td>\n",
       "      <td>596617.0</td>\n",
       "    </tr>\n",
       "    <tr>\n",
       "      <th>2393</th>\n",
       "      <td>Egypt</td>\n",
       "      <td>EGY</td>\n",
       "      <td>2019</td>\n",
       "      <td>764.0</td>\n",
       "      <td>57934.0</td>\n",
       "      <td>1496.0</td>\n",
       "      <td>0.0</td>\n",
       "      <td>972.0</td>\n",
       "      <td>512.0</td>\n",
       "      <td>56.0</td>\n",
       "      <td>...</td>\n",
       "      <td>634.0</td>\n",
       "      <td>263873.0</td>\n",
       "      <td>21981.0</td>\n",
       "      <td>22560.0</td>\n",
       "      <td>62635.0</td>\n",
       "      <td>69216.0</td>\n",
       "      <td>1356.0</td>\n",
       "      <td>6918.0</td>\n",
       "      <td>2439.0</td>\n",
       "      <td>605194.0</td>\n",
       "    </tr>\n",
       "  </tbody>\n",
       "</table>\n",
       "<p>30 rows × 35 columns</p>\n",
       "</div>"
      ],
      "text/plain": [
       "     Entity Code  Year  Meningitis  Neoplasms    Fire  Malaria  Drowning  \\\n",
       "2364  Egypt  EGY  2008      1138.0    42135.0  1378.0      0.0    1025.0   \n",
       "2365  Egypt  EGY  2009      1137.0    44866.0  1415.0      0.0    1051.0   \n",
       "2366  Egypt  EGY  2010      1111.0    46171.0  1447.0      0.0    1070.0   \n",
       "2367  Egypt  EGY  2011      1115.0    47360.0  1462.0      0.0    1093.0   \n",
       "2368  Egypt  EGY  2014       925.0    50183.0  1474.0      0.0    1051.0   \n",
       "2369  Egypt  EGY  2015       925.0    52885.0  1497.0      0.0    1045.0   \n",
       "2370  Egypt  EGY  2016       852.0    54414.0  1488.0      0.0    1006.0   \n",
       "2371  Egypt  EGY  1990      2119.0    23605.0  1575.0      0.0    1544.0   \n",
       "2372  Egypt  EGY  1991      2224.0    23951.0  1482.0      0.0    1410.0   \n",
       "2373  Egypt  EGY  1992      2118.0    24212.0  1430.0      0.0    1327.0   \n",
       "2374  Egypt  EGY  1993      1829.0    25319.0  1455.0      0.0    1349.0   \n",
       "2375  Egypt  EGY  1994      1748.0    26295.0  1458.0      0.0    1338.0   \n",
       "2376  Egypt  EGY  1995      1657.0    26667.0  1413.0      0.0    1286.0   \n",
       "2377  Egypt  EGY  1996      1531.0    27486.0  1396.0      0.0    1233.0   \n",
       "2378  Egypt  EGY  1997      1465.0    28493.0  1390.0      0.0    1192.0   \n",
       "2379  Egypt  EGY  1998      1465.0    29155.0  1354.0      0.0    1140.0   \n",
       "2380  Egypt  EGY  1999      1375.0    30113.0  1340.0      0.0    1114.0   \n",
       "2381  Egypt  EGY  2000      1317.0    30582.0  1293.0      0.0    1059.0   \n",
       "2382  Egypt  EGY  2001      1296.0    32833.0  1329.0      0.0    1066.0   \n",
       "2383  Egypt  EGY  2002      1259.0    34528.0  1343.0      0.0    1055.0   \n",
       "2384  Egypt  EGY  2003      1239.0    36300.0  1353.0      0.0    1039.0   \n",
       "2385  Egypt  EGY  2004      1203.0    37419.0  1343.0      0.0    1012.0   \n",
       "2386  Egypt  EGY  2005      1176.0    38242.0  1371.0      0.0     997.0   \n",
       "2387  Egypt  EGY  2006      1163.0    39646.0  1354.0      0.0    1004.0   \n",
       "2388  Egypt  EGY  2007      1153.0    40485.0  1355.0      0.0    1011.0   \n",
       "2389  Egypt  EGY  2012      1102.0    48813.0  1497.0      0.0    1104.0   \n",
       "2390  Egypt  EGY  2013      1082.0    48629.0  1481.0      0.0    1095.0   \n",
       "2391  Egypt  EGY  2017       823.0    55291.0  1494.0      0.0    1005.0   \n",
       "2392  Egypt  EGY  2018       790.0    56627.0  1492.0      0.0     988.0   \n",
       "2393  Egypt  EGY  2019       764.0    57934.0  1496.0      0.0     972.0   \n",
       "\n",
       "      Interpersonal violence  HIV/AIDS  ...  Protein-energy malnutrition  \\\n",
       "2364                   503.0      93.0  ...                        736.0   \n",
       "2365                   535.0      93.0  ...                        734.0   \n",
       "2366                   535.0      95.0  ...                        718.0   \n",
       "2367                   562.0     101.0  ...                        713.0   \n",
       "2368                   593.0      98.0  ...                        677.0   \n",
       "2369                   537.0      84.0  ...                        699.0   \n",
       "2370                   530.0      70.0  ...                        678.0   \n",
       "2371                   255.0      56.0  ...                       1358.0   \n",
       "2372                   247.0      65.0  ...                       1304.0   \n",
       "2373                   236.0      74.0  ...                       1269.0   \n",
       "2374                   232.0      82.0  ...                       1255.0   \n",
       "2375                   232.0      88.0  ...                       1199.0   \n",
       "2376                   241.0      93.0  ...                       1150.0   \n",
       "2377                   241.0      98.0  ...                       1061.0   \n",
       "2378                   247.0     103.0  ...                       1011.0   \n",
       "2379                   254.0     106.0  ...                        978.0   \n",
       "2380                   258.0     108.0  ...                        946.0   \n",
       "2381                   264.0     109.0  ...                        873.0   \n",
       "2382                   284.0     110.0  ...                        873.0   \n",
       "2383                   309.0     111.0  ...                        851.0   \n",
       "2384                   337.0     113.0  ...                        862.0   \n",
       "2385                   364.0     114.0  ...                        823.0   \n",
       "2386                   392.0     116.0  ...                        788.0   \n",
       "2387                   428.0     118.0  ...                        760.0   \n",
       "2388                   465.0     104.0  ...                        741.0   \n",
       "2389                   618.0     105.0  ...                        717.0   \n",
       "2390                   684.0     103.0  ...                        684.0   \n",
       "2391                   522.0      62.0  ...                        650.0   \n",
       "2392                   516.0      56.0  ...                        639.0   \n",
       "2393                   512.0      56.0  ...                        634.0   \n",
       "\n",
       "      Cardiovascular  Chronic kidney disease  Chronic respiratory  Cirrhosis  \\\n",
       "2364        207451.0                 15535.0              18612.0    48127.0   \n",
       "2365        214374.0                 16199.0              19088.0    49630.0   \n",
       "2366        219382.0                 16806.0              19409.0    50816.0   \n",
       "2367        221812.0                 17195.0              19685.0    51945.0   \n",
       "2368        236288.0                 18893.0              20849.0    55221.0   \n",
       "2369        251445.0                 20276.0              21784.0    57801.0   \n",
       "2370        255662.0                 20918.0              22094.0    59305.0   \n",
       "2371        156674.0                  9720.0              15225.0    39203.0   \n",
       "2372        156391.0                  9847.0              15172.0    38839.0   \n",
       "2373        155190.0                  9910.0              14896.0    38663.0   \n",
       "2374        160199.0                 10352.0              15300.0    39272.0   \n",
       "2375        164016.0                 10742.0              15642.0    39754.0   \n",
       "2376        162510.0                 10808.0              15517.0    39338.0   \n",
       "2377        163709.0                 11122.0              15578.0    39456.0   \n",
       "2378        167701.0                 11538.0              15878.0    40152.0   \n",
       "2379        170232.0                 11876.0              16062.0    40712.0   \n",
       "2380        171454.0                 12169.0              16092.0    41259.0   \n",
       "2381        166895.0                 12124.0              15600.0    40904.0   \n",
       "2382        177263.0                 12881.0              16442.0    42823.0   \n",
       "2383        186203.0                 13524.0              17199.0    44520.0   \n",
       "2384        196452.0                 14259.0              18031.0    46515.0   \n",
       "2385        197750.0                 14493.0              18030.0    46893.0   \n",
       "2386        197027.0                 14537.0              17851.0    46652.0   \n",
       "2387        199763.0                 14794.0              18026.0    46610.0   \n",
       "2388        201143.0                 14943.0              18126.0    46823.0   \n",
       "2389        231012.0                 18053.0              20395.0    53786.0   \n",
       "2390        229434.0                 18037.0              20325.0    53648.0   \n",
       "2391        254927.0                 20956.0              21957.0    59798.0   \n",
       "2392        259239.0                 21461.0              22235.0    61156.0   \n",
       "2393        263873.0                 21981.0              22560.0    62635.0   \n",
       "\n",
       "      Digestive  Acute hepatitis  Dementias  Parkinson  Total of deaths  \n",
       "2364    53614.0           1689.0     5212.0     1732.0         499896.0  \n",
       "2365    55290.0           1657.0     5340.0     1796.0         514724.0  \n",
       "2366    56588.0           1605.0     5464.0     1847.0         523236.0  \n",
       "2367    57828.0           1568.0     5607.0     1898.0         529436.0  \n",
       "2368    61427.0           1443.0     5999.0     2053.0         551643.0  \n",
       "2369    64205.0           1454.0     6190.0     2214.0         581847.0  \n",
       "2370    65758.0           1427.0     6343.0     2296.0         587923.0  \n",
       "2371    44121.0           3023.0     3282.0     1045.0         468409.0  \n",
       "2372    43668.0           2783.0     3363.0     1062.0         457492.0  \n",
       "2373    43425.0           2529.0     3451.0     1067.0         447129.0  \n",
       "2374    44053.0           2420.0     3568.0     1124.0         448294.0  \n",
       "2375    44542.0           2331.0     3684.0     1178.0         448394.0  \n",
       "2376    44031.0           2217.0     3779.0     1189.0         438552.0  \n",
       "2377    44104.0           2148.0     3870.0     1208.0         432618.0  \n",
       "2378    44834.0           2117.0     3972.0     1254.0         435796.0  \n",
       "2379    45401.0           2072.0     4070.0     1305.0         436987.0  \n",
       "2380    45948.0           2047.0     4153.0     1336.0         438946.0  \n",
       "2381    45486.0           1970.0     4224.0     1316.0         429426.0  \n",
       "2382    47573.0           2010.0     4400.0     1418.0         448267.0  \n",
       "2383    49415.0           1993.0     4603.0     1521.0         463365.0  \n",
       "2384    51576.0           1970.0     4779.0     1645.0         481773.0  \n",
       "2385    51941.0           1893.0     4858.0     1669.0         483542.0  \n",
       "2386    51646.0           1826.0     4902.0     1652.0         481658.0  \n",
       "2387    51771.0           1809.0     4968.0     1657.0         485863.0  \n",
       "2388    52118.0           1732.0     5074.0     1670.0         488266.0  \n",
       "2389    59861.0           1542.0     5746.0     1989.0         544796.0  \n",
       "2390    59739.0           1481.0     5816.0     1964.0         540252.0  \n",
       "2391    66243.0           1397.0     6469.0     2296.0         588017.0  \n",
       "2392    67659.0           1373.0     6681.0     2366.0         596617.0  \n",
       "2393    69216.0           1356.0     6918.0     2439.0         605194.0  \n",
       "\n",
       "[30 rows x 35 columns]"
      ]
     },
     "execution_count": 73,
     "metadata": {},
     "output_type": "execute_result"
    }
   ],
   "source": [
    "egy_df['Total of deaths'] = egy_df.sum(axis=1)\n",
    "egy_df"
   ]
  },
  {
   "cell_type": "code",
   "execution_count": 74,
   "id": "7c4d7ba0",
   "metadata": {},
   "outputs": [
    {
     "data": {
      "text/html": [
       "<div>\n",
       "<style scoped>\n",
       "    .dataframe tbody tr th:only-of-type {\n",
       "        vertical-align: middle;\n",
       "    }\n",
       "\n",
       "    .dataframe tbody tr th {\n",
       "        vertical-align: top;\n",
       "    }\n",
       "\n",
       "    .dataframe thead th {\n",
       "        text-align: right;\n",
       "    }\n",
       "</style>\n",
       "<table border=\"1\" class=\"dataframe\">\n",
       "  <thead>\n",
       "    <tr style=\"text-align: right;\">\n",
       "      <th></th>\n",
       "      <th>Entity</th>\n",
       "      <th>Code</th>\n",
       "      <th>Year</th>\n",
       "      <th>Meningitis</th>\n",
       "      <th>Neoplasms</th>\n",
       "      <th>Fire</th>\n",
       "      <th>Malaria</th>\n",
       "      <th>Drowning</th>\n",
       "      <th>Interpersonal violence</th>\n",
       "      <th>HIV/AIDS</th>\n",
       "      <th>...</th>\n",
       "      <th>Protein-energy malnutrition</th>\n",
       "      <th>Cardiovascular</th>\n",
       "      <th>Chronic kidney disease</th>\n",
       "      <th>Chronic respiratory</th>\n",
       "      <th>Cirrhosis</th>\n",
       "      <th>Digestive</th>\n",
       "      <th>Acute hepatitis</th>\n",
       "      <th>Dementias</th>\n",
       "      <th>Parkinson</th>\n",
       "      <th>Total of deaths</th>\n",
       "    </tr>\n",
       "  </thead>\n",
       "  <tbody>\n",
       "    <tr>\n",
       "      <th>2371</th>\n",
       "      <td>Egypt</td>\n",
       "      <td>EGY</td>\n",
       "      <td>1990</td>\n",
       "      <td>2119.0</td>\n",
       "      <td>23605.0</td>\n",
       "      <td>1575.0</td>\n",
       "      <td>0.0</td>\n",
       "      <td>1544.0</td>\n",
       "      <td>255.0</td>\n",
       "      <td>56.0</td>\n",
       "      <td>...</td>\n",
       "      <td>1358.0</td>\n",
       "      <td>156674.0</td>\n",
       "      <td>9720.0</td>\n",
       "      <td>15225.0</td>\n",
       "      <td>39203.0</td>\n",
       "      <td>44121.0</td>\n",
       "      <td>3023.0</td>\n",
       "      <td>3282.0</td>\n",
       "      <td>1045.0</td>\n",
       "      <td>468409.0</td>\n",
       "    </tr>\n",
       "    <tr>\n",
       "      <th>2372</th>\n",
       "      <td>Egypt</td>\n",
       "      <td>EGY</td>\n",
       "      <td>1991</td>\n",
       "      <td>2224.0</td>\n",
       "      <td>23951.0</td>\n",
       "      <td>1482.0</td>\n",
       "      <td>0.0</td>\n",
       "      <td>1410.0</td>\n",
       "      <td>247.0</td>\n",
       "      <td>65.0</td>\n",
       "      <td>...</td>\n",
       "      <td>1304.0</td>\n",
       "      <td>156391.0</td>\n",
       "      <td>9847.0</td>\n",
       "      <td>15172.0</td>\n",
       "      <td>38839.0</td>\n",
       "      <td>43668.0</td>\n",
       "      <td>2783.0</td>\n",
       "      <td>3363.0</td>\n",
       "      <td>1062.0</td>\n",
       "      <td>457492.0</td>\n",
       "    </tr>\n",
       "    <tr>\n",
       "      <th>2373</th>\n",
       "      <td>Egypt</td>\n",
       "      <td>EGY</td>\n",
       "      <td>1992</td>\n",
       "      <td>2118.0</td>\n",
       "      <td>24212.0</td>\n",
       "      <td>1430.0</td>\n",
       "      <td>0.0</td>\n",
       "      <td>1327.0</td>\n",
       "      <td>236.0</td>\n",
       "      <td>74.0</td>\n",
       "      <td>...</td>\n",
       "      <td>1269.0</td>\n",
       "      <td>155190.0</td>\n",
       "      <td>9910.0</td>\n",
       "      <td>14896.0</td>\n",
       "      <td>38663.0</td>\n",
       "      <td>43425.0</td>\n",
       "      <td>2529.0</td>\n",
       "      <td>3451.0</td>\n",
       "      <td>1067.0</td>\n",
       "      <td>447129.0</td>\n",
       "    </tr>\n",
       "    <tr>\n",
       "      <th>2374</th>\n",
       "      <td>Egypt</td>\n",
       "      <td>EGY</td>\n",
       "      <td>1993</td>\n",
       "      <td>1829.0</td>\n",
       "      <td>25319.0</td>\n",
       "      <td>1455.0</td>\n",
       "      <td>0.0</td>\n",
       "      <td>1349.0</td>\n",
       "      <td>232.0</td>\n",
       "      <td>82.0</td>\n",
       "      <td>...</td>\n",
       "      <td>1255.0</td>\n",
       "      <td>160199.0</td>\n",
       "      <td>10352.0</td>\n",
       "      <td>15300.0</td>\n",
       "      <td>39272.0</td>\n",
       "      <td>44053.0</td>\n",
       "      <td>2420.0</td>\n",
       "      <td>3568.0</td>\n",
       "      <td>1124.0</td>\n",
       "      <td>448294.0</td>\n",
       "    </tr>\n",
       "    <tr>\n",
       "      <th>2375</th>\n",
       "      <td>Egypt</td>\n",
       "      <td>EGY</td>\n",
       "      <td>1994</td>\n",
       "      <td>1748.0</td>\n",
       "      <td>26295.0</td>\n",
       "      <td>1458.0</td>\n",
       "      <td>0.0</td>\n",
       "      <td>1338.0</td>\n",
       "      <td>232.0</td>\n",
       "      <td>88.0</td>\n",
       "      <td>...</td>\n",
       "      <td>1199.0</td>\n",
       "      <td>164016.0</td>\n",
       "      <td>10742.0</td>\n",
       "      <td>15642.0</td>\n",
       "      <td>39754.0</td>\n",
       "      <td>44542.0</td>\n",
       "      <td>2331.0</td>\n",
       "      <td>3684.0</td>\n",
       "      <td>1178.0</td>\n",
       "      <td>448394.0</td>\n",
       "    </tr>\n",
       "  </tbody>\n",
       "</table>\n",
       "<p>5 rows × 35 columns</p>\n",
       "</div>"
      ],
      "text/plain": [
       "     Entity Code  Year  Meningitis  Neoplasms    Fire  Malaria  Drowning  \\\n",
       "2371  Egypt  EGY  1990      2119.0    23605.0  1575.0      0.0    1544.0   \n",
       "2372  Egypt  EGY  1991      2224.0    23951.0  1482.0      0.0    1410.0   \n",
       "2373  Egypt  EGY  1992      2118.0    24212.0  1430.0      0.0    1327.0   \n",
       "2374  Egypt  EGY  1993      1829.0    25319.0  1455.0      0.0    1349.0   \n",
       "2375  Egypt  EGY  1994      1748.0    26295.0  1458.0      0.0    1338.0   \n",
       "\n",
       "      Interpersonal violence  HIV/AIDS  ...  Protein-energy malnutrition  \\\n",
       "2371                   255.0      56.0  ...                       1358.0   \n",
       "2372                   247.0      65.0  ...                       1304.0   \n",
       "2373                   236.0      74.0  ...                       1269.0   \n",
       "2374                   232.0      82.0  ...                       1255.0   \n",
       "2375                   232.0      88.0  ...                       1199.0   \n",
       "\n",
       "      Cardiovascular  Chronic kidney disease  Chronic respiratory  Cirrhosis  \\\n",
       "2371        156674.0                  9720.0              15225.0    39203.0   \n",
       "2372        156391.0                  9847.0              15172.0    38839.0   \n",
       "2373        155190.0                  9910.0              14896.0    38663.0   \n",
       "2374        160199.0                 10352.0              15300.0    39272.0   \n",
       "2375        164016.0                 10742.0              15642.0    39754.0   \n",
       "\n",
       "      Digestive  Acute hepatitis  Dementias  Parkinson  Total of deaths  \n",
       "2371    44121.0           3023.0     3282.0     1045.0         468409.0  \n",
       "2372    43668.0           2783.0     3363.0     1062.0         457492.0  \n",
       "2373    43425.0           2529.0     3451.0     1067.0         447129.0  \n",
       "2374    44053.0           2420.0     3568.0     1124.0         448294.0  \n",
       "2375    44542.0           2331.0     3684.0     1178.0         448394.0  \n",
       "\n",
       "[5 rows x 35 columns]"
      ]
     },
     "execution_count": 74,
     "metadata": {},
     "output_type": "execute_result"
    }
   ],
   "source": [
    "egy_df = egy_df.sort_values('Year')\n",
    "egy_df.head()"
   ]
  },
  {
   "cell_type": "code",
   "execution_count": 75,
   "id": "7d70fcec",
   "metadata": {},
   "outputs": [
    {
     "data": {
      "application/vnd.plotly.v1+json": {
       "config": {
        "plotlyServerURL": "https://plot.ly"
       },
       "data": [
        {
         "type": "scatter",
         "x": [
          1990,
          1991,
          1992,
          1993,
          1994,
          1995,
          1996,
          1997,
          1998,
          1999,
          2000,
          2001,
          2002,
          2003,
          2004,
          2005,
          2006,
          2007,
          2008,
          2009,
          2010,
          2011,
          2012,
          2013,
          2014,
          2015,
          2016,
          2017,
          2018,
          2019
         ],
         "y": [
          468409,
          457492,
          447129,
          448294,
          448394,
          438552,
          432618,
          435796,
          436987,
          438946,
          429426,
          448267,
          463365,
          481773,
          483542,
          481658,
          485863,
          488266,
          499896,
          514724,
          523236,
          529436,
          544796,
          540252,
          551643,
          581847,
          587923,
          588017,
          596617,
          605194
         ]
        }
       ],
       "layout": {
        "height": 520,
        "margin": {
         "b": 0,
         "l": 0,
         "r": 0,
         "t": 25
        },
        "template": {
         "data": {
          "bar": [
           {
            "error_x": {
             "color": "#2a3f5f"
            },
            "error_y": {
             "color": "#2a3f5f"
            },
            "marker": {
             "line": {
              "color": "#E5ECF6",
              "width": 0.5
             },
             "pattern": {
              "fillmode": "overlay",
              "size": 10,
              "solidity": 0.2
             }
            },
            "type": "bar"
           }
          ],
          "barpolar": [
           {
            "marker": {
             "line": {
              "color": "#E5ECF6",
              "width": 0.5
             },
             "pattern": {
              "fillmode": "overlay",
              "size": 10,
              "solidity": 0.2
             }
            },
            "type": "barpolar"
           }
          ],
          "carpet": [
           {
            "aaxis": {
             "endlinecolor": "#2a3f5f",
             "gridcolor": "white",
             "linecolor": "white",
             "minorgridcolor": "white",
             "startlinecolor": "#2a3f5f"
            },
            "baxis": {
             "endlinecolor": "#2a3f5f",
             "gridcolor": "white",
             "linecolor": "white",
             "minorgridcolor": "white",
             "startlinecolor": "#2a3f5f"
            },
            "type": "carpet"
           }
          ],
          "choropleth": [
           {
            "colorbar": {
             "outlinewidth": 0,
             "ticks": ""
            },
            "type": "choropleth"
           }
          ],
          "contour": [
           {
            "colorbar": {
             "outlinewidth": 0,
             "ticks": ""
            },
            "colorscale": [
             [
              0,
              "#0d0887"
             ],
             [
              0.1111111111111111,
              "#46039f"
             ],
             [
              0.2222222222222222,
              "#7201a8"
             ],
             [
              0.3333333333333333,
              "#9c179e"
             ],
             [
              0.4444444444444444,
              "#bd3786"
             ],
             [
              0.5555555555555556,
              "#d8576b"
             ],
             [
              0.6666666666666666,
              "#ed7953"
             ],
             [
              0.7777777777777778,
              "#fb9f3a"
             ],
             [
              0.8888888888888888,
              "#fdca26"
             ],
             [
              1,
              "#f0f921"
             ]
            ],
            "type": "contour"
           }
          ],
          "contourcarpet": [
           {
            "colorbar": {
             "outlinewidth": 0,
             "ticks": ""
            },
            "type": "contourcarpet"
           }
          ],
          "heatmap": [
           {
            "colorbar": {
             "outlinewidth": 0,
             "ticks": ""
            },
            "colorscale": [
             [
              0,
              "#0d0887"
             ],
             [
              0.1111111111111111,
              "#46039f"
             ],
             [
              0.2222222222222222,
              "#7201a8"
             ],
             [
              0.3333333333333333,
              "#9c179e"
             ],
             [
              0.4444444444444444,
              "#bd3786"
             ],
             [
              0.5555555555555556,
              "#d8576b"
             ],
             [
              0.6666666666666666,
              "#ed7953"
             ],
             [
              0.7777777777777778,
              "#fb9f3a"
             ],
             [
              0.8888888888888888,
              "#fdca26"
             ],
             [
              1,
              "#f0f921"
             ]
            ],
            "type": "heatmap"
           }
          ],
          "heatmapgl": [
           {
            "colorbar": {
             "outlinewidth": 0,
             "ticks": ""
            },
            "colorscale": [
             [
              0,
              "#0d0887"
             ],
             [
              0.1111111111111111,
              "#46039f"
             ],
             [
              0.2222222222222222,
              "#7201a8"
             ],
             [
              0.3333333333333333,
              "#9c179e"
             ],
             [
              0.4444444444444444,
              "#bd3786"
             ],
             [
              0.5555555555555556,
              "#d8576b"
             ],
             [
              0.6666666666666666,
              "#ed7953"
             ],
             [
              0.7777777777777778,
              "#fb9f3a"
             ],
             [
              0.8888888888888888,
              "#fdca26"
             ],
             [
              1,
              "#f0f921"
             ]
            ],
            "type": "heatmapgl"
           }
          ],
          "histogram": [
           {
            "marker": {
             "pattern": {
              "fillmode": "overlay",
              "size": 10,
              "solidity": 0.2
             }
            },
            "type": "histogram"
           }
          ],
          "histogram2d": [
           {
            "colorbar": {
             "outlinewidth": 0,
             "ticks": ""
            },
            "colorscale": [
             [
              0,
              "#0d0887"
             ],
             [
              0.1111111111111111,
              "#46039f"
             ],
             [
              0.2222222222222222,
              "#7201a8"
             ],
             [
              0.3333333333333333,
              "#9c179e"
             ],
             [
              0.4444444444444444,
              "#bd3786"
             ],
             [
              0.5555555555555556,
              "#d8576b"
             ],
             [
              0.6666666666666666,
              "#ed7953"
             ],
             [
              0.7777777777777778,
              "#fb9f3a"
             ],
             [
              0.8888888888888888,
              "#fdca26"
             ],
             [
              1,
              "#f0f921"
             ]
            ],
            "type": "histogram2d"
           }
          ],
          "histogram2dcontour": [
           {
            "colorbar": {
             "outlinewidth": 0,
             "ticks": ""
            },
            "colorscale": [
             [
              0,
              "#0d0887"
             ],
             [
              0.1111111111111111,
              "#46039f"
             ],
             [
              0.2222222222222222,
              "#7201a8"
             ],
             [
              0.3333333333333333,
              "#9c179e"
             ],
             [
              0.4444444444444444,
              "#bd3786"
             ],
             [
              0.5555555555555556,
              "#d8576b"
             ],
             [
              0.6666666666666666,
              "#ed7953"
             ],
             [
              0.7777777777777778,
              "#fb9f3a"
             ],
             [
              0.8888888888888888,
              "#fdca26"
             ],
             [
              1,
              "#f0f921"
             ]
            ],
            "type": "histogram2dcontour"
           }
          ],
          "mesh3d": [
           {
            "colorbar": {
             "outlinewidth": 0,
             "ticks": ""
            },
            "type": "mesh3d"
           }
          ],
          "parcoords": [
           {
            "line": {
             "colorbar": {
              "outlinewidth": 0,
              "ticks": ""
             }
            },
            "type": "parcoords"
           }
          ],
          "pie": [
           {
            "automargin": true,
            "type": "pie"
           }
          ],
          "scatter": [
           {
            "fillpattern": {
             "fillmode": "overlay",
             "size": 10,
             "solidity": 0.2
            },
            "type": "scatter"
           }
          ],
          "scatter3d": [
           {
            "line": {
             "colorbar": {
              "outlinewidth": 0,
              "ticks": ""
             }
            },
            "marker": {
             "colorbar": {
              "outlinewidth": 0,
              "ticks": ""
             }
            },
            "type": "scatter3d"
           }
          ],
          "scattercarpet": [
           {
            "marker": {
             "colorbar": {
              "outlinewidth": 0,
              "ticks": ""
             }
            },
            "type": "scattercarpet"
           }
          ],
          "scattergeo": [
           {
            "marker": {
             "colorbar": {
              "outlinewidth": 0,
              "ticks": ""
             }
            },
            "type": "scattergeo"
           }
          ],
          "scattergl": [
           {
            "marker": {
             "colorbar": {
              "outlinewidth": 0,
              "ticks": ""
             }
            },
            "type": "scattergl"
           }
          ],
          "scattermapbox": [
           {
            "marker": {
             "colorbar": {
              "outlinewidth": 0,
              "ticks": ""
             }
            },
            "type": "scattermapbox"
           }
          ],
          "scatterpolar": [
           {
            "marker": {
             "colorbar": {
              "outlinewidth": 0,
              "ticks": ""
             }
            },
            "type": "scatterpolar"
           }
          ],
          "scatterpolargl": [
           {
            "marker": {
             "colorbar": {
              "outlinewidth": 0,
              "ticks": ""
             }
            },
            "type": "scatterpolargl"
           }
          ],
          "scatterternary": [
           {
            "marker": {
             "colorbar": {
              "outlinewidth": 0,
              "ticks": ""
             }
            },
            "type": "scatterternary"
           }
          ],
          "surface": [
           {
            "colorbar": {
             "outlinewidth": 0,
             "ticks": ""
            },
            "colorscale": [
             [
              0,
              "#0d0887"
             ],
             [
              0.1111111111111111,
              "#46039f"
             ],
             [
              0.2222222222222222,
              "#7201a8"
             ],
             [
              0.3333333333333333,
              "#9c179e"
             ],
             [
              0.4444444444444444,
              "#bd3786"
             ],
             [
              0.5555555555555556,
              "#d8576b"
             ],
             [
              0.6666666666666666,
              "#ed7953"
             ],
             [
              0.7777777777777778,
              "#fb9f3a"
             ],
             [
              0.8888888888888888,
              "#fdca26"
             ],
             [
              1,
              "#f0f921"
             ]
            ],
            "type": "surface"
           }
          ],
          "table": [
           {
            "cells": {
             "fill": {
              "color": "#EBF0F8"
             },
             "line": {
              "color": "white"
             }
            },
            "header": {
             "fill": {
              "color": "#C8D4E3"
             },
             "line": {
              "color": "white"
             }
            },
            "type": "table"
           }
          ]
         },
         "layout": {
          "annotationdefaults": {
           "arrowcolor": "#2a3f5f",
           "arrowhead": 0,
           "arrowwidth": 1
          },
          "autotypenumbers": "strict",
          "coloraxis": {
           "colorbar": {
            "outlinewidth": 0,
            "ticks": ""
           }
          },
          "colorscale": {
           "diverging": [
            [
             0,
             "#8e0152"
            ],
            [
             0.1,
             "#c51b7d"
            ],
            [
             0.2,
             "#de77ae"
            ],
            [
             0.3,
             "#f1b6da"
            ],
            [
             0.4,
             "#fde0ef"
            ],
            [
             0.5,
             "#f7f7f7"
            ],
            [
             0.6,
             "#e6f5d0"
            ],
            [
             0.7,
             "#b8e186"
            ],
            [
             0.8,
             "#7fbc41"
            ],
            [
             0.9,
             "#4d9221"
            ],
            [
             1,
             "#276419"
            ]
           ],
           "sequential": [
            [
             0,
             "#0d0887"
            ],
            [
             0.1111111111111111,
             "#46039f"
            ],
            [
             0.2222222222222222,
             "#7201a8"
            ],
            [
             0.3333333333333333,
             "#9c179e"
            ],
            [
             0.4444444444444444,
             "#bd3786"
            ],
            [
             0.5555555555555556,
             "#d8576b"
            ],
            [
             0.6666666666666666,
             "#ed7953"
            ],
            [
             0.7777777777777778,
             "#fb9f3a"
            ],
            [
             0.8888888888888888,
             "#fdca26"
            ],
            [
             1,
             "#f0f921"
            ]
           ],
           "sequentialminus": [
            [
             0,
             "#0d0887"
            ],
            [
             0.1111111111111111,
             "#46039f"
            ],
            [
             0.2222222222222222,
             "#7201a8"
            ],
            [
             0.3333333333333333,
             "#9c179e"
            ],
            [
             0.4444444444444444,
             "#bd3786"
            ],
            [
             0.5555555555555556,
             "#d8576b"
            ],
            [
             0.6666666666666666,
             "#ed7953"
            ],
            [
             0.7777777777777778,
             "#fb9f3a"
            ],
            [
             0.8888888888888888,
             "#fdca26"
            ],
            [
             1,
             "#f0f921"
            ]
           ]
          },
          "colorway": [
           "#636efa",
           "#EF553B",
           "#00cc96",
           "#ab63fa",
           "#FFA15A",
           "#19d3f3",
           "#FF6692",
           "#B6E880",
           "#FF97FF",
           "#FECB52"
          ],
          "font": {
           "color": "#2a3f5f"
          },
          "geo": {
           "bgcolor": "white",
           "lakecolor": "white",
           "landcolor": "#E5ECF6",
           "showlakes": true,
           "showland": true,
           "subunitcolor": "white"
          },
          "hoverlabel": {
           "align": "left"
          },
          "hovermode": "closest",
          "mapbox": {
           "style": "light"
          },
          "paper_bgcolor": "white",
          "plot_bgcolor": "#E5ECF6",
          "polar": {
           "angularaxis": {
            "gridcolor": "white",
            "linecolor": "white",
            "ticks": ""
           },
           "bgcolor": "#E5ECF6",
           "radialaxis": {
            "gridcolor": "white",
            "linecolor": "white",
            "ticks": ""
           }
          },
          "scene": {
           "xaxis": {
            "backgroundcolor": "#E5ECF6",
            "gridcolor": "white",
            "gridwidth": 2,
            "linecolor": "white",
            "showbackground": true,
            "ticks": "",
            "zerolinecolor": "white"
           },
           "yaxis": {
            "backgroundcolor": "#E5ECF6",
            "gridcolor": "white",
            "gridwidth": 2,
            "linecolor": "white",
            "showbackground": true,
            "ticks": "",
            "zerolinecolor": "white"
           },
           "zaxis": {
            "backgroundcolor": "#E5ECF6",
            "gridcolor": "white",
            "gridwidth": 2,
            "linecolor": "white",
            "showbackground": true,
            "ticks": "",
            "zerolinecolor": "white"
           }
          },
          "shapedefaults": {
           "line": {
            "color": "#2a3f5f"
           }
          },
          "ternary": {
           "aaxis": {
            "gridcolor": "white",
            "linecolor": "white",
            "ticks": ""
           },
           "baxis": {
            "gridcolor": "white",
            "linecolor": "white",
            "ticks": ""
           },
           "bgcolor": "#E5ECF6",
           "caxis": {
            "gridcolor": "white",
            "linecolor": "white",
            "ticks": ""
           }
          },
          "title": {
           "x": 0.05
          },
          "xaxis": {
           "automargin": true,
           "gridcolor": "white",
           "linecolor": "white",
           "ticks": "",
           "title": {
            "standoff": 15
           },
           "zerolinecolor": "white",
           "zerolinewidth": 2
          },
          "yaxis": {
           "automargin": true,
           "gridcolor": "white",
           "linecolor": "white",
           "ticks": "",
           "title": {
            "standoff": 15
           },
           "zerolinecolor": "white",
           "zerolinewidth": 2
          }
         }
        },
        "width": 620
       }
      },
      "text/html": [
       "<div>                            <div id=\"38168717-405d-4944-a10a-60a28c6181a1\" class=\"plotly-graph-div\" style=\"height:520px; width:620px;\"></div>            <script type=\"text/javascript\">                require([\"plotly\"], function(Plotly) {                    window.PLOTLYENV=window.PLOTLYENV || {};                                    if (document.getElementById(\"38168717-405d-4944-a10a-60a28c6181a1\")) {                    Plotly.newPlot(                        \"38168717-405d-4944-a10a-60a28c6181a1\",                        [{\"x\":[1990,1991,1992,1993,1994,1995,1996,1997,1998,1999,2000,2001,2002,2003,2004,2005,2006,2007,2008,2009,2010,2011,2012,2013,2014,2015,2016,2017,2018,2019],\"y\":[468409.0,457492.0,447129.0,448294.0,448394.0,438552.0,432618.0,435796.0,436987.0,438946.0,429426.0,448267.0,463365.0,481773.0,483542.0,481658.0,485863.0,488266.0,499896.0,514724.0,523236.0,529436.0,544796.0,540252.0,551643.0,581847.0,587923.0,588017.0,596617.0,605194.0],\"type\":\"scatter\"}],                        {\"template\":{\"data\":{\"histogram2dcontour\":[{\"type\":\"histogram2dcontour\",\"colorbar\":{\"outlinewidth\":0,\"ticks\":\"\"},\"colorscale\":[[0.0,\"#0d0887\"],[0.1111111111111111,\"#46039f\"],[0.2222222222222222,\"#7201a8\"],[0.3333333333333333,\"#9c179e\"],[0.4444444444444444,\"#bd3786\"],[0.5555555555555556,\"#d8576b\"],[0.6666666666666666,\"#ed7953\"],[0.7777777777777778,\"#fb9f3a\"],[0.8888888888888888,\"#fdca26\"],[1.0,\"#f0f921\"]]}],\"choropleth\":[{\"type\":\"choropleth\",\"colorbar\":{\"outlinewidth\":0,\"ticks\":\"\"}}],\"histogram2d\":[{\"type\":\"histogram2d\",\"colorbar\":{\"outlinewidth\":0,\"ticks\":\"\"},\"colorscale\":[[0.0,\"#0d0887\"],[0.1111111111111111,\"#46039f\"],[0.2222222222222222,\"#7201a8\"],[0.3333333333333333,\"#9c179e\"],[0.4444444444444444,\"#bd3786\"],[0.5555555555555556,\"#d8576b\"],[0.6666666666666666,\"#ed7953\"],[0.7777777777777778,\"#fb9f3a\"],[0.8888888888888888,\"#fdca26\"],[1.0,\"#f0f921\"]]}],\"heatmap\":[{\"type\":\"heatmap\",\"colorbar\":{\"outlinewidth\":0,\"ticks\":\"\"},\"colorscale\":[[0.0,\"#0d0887\"],[0.1111111111111111,\"#46039f\"],[0.2222222222222222,\"#7201a8\"],[0.3333333333333333,\"#9c179e\"],[0.4444444444444444,\"#bd3786\"],[0.5555555555555556,\"#d8576b\"],[0.6666666666666666,\"#ed7953\"],[0.7777777777777778,\"#fb9f3a\"],[0.8888888888888888,\"#fdca26\"],[1.0,\"#f0f921\"]]}],\"heatmapgl\":[{\"type\":\"heatmapgl\",\"colorbar\":{\"outlinewidth\":0,\"ticks\":\"\"},\"colorscale\":[[0.0,\"#0d0887\"],[0.1111111111111111,\"#46039f\"],[0.2222222222222222,\"#7201a8\"],[0.3333333333333333,\"#9c179e\"],[0.4444444444444444,\"#bd3786\"],[0.5555555555555556,\"#d8576b\"],[0.6666666666666666,\"#ed7953\"],[0.7777777777777778,\"#fb9f3a\"],[0.8888888888888888,\"#fdca26\"],[1.0,\"#f0f921\"]]}],\"contourcarpet\":[{\"type\":\"contourcarpet\",\"colorbar\":{\"outlinewidth\":0,\"ticks\":\"\"}}],\"contour\":[{\"type\":\"contour\",\"colorbar\":{\"outlinewidth\":0,\"ticks\":\"\"},\"colorscale\":[[0.0,\"#0d0887\"],[0.1111111111111111,\"#46039f\"],[0.2222222222222222,\"#7201a8\"],[0.3333333333333333,\"#9c179e\"],[0.4444444444444444,\"#bd3786\"],[0.5555555555555556,\"#d8576b\"],[0.6666666666666666,\"#ed7953\"],[0.7777777777777778,\"#fb9f3a\"],[0.8888888888888888,\"#fdca26\"],[1.0,\"#f0f921\"]]}],\"surface\":[{\"type\":\"surface\",\"colorbar\":{\"outlinewidth\":0,\"ticks\":\"\"},\"colorscale\":[[0.0,\"#0d0887\"],[0.1111111111111111,\"#46039f\"],[0.2222222222222222,\"#7201a8\"],[0.3333333333333333,\"#9c179e\"],[0.4444444444444444,\"#bd3786\"],[0.5555555555555556,\"#d8576b\"],[0.6666666666666666,\"#ed7953\"],[0.7777777777777778,\"#fb9f3a\"],[0.8888888888888888,\"#fdca26\"],[1.0,\"#f0f921\"]]}],\"mesh3d\":[{\"type\":\"mesh3d\",\"colorbar\":{\"outlinewidth\":0,\"ticks\":\"\"}}],\"scatter\":[{\"fillpattern\":{\"fillmode\":\"overlay\",\"size\":10,\"solidity\":0.2},\"type\":\"scatter\"}],\"parcoords\":[{\"type\":\"parcoords\",\"line\":{\"colorbar\":{\"outlinewidth\":0,\"ticks\":\"\"}}}],\"scatterpolargl\":[{\"type\":\"scatterpolargl\",\"marker\":{\"colorbar\":{\"outlinewidth\":0,\"ticks\":\"\"}}}],\"bar\":[{\"error_x\":{\"color\":\"#2a3f5f\"},\"error_y\":{\"color\":\"#2a3f5f\"},\"marker\":{\"line\":{\"color\":\"#E5ECF6\",\"width\":0.5},\"pattern\":{\"fillmode\":\"overlay\",\"size\":10,\"solidity\":0.2}},\"type\":\"bar\"}],\"scattergeo\":[{\"type\":\"scattergeo\",\"marker\":{\"colorbar\":{\"outlinewidth\":0,\"ticks\":\"\"}}}],\"scatterpolar\":[{\"type\":\"scatterpolar\",\"marker\":{\"colorbar\":{\"outlinewidth\":0,\"ticks\":\"\"}}}],\"histogram\":[{\"marker\":{\"pattern\":{\"fillmode\":\"overlay\",\"size\":10,\"solidity\":0.2}},\"type\":\"histogram\"}],\"scattergl\":[{\"type\":\"scattergl\",\"marker\":{\"colorbar\":{\"outlinewidth\":0,\"ticks\":\"\"}}}],\"scatter3d\":[{\"type\":\"scatter3d\",\"line\":{\"colorbar\":{\"outlinewidth\":0,\"ticks\":\"\"}},\"marker\":{\"colorbar\":{\"outlinewidth\":0,\"ticks\":\"\"}}}],\"scattermapbox\":[{\"type\":\"scattermapbox\",\"marker\":{\"colorbar\":{\"outlinewidth\":0,\"ticks\":\"\"}}}],\"scatterternary\":[{\"type\":\"scatterternary\",\"marker\":{\"colorbar\":{\"outlinewidth\":0,\"ticks\":\"\"}}}],\"scattercarpet\":[{\"type\":\"scattercarpet\",\"marker\":{\"colorbar\":{\"outlinewidth\":0,\"ticks\":\"\"}}}],\"carpet\":[{\"aaxis\":{\"endlinecolor\":\"#2a3f5f\",\"gridcolor\":\"white\",\"linecolor\":\"white\",\"minorgridcolor\":\"white\",\"startlinecolor\":\"#2a3f5f\"},\"baxis\":{\"endlinecolor\":\"#2a3f5f\",\"gridcolor\":\"white\",\"linecolor\":\"white\",\"minorgridcolor\":\"white\",\"startlinecolor\":\"#2a3f5f\"},\"type\":\"carpet\"}],\"table\":[{\"cells\":{\"fill\":{\"color\":\"#EBF0F8\"},\"line\":{\"color\":\"white\"}},\"header\":{\"fill\":{\"color\":\"#C8D4E3\"},\"line\":{\"color\":\"white\"}},\"type\":\"table\"}],\"barpolar\":[{\"marker\":{\"line\":{\"color\":\"#E5ECF6\",\"width\":0.5},\"pattern\":{\"fillmode\":\"overlay\",\"size\":10,\"solidity\":0.2}},\"type\":\"barpolar\"}],\"pie\":[{\"automargin\":true,\"type\":\"pie\"}]},\"layout\":{\"autotypenumbers\":\"strict\",\"colorway\":[\"#636efa\",\"#EF553B\",\"#00cc96\",\"#ab63fa\",\"#FFA15A\",\"#19d3f3\",\"#FF6692\",\"#B6E880\",\"#FF97FF\",\"#FECB52\"],\"font\":{\"color\":\"#2a3f5f\"},\"hovermode\":\"closest\",\"hoverlabel\":{\"align\":\"left\"},\"paper_bgcolor\":\"white\",\"plot_bgcolor\":\"#E5ECF6\",\"polar\":{\"bgcolor\":\"#E5ECF6\",\"angularaxis\":{\"gridcolor\":\"white\",\"linecolor\":\"white\",\"ticks\":\"\"},\"radialaxis\":{\"gridcolor\":\"white\",\"linecolor\":\"white\",\"ticks\":\"\"}},\"ternary\":{\"bgcolor\":\"#E5ECF6\",\"aaxis\":{\"gridcolor\":\"white\",\"linecolor\":\"white\",\"ticks\":\"\"},\"baxis\":{\"gridcolor\":\"white\",\"linecolor\":\"white\",\"ticks\":\"\"},\"caxis\":{\"gridcolor\":\"white\",\"linecolor\":\"white\",\"ticks\":\"\"}},\"coloraxis\":{\"colorbar\":{\"outlinewidth\":0,\"ticks\":\"\"}},\"colorscale\":{\"sequential\":[[0.0,\"#0d0887\"],[0.1111111111111111,\"#46039f\"],[0.2222222222222222,\"#7201a8\"],[0.3333333333333333,\"#9c179e\"],[0.4444444444444444,\"#bd3786\"],[0.5555555555555556,\"#d8576b\"],[0.6666666666666666,\"#ed7953\"],[0.7777777777777778,\"#fb9f3a\"],[0.8888888888888888,\"#fdca26\"],[1.0,\"#f0f921\"]],\"sequentialminus\":[[0.0,\"#0d0887\"],[0.1111111111111111,\"#46039f\"],[0.2222222222222222,\"#7201a8\"],[0.3333333333333333,\"#9c179e\"],[0.4444444444444444,\"#bd3786\"],[0.5555555555555556,\"#d8576b\"],[0.6666666666666666,\"#ed7953\"],[0.7777777777777778,\"#fb9f3a\"],[0.8888888888888888,\"#fdca26\"],[1.0,\"#f0f921\"]],\"diverging\":[[0,\"#8e0152\"],[0.1,\"#c51b7d\"],[0.2,\"#de77ae\"],[0.3,\"#f1b6da\"],[0.4,\"#fde0ef\"],[0.5,\"#f7f7f7\"],[0.6,\"#e6f5d0\"],[0.7,\"#b8e186\"],[0.8,\"#7fbc41\"],[0.9,\"#4d9221\"],[1,\"#276419\"]]},\"xaxis\":{\"gridcolor\":\"white\",\"linecolor\":\"white\",\"ticks\":\"\",\"title\":{\"standoff\":15},\"zerolinecolor\":\"white\",\"automargin\":true,\"zerolinewidth\":2},\"yaxis\":{\"gridcolor\":\"white\",\"linecolor\":\"white\",\"ticks\":\"\",\"title\":{\"standoff\":15},\"zerolinecolor\":\"white\",\"automargin\":true,\"zerolinewidth\":2},\"scene\":{\"xaxis\":{\"backgroundcolor\":\"#E5ECF6\",\"gridcolor\":\"white\",\"linecolor\":\"white\",\"showbackground\":true,\"ticks\":\"\",\"zerolinecolor\":\"white\",\"gridwidth\":2},\"yaxis\":{\"backgroundcolor\":\"#E5ECF6\",\"gridcolor\":\"white\",\"linecolor\":\"white\",\"showbackground\":true,\"ticks\":\"\",\"zerolinecolor\":\"white\",\"gridwidth\":2},\"zaxis\":{\"backgroundcolor\":\"#E5ECF6\",\"gridcolor\":\"white\",\"linecolor\":\"white\",\"showbackground\":true,\"ticks\":\"\",\"zerolinecolor\":\"white\",\"gridwidth\":2}},\"shapedefaults\":{\"line\":{\"color\":\"#2a3f5f\"}},\"annotationdefaults\":{\"arrowcolor\":\"#2a3f5f\",\"arrowhead\":0,\"arrowwidth\":1},\"geo\":{\"bgcolor\":\"white\",\"landcolor\":\"#E5ECF6\",\"subunitcolor\":\"white\",\"showland\":true,\"showlakes\":true,\"lakecolor\":\"white\"},\"title\":{\"x\":0.05},\"mapbox\":{\"style\":\"light\"}}},\"margin\":{\"r\":0,\"t\":25,\"l\":0,\"b\":0},\"height\":520,\"width\":620},                        {\"responsive\": true}                    ).then(function(){\n",
       "                            \n",
       "var gd = document.getElementById('38168717-405d-4944-a10a-60a28c6181a1');\n",
       "var x = new MutationObserver(function (mutations, observer) {{\n",
       "        var display = window.getComputedStyle(gd).display;\n",
       "        if (!display || display === 'none') {{\n",
       "            console.log([gd, 'removed!']);\n",
       "            Plotly.purge(gd);\n",
       "            observer.disconnect();\n",
       "        }}\n",
       "}});\n",
       "\n",
       "// Listen for the removal of the full notebook cells\n",
       "var notebookContainer = gd.closest('#notebook-container');\n",
       "if (notebookContainer) {{\n",
       "    x.observe(notebookContainer, {childList: true});\n",
       "}}\n",
       "\n",
       "// Listen for the clearing of the current output cell\n",
       "var outputEl = gd.closest('.output');\n",
       "if (outputEl) {{\n",
       "    x.observe(outputEl, {childList: true});\n",
       "}}\n",
       "\n",
       "                        })                };                });            </script>        </div>"
      ]
     },
     "metadata": {},
     "output_type": "display_data"
    }
   ],
   "source": [
    "fig = go.Figure()\n",
    "fig.add_trace(go.Scatter(x=egy_df.Year, y=egy_df['Total of deaths']))\n",
    "fig_line =fig.update_layout(height=520, width=620,margin={\"r\":0,\"t\":25,\"l\":0,\"b\":0})\n",
    "\n",
    "                           #title_text=\"Total no. of deaths from 1990 to 2019\")\n",
    "fig_line.show()"
   ]
  },
  {
   "cell_type": "markdown",
   "id": "f859dd6d",
   "metadata": {},
   "source": [
    "## New Plot!"
   ]
  },
  {
   "cell_type": "code",
   "execution_count": 76,
   "id": "5108acf3",
   "metadata": {},
   "outputs": [],
   "source": [
    "egy_df_total = egy_df.drop(['Entity','Code','Year','Total of deaths'], axis=1)"
   ]
  },
  {
   "cell_type": "code",
   "execution_count": 77,
   "id": "cbaa569b",
   "metadata": {},
   "outputs": [
    {
     "data": {
      "text/html": [
       "<div>\n",
       "<style scoped>\n",
       "    .dataframe tbody tr th:only-of-type {\n",
       "        vertical-align: middle;\n",
       "    }\n",
       "\n",
       "    .dataframe tbody tr th {\n",
       "        vertical-align: top;\n",
       "    }\n",
       "\n",
       "    .dataframe thead th {\n",
       "        text-align: right;\n",
       "    }\n",
       "</style>\n",
       "<table border=\"1\" class=\"dataframe\">\n",
       "  <thead>\n",
       "    <tr style=\"text-align: right;\">\n",
       "      <th></th>\n",
       "      <th>Meningitis</th>\n",
       "      <th>Neoplasms</th>\n",
       "      <th>Fire</th>\n",
       "      <th>Malaria</th>\n",
       "      <th>Drowning</th>\n",
       "      <th>Interpersonal violence</th>\n",
       "      <th>HIV/AIDS</th>\n",
       "      <th>Drug use disorders</th>\n",
       "      <th>Tuberculosis</th>\n",
       "      <th>Road injuries</th>\n",
       "      <th>...</th>\n",
       "      <th>Poisonings</th>\n",
       "      <th>Protein-energy malnutrition</th>\n",
       "      <th>Cardiovascular</th>\n",
       "      <th>Chronic kidney disease</th>\n",
       "      <th>Chronic respiratory</th>\n",
       "      <th>Cirrhosis</th>\n",
       "      <th>Digestive</th>\n",
       "      <th>Acute hepatitis</th>\n",
       "      <th>Dementias</th>\n",
       "      <th>Parkinson</th>\n",
       "    </tr>\n",
       "  </thead>\n",
       "  <tbody>\n",
       "    <tr>\n",
       "      <th>2371</th>\n",
       "      <td>2119.0</td>\n",
       "      <td>23605.0</td>\n",
       "      <td>1575.0</td>\n",
       "      <td>0.0</td>\n",
       "      <td>1544.0</td>\n",
       "      <td>255.0</td>\n",
       "      <td>56.0</td>\n",
       "      <td>24.0</td>\n",
       "      <td>1738.0</td>\n",
       "      <td>28020.0</td>\n",
       "      <td>...</td>\n",
       "      <td>239.0</td>\n",
       "      <td>1358.0</td>\n",
       "      <td>156674.0</td>\n",
       "      <td>9720.0</td>\n",
       "      <td>15225.0</td>\n",
       "      <td>39203.0</td>\n",
       "      <td>44121.0</td>\n",
       "      <td>3023.0</td>\n",
       "      <td>3282.0</td>\n",
       "      <td>1045.0</td>\n",
       "    </tr>\n",
       "  </tbody>\n",
       "</table>\n",
       "<p>1 rows × 31 columns</p>\n",
       "</div>"
      ],
      "text/plain": [
       "      Meningitis  Neoplasms    Fire  Malaria  Drowning  \\\n",
       "2371      2119.0    23605.0  1575.0      0.0    1544.0   \n",
       "\n",
       "      Interpersonal violence  HIV/AIDS  Drug use disorders  Tuberculosis  \\\n",
       "2371                   255.0      56.0                24.0        1738.0   \n",
       "\n",
       "      Road injuries  ...  Poisonings  Protein-energy malnutrition  \\\n",
       "2371        28020.0  ...       239.0                       1358.0   \n",
       "\n",
       "      Cardiovascular  Chronic kidney disease  Chronic respiratory  Cirrhosis  \\\n",
       "2371        156674.0                  9720.0              15225.0    39203.0   \n",
       "\n",
       "      Digestive  Acute hepatitis  Dementias  Parkinson  \n",
       "2371    44121.0           3023.0     3282.0     1045.0  \n",
       "\n",
       "[1 rows x 31 columns]"
      ]
     },
     "execution_count": 77,
     "metadata": {},
     "output_type": "execute_result"
    }
   ],
   "source": [
    "egy_df_total.head(1)"
   ]
  },
  {
   "cell_type": "code",
   "execution_count": 78,
   "id": "13e78a92",
   "metadata": {},
   "outputs": [
    {
     "data": {
      "text/html": [
       "<div>\n",
       "<style scoped>\n",
       "    .dataframe tbody tr th:only-of-type {\n",
       "        vertical-align: middle;\n",
       "    }\n",
       "\n",
       "    .dataframe tbody tr th {\n",
       "        vertical-align: top;\n",
       "    }\n",
       "\n",
       "    .dataframe thead th {\n",
       "        text-align: right;\n",
       "    }\n",
       "</style>\n",
       "<table border=\"1\" class=\"dataframe\">\n",
       "  <thead>\n",
       "    <tr style=\"text-align: right;\">\n",
       "      <th></th>\n",
       "      <th>diseases</th>\n",
       "      <th>Numbers</th>\n",
       "    </tr>\n",
       "  </thead>\n",
       "  <tbody>\n",
       "    <tr>\n",
       "      <th>23</th>\n",
       "      <td>Cardiovascular</td>\n",
       "      <td>5995471.0</td>\n",
       "    </tr>\n",
       "    <tr>\n",
       "      <th>27</th>\n",
       "      <td>Digestive</td>\n",
       "      <td>1583081.0</td>\n",
       "    </tr>\n",
       "    <tr>\n",
       "      <th>26</th>\n",
       "      <td>Cirrhosis</td>\n",
       "      <td>1422256.0</td>\n",
       "    </tr>\n",
       "    <tr>\n",
       "      <th>1</th>\n",
       "      <td>Neoplasms</td>\n",
       "      <td>1160639.0</td>\n",
       "    </tr>\n",
       "    <tr>\n",
       "      <th>11</th>\n",
       "      <td>respiratory infections</td>\n",
       "      <td>954868.0</td>\n",
       "    </tr>\n",
       "  </tbody>\n",
       "</table>\n",
       "</div>"
      ],
      "text/plain": [
       "                  diseases    Numbers\n",
       "23          Cardiovascular  5995471.0\n",
       "27               Digestive  1583081.0\n",
       "26               Cirrhosis  1422256.0\n",
       "1                Neoplasms  1160639.0\n",
       "11  respiratory infections   954868.0"
      ]
     },
     "execution_count": 78,
     "metadata": {},
     "output_type": "execute_result"
    }
   ],
   "source": [
    "egy_df_Alltotal = pd.DataFrame(egy_df_total.sum(axis=0))\n",
    "egy_df_Alltotal = egy_df_Alltotal.reset_index()\n",
    "egy_df_Alltotal.rename(columns = {'index':'diseases', 0:'Numbers'}, inplace = True)\n",
    "egy_df_Alltotal = egy_df_Alltotal.sort_values('Numbers', ascending = False)\n",
    "egy_df_Alltotal.head()"
   ]
  },
  {
   "cell_type": "code",
   "execution_count": 79,
   "id": "f0490556",
   "metadata": {},
   "outputs": [
    {
     "data": {
      "application/vnd.plotly.v1+json": {
       "config": {
        "plotlyServerURL": "https://plot.ly"
       },
       "data": [
        {
         "domain": {
          "x": [
           0,
           1
          ],
          "y": [
           0,
           1
          ]
         },
         "hovertemplate": "label=%{label}<br>value=%{value}<extra></extra>",
         "labels": [
          "Cardiovascular",
          "Digestive",
          "Cirrhosis",
          "Neoplasms",
          "respiratory infections"
         ],
         "legendgroup": "",
         "name": "",
         "showlegend": true,
         "type": "pie",
         "values": [
          5995471,
          1583081,
          1422256,
          1160639,
          954868
         ]
        }
       ],
       "layout": {
        "height": 400,
        "legend": {
         "tracegroupgap": 0
        },
        "margin": {
         "b": 20,
         "l": 20,
         "r": 0,
         "t": 20
        },
        "paper_bgcolor": "rgba(0,0,0,0)",
        "piecolorway": [
         "rgb(103,0,31)",
         "rgb(178,24,43)",
         "rgb(214,96,77)",
         "rgb(244,165,130)",
         "rgb(253,219,199)",
         "rgb(247,247,247)",
         "rgb(209,229,240)",
         "rgb(146,197,222)",
         "rgb(67,147,195)",
         "rgb(33,102,172)",
         "rgb(5,48,97)"
        ],
        "plot_bgcolor": "rgba(0,0,0,0)",
        "template": {
         "data": {
          "bar": [
           {
            "error_x": {
             "color": "#2a3f5f"
            },
            "error_y": {
             "color": "#2a3f5f"
            },
            "marker": {
             "line": {
              "color": "white",
              "width": 0.5
             },
             "pattern": {
              "fillmode": "overlay",
              "size": 10,
              "solidity": 0.2
             }
            },
            "type": "bar"
           }
          ],
          "barpolar": [
           {
            "marker": {
             "line": {
              "color": "white",
              "width": 0.5
             },
             "pattern": {
              "fillmode": "overlay",
              "size": 10,
              "solidity": 0.2
             }
            },
            "type": "barpolar"
           }
          ],
          "carpet": [
           {
            "aaxis": {
             "endlinecolor": "#2a3f5f",
             "gridcolor": "#C8D4E3",
             "linecolor": "#C8D4E3",
             "minorgridcolor": "#C8D4E3",
             "startlinecolor": "#2a3f5f"
            },
            "baxis": {
             "endlinecolor": "#2a3f5f",
             "gridcolor": "#C8D4E3",
             "linecolor": "#C8D4E3",
             "minorgridcolor": "#C8D4E3",
             "startlinecolor": "#2a3f5f"
            },
            "type": "carpet"
           }
          ],
          "choropleth": [
           {
            "colorbar": {
             "outlinewidth": 0,
             "ticks": ""
            },
            "type": "choropleth"
           }
          ],
          "contour": [
           {
            "colorbar": {
             "outlinewidth": 0,
             "ticks": ""
            },
            "colorscale": [
             [
              0,
              "#0d0887"
             ],
             [
              0.1111111111111111,
              "#46039f"
             ],
             [
              0.2222222222222222,
              "#7201a8"
             ],
             [
              0.3333333333333333,
              "#9c179e"
             ],
             [
              0.4444444444444444,
              "#bd3786"
             ],
             [
              0.5555555555555556,
              "#d8576b"
             ],
             [
              0.6666666666666666,
              "#ed7953"
             ],
             [
              0.7777777777777778,
              "#fb9f3a"
             ],
             [
              0.8888888888888888,
              "#fdca26"
             ],
             [
              1,
              "#f0f921"
             ]
            ],
            "type": "contour"
           }
          ],
          "contourcarpet": [
           {
            "colorbar": {
             "outlinewidth": 0,
             "ticks": ""
            },
            "type": "contourcarpet"
           }
          ],
          "heatmap": [
           {
            "colorbar": {
             "outlinewidth": 0,
             "ticks": ""
            },
            "colorscale": [
             [
              0,
              "#0d0887"
             ],
             [
              0.1111111111111111,
              "#46039f"
             ],
             [
              0.2222222222222222,
              "#7201a8"
             ],
             [
              0.3333333333333333,
              "#9c179e"
             ],
             [
              0.4444444444444444,
              "#bd3786"
             ],
             [
              0.5555555555555556,
              "#d8576b"
             ],
             [
              0.6666666666666666,
              "#ed7953"
             ],
             [
              0.7777777777777778,
              "#fb9f3a"
             ],
             [
              0.8888888888888888,
              "#fdca26"
             ],
             [
              1,
              "#f0f921"
             ]
            ],
            "type": "heatmap"
           }
          ],
          "heatmapgl": [
           {
            "colorbar": {
             "outlinewidth": 0,
             "ticks": ""
            },
            "colorscale": [
             [
              0,
              "#0d0887"
             ],
             [
              0.1111111111111111,
              "#46039f"
             ],
             [
              0.2222222222222222,
              "#7201a8"
             ],
             [
              0.3333333333333333,
              "#9c179e"
             ],
             [
              0.4444444444444444,
              "#bd3786"
             ],
             [
              0.5555555555555556,
              "#d8576b"
             ],
             [
              0.6666666666666666,
              "#ed7953"
             ],
             [
              0.7777777777777778,
              "#fb9f3a"
             ],
             [
              0.8888888888888888,
              "#fdca26"
             ],
             [
              1,
              "#f0f921"
             ]
            ],
            "type": "heatmapgl"
           }
          ],
          "histogram": [
           {
            "marker": {
             "pattern": {
              "fillmode": "overlay",
              "size": 10,
              "solidity": 0.2
             }
            },
            "type": "histogram"
           }
          ],
          "histogram2d": [
           {
            "colorbar": {
             "outlinewidth": 0,
             "ticks": ""
            },
            "colorscale": [
             [
              0,
              "#0d0887"
             ],
             [
              0.1111111111111111,
              "#46039f"
             ],
             [
              0.2222222222222222,
              "#7201a8"
             ],
             [
              0.3333333333333333,
              "#9c179e"
             ],
             [
              0.4444444444444444,
              "#bd3786"
             ],
             [
              0.5555555555555556,
              "#d8576b"
             ],
             [
              0.6666666666666666,
              "#ed7953"
             ],
             [
              0.7777777777777778,
              "#fb9f3a"
             ],
             [
              0.8888888888888888,
              "#fdca26"
             ],
             [
              1,
              "#f0f921"
             ]
            ],
            "type": "histogram2d"
           }
          ],
          "histogram2dcontour": [
           {
            "colorbar": {
             "outlinewidth": 0,
             "ticks": ""
            },
            "colorscale": [
             [
              0,
              "#0d0887"
             ],
             [
              0.1111111111111111,
              "#46039f"
             ],
             [
              0.2222222222222222,
              "#7201a8"
             ],
             [
              0.3333333333333333,
              "#9c179e"
             ],
             [
              0.4444444444444444,
              "#bd3786"
             ],
             [
              0.5555555555555556,
              "#d8576b"
             ],
             [
              0.6666666666666666,
              "#ed7953"
             ],
             [
              0.7777777777777778,
              "#fb9f3a"
             ],
             [
              0.8888888888888888,
              "#fdca26"
             ],
             [
              1,
              "#f0f921"
             ]
            ],
            "type": "histogram2dcontour"
           }
          ],
          "mesh3d": [
           {
            "colorbar": {
             "outlinewidth": 0,
             "ticks": ""
            },
            "type": "mesh3d"
           }
          ],
          "parcoords": [
           {
            "line": {
             "colorbar": {
              "outlinewidth": 0,
              "ticks": ""
             }
            },
            "type": "parcoords"
           }
          ],
          "pie": [
           {
            "automargin": true,
            "type": "pie"
           }
          ],
          "scatter": [
           {
            "fillpattern": {
             "fillmode": "overlay",
             "size": 10,
             "solidity": 0.2
            },
            "type": "scatter"
           }
          ],
          "scatter3d": [
           {
            "line": {
             "colorbar": {
              "outlinewidth": 0,
              "ticks": ""
             }
            },
            "marker": {
             "colorbar": {
              "outlinewidth": 0,
              "ticks": ""
             }
            },
            "type": "scatter3d"
           }
          ],
          "scattercarpet": [
           {
            "marker": {
             "colorbar": {
              "outlinewidth": 0,
              "ticks": ""
             }
            },
            "type": "scattercarpet"
           }
          ],
          "scattergeo": [
           {
            "marker": {
             "colorbar": {
              "outlinewidth": 0,
              "ticks": ""
             }
            },
            "type": "scattergeo"
           }
          ],
          "scattergl": [
           {
            "marker": {
             "colorbar": {
              "outlinewidth": 0,
              "ticks": ""
             }
            },
            "type": "scattergl"
           }
          ],
          "scattermapbox": [
           {
            "marker": {
             "colorbar": {
              "outlinewidth": 0,
              "ticks": ""
             }
            },
            "type": "scattermapbox"
           }
          ],
          "scatterpolar": [
           {
            "marker": {
             "colorbar": {
              "outlinewidth": 0,
              "ticks": ""
             }
            },
            "type": "scatterpolar"
           }
          ],
          "scatterpolargl": [
           {
            "marker": {
             "colorbar": {
              "outlinewidth": 0,
              "ticks": ""
             }
            },
            "type": "scatterpolargl"
           }
          ],
          "scatterternary": [
           {
            "marker": {
             "colorbar": {
              "outlinewidth": 0,
              "ticks": ""
             }
            },
            "type": "scatterternary"
           }
          ],
          "surface": [
           {
            "colorbar": {
             "outlinewidth": 0,
             "ticks": ""
            },
            "colorscale": [
             [
              0,
              "#0d0887"
             ],
             [
              0.1111111111111111,
              "#46039f"
             ],
             [
              0.2222222222222222,
              "#7201a8"
             ],
             [
              0.3333333333333333,
              "#9c179e"
             ],
             [
              0.4444444444444444,
              "#bd3786"
             ],
             [
              0.5555555555555556,
              "#d8576b"
             ],
             [
              0.6666666666666666,
              "#ed7953"
             ],
             [
              0.7777777777777778,
              "#fb9f3a"
             ],
             [
              0.8888888888888888,
              "#fdca26"
             ],
             [
              1,
              "#f0f921"
             ]
            ],
            "type": "surface"
           }
          ],
          "table": [
           {
            "cells": {
             "fill": {
              "color": "#EBF0F8"
             },
             "line": {
              "color": "white"
             }
            },
            "header": {
             "fill": {
              "color": "#C8D4E3"
             },
             "line": {
              "color": "white"
             }
            },
            "type": "table"
           }
          ]
         },
         "layout": {
          "annotationdefaults": {
           "arrowcolor": "#2a3f5f",
           "arrowhead": 0,
           "arrowwidth": 1
          },
          "autotypenumbers": "strict",
          "coloraxis": {
           "colorbar": {
            "outlinewidth": 0,
            "ticks": ""
           }
          },
          "colorscale": {
           "diverging": [
            [
             0,
             "#8e0152"
            ],
            [
             0.1,
             "#c51b7d"
            ],
            [
             0.2,
             "#de77ae"
            ],
            [
             0.3,
             "#f1b6da"
            ],
            [
             0.4,
             "#fde0ef"
            ],
            [
             0.5,
             "#f7f7f7"
            ],
            [
             0.6,
             "#e6f5d0"
            ],
            [
             0.7,
             "#b8e186"
            ],
            [
             0.8,
             "#7fbc41"
            ],
            [
             0.9,
             "#4d9221"
            ],
            [
             1,
             "#276419"
            ]
           ],
           "sequential": [
            [
             0,
             "#0d0887"
            ],
            [
             0.1111111111111111,
             "#46039f"
            ],
            [
             0.2222222222222222,
             "#7201a8"
            ],
            [
             0.3333333333333333,
             "#9c179e"
            ],
            [
             0.4444444444444444,
             "#bd3786"
            ],
            [
             0.5555555555555556,
             "#d8576b"
            ],
            [
             0.6666666666666666,
             "#ed7953"
            ],
            [
             0.7777777777777778,
             "#fb9f3a"
            ],
            [
             0.8888888888888888,
             "#fdca26"
            ],
            [
             1,
             "#f0f921"
            ]
           ],
           "sequentialminus": [
            [
             0,
             "#0d0887"
            ],
            [
             0.1111111111111111,
             "#46039f"
            ],
            [
             0.2222222222222222,
             "#7201a8"
            ],
            [
             0.3333333333333333,
             "#9c179e"
            ],
            [
             0.4444444444444444,
             "#bd3786"
            ],
            [
             0.5555555555555556,
             "#d8576b"
            ],
            [
             0.6666666666666666,
             "#ed7953"
            ],
            [
             0.7777777777777778,
             "#fb9f3a"
            ],
            [
             0.8888888888888888,
             "#fdca26"
            ],
            [
             1,
             "#f0f921"
            ]
           ]
          },
          "colorway": [
           "#636efa",
           "#EF553B",
           "#00cc96",
           "#ab63fa",
           "#FFA15A",
           "#19d3f3",
           "#FF6692",
           "#B6E880",
           "#FF97FF",
           "#FECB52"
          ],
          "font": {
           "color": "#2a3f5f"
          },
          "geo": {
           "bgcolor": "white",
           "lakecolor": "white",
           "landcolor": "white",
           "showlakes": true,
           "showland": true,
           "subunitcolor": "#C8D4E3"
          },
          "hoverlabel": {
           "align": "left"
          },
          "hovermode": "closest",
          "mapbox": {
           "style": "light"
          },
          "paper_bgcolor": "white",
          "plot_bgcolor": "white",
          "polar": {
           "angularaxis": {
            "gridcolor": "#EBF0F8",
            "linecolor": "#EBF0F8",
            "ticks": ""
           },
           "bgcolor": "white",
           "radialaxis": {
            "gridcolor": "#EBF0F8",
            "linecolor": "#EBF0F8",
            "ticks": ""
           }
          },
          "scene": {
           "xaxis": {
            "backgroundcolor": "white",
            "gridcolor": "#DFE8F3",
            "gridwidth": 2,
            "linecolor": "#EBF0F8",
            "showbackground": true,
            "ticks": "",
            "zerolinecolor": "#EBF0F8"
           },
           "yaxis": {
            "backgroundcolor": "white",
            "gridcolor": "#DFE8F3",
            "gridwidth": 2,
            "linecolor": "#EBF0F8",
            "showbackground": true,
            "ticks": "",
            "zerolinecolor": "#EBF0F8"
           },
           "zaxis": {
            "backgroundcolor": "white",
            "gridcolor": "#DFE8F3",
            "gridwidth": 2,
            "linecolor": "#EBF0F8",
            "showbackground": true,
            "ticks": "",
            "zerolinecolor": "#EBF0F8"
           }
          },
          "shapedefaults": {
           "line": {
            "color": "#2a3f5f"
           }
          },
          "ternary": {
           "aaxis": {
            "gridcolor": "#DFE8F3",
            "linecolor": "#A2B1C6",
            "ticks": ""
           },
           "baxis": {
            "gridcolor": "#DFE8F3",
            "linecolor": "#A2B1C6",
            "ticks": ""
           },
           "bgcolor": "white",
           "caxis": {
            "gridcolor": "#DFE8F3",
            "linecolor": "#A2B1C6",
            "ticks": ""
           }
          },
          "title": {
           "x": 0.05
          },
          "xaxis": {
           "automargin": true,
           "gridcolor": "#EBF0F8",
           "linecolor": "#EBF0F8",
           "ticks": "",
           "title": {
            "standoff": 15
           },
           "zerolinecolor": "#EBF0F8",
           "zerolinewidth": 2
          },
          "yaxis": {
           "automargin": true,
           "gridcolor": "#EBF0F8",
           "linecolor": "#EBF0F8",
           "ticks": "",
           "title": {
            "standoff": 15
           },
           "zerolinecolor": "#EBF0F8",
           "zerolinewidth": 2
          }
         }
        },
        "width": 500
       }
      },
      "text/html": [
       "<div>                            <div id=\"5fbe0d3d-3121-43b8-8cc2-3256dff6756e\" class=\"plotly-graph-div\" style=\"height:400px; width:500px;\"></div>            <script type=\"text/javascript\">                require([\"plotly\"], function(Plotly) {                    window.PLOTLYENV=window.PLOTLYENV || {};                                    if (document.getElementById(\"5fbe0d3d-3121-43b8-8cc2-3256dff6756e\")) {                    Plotly.newPlot(                        \"5fbe0d3d-3121-43b8-8cc2-3256dff6756e\",                        [{\"domain\":{\"x\":[0.0,1.0],\"y\":[0.0,1.0]},\"hovertemplate\":\"label=%{label}<br>value=%{value}<extra></extra>\",\"labels\":[\"Cardiovascular\",\"Digestive\",\"Cirrhosis\",\"Neoplasms\",\"respiratory infections\"],\"legendgroup\":\"\",\"name\":\"\",\"showlegend\":true,\"values\":[5995471.0,1583081.0,1422256.0,1160639.0,954868.0],\"type\":\"pie\"}],                        {\"template\":{\"data\":{\"barpolar\":[{\"marker\":{\"line\":{\"color\":\"white\",\"width\":0.5},\"pattern\":{\"fillmode\":\"overlay\",\"size\":10,\"solidity\":0.2}},\"type\":\"barpolar\"}],\"bar\":[{\"error_x\":{\"color\":\"#2a3f5f\"},\"error_y\":{\"color\":\"#2a3f5f\"},\"marker\":{\"line\":{\"color\":\"white\",\"width\":0.5},\"pattern\":{\"fillmode\":\"overlay\",\"size\":10,\"solidity\":0.2}},\"type\":\"bar\"}],\"carpet\":[{\"aaxis\":{\"endlinecolor\":\"#2a3f5f\",\"gridcolor\":\"#C8D4E3\",\"linecolor\":\"#C8D4E3\",\"minorgridcolor\":\"#C8D4E3\",\"startlinecolor\":\"#2a3f5f\"},\"baxis\":{\"endlinecolor\":\"#2a3f5f\",\"gridcolor\":\"#C8D4E3\",\"linecolor\":\"#C8D4E3\",\"minorgridcolor\":\"#C8D4E3\",\"startlinecolor\":\"#2a3f5f\"},\"type\":\"carpet\"}],\"choropleth\":[{\"colorbar\":{\"outlinewidth\":0,\"ticks\":\"\"},\"type\":\"choropleth\"}],\"contourcarpet\":[{\"colorbar\":{\"outlinewidth\":0,\"ticks\":\"\"},\"type\":\"contourcarpet\"}],\"contour\":[{\"colorbar\":{\"outlinewidth\":0,\"ticks\":\"\"},\"colorscale\":[[0.0,\"#0d0887\"],[0.1111111111111111,\"#46039f\"],[0.2222222222222222,\"#7201a8\"],[0.3333333333333333,\"#9c179e\"],[0.4444444444444444,\"#bd3786\"],[0.5555555555555556,\"#d8576b\"],[0.6666666666666666,\"#ed7953\"],[0.7777777777777778,\"#fb9f3a\"],[0.8888888888888888,\"#fdca26\"],[1.0,\"#f0f921\"]],\"type\":\"contour\"}],\"heatmapgl\":[{\"colorbar\":{\"outlinewidth\":0,\"ticks\":\"\"},\"colorscale\":[[0.0,\"#0d0887\"],[0.1111111111111111,\"#46039f\"],[0.2222222222222222,\"#7201a8\"],[0.3333333333333333,\"#9c179e\"],[0.4444444444444444,\"#bd3786\"],[0.5555555555555556,\"#d8576b\"],[0.6666666666666666,\"#ed7953\"],[0.7777777777777778,\"#fb9f3a\"],[0.8888888888888888,\"#fdca26\"],[1.0,\"#f0f921\"]],\"type\":\"heatmapgl\"}],\"heatmap\":[{\"colorbar\":{\"outlinewidth\":0,\"ticks\":\"\"},\"colorscale\":[[0.0,\"#0d0887\"],[0.1111111111111111,\"#46039f\"],[0.2222222222222222,\"#7201a8\"],[0.3333333333333333,\"#9c179e\"],[0.4444444444444444,\"#bd3786\"],[0.5555555555555556,\"#d8576b\"],[0.6666666666666666,\"#ed7953\"],[0.7777777777777778,\"#fb9f3a\"],[0.8888888888888888,\"#fdca26\"],[1.0,\"#f0f921\"]],\"type\":\"heatmap\"}],\"histogram2dcontour\":[{\"colorbar\":{\"outlinewidth\":0,\"ticks\":\"\"},\"colorscale\":[[0.0,\"#0d0887\"],[0.1111111111111111,\"#46039f\"],[0.2222222222222222,\"#7201a8\"],[0.3333333333333333,\"#9c179e\"],[0.4444444444444444,\"#bd3786\"],[0.5555555555555556,\"#d8576b\"],[0.6666666666666666,\"#ed7953\"],[0.7777777777777778,\"#fb9f3a\"],[0.8888888888888888,\"#fdca26\"],[1.0,\"#f0f921\"]],\"type\":\"histogram2dcontour\"}],\"histogram2d\":[{\"colorbar\":{\"outlinewidth\":0,\"ticks\":\"\"},\"colorscale\":[[0.0,\"#0d0887\"],[0.1111111111111111,\"#46039f\"],[0.2222222222222222,\"#7201a8\"],[0.3333333333333333,\"#9c179e\"],[0.4444444444444444,\"#bd3786\"],[0.5555555555555556,\"#d8576b\"],[0.6666666666666666,\"#ed7953\"],[0.7777777777777778,\"#fb9f3a\"],[0.8888888888888888,\"#fdca26\"],[1.0,\"#f0f921\"]],\"type\":\"histogram2d\"}],\"histogram\":[{\"marker\":{\"pattern\":{\"fillmode\":\"overlay\",\"size\":10,\"solidity\":0.2}},\"type\":\"histogram\"}],\"mesh3d\":[{\"colorbar\":{\"outlinewidth\":0,\"ticks\":\"\"},\"type\":\"mesh3d\"}],\"parcoords\":[{\"line\":{\"colorbar\":{\"outlinewidth\":0,\"ticks\":\"\"}},\"type\":\"parcoords\"}],\"pie\":[{\"automargin\":true,\"type\":\"pie\"}],\"scatter3d\":[{\"line\":{\"colorbar\":{\"outlinewidth\":0,\"ticks\":\"\"}},\"marker\":{\"colorbar\":{\"outlinewidth\":0,\"ticks\":\"\"}},\"type\":\"scatter3d\"}],\"scattercarpet\":[{\"marker\":{\"colorbar\":{\"outlinewidth\":0,\"ticks\":\"\"}},\"type\":\"scattercarpet\"}],\"scattergeo\":[{\"marker\":{\"colorbar\":{\"outlinewidth\":0,\"ticks\":\"\"}},\"type\":\"scattergeo\"}],\"scattergl\":[{\"marker\":{\"colorbar\":{\"outlinewidth\":0,\"ticks\":\"\"}},\"type\":\"scattergl\"}],\"scattermapbox\":[{\"marker\":{\"colorbar\":{\"outlinewidth\":0,\"ticks\":\"\"}},\"type\":\"scattermapbox\"}],\"scatterpolargl\":[{\"marker\":{\"colorbar\":{\"outlinewidth\":0,\"ticks\":\"\"}},\"type\":\"scatterpolargl\"}],\"scatterpolar\":[{\"marker\":{\"colorbar\":{\"outlinewidth\":0,\"ticks\":\"\"}},\"type\":\"scatterpolar\"}],\"scatter\":[{\"fillpattern\":{\"fillmode\":\"overlay\",\"size\":10,\"solidity\":0.2},\"type\":\"scatter\"}],\"scatterternary\":[{\"marker\":{\"colorbar\":{\"outlinewidth\":0,\"ticks\":\"\"}},\"type\":\"scatterternary\"}],\"surface\":[{\"colorbar\":{\"outlinewidth\":0,\"ticks\":\"\"},\"colorscale\":[[0.0,\"#0d0887\"],[0.1111111111111111,\"#46039f\"],[0.2222222222222222,\"#7201a8\"],[0.3333333333333333,\"#9c179e\"],[0.4444444444444444,\"#bd3786\"],[0.5555555555555556,\"#d8576b\"],[0.6666666666666666,\"#ed7953\"],[0.7777777777777778,\"#fb9f3a\"],[0.8888888888888888,\"#fdca26\"],[1.0,\"#f0f921\"]],\"type\":\"surface\"}],\"table\":[{\"cells\":{\"fill\":{\"color\":\"#EBF0F8\"},\"line\":{\"color\":\"white\"}},\"header\":{\"fill\":{\"color\":\"#C8D4E3\"},\"line\":{\"color\":\"white\"}},\"type\":\"table\"}]},\"layout\":{\"annotationdefaults\":{\"arrowcolor\":\"#2a3f5f\",\"arrowhead\":0,\"arrowwidth\":1},\"autotypenumbers\":\"strict\",\"coloraxis\":{\"colorbar\":{\"outlinewidth\":0,\"ticks\":\"\"}},\"colorscale\":{\"diverging\":[[0,\"#8e0152\"],[0.1,\"#c51b7d\"],[0.2,\"#de77ae\"],[0.3,\"#f1b6da\"],[0.4,\"#fde0ef\"],[0.5,\"#f7f7f7\"],[0.6,\"#e6f5d0\"],[0.7,\"#b8e186\"],[0.8,\"#7fbc41\"],[0.9,\"#4d9221\"],[1,\"#276419\"]],\"sequential\":[[0.0,\"#0d0887\"],[0.1111111111111111,\"#46039f\"],[0.2222222222222222,\"#7201a8\"],[0.3333333333333333,\"#9c179e\"],[0.4444444444444444,\"#bd3786\"],[0.5555555555555556,\"#d8576b\"],[0.6666666666666666,\"#ed7953\"],[0.7777777777777778,\"#fb9f3a\"],[0.8888888888888888,\"#fdca26\"],[1.0,\"#f0f921\"]],\"sequentialminus\":[[0.0,\"#0d0887\"],[0.1111111111111111,\"#46039f\"],[0.2222222222222222,\"#7201a8\"],[0.3333333333333333,\"#9c179e\"],[0.4444444444444444,\"#bd3786\"],[0.5555555555555556,\"#d8576b\"],[0.6666666666666666,\"#ed7953\"],[0.7777777777777778,\"#fb9f3a\"],[0.8888888888888888,\"#fdca26\"],[1.0,\"#f0f921\"]]},\"colorway\":[\"#636efa\",\"#EF553B\",\"#00cc96\",\"#ab63fa\",\"#FFA15A\",\"#19d3f3\",\"#FF6692\",\"#B6E880\",\"#FF97FF\",\"#FECB52\"],\"font\":{\"color\":\"#2a3f5f\"},\"geo\":{\"bgcolor\":\"white\",\"lakecolor\":\"white\",\"landcolor\":\"white\",\"showlakes\":true,\"showland\":true,\"subunitcolor\":\"#C8D4E3\"},\"hoverlabel\":{\"align\":\"left\"},\"hovermode\":\"closest\",\"mapbox\":{\"style\":\"light\"},\"paper_bgcolor\":\"white\",\"plot_bgcolor\":\"white\",\"polar\":{\"angularaxis\":{\"gridcolor\":\"#EBF0F8\",\"linecolor\":\"#EBF0F8\",\"ticks\":\"\"},\"bgcolor\":\"white\",\"radialaxis\":{\"gridcolor\":\"#EBF0F8\",\"linecolor\":\"#EBF0F8\",\"ticks\":\"\"}},\"scene\":{\"xaxis\":{\"backgroundcolor\":\"white\",\"gridcolor\":\"#DFE8F3\",\"gridwidth\":2,\"linecolor\":\"#EBF0F8\",\"showbackground\":true,\"ticks\":\"\",\"zerolinecolor\":\"#EBF0F8\"},\"yaxis\":{\"backgroundcolor\":\"white\",\"gridcolor\":\"#DFE8F3\",\"gridwidth\":2,\"linecolor\":\"#EBF0F8\",\"showbackground\":true,\"ticks\":\"\",\"zerolinecolor\":\"#EBF0F8\"},\"zaxis\":{\"backgroundcolor\":\"white\",\"gridcolor\":\"#DFE8F3\",\"gridwidth\":2,\"linecolor\":\"#EBF0F8\",\"showbackground\":true,\"ticks\":\"\",\"zerolinecolor\":\"#EBF0F8\"}},\"shapedefaults\":{\"line\":{\"color\":\"#2a3f5f\"}},\"ternary\":{\"aaxis\":{\"gridcolor\":\"#DFE8F3\",\"linecolor\":\"#A2B1C6\",\"ticks\":\"\"},\"baxis\":{\"gridcolor\":\"#DFE8F3\",\"linecolor\":\"#A2B1C6\",\"ticks\":\"\"},\"bgcolor\":\"white\",\"caxis\":{\"gridcolor\":\"#DFE8F3\",\"linecolor\":\"#A2B1C6\",\"ticks\":\"\"}},\"title\":{\"x\":0.05},\"xaxis\":{\"automargin\":true,\"gridcolor\":\"#EBF0F8\",\"linecolor\":\"#EBF0F8\",\"ticks\":\"\",\"title\":{\"standoff\":15},\"zerolinecolor\":\"#EBF0F8\",\"zerolinewidth\":2},\"yaxis\":{\"automargin\":true,\"gridcolor\":\"#EBF0F8\",\"linecolor\":\"#EBF0F8\",\"ticks\":\"\",\"title\":{\"standoff\":15},\"zerolinecolor\":\"#EBF0F8\",\"zerolinewidth\":2}}},\"legend\":{\"tracegroupgap\":0},\"margin\":{\"t\":20,\"l\":20,\"r\":0,\"b\":20},\"piecolorway\":[\"rgb(103,0,31)\",\"rgb(178,24,43)\",\"rgb(214,96,77)\",\"rgb(244,165,130)\",\"rgb(253,219,199)\",\"rgb(247,247,247)\",\"rgb(209,229,240)\",\"rgb(146,197,222)\",\"rgb(67,147,195)\",\"rgb(33,102,172)\",\"rgb(5,48,97)\"],\"height\":400,\"width\":500,\"paper_bgcolor\":\"rgba(0,0,0,0)\",\"plot_bgcolor\":\"rgba(0,0,0,0)\"},                        {\"responsive\": true}                    ).then(function(){\n",
       "                            \n",
       "var gd = document.getElementById('5fbe0d3d-3121-43b8-8cc2-3256dff6756e');\n",
       "var x = new MutationObserver(function (mutations, observer) {{\n",
       "        var display = window.getComputedStyle(gd).display;\n",
       "        if (!display || display === 'none') {{\n",
       "            console.log([gd, 'removed!']);\n",
       "            Plotly.purge(gd);\n",
       "            observer.disconnect();\n",
       "        }}\n",
       "}});\n",
       "\n",
       "// Listen for the removal of the full notebook cells\n",
       "var notebookContainer = gd.closest('#notebook-container');\n",
       "if (notebookContainer) {{\n",
       "    x.observe(notebookContainer, {childList: true});\n",
       "}}\n",
       "\n",
       "// Listen for the clearing of the current output cell\n",
       "var outputEl = gd.closest('.output');\n",
       "if (outputEl) {{\n",
       "    x.observe(outputEl, {childList: true});\n",
       "}}\n",
       "\n",
       "                        })                };                });            </script>        </div>"
      ]
     },
     "metadata": {},
     "output_type": "display_data"
    }
   ],
   "source": [
    "fig = px.pie(egy_df_Alltotal, values=egy_df_Alltotal['Numbers'][:5], names=egy_df_Alltotal['diseases'][:5],\n",
    "             color_discrete_sequence=px.colors.sequential.RdBu)\n",
    "fig3 =fig.update_layout(height=400, width=500,margin=dict(l=20, r=0, t=20, b=20), template=\"plotly_white\",\n",
    "                        paper_bgcolor='rgba(0,0,0,0)',\n",
    "                         plot_bgcolor='rgba(0,0,0,0)')\n",
    "fig3.show()"
   ]
  },
  {
   "cell_type": "markdown",
   "id": "22517504",
   "metadata": {},
   "source": [
    "## New Plot!"
   ]
  },
  {
   "cell_type": "code",
   "execution_count": 80,
   "id": "3192b691",
   "metadata": {},
   "outputs": [
    {
     "data": {
      "text/html": [
       "<div>\n",
       "<style scoped>\n",
       "    .dataframe tbody tr th:only-of-type {\n",
       "        vertical-align: middle;\n",
       "    }\n",
       "\n",
       "    .dataframe tbody tr th {\n",
       "        vertical-align: top;\n",
       "    }\n",
       "\n",
       "    .dataframe thead th {\n",
       "        text-align: right;\n",
       "    }\n",
       "</style>\n",
       "<table border=\"1\" class=\"dataframe\">\n",
       "  <thead>\n",
       "    <tr style=\"text-align: right;\">\n",
       "      <th></th>\n",
       "      <th>Meningitis</th>\n",
       "      <th>Neoplasms</th>\n",
       "      <th>Fire</th>\n",
       "      <th>Malaria</th>\n",
       "      <th>Drowning</th>\n",
       "      <th>Interpersonal violence</th>\n",
       "      <th>HIV/AIDS</th>\n",
       "      <th>Drug use disorders</th>\n",
       "      <th>Tuberculosis</th>\n",
       "      <th>Road injuries</th>\n",
       "      <th>...</th>\n",
       "      <th>Poisonings</th>\n",
       "      <th>Protein-energy malnutrition</th>\n",
       "      <th>Cardiovascular</th>\n",
       "      <th>Chronic kidney disease</th>\n",
       "      <th>Chronic respiratory</th>\n",
       "      <th>Cirrhosis</th>\n",
       "      <th>Digestive</th>\n",
       "      <th>Acute hepatitis</th>\n",
       "      <th>Dementias</th>\n",
       "      <th>Parkinson</th>\n",
       "    </tr>\n",
       "    <tr>\n",
       "      <th>Year</th>\n",
       "      <th></th>\n",
       "      <th></th>\n",
       "      <th></th>\n",
       "      <th></th>\n",
       "      <th></th>\n",
       "      <th></th>\n",
       "      <th></th>\n",
       "      <th></th>\n",
       "      <th></th>\n",
       "      <th></th>\n",
       "      <th></th>\n",
       "      <th></th>\n",
       "      <th></th>\n",
       "      <th></th>\n",
       "      <th></th>\n",
       "      <th></th>\n",
       "      <th></th>\n",
       "      <th></th>\n",
       "      <th></th>\n",
       "      <th></th>\n",
       "      <th></th>\n",
       "    </tr>\n",
       "  </thead>\n",
       "  <tbody>\n",
       "    <tr>\n",
       "      <th>1990</th>\n",
       "      <td>2119.0</td>\n",
       "      <td>23605.0</td>\n",
       "      <td>1575.0</td>\n",
       "      <td>0.0</td>\n",
       "      <td>1544.0</td>\n",
       "      <td>255.0</td>\n",
       "      <td>56.0</td>\n",
       "      <td>24.0</td>\n",
       "      <td>1738.0</td>\n",
       "      <td>28020.0</td>\n",
       "      <td>...</td>\n",
       "      <td>239.0</td>\n",
       "      <td>1358.0</td>\n",
       "      <td>156674.0</td>\n",
       "      <td>9720.0</td>\n",
       "      <td>15225.0</td>\n",
       "      <td>39203.0</td>\n",
       "      <td>44121.0</td>\n",
       "      <td>3023.0</td>\n",
       "      <td>3282.0</td>\n",
       "      <td>1045.0</td>\n",
       "    </tr>\n",
       "    <tr>\n",
       "      <th>1991</th>\n",
       "      <td>2224.0</td>\n",
       "      <td>23951.0</td>\n",
       "      <td>1482.0</td>\n",
       "      <td>0.0</td>\n",
       "      <td>1410.0</td>\n",
       "      <td>247.0</td>\n",
       "      <td>65.0</td>\n",
       "      <td>23.0</td>\n",
       "      <td>1658.0</td>\n",
       "      <td>26592.0</td>\n",
       "      <td>...</td>\n",
       "      <td>222.0</td>\n",
       "      <td>1304.0</td>\n",
       "      <td>156391.0</td>\n",
       "      <td>9847.0</td>\n",
       "      <td>15172.0</td>\n",
       "      <td>38839.0</td>\n",
       "      <td>43668.0</td>\n",
       "      <td>2783.0</td>\n",
       "      <td>3363.0</td>\n",
       "      <td>1062.0</td>\n",
       "    </tr>\n",
       "    <tr>\n",
       "      <th>1992</th>\n",
       "      <td>2118.0</td>\n",
       "      <td>24212.0</td>\n",
       "      <td>1430.0</td>\n",
       "      <td>0.0</td>\n",
       "      <td>1327.0</td>\n",
       "      <td>236.0</td>\n",
       "      <td>74.0</td>\n",
       "      <td>24.0</td>\n",
       "      <td>1543.0</td>\n",
       "      <td>25605.0</td>\n",
       "      <td>...</td>\n",
       "      <td>211.0</td>\n",
       "      <td>1269.0</td>\n",
       "      <td>155190.0</td>\n",
       "      <td>9910.0</td>\n",
       "      <td>14896.0</td>\n",
       "      <td>38663.0</td>\n",
       "      <td>43425.0</td>\n",
       "      <td>2529.0</td>\n",
       "      <td>3451.0</td>\n",
       "      <td>1067.0</td>\n",
       "    </tr>\n",
       "    <tr>\n",
       "      <th>1993</th>\n",
       "      <td>1829.0</td>\n",
       "      <td>25319.0</td>\n",
       "      <td>1455.0</td>\n",
       "      <td>0.0</td>\n",
       "      <td>1349.0</td>\n",
       "      <td>232.0</td>\n",
       "      <td>82.0</td>\n",
       "      <td>26.0</td>\n",
       "      <td>1490.0</td>\n",
       "      <td>26057.0</td>\n",
       "      <td>...</td>\n",
       "      <td>214.0</td>\n",
       "      <td>1255.0</td>\n",
       "      <td>160199.0</td>\n",
       "      <td>10352.0</td>\n",
       "      <td>15300.0</td>\n",
       "      <td>39272.0</td>\n",
       "      <td>44053.0</td>\n",
       "      <td>2420.0</td>\n",
       "      <td>3568.0</td>\n",
       "      <td>1124.0</td>\n",
       "    </tr>\n",
       "    <tr>\n",
       "      <th>1994</th>\n",
       "      <td>1748.0</td>\n",
       "      <td>26295.0</td>\n",
       "      <td>1458.0</td>\n",
       "      <td>0.0</td>\n",
       "      <td>1338.0</td>\n",
       "      <td>232.0</td>\n",
       "      <td>88.0</td>\n",
       "      <td>28.0</td>\n",
       "      <td>1458.0</td>\n",
       "      <td>26142.0</td>\n",
       "      <td>...</td>\n",
       "      <td>213.0</td>\n",
       "      <td>1199.0</td>\n",
       "      <td>164016.0</td>\n",
       "      <td>10742.0</td>\n",
       "      <td>15642.0</td>\n",
       "      <td>39754.0</td>\n",
       "      <td>44542.0</td>\n",
       "      <td>2331.0</td>\n",
       "      <td>3684.0</td>\n",
       "      <td>1178.0</td>\n",
       "    </tr>\n",
       "  </tbody>\n",
       "</table>\n",
       "<p>5 rows × 31 columns</p>\n",
       "</div>"
      ],
      "text/plain": [
       "      Meningitis  Neoplasms    Fire  Malaria  Drowning  \\\n",
       "Year                                                     \n",
       "1990      2119.0    23605.0  1575.0      0.0    1544.0   \n",
       "1991      2224.0    23951.0  1482.0      0.0    1410.0   \n",
       "1992      2118.0    24212.0  1430.0      0.0    1327.0   \n",
       "1993      1829.0    25319.0  1455.0      0.0    1349.0   \n",
       "1994      1748.0    26295.0  1458.0      0.0    1338.0   \n",
       "\n",
       "      Interpersonal violence  HIV/AIDS  Drug use disorders  Tuberculosis  \\\n",
       "Year                                                                       \n",
       "1990                   255.0      56.0                24.0        1738.0   \n",
       "1991                   247.0      65.0                23.0        1658.0   \n",
       "1992                   236.0      74.0                24.0        1543.0   \n",
       "1993                   232.0      82.0                26.0        1490.0   \n",
       "1994                   232.0      88.0                28.0        1458.0   \n",
       "\n",
       "      Road injuries  ...  Poisonings  Protein-energy malnutrition  \\\n",
       "Year                 ...                                            \n",
       "1990        28020.0  ...       239.0                       1358.0   \n",
       "1991        26592.0  ...       222.0                       1304.0   \n",
       "1992        25605.0  ...       211.0                       1269.0   \n",
       "1993        26057.0  ...       214.0                       1255.0   \n",
       "1994        26142.0  ...       213.0                       1199.0   \n",
       "\n",
       "      Cardiovascular  Chronic kidney disease  Chronic respiratory  Cirrhosis  \\\n",
       "Year                                                                           \n",
       "1990        156674.0                  9720.0              15225.0    39203.0   \n",
       "1991        156391.0                  9847.0              15172.0    38839.0   \n",
       "1992        155190.0                  9910.0              14896.0    38663.0   \n",
       "1993        160199.0                 10352.0              15300.0    39272.0   \n",
       "1994        164016.0                 10742.0              15642.0    39754.0   \n",
       "\n",
       "      Digestive  Acute hepatitis  Dementias  Parkinson  \n",
       "Year                                                    \n",
       "1990    44121.0           3023.0     3282.0     1045.0  \n",
       "1991    43668.0           2783.0     3363.0     1062.0  \n",
       "1992    43425.0           2529.0     3451.0     1067.0  \n",
       "1993    44053.0           2420.0     3568.0     1124.0  \n",
       "1994    44542.0           2331.0     3684.0     1178.0  \n",
       "\n",
       "[5 rows x 31 columns]"
      ]
     },
     "execution_count": 80,
     "metadata": {},
     "output_type": "execute_result"
    }
   ],
   "source": [
    "egy_df_total = egy_df.drop(['Total of deaths'], axis=1)\n",
    "egy_df_total = egy_df_total.groupby(['Year']).sum()\n",
    "egy_df_total.head()"
   ]
  },
  {
   "cell_type": "code",
   "execution_count": 81,
   "id": "d04cd9c5",
   "metadata": {},
   "outputs": [],
   "source": [
    "egy_df_total_sorted = (egy_df_total.loc[1990].sort_values(ascending =True))\n",
    "egy_df_total_sorted_index = egy_df_total_sorted.index"
   ]
  },
  {
   "cell_type": "code",
   "execution_count": 82,
   "id": "b22fb97e",
   "metadata": {},
   "outputs": [
    {
     "data": {
      "application/vnd.plotly.v1+json": {
       "config": {
        "plotlyServerURL": "https://plot.ly"
       },
       "data": [
        {
         "marker": {
          "color": [
           6950,
           9720,
           15225,
           23605,
           28020,
           28414,
           38120,
           39203,
           44121,
           56449,
           156674
          ],
          "colorscale": [
           [
            0,
            "rgb(255,247,236)"
           ],
           [
            0.125,
            "rgb(254,232,200)"
           ],
           [
            0.25,
            "rgb(253,212,158)"
           ],
           [
            0.375,
            "rgb(253,187,132)"
           ],
           [
            0.5,
            "rgb(252,141,89)"
           ],
           [
            0.625,
            "rgb(239,101,72)"
           ],
           [
            0.75,
            "rgb(215,48,31)"
           ],
           [
            0.875,
            "rgb(179,0,0)"
           ],
           [
            1,
            "rgb(127,0,0)"
           ]
          ]
         },
         "orientation": "h",
         "type": "bar",
         "x": [
          6950,
          9720,
          15225,
          23605,
          28020,
          28414,
          38120,
          39203,
          44121,
          56449,
          156674
         ],
         "y": [
          "Diabetes mellitus",
          "Chronic kidney disease",
          "Chronic respiratory",
          "Neoplasms",
          "Road injuries",
          "Neonatal disorders",
          "Diarrheal diseases",
          "Cirrhosis",
          "Digestive",
          "respiratory infections",
          "Cardiovascular"
         ]
        }
       ],
       "layout": {
        "height": 400,
        "margin": {
         "b": 10,
         "l": 10,
         "r": 20,
         "t": 10
        },
        "paper_bgcolor": "rgba(0,0,0,0)",
        "plot_bgcolor": "rgba(0,0,0,0)",
        "template": {
         "data": {
          "bar": [
           {
            "error_x": {
             "color": "#2a3f5f"
            },
            "error_y": {
             "color": "#2a3f5f"
            },
            "marker": {
             "line": {
              "color": "white",
              "width": 0.5
             },
             "pattern": {
              "fillmode": "overlay",
              "size": 10,
              "solidity": 0.2
             }
            },
            "type": "bar"
           }
          ],
          "barpolar": [
           {
            "marker": {
             "line": {
              "color": "white",
              "width": 0.5
             },
             "pattern": {
              "fillmode": "overlay",
              "size": 10,
              "solidity": 0.2
             }
            },
            "type": "barpolar"
           }
          ],
          "carpet": [
           {
            "aaxis": {
             "endlinecolor": "#2a3f5f",
             "gridcolor": "#C8D4E3",
             "linecolor": "#C8D4E3",
             "minorgridcolor": "#C8D4E3",
             "startlinecolor": "#2a3f5f"
            },
            "baxis": {
             "endlinecolor": "#2a3f5f",
             "gridcolor": "#C8D4E3",
             "linecolor": "#C8D4E3",
             "minorgridcolor": "#C8D4E3",
             "startlinecolor": "#2a3f5f"
            },
            "type": "carpet"
           }
          ],
          "choropleth": [
           {
            "colorbar": {
             "outlinewidth": 0,
             "ticks": ""
            },
            "type": "choropleth"
           }
          ],
          "contour": [
           {
            "colorbar": {
             "outlinewidth": 0,
             "ticks": ""
            },
            "colorscale": [
             [
              0,
              "#0d0887"
             ],
             [
              0.1111111111111111,
              "#46039f"
             ],
             [
              0.2222222222222222,
              "#7201a8"
             ],
             [
              0.3333333333333333,
              "#9c179e"
             ],
             [
              0.4444444444444444,
              "#bd3786"
             ],
             [
              0.5555555555555556,
              "#d8576b"
             ],
             [
              0.6666666666666666,
              "#ed7953"
             ],
             [
              0.7777777777777778,
              "#fb9f3a"
             ],
             [
              0.8888888888888888,
              "#fdca26"
             ],
             [
              1,
              "#f0f921"
             ]
            ],
            "type": "contour"
           }
          ],
          "contourcarpet": [
           {
            "colorbar": {
             "outlinewidth": 0,
             "ticks": ""
            },
            "type": "contourcarpet"
           }
          ],
          "heatmap": [
           {
            "colorbar": {
             "outlinewidth": 0,
             "ticks": ""
            },
            "colorscale": [
             [
              0,
              "#0d0887"
             ],
             [
              0.1111111111111111,
              "#46039f"
             ],
             [
              0.2222222222222222,
              "#7201a8"
             ],
             [
              0.3333333333333333,
              "#9c179e"
             ],
             [
              0.4444444444444444,
              "#bd3786"
             ],
             [
              0.5555555555555556,
              "#d8576b"
             ],
             [
              0.6666666666666666,
              "#ed7953"
             ],
             [
              0.7777777777777778,
              "#fb9f3a"
             ],
             [
              0.8888888888888888,
              "#fdca26"
             ],
             [
              1,
              "#f0f921"
             ]
            ],
            "type": "heatmap"
           }
          ],
          "heatmapgl": [
           {
            "colorbar": {
             "outlinewidth": 0,
             "ticks": ""
            },
            "colorscale": [
             [
              0,
              "#0d0887"
             ],
             [
              0.1111111111111111,
              "#46039f"
             ],
             [
              0.2222222222222222,
              "#7201a8"
             ],
             [
              0.3333333333333333,
              "#9c179e"
             ],
             [
              0.4444444444444444,
              "#bd3786"
             ],
             [
              0.5555555555555556,
              "#d8576b"
             ],
             [
              0.6666666666666666,
              "#ed7953"
             ],
             [
              0.7777777777777778,
              "#fb9f3a"
             ],
             [
              0.8888888888888888,
              "#fdca26"
             ],
             [
              1,
              "#f0f921"
             ]
            ],
            "type": "heatmapgl"
           }
          ],
          "histogram": [
           {
            "marker": {
             "pattern": {
              "fillmode": "overlay",
              "size": 10,
              "solidity": 0.2
             }
            },
            "type": "histogram"
           }
          ],
          "histogram2d": [
           {
            "colorbar": {
             "outlinewidth": 0,
             "ticks": ""
            },
            "colorscale": [
             [
              0,
              "#0d0887"
             ],
             [
              0.1111111111111111,
              "#46039f"
             ],
             [
              0.2222222222222222,
              "#7201a8"
             ],
             [
              0.3333333333333333,
              "#9c179e"
             ],
             [
              0.4444444444444444,
              "#bd3786"
             ],
             [
              0.5555555555555556,
              "#d8576b"
             ],
             [
              0.6666666666666666,
              "#ed7953"
             ],
             [
              0.7777777777777778,
              "#fb9f3a"
             ],
             [
              0.8888888888888888,
              "#fdca26"
             ],
             [
              1,
              "#f0f921"
             ]
            ],
            "type": "histogram2d"
           }
          ],
          "histogram2dcontour": [
           {
            "colorbar": {
             "outlinewidth": 0,
             "ticks": ""
            },
            "colorscale": [
             [
              0,
              "#0d0887"
             ],
             [
              0.1111111111111111,
              "#46039f"
             ],
             [
              0.2222222222222222,
              "#7201a8"
             ],
             [
              0.3333333333333333,
              "#9c179e"
             ],
             [
              0.4444444444444444,
              "#bd3786"
             ],
             [
              0.5555555555555556,
              "#d8576b"
             ],
             [
              0.6666666666666666,
              "#ed7953"
             ],
             [
              0.7777777777777778,
              "#fb9f3a"
             ],
             [
              0.8888888888888888,
              "#fdca26"
             ],
             [
              1,
              "#f0f921"
             ]
            ],
            "type": "histogram2dcontour"
           }
          ],
          "mesh3d": [
           {
            "colorbar": {
             "outlinewidth": 0,
             "ticks": ""
            },
            "type": "mesh3d"
           }
          ],
          "parcoords": [
           {
            "line": {
             "colorbar": {
              "outlinewidth": 0,
              "ticks": ""
             }
            },
            "type": "parcoords"
           }
          ],
          "pie": [
           {
            "automargin": true,
            "type": "pie"
           }
          ],
          "scatter": [
           {
            "fillpattern": {
             "fillmode": "overlay",
             "size": 10,
             "solidity": 0.2
            },
            "type": "scatter"
           }
          ],
          "scatter3d": [
           {
            "line": {
             "colorbar": {
              "outlinewidth": 0,
              "ticks": ""
             }
            },
            "marker": {
             "colorbar": {
              "outlinewidth": 0,
              "ticks": ""
             }
            },
            "type": "scatter3d"
           }
          ],
          "scattercarpet": [
           {
            "marker": {
             "colorbar": {
              "outlinewidth": 0,
              "ticks": ""
             }
            },
            "type": "scattercarpet"
           }
          ],
          "scattergeo": [
           {
            "marker": {
             "colorbar": {
              "outlinewidth": 0,
              "ticks": ""
             }
            },
            "type": "scattergeo"
           }
          ],
          "scattergl": [
           {
            "marker": {
             "colorbar": {
              "outlinewidth": 0,
              "ticks": ""
             }
            },
            "type": "scattergl"
           }
          ],
          "scattermapbox": [
           {
            "marker": {
             "colorbar": {
              "outlinewidth": 0,
              "ticks": ""
             }
            },
            "type": "scattermapbox"
           }
          ],
          "scatterpolar": [
           {
            "marker": {
             "colorbar": {
              "outlinewidth": 0,
              "ticks": ""
             }
            },
            "type": "scatterpolar"
           }
          ],
          "scatterpolargl": [
           {
            "marker": {
             "colorbar": {
              "outlinewidth": 0,
              "ticks": ""
             }
            },
            "type": "scatterpolargl"
           }
          ],
          "scatterternary": [
           {
            "marker": {
             "colorbar": {
              "outlinewidth": 0,
              "ticks": ""
             }
            },
            "type": "scatterternary"
           }
          ],
          "surface": [
           {
            "colorbar": {
             "outlinewidth": 0,
             "ticks": ""
            },
            "colorscale": [
             [
              0,
              "#0d0887"
             ],
             [
              0.1111111111111111,
              "#46039f"
             ],
             [
              0.2222222222222222,
              "#7201a8"
             ],
             [
              0.3333333333333333,
              "#9c179e"
             ],
             [
              0.4444444444444444,
              "#bd3786"
             ],
             [
              0.5555555555555556,
              "#d8576b"
             ],
             [
              0.6666666666666666,
              "#ed7953"
             ],
             [
              0.7777777777777778,
              "#fb9f3a"
             ],
             [
              0.8888888888888888,
              "#fdca26"
             ],
             [
              1,
              "#f0f921"
             ]
            ],
            "type": "surface"
           }
          ],
          "table": [
           {
            "cells": {
             "fill": {
              "color": "#EBF0F8"
             },
             "line": {
              "color": "white"
             }
            },
            "header": {
             "fill": {
              "color": "#C8D4E3"
             },
             "line": {
              "color": "white"
             }
            },
            "type": "table"
           }
          ]
         },
         "layout": {
          "annotationdefaults": {
           "arrowcolor": "#2a3f5f",
           "arrowhead": 0,
           "arrowwidth": 1
          },
          "autotypenumbers": "strict",
          "coloraxis": {
           "colorbar": {
            "outlinewidth": 0,
            "ticks": ""
           }
          },
          "colorscale": {
           "diverging": [
            [
             0,
             "#8e0152"
            ],
            [
             0.1,
             "#c51b7d"
            ],
            [
             0.2,
             "#de77ae"
            ],
            [
             0.3,
             "#f1b6da"
            ],
            [
             0.4,
             "#fde0ef"
            ],
            [
             0.5,
             "#f7f7f7"
            ],
            [
             0.6,
             "#e6f5d0"
            ],
            [
             0.7,
             "#b8e186"
            ],
            [
             0.8,
             "#7fbc41"
            ],
            [
             0.9,
             "#4d9221"
            ],
            [
             1,
             "#276419"
            ]
           ],
           "sequential": [
            [
             0,
             "#0d0887"
            ],
            [
             0.1111111111111111,
             "#46039f"
            ],
            [
             0.2222222222222222,
             "#7201a8"
            ],
            [
             0.3333333333333333,
             "#9c179e"
            ],
            [
             0.4444444444444444,
             "#bd3786"
            ],
            [
             0.5555555555555556,
             "#d8576b"
            ],
            [
             0.6666666666666666,
             "#ed7953"
            ],
            [
             0.7777777777777778,
             "#fb9f3a"
            ],
            [
             0.8888888888888888,
             "#fdca26"
            ],
            [
             1,
             "#f0f921"
            ]
           ],
           "sequentialminus": [
            [
             0,
             "#0d0887"
            ],
            [
             0.1111111111111111,
             "#46039f"
            ],
            [
             0.2222222222222222,
             "#7201a8"
            ],
            [
             0.3333333333333333,
             "#9c179e"
            ],
            [
             0.4444444444444444,
             "#bd3786"
            ],
            [
             0.5555555555555556,
             "#d8576b"
            ],
            [
             0.6666666666666666,
             "#ed7953"
            ],
            [
             0.7777777777777778,
             "#fb9f3a"
            ],
            [
             0.8888888888888888,
             "#fdca26"
            ],
            [
             1,
             "#f0f921"
            ]
           ]
          },
          "colorway": [
           "#636efa",
           "#EF553B",
           "#00cc96",
           "#ab63fa",
           "#FFA15A",
           "#19d3f3",
           "#FF6692",
           "#B6E880",
           "#FF97FF",
           "#FECB52"
          ],
          "font": {
           "color": "#2a3f5f"
          },
          "geo": {
           "bgcolor": "white",
           "lakecolor": "white",
           "landcolor": "white",
           "showlakes": true,
           "showland": true,
           "subunitcolor": "#C8D4E3"
          },
          "hoverlabel": {
           "align": "left"
          },
          "hovermode": "closest",
          "mapbox": {
           "style": "light"
          },
          "paper_bgcolor": "white",
          "plot_bgcolor": "white",
          "polar": {
           "angularaxis": {
            "gridcolor": "#EBF0F8",
            "linecolor": "#EBF0F8",
            "ticks": ""
           },
           "bgcolor": "white",
           "radialaxis": {
            "gridcolor": "#EBF0F8",
            "linecolor": "#EBF0F8",
            "ticks": ""
           }
          },
          "scene": {
           "xaxis": {
            "backgroundcolor": "white",
            "gridcolor": "#DFE8F3",
            "gridwidth": 2,
            "linecolor": "#EBF0F8",
            "showbackground": true,
            "ticks": "",
            "zerolinecolor": "#EBF0F8"
           },
           "yaxis": {
            "backgroundcolor": "white",
            "gridcolor": "#DFE8F3",
            "gridwidth": 2,
            "linecolor": "#EBF0F8",
            "showbackground": true,
            "ticks": "",
            "zerolinecolor": "#EBF0F8"
           },
           "zaxis": {
            "backgroundcolor": "white",
            "gridcolor": "#DFE8F3",
            "gridwidth": 2,
            "linecolor": "#EBF0F8",
            "showbackground": true,
            "ticks": "",
            "zerolinecolor": "#EBF0F8"
           }
          },
          "shapedefaults": {
           "line": {
            "color": "#2a3f5f"
           }
          },
          "ternary": {
           "aaxis": {
            "gridcolor": "#DFE8F3",
            "linecolor": "#A2B1C6",
            "ticks": ""
           },
           "baxis": {
            "gridcolor": "#DFE8F3",
            "linecolor": "#A2B1C6",
            "ticks": ""
           },
           "bgcolor": "white",
           "caxis": {
            "gridcolor": "#DFE8F3",
            "linecolor": "#A2B1C6",
            "ticks": ""
           }
          },
          "title": {
           "x": 0.05
          },
          "xaxis": {
           "automargin": true,
           "gridcolor": "#EBF0F8",
           "linecolor": "#EBF0F8",
           "ticks": "",
           "title": {
            "standoff": 15
           },
           "zerolinecolor": "#EBF0F8",
           "zerolinewidth": 2
          },
          "yaxis": {
           "automargin": true,
           "gridcolor": "#EBF0F8",
           "linecolor": "#EBF0F8",
           "ticks": "",
           "title": {
            "standoff": 15
           },
           "zerolinecolor": "#EBF0F8",
           "zerolinewidth": 2
          }
         }
        },
        "width": 550
       }
      },
      "text/html": [
       "<div>                            <div id=\"795298b8-5aec-4f7d-9116-10609082eaf1\" class=\"plotly-graph-div\" style=\"height:400px; width:550px;\"></div>            <script type=\"text/javascript\">                require([\"plotly\"], function(Plotly) {                    window.PLOTLYENV=window.PLOTLYENV || {};                                    if (document.getElementById(\"795298b8-5aec-4f7d-9116-10609082eaf1\")) {                    Plotly.newPlot(                        \"795298b8-5aec-4f7d-9116-10609082eaf1\",                        [{\"marker\":{\"color\":[6950.0,9720.0,15225.0,23605.0,28020.0,28414.0,38120.0,39203.0,44121.0,56449.0,156674.0],\"colorscale\":[[0.0,\"rgb(255,247,236)\"],[0.125,\"rgb(254,232,200)\"],[0.25,\"rgb(253,212,158)\"],[0.375,\"rgb(253,187,132)\"],[0.5,\"rgb(252,141,89)\"],[0.625,\"rgb(239,101,72)\"],[0.75,\"rgb(215,48,31)\"],[0.875,\"rgb(179,0,0)\"],[1.0,\"rgb(127,0,0)\"]]},\"orientation\":\"h\",\"x\":[6950.0,9720.0,15225.0,23605.0,28020.0,28414.0,38120.0,39203.0,44121.0,56449.0,156674.0],\"y\":[\"Diabetes mellitus\",\"Chronic kidney disease\",\"Chronic respiratory\",\"Neoplasms\",\"Road injuries\",\"Neonatal disorders\",\"Diarrheal diseases\",\"Cirrhosis\",\"Digestive\",\"respiratory infections\",\"Cardiovascular\"],\"type\":\"bar\"}],                        {\"template\":{\"data\":{\"barpolar\":[{\"marker\":{\"line\":{\"color\":\"white\",\"width\":0.5},\"pattern\":{\"fillmode\":\"overlay\",\"size\":10,\"solidity\":0.2}},\"type\":\"barpolar\"}],\"bar\":[{\"error_x\":{\"color\":\"#2a3f5f\"},\"error_y\":{\"color\":\"#2a3f5f\"},\"marker\":{\"line\":{\"color\":\"white\",\"width\":0.5},\"pattern\":{\"fillmode\":\"overlay\",\"size\":10,\"solidity\":0.2}},\"type\":\"bar\"}],\"carpet\":[{\"aaxis\":{\"endlinecolor\":\"#2a3f5f\",\"gridcolor\":\"#C8D4E3\",\"linecolor\":\"#C8D4E3\",\"minorgridcolor\":\"#C8D4E3\",\"startlinecolor\":\"#2a3f5f\"},\"baxis\":{\"endlinecolor\":\"#2a3f5f\",\"gridcolor\":\"#C8D4E3\",\"linecolor\":\"#C8D4E3\",\"minorgridcolor\":\"#C8D4E3\",\"startlinecolor\":\"#2a3f5f\"},\"type\":\"carpet\"}],\"choropleth\":[{\"colorbar\":{\"outlinewidth\":0,\"ticks\":\"\"},\"type\":\"choropleth\"}],\"contourcarpet\":[{\"colorbar\":{\"outlinewidth\":0,\"ticks\":\"\"},\"type\":\"contourcarpet\"}],\"contour\":[{\"colorbar\":{\"outlinewidth\":0,\"ticks\":\"\"},\"colorscale\":[[0.0,\"#0d0887\"],[0.1111111111111111,\"#46039f\"],[0.2222222222222222,\"#7201a8\"],[0.3333333333333333,\"#9c179e\"],[0.4444444444444444,\"#bd3786\"],[0.5555555555555556,\"#d8576b\"],[0.6666666666666666,\"#ed7953\"],[0.7777777777777778,\"#fb9f3a\"],[0.8888888888888888,\"#fdca26\"],[1.0,\"#f0f921\"]],\"type\":\"contour\"}],\"heatmapgl\":[{\"colorbar\":{\"outlinewidth\":0,\"ticks\":\"\"},\"colorscale\":[[0.0,\"#0d0887\"],[0.1111111111111111,\"#46039f\"],[0.2222222222222222,\"#7201a8\"],[0.3333333333333333,\"#9c179e\"],[0.4444444444444444,\"#bd3786\"],[0.5555555555555556,\"#d8576b\"],[0.6666666666666666,\"#ed7953\"],[0.7777777777777778,\"#fb9f3a\"],[0.8888888888888888,\"#fdca26\"],[1.0,\"#f0f921\"]],\"type\":\"heatmapgl\"}],\"heatmap\":[{\"colorbar\":{\"outlinewidth\":0,\"ticks\":\"\"},\"colorscale\":[[0.0,\"#0d0887\"],[0.1111111111111111,\"#46039f\"],[0.2222222222222222,\"#7201a8\"],[0.3333333333333333,\"#9c179e\"],[0.4444444444444444,\"#bd3786\"],[0.5555555555555556,\"#d8576b\"],[0.6666666666666666,\"#ed7953\"],[0.7777777777777778,\"#fb9f3a\"],[0.8888888888888888,\"#fdca26\"],[1.0,\"#f0f921\"]],\"type\":\"heatmap\"}],\"histogram2dcontour\":[{\"colorbar\":{\"outlinewidth\":0,\"ticks\":\"\"},\"colorscale\":[[0.0,\"#0d0887\"],[0.1111111111111111,\"#46039f\"],[0.2222222222222222,\"#7201a8\"],[0.3333333333333333,\"#9c179e\"],[0.4444444444444444,\"#bd3786\"],[0.5555555555555556,\"#d8576b\"],[0.6666666666666666,\"#ed7953\"],[0.7777777777777778,\"#fb9f3a\"],[0.8888888888888888,\"#fdca26\"],[1.0,\"#f0f921\"]],\"type\":\"histogram2dcontour\"}],\"histogram2d\":[{\"colorbar\":{\"outlinewidth\":0,\"ticks\":\"\"},\"colorscale\":[[0.0,\"#0d0887\"],[0.1111111111111111,\"#46039f\"],[0.2222222222222222,\"#7201a8\"],[0.3333333333333333,\"#9c179e\"],[0.4444444444444444,\"#bd3786\"],[0.5555555555555556,\"#d8576b\"],[0.6666666666666666,\"#ed7953\"],[0.7777777777777778,\"#fb9f3a\"],[0.8888888888888888,\"#fdca26\"],[1.0,\"#f0f921\"]],\"type\":\"histogram2d\"}],\"histogram\":[{\"marker\":{\"pattern\":{\"fillmode\":\"overlay\",\"size\":10,\"solidity\":0.2}},\"type\":\"histogram\"}],\"mesh3d\":[{\"colorbar\":{\"outlinewidth\":0,\"ticks\":\"\"},\"type\":\"mesh3d\"}],\"parcoords\":[{\"line\":{\"colorbar\":{\"outlinewidth\":0,\"ticks\":\"\"}},\"type\":\"parcoords\"}],\"pie\":[{\"automargin\":true,\"type\":\"pie\"}],\"scatter3d\":[{\"line\":{\"colorbar\":{\"outlinewidth\":0,\"ticks\":\"\"}},\"marker\":{\"colorbar\":{\"outlinewidth\":0,\"ticks\":\"\"}},\"type\":\"scatter3d\"}],\"scattercarpet\":[{\"marker\":{\"colorbar\":{\"outlinewidth\":0,\"ticks\":\"\"}},\"type\":\"scattercarpet\"}],\"scattergeo\":[{\"marker\":{\"colorbar\":{\"outlinewidth\":0,\"ticks\":\"\"}},\"type\":\"scattergeo\"}],\"scattergl\":[{\"marker\":{\"colorbar\":{\"outlinewidth\":0,\"ticks\":\"\"}},\"type\":\"scattergl\"}],\"scattermapbox\":[{\"marker\":{\"colorbar\":{\"outlinewidth\":0,\"ticks\":\"\"}},\"type\":\"scattermapbox\"}],\"scatterpolargl\":[{\"marker\":{\"colorbar\":{\"outlinewidth\":0,\"ticks\":\"\"}},\"type\":\"scatterpolargl\"}],\"scatterpolar\":[{\"marker\":{\"colorbar\":{\"outlinewidth\":0,\"ticks\":\"\"}},\"type\":\"scatterpolar\"}],\"scatter\":[{\"fillpattern\":{\"fillmode\":\"overlay\",\"size\":10,\"solidity\":0.2},\"type\":\"scatter\"}],\"scatterternary\":[{\"marker\":{\"colorbar\":{\"outlinewidth\":0,\"ticks\":\"\"}},\"type\":\"scatterternary\"}],\"surface\":[{\"colorbar\":{\"outlinewidth\":0,\"ticks\":\"\"},\"colorscale\":[[0.0,\"#0d0887\"],[0.1111111111111111,\"#46039f\"],[0.2222222222222222,\"#7201a8\"],[0.3333333333333333,\"#9c179e\"],[0.4444444444444444,\"#bd3786\"],[0.5555555555555556,\"#d8576b\"],[0.6666666666666666,\"#ed7953\"],[0.7777777777777778,\"#fb9f3a\"],[0.8888888888888888,\"#fdca26\"],[1.0,\"#f0f921\"]],\"type\":\"surface\"}],\"table\":[{\"cells\":{\"fill\":{\"color\":\"#EBF0F8\"},\"line\":{\"color\":\"white\"}},\"header\":{\"fill\":{\"color\":\"#C8D4E3\"},\"line\":{\"color\":\"white\"}},\"type\":\"table\"}]},\"layout\":{\"annotationdefaults\":{\"arrowcolor\":\"#2a3f5f\",\"arrowhead\":0,\"arrowwidth\":1},\"autotypenumbers\":\"strict\",\"coloraxis\":{\"colorbar\":{\"outlinewidth\":0,\"ticks\":\"\"}},\"colorscale\":{\"diverging\":[[0,\"#8e0152\"],[0.1,\"#c51b7d\"],[0.2,\"#de77ae\"],[0.3,\"#f1b6da\"],[0.4,\"#fde0ef\"],[0.5,\"#f7f7f7\"],[0.6,\"#e6f5d0\"],[0.7,\"#b8e186\"],[0.8,\"#7fbc41\"],[0.9,\"#4d9221\"],[1,\"#276419\"]],\"sequential\":[[0.0,\"#0d0887\"],[0.1111111111111111,\"#46039f\"],[0.2222222222222222,\"#7201a8\"],[0.3333333333333333,\"#9c179e\"],[0.4444444444444444,\"#bd3786\"],[0.5555555555555556,\"#d8576b\"],[0.6666666666666666,\"#ed7953\"],[0.7777777777777778,\"#fb9f3a\"],[0.8888888888888888,\"#fdca26\"],[1.0,\"#f0f921\"]],\"sequentialminus\":[[0.0,\"#0d0887\"],[0.1111111111111111,\"#46039f\"],[0.2222222222222222,\"#7201a8\"],[0.3333333333333333,\"#9c179e\"],[0.4444444444444444,\"#bd3786\"],[0.5555555555555556,\"#d8576b\"],[0.6666666666666666,\"#ed7953\"],[0.7777777777777778,\"#fb9f3a\"],[0.8888888888888888,\"#fdca26\"],[1.0,\"#f0f921\"]]},\"colorway\":[\"#636efa\",\"#EF553B\",\"#00cc96\",\"#ab63fa\",\"#FFA15A\",\"#19d3f3\",\"#FF6692\",\"#B6E880\",\"#FF97FF\",\"#FECB52\"],\"font\":{\"color\":\"#2a3f5f\"},\"geo\":{\"bgcolor\":\"white\",\"lakecolor\":\"white\",\"landcolor\":\"white\",\"showlakes\":true,\"showland\":true,\"subunitcolor\":\"#C8D4E3\"},\"hoverlabel\":{\"align\":\"left\"},\"hovermode\":\"closest\",\"mapbox\":{\"style\":\"light\"},\"paper_bgcolor\":\"white\",\"plot_bgcolor\":\"white\",\"polar\":{\"angularaxis\":{\"gridcolor\":\"#EBF0F8\",\"linecolor\":\"#EBF0F8\",\"ticks\":\"\"},\"bgcolor\":\"white\",\"radialaxis\":{\"gridcolor\":\"#EBF0F8\",\"linecolor\":\"#EBF0F8\",\"ticks\":\"\"}},\"scene\":{\"xaxis\":{\"backgroundcolor\":\"white\",\"gridcolor\":\"#DFE8F3\",\"gridwidth\":2,\"linecolor\":\"#EBF0F8\",\"showbackground\":true,\"ticks\":\"\",\"zerolinecolor\":\"#EBF0F8\"},\"yaxis\":{\"backgroundcolor\":\"white\",\"gridcolor\":\"#DFE8F3\",\"gridwidth\":2,\"linecolor\":\"#EBF0F8\",\"showbackground\":true,\"ticks\":\"\",\"zerolinecolor\":\"#EBF0F8\"},\"zaxis\":{\"backgroundcolor\":\"white\",\"gridcolor\":\"#DFE8F3\",\"gridwidth\":2,\"linecolor\":\"#EBF0F8\",\"showbackground\":true,\"ticks\":\"\",\"zerolinecolor\":\"#EBF0F8\"}},\"shapedefaults\":{\"line\":{\"color\":\"#2a3f5f\"}},\"ternary\":{\"aaxis\":{\"gridcolor\":\"#DFE8F3\",\"linecolor\":\"#A2B1C6\",\"ticks\":\"\"},\"baxis\":{\"gridcolor\":\"#DFE8F3\",\"linecolor\":\"#A2B1C6\",\"ticks\":\"\"},\"bgcolor\":\"white\",\"caxis\":{\"gridcolor\":\"#DFE8F3\",\"linecolor\":\"#A2B1C6\",\"ticks\":\"\"}},\"title\":{\"x\":0.05},\"xaxis\":{\"automargin\":true,\"gridcolor\":\"#EBF0F8\",\"linecolor\":\"#EBF0F8\",\"ticks\":\"\",\"title\":{\"standoff\":15},\"zerolinecolor\":\"#EBF0F8\",\"zerolinewidth\":2},\"yaxis\":{\"automargin\":true,\"gridcolor\":\"#EBF0F8\",\"linecolor\":\"#EBF0F8\",\"ticks\":\"\",\"title\":{\"standoff\":15},\"zerolinecolor\":\"#EBF0F8\",\"zerolinewidth\":2}}},\"margin\":{\"l\":10,\"r\":20,\"t\":10,\"b\":10},\"height\":400,\"width\":550,\"paper_bgcolor\":\"rgba(0,0,0,0)\",\"plot_bgcolor\":\"rgba(0,0,0,0)\"},                        {\"responsive\": true}                    ).then(function(){\n",
       "                            \n",
       "var gd = document.getElementById('795298b8-5aec-4f7d-9116-10609082eaf1');\n",
       "var x = new MutationObserver(function (mutations, observer) {{\n",
       "        var display = window.getComputedStyle(gd).display;\n",
       "        if (!display || display === 'none') {{\n",
       "            console.log([gd, 'removed!']);\n",
       "            Plotly.purge(gd);\n",
       "            observer.disconnect();\n",
       "        }}\n",
       "}});\n",
       "\n",
       "// Listen for the removal of the full notebook cells\n",
       "var notebookContainer = gd.closest('#notebook-container');\n",
       "if (notebookContainer) {{\n",
       "    x.observe(notebookContainer, {childList: true});\n",
       "}}\n",
       "\n",
       "// Listen for the clearing of the current output cell\n",
       "var outputEl = gd.closest('.output');\n",
       "if (outputEl) {{\n",
       "    x.observe(outputEl, {childList: true});\n",
       "}}\n",
       "\n",
       "                        })                };                });            </script>        </div>"
      ]
     },
     "metadata": {},
     "output_type": "display_data"
    }
   ],
   "source": [
    "fig4 = go.Figure(go.Bar(y = egy_df_total_sorted_index[20:], \n",
    "                        x =  egy_df_total_sorted[20:], \n",
    "                        marker=dict(\n",
    "     \n",
    "                        color=egy_df_total_sorted[20:],\n",
    "                        #colorbar=dict(),\n",
    "                        colorscale=\"orrd\"\n",
    "                        ),\n",
    "                orientation='h')\n",
    "               )\n",
    "bar_fig =fig4.update_layout(height=400, width=550,margin=dict(l=10, r=20, t=10, b=10), template=\"plotly_white\",\n",
    "                        paper_bgcolor='rgba(0,0,0,0)',\n",
    "                         plot_bgcolor='rgba(0,0,0,0)',\n",
    "                        )\n",
    "bar_fig.show()\n"
   ]
  },
  {
   "cell_type": "markdown",
   "id": "af0e19e9",
   "metadata": {},
   "source": [
    "## New Plot! "
   ]
  },
  {
   "cell_type": "code",
   "execution_count": 83,
   "id": "6ab275a7",
   "metadata": {},
   "outputs": [
    {
     "data": {
      "text/html": [
       "<div>\n",
       "<style scoped>\n",
       "    .dataframe tbody tr th:only-of-type {\n",
       "        vertical-align: middle;\n",
       "    }\n",
       "\n",
       "    .dataframe tbody tr th {\n",
       "        vertical-align: top;\n",
       "    }\n",
       "\n",
       "    .dataframe thead th {\n",
       "        text-align: right;\n",
       "    }\n",
       "</style>\n",
       "<table border=\"1\" class=\"dataframe\">\n",
       "  <thead>\n",
       "    <tr style=\"text-align: right;\">\n",
       "      <th></th>\n",
       "      <th>Entity</th>\n",
       "      <th>Code</th>\n",
       "      <th>Year</th>\n",
       "      <th>Meningitis</th>\n",
       "      <th>Neoplasms</th>\n",
       "      <th>Fire</th>\n",
       "      <th>Malaria</th>\n",
       "      <th>Drowning</th>\n",
       "      <th>Interpersonal violence</th>\n",
       "      <th>HIV/AIDS</th>\n",
       "      <th>...</th>\n",
       "      <th>Poisonings</th>\n",
       "      <th>Protein-energy malnutrition</th>\n",
       "      <th>Cardiovascular</th>\n",
       "      <th>Chronic kidney disease</th>\n",
       "      <th>Chronic respiratory</th>\n",
       "      <th>Cirrhosis</th>\n",
       "      <th>Digestive</th>\n",
       "      <th>Acute hepatitis</th>\n",
       "      <th>Dementias</th>\n",
       "      <th>Parkinson</th>\n",
       "    </tr>\n",
       "  </thead>\n",
       "  <tbody>\n",
       "    <tr>\n",
       "      <th>2881</th>\n",
       "      <td>Gambia</td>\n",
       "      <td>GMB</td>\n",
       "      <td>1990</td>\n",
       "      <td>257.0</td>\n",
       "      <td>318.0</td>\n",
       "      <td>25.0</td>\n",
       "      <td>1395.0</td>\n",
       "      <td>37.0</td>\n",
       "      <td>5.0</td>\n",
       "      <td>24.0</td>\n",
       "      <td>...</td>\n",
       "      <td>20.0</td>\n",
       "      <td>256.0</td>\n",
       "      <td>829.0</td>\n",
       "      <td>109.0</td>\n",
       "      <td>196.0</td>\n",
       "      <td>174.0</td>\n",
       "      <td>325.0</td>\n",
       "      <td>16.0</td>\n",
       "      <td>38.0</td>\n",
       "      <td>11.0</td>\n",
       "    </tr>\n",
       "    <tr>\n",
       "      <th>4108</th>\n",
       "      <td>Lesotho</td>\n",
       "      <td>LSO</td>\n",
       "      <td>1990</td>\n",
       "      <td>163.0</td>\n",
       "      <td>1069.0</td>\n",
       "      <td>82.0</td>\n",
       "      <td>0.0</td>\n",
       "      <td>90.0</td>\n",
       "      <td>328.0</td>\n",
       "      <td>507.0</td>\n",
       "      <td>...</td>\n",
       "      <td>38.0</td>\n",
       "      <td>396.0</td>\n",
       "      <td>2547.0</td>\n",
       "      <td>224.0</td>\n",
       "      <td>1000.0</td>\n",
       "      <td>308.0</td>\n",
       "      <td>640.0</td>\n",
       "      <td>49.0</td>\n",
       "      <td>119.0</td>\n",
       "      <td>21.0</td>\n",
       "    </tr>\n",
       "  </tbody>\n",
       "</table>\n",
       "<p>2 rows × 34 columns</p>\n",
       "</div>"
      ],
      "text/plain": [
       "       Entity Code  Year  Meningitis  Neoplasms  Fire  Malaria  Drowning  \\\n",
       "2881   Gambia  GMB  1990       257.0      318.0  25.0   1395.0      37.0   \n",
       "4108  Lesotho  LSO  1990       163.0     1069.0  82.0      0.0      90.0   \n",
       "\n",
       "      Interpersonal violence  HIV/AIDS  ...  Poisonings  \\\n",
       "2881                     5.0      24.0  ...        20.0   \n",
       "4108                   328.0     507.0  ...        38.0   \n",
       "\n",
       "      Protein-energy malnutrition  Cardiovascular  Chronic kidney disease  \\\n",
       "2881                        256.0           829.0                   109.0   \n",
       "4108                        396.0          2547.0                   224.0   \n",
       "\n",
       "      Chronic respiratory  Cirrhosis  Digestive  Acute hepatitis  Dementias  \\\n",
       "2881                196.0      174.0      325.0             16.0       38.0   \n",
       "4108               1000.0      308.0      640.0             49.0      119.0   \n",
       "\n",
       "      Parkinson  \n",
       "2881       11.0  \n",
       "4108       21.0  \n",
       "\n",
       "[2 rows x 34 columns]"
      ]
     },
     "execution_count": 83,
     "metadata": {},
     "output_type": "execute_result"
    }
   ],
   "source": [
    "prep_df_sorted = prep_df.sort_values('Year')\n",
    "prep_df_sorted.head(2)"
   ]
  },
  {
   "cell_type": "code",
   "execution_count": 84,
   "id": "3f545d3f",
   "metadata": {},
   "outputs": [],
   "source": [
    "####################### Corporate css formatting\n",
    "corporate_colors = {\n",
    "    'dark-blue-grey' : 'rgb(62, 64, 76)',\n",
    "    'medium-blue-grey' : 'rgb(77, 79, 91)',\n",
    "    'superdark-green' : 'rgb(41, 56, 55)',\n",
    "    'dark-green' : 'rgb(57, 81, 85)',\n",
    "    'medium-green' : 'rgb(93, 113, 120)',\n",
    "    'light-green' : 'rgb(186, 218, 212)',\n",
    "    'pink-red' : 'rgb(255, 101, 131)',\n",
    "    'dark-pink-red' : 'rgb(247, 80, 99)',\n",
    "    'white' : 'rgb(251, 251, 252)',\n",
    "    'light-grey' : 'rgb(208, 206, 206)'\n",
    "}\n",
    "\n",
    "\n",
    "# style of body\n",
    "externalgraph_colstyling = {\n",
    "    'border-radius' : '10px',\n",
    "    'border-style' : 'solid',\n",
    "    'border-width' : '1px',\n",
    "    'border-color' : '#efefef',\n",
    "    'background-color' : '#ffffff',\n",
    "    'box-shadow' : '0px 0px 17px 0px rgba(186, 218, 212, .5)',\n",
    "    'padding-top' : '10px'\n",
    "}\n",
    "\n",
    "filterdiv_borderstyling = {\n",
    "    'border-radius' : '0px 0px 10px 10px',\n",
    "    'border-style' : 'solid',\n",
    "    'border-width' : '1px',\n",
    "    'border-color' : corporate_colors['light-green'],\n",
    "    'background-color' : corporate_colors['light-green'],\n",
    "    'box-shadow' : '2px 5px 5px 1px rgba(255, 101, 131, .5)'\n",
    "    }\n",
    "\n",
    "navbarcurrentpage = {\n",
    "    'text-decoration' : 'underline',\n",
    "    'text-decoration-color' : 'black',\n",
    "    'text-shadow': '0px 0px 1px rgb(251, 251, 252)',\n",
    "    'color':'#d93232'\n",
    "    }\n",
    "\n",
    "recapdiv = {\n",
    "    'border-radius' : '10px',\n",
    "    'border-style' : 'solid',\n",
    "    'border-width' : '1px',\n",
    "    'border-color' : '#fcf3f3',\n",
    "    'margin-left' : '15px',\n",
    "    'margin-right' : '15px',\n",
    "    'margin-top' : '15px',\n",
    "    'margin-bottom' : '15px',\n",
    "    'padding-top' : '5px',\n",
    "    'padding-bottom' : '5px',\n",
    "    'background-color' : 'rgb(249,249,249)'\n",
    "    }\n",
    "\n",
    "recapdiv_text = {\n",
    "    'text-align' : 'left',\n",
    "    'font-weight' : '350',\n",
    "    'color' : corporate_colors['white'],\n",
    "    'font-size' : '1.5rem',\n",
    "    'letter-spacing' : '0.04em'\n",
    "    }\n",
    "\n",
    "####################### Corporate chart formatting\n",
    "\n",
    "corporate_title = {\n",
    "    'font' : {\n",
    "        'size' : 16,\n",
    "        'color' : corporate_colors['white']}\n",
    "}\n",
    "\n",
    "corporate_xaxis = {\n",
    "    'showgrid' : False,\n",
    "    'linecolor' : corporate_colors['light-grey'],\n",
    "    'color' : corporate_colors['light-grey'],\n",
    "    'tickangle' : 315,\n",
    "    'titlefont' : {\n",
    "        'size' : 12,\n",
    "        'color' : corporate_colors['light-grey']},\n",
    "    'tickfont' : {\n",
    "        'size' : 11,\n",
    "        'color' : corporate_colors['light-grey']},\n",
    "    'zeroline': False\n",
    "}\n",
    "\n",
    "corporate_yaxis = {\n",
    "    'showgrid' : True,\n",
    "    'color' : corporate_colors['light-grey'],\n",
    "    'gridwidth' : 0.5,\n",
    "    'gridcolor' : corporate_colors['dark-green'],\n",
    "    'linecolor' : corporate_colors['light-grey'],\n",
    "    'titlefont' : {\n",
    "        'size' : 12,\n",
    "        'color' : corporate_colors['light-grey']},\n",
    "    'tickfont' : {\n",
    "        'size' : 11,\n",
    "        'color' : corporate_colors['light-grey']},\n",
    "    'zeroline': False\n",
    "}\n",
    "\n",
    "corporate_font_family = 'Dosis'\n",
    "\n",
    "corporate_legend = {\n",
    "    'orientation' : 'h',\n",
    "    'yanchor' : 'bottom',\n",
    "    'y' : 1.01,\n",
    "    'xanchor' : 'right',\n",
    "    'x' : 1.05,\n",
    "\t'font' : {'size' : 9, 'color' : corporate_colors['light-grey']}\n",
    "} # Legend will be on the top right, above the graph, horizontally\n",
    "\n",
    "corporate_margins = {'l' : 5, 'r' : 5, 't' : 45, 'b' : 15}  # Set top margin to in case there is a legend\n",
    "\n",
    "corporate_layout = go.Layout(\n",
    "    font = {'family' : corporate_font_family},\n",
    "    title = corporate_title,\n",
    "    title_x = 0.5, # Align chart title to center\n",
    "    paper_bgcolor = 'rgba(0,0,0,0)',\n",
    "    plot_bgcolor = 'rgba(0,0,0,0)',\n",
    "    xaxis = corporate_xaxis,\n",
    "    yaxis = corporate_yaxis,\n",
    "    height = 270,\n",
    "    legend = corporate_legend,\n",
    "    margin = corporate_margins\n",
    "    )"
   ]
  },
  {
   "cell_type": "code",
   "execution_count": 85,
   "id": "a2028c3c",
   "metadata": {},
   "outputs": [],
   "source": [
    "names_of_diseases = ['Meningitis',\n",
    " 'Neoplasms',\n",
    " 'Fire',\n",
    " 'Malaria',\n",
    " 'Drowning',\n",
    " 'Interpersonal violence',\n",
    " 'HIV/AIDS',\n",
    " 'Drug use disorders',\n",
    " 'Tuberculosis',\n",
    " 'Road injuries',\n",
    " 'Maternal disorders',\n",
    " 'respiratory infections',\n",
    " 'Neonatal disorders',\n",
    " 'Alcohol use disorders',\n",
    " 'Exposure to forces of nature',\n",
    " 'Diarrheal diseases',\n",
    " 'Climate Change',\n",
    " 'Nutritional deficiencies',\n",
    " 'Self harm',\n",
    " 'Conflict and terrorism',\n",
    " 'Diabetes mellitus',\n",
    " 'Poisonings',\n",
    " 'Protein-energy malnutrition',\n",
    " 'Cardiovascular diseases',\n",
    " 'Chronic kidney disease',\n",
    " 'Chronic respiratory',\n",
    " 'Cirrhosis',\n",
    " 'Digestive diseases',\n",
    " 'Acute hepatitis',\n",
    " 'Dementias',\n",
    " \"Parkinson's disease\"]\n",
    "countries = ['Gambia',\n",
    " 'Lesotho',\n",
    " 'North Macedonia',\n",
    " 'Nauru',\n",
    " 'Vietnam',\n",
    " 'Mauritius',\n",
    " 'Dominican Republic',\n",
    " 'Burundi',\n",
    " 'Cambodia',\n",
    " 'Samoa',\n",
    " 'Peru',\n",
    " 'Slovakia',\n",
    " 'United Arab Emirates',\n",
    " 'Lebanon',\n",
    " 'Taiwan',\n",
    " 'Australia',\n",
    " 'Iran',\n",
    " 'Ukraine',\n",
    " 'Romania',\n",
    " 'Indonesia',\n",
    " 'Azerbaijan',\n",
    " 'Uganda',\n",
    " 'Singapore',\n",
    " 'Liberia',\n",
    " 'North Korea',\n",
    " 'Tajikistan',\n",
    " 'Gabon',\n",
    " 'Vanuatu',\n",
    " 'Zimbabwe',\n",
    " 'Burkina Faso',\n",
    " 'Guinea-Bissau',\n",
    " 'Ecuador',\n",
    " 'Austria',\n",
    " 'Tanzania',\n",
    " 'Cameroon',\n",
    " 'Guinea',\n",
    " 'Armenia',\n",
    " 'Saint Vincent and the Grenadines',\n",
    " 'Central African Republic',\n",
    " 'Kyrgyzstan',\n",
    " 'Antigua and Barbuda',\n",
    " 'Germany',\n",
    " 'Sweden',\n",
    " 'Norway',\n",
    " 'Denmark',\n",
    " 'Chad',\n",
    " 'United States',\n",
    " 'Myanmar',\n",
    " 'Moldova',\n",
    " 'Guatemala',\n",
    " 'Solomon Islands',\n",
    " 'Ireland',\n",
    " 'Micronesia (country)',\n",
    " 'Switzerland',\n",
    " 'Laos',\n",
    " 'Syria',\n",
    " 'Canada',\n",
    " 'Mexico',\n",
    " 'Dominica',\n",
    " 'Slovenia',\n",
    " 'Latvia',\n",
    " 'Georgia',\n",
    " 'Northern Mariana Islands',\n",
    " 'Paraguay',\n",
    " 'Iraq',\n",
    " 'Cape Verde',\n",
    " 'Argentina',\n",
    " 'Namibia',\n",
    " 'United Kingdom',\n",
    " 'Djibouti',\n",
    " 'Bulgaria',\n",
    " 'Chile',\n",
    " 'San Marino',\n",
    " 'Mauritania',\n",
    " 'Tonga',\n",
    " 'Fiji',\n",
    " 'Bermuda',\n",
    " 'Turkey',\n",
    " 'Niger',\n",
    " 'New Zealand',\n",
    " 'Saudi Arabia',\n",
    " 'Mali',\n",
    " 'Zambia',\n",
    " 'Serbia',\n",
    " 'Bhutan',\n",
    " 'Barbados',\n",
    " 'Madagascar',\n",
    " 'Haiti',\n",
    " 'Estonia',\n",
    " 'Tokelau',\n",
    " 'Hungary',\n",
    " 'Portugal',\n",
    " 'Ethiopia',\n",
    " 'Malaysia',\n",
    " 'Senegal',\n",
    " 'Belize',\n",
    " 'Nicaragua',\n",
    " 'Belgium',\n",
    " 'Yemen',\n",
    " 'Tunisia',\n",
    " 'Maldives',\n",
    " 'Eswatini',\n",
    " 'Puerto Rico',\n",
    " 'Benin',\n",
    " 'Belarus',\n",
    " 'Malawi',\n",
    " 'Trinidad and Tobago',\n",
    " 'Eritrea',\n",
    " 'Bolivia',\n",
    " 'Iceland',\n",
    " 'Tuvalu',\n",
    " 'Niue',\n",
    " 'El Salvador',\n",
    " 'France',\n",
    " 'Brazil',\n",
    " 'Marshall Islands',\n",
    " 'Qatar',\n",
    " 'India',\n",
    " 'Libya',\n",
    " 'Bahamas',\n",
    " 'Thailand',\n",
    " 'Brunei',\n",
    " 'Egypt',\n",
    " 'Nepal',\n",
    " 'Sierra Leone',\n",
    " 'Lithuania',\n",
    " 'Guyana',\n",
    " 'Sao Tome and Principe',\n",
    " 'Seychelles',\n",
    " 'Bangladesh',\n",
    " 'Finland',\n",
    " 'Luxembourg',\n",
    " 'Netherlands',\n",
    " 'Turkmenistan',\n",
    " 'Togo',\n",
    " 'Bosnia and Herzegovina',\n",
    " 'Malta',\n",
    " 'Nigeria',\n",
    " 'Equatorial Guinea',\n",
    " 'Poland',\n",
    " 'Timor',\n",
    " 'Bahrain',\n",
    " 'Botswana',\n",
    " 'Philippines',\n",
    " 'Angola',\n",
    " 'Honduras',\n",
    " 'Sri Lanka',\n",
    " 'Somalia',\n",
    " 'Cook Islands',\n",
    " 'Saint Kitts and Nevis',\n",
    " 'Cuba',\n",
    " 'Morocco',\n",
    " 'Colombia',\n",
    " 'Greenland',\n",
    " 'United States Virgin Islands',\n",
    " 'Mongolia',\n",
    " 'Kiribati',\n",
    " 'Jamaica',\n",
    " 'Andorra',\n",
    " 'Albania',\n",
    " 'Montenegro',\n",
    " 'China',\n",
    " 'Uzbekistan',\n",
    " 'Sudan',\n",
    " 'Jordan',\n",
    " 'Panama',\n",
    " 'Costa Rica',\n",
    " 'Mozambique',\n",
    " 'Monaco',\n",
    " 'Uruguay',\n",
    " 'Greece',\n",
    " 'Guam',\n",
    " 'Pakistan',\n",
    " 'Cyprus',\n",
    " 'Venezuela',\n",
    " 'South Africa',\n",
    " 'Comoros',\n",
    " 'Palau',\n",
    " 'American Samoa',\n",
    " 'Congo',\n",
    " 'Kenya',\n",
    " 'Italy',\n",
    " 'Saint Lucia',\n",
    " 'Papua New Guinea',\n",
    " 'Algeria',\n",
    " 'Kazakhstan',\n",
    " 'Spain',\n",
    " 'Rwanda',\n",
    " 'Ghana',\n",
    " 'Czechia',\n",
    " 'Suriname',\n",
    " 'Grenada',\n",
    " 'Democratic Republic of Congo',\n",
    " 'Oman',\n",
    " 'Croatia',\n",
    " 'South Korea',\n",
    " \"Cote d'Ivoire\",\n",
    " 'Kuwait',\n",
    " 'Russia',\n",
    " 'Israel',\n",
    " 'Palestine',\n",
    " 'Afghanistan',\n",
    " 'Japan',\n",
    " 'South Sudan']"
   ]
  },
  {
   "cell_type": "code",
   "execution_count": 121,
   "id": "c08db81b",
   "metadata": {},
   "outputs": [
    {
     "name": "stdout",
     "output_type": "stream",
     "text": [
      "Dash app running on http://127.0.0.1:8089/\n"
     ]
    },
    {
     "name": "stderr",
     "output_type": "stream",
     "text": [
      "C:\\Users\\ali\\AppData\\Local\\Temp\\ipykernel_15480\\466639151.py:322: FutureWarning:\n",
      "\n",
      "Dropping of nuisance columns in DataFrame reductions (with 'numeric_only=None') is deprecated; in a future version this will raise TypeError.  Select only valid columns before calling the reduction.\n",
      "\n",
      "C:\\Users\\ali\\AppData\\Local\\Temp\\ipykernel_15480\\466639151.py:322: SettingWithCopyWarning:\n",
      "\n",
      "\n",
      "A value is trying to be set on a copy of a slice from a DataFrame.\n",
      "Try using .loc[row_indexer,col_indexer] = value instead\n",
      "\n",
      "See the caveats in the documentation: https://pandas.pydata.org/pandas-docs/stable/user_guide/indexing.html#returning-a-view-versus-a-copy\n",
      "\n",
      "C:\\Users\\ali\\AppData\\Local\\Temp\\ipykernel_15480\\466639151.py:338: FutureWarning:\n",
      "\n",
      "Dropping of nuisance columns in DataFrame reductions (with 'numeric_only=None') is deprecated; in a future version this will raise TypeError.  Select only valid columns before calling the reduction.\n",
      "\n",
      "C:\\Users\\ali\\AppData\\Local\\Temp\\ipykernel_15480\\466639151.py:322: FutureWarning:\n",
      "\n",
      "Dropping of nuisance columns in DataFrame reductions (with 'numeric_only=None') is deprecated; in a future version this will raise TypeError.  Select only valid columns before calling the reduction.\n",
      "\n",
      "C:\\Users\\ali\\AppData\\Local\\Temp\\ipykernel_15480\\466639151.py:322: SettingWithCopyWarning:\n",
      "\n",
      "\n",
      "A value is trying to be set on a copy of a slice from a DataFrame.\n",
      "Try using .loc[row_indexer,col_indexer] = value instead\n",
      "\n",
      "See the caveats in the documentation: https://pandas.pydata.org/pandas-docs/stable/user_guide/indexing.html#returning-a-view-versus-a-copy\n",
      "\n",
      "C:\\Users\\ali\\AppData\\Local\\Temp\\ipykernel_15480\\466639151.py:338: FutureWarning:\n",
      "\n",
      "Dropping of nuisance columns in DataFrame reductions (with 'numeric_only=None') is deprecated; in a future version this will raise TypeError.  Select only valid columns before calling the reduction.\n",
      "\n"
     ]
    }
   ],
   "source": [
    "from dash import Dash,html, dcc\n",
    "import dash_daq as daq\n",
    "from jupyter_dash import JupyterDash\n",
    "import jupyter_dash\n",
    "from dash.dependencies import Input, Output, State\n",
    "import dash\n",
    "import dash_bootstrap_components as dbc\n",
    "from dash_bootstrap_components._components.Container import Container\n",
    "\n",
    "#app = jupyter_dash.JupyterDash()\n",
    "\n",
    "app = jupyter_dash.JupyterDash(external_stylesheets=[dbc.themes.BOOTSTRAP])\n",
    "app.layout = html.Div([\n",
    "    #############\n",
    "    ## HEADER ##\n",
    "    ###########\n",
    "    html.Div([\n",
    "\n",
    "        html.Div([], className = 'col-2'), #Same as img width, allowing to have the title centrally aligned\n",
    "        html.Div([\n",
    "            html.H1('Causes of ', style={\"display\":\"inline-block\", 'color':'#f4a582','font_family': 'Courier New','font-size':'50px' }), \n",
    "            html.H1('  Death', \n",
    "                style={\"display\":\"inline-block\",'font-weight': 'bold', 'font-size':'60px',\n",
    "                       'text-shadow': '1px 2px 3px #8f7777', 'color':'#d93232', 'margin':'0px 5px'})        \n",
    "            ],\n",
    "            style={'padding':17, 'textAlign':'center', },\n",
    "            className='col-8',     \n",
    "        ),\n",
    "\n",
    "        ],\n",
    "        className = 'row',\n",
    "        style = {'height' : '4%',\n",
    "                'background-color' : '#ededd7'}\n",
    "    ),\n",
    "    \n",
    "    #############\n",
    "    ## Bans ##\n",
    "    ###########\n",
    "    dcc.Interval(\n",
    "                id='my_interval',\n",
    "                disabled=False,     #if True the counter will no longer update\n",
    "                n_intervals=0,      #number of times the interval has passed\n",
    "                interval=1*1000,  #increment the counter n_intervals every 5 minutes\n",
    "                max_intervals=100,  #number of times the interval will be fired.\n",
    "                                    #if -1, then the interval has no limit (the default)\n",
    "                                    #and if 0 then the interval stops running.\n",
    "    ),\n",
    "\n",
    "    html.Div([\n",
    "            html.Div([], className = 'col-2'),\n",
    "            html.Div([html.H2(children=0, id=\"Country_Name\", style={'textAlign':'center','color':'#990808','padding-top':'20px'})\n",
    "            ], style={'z-index': '0', 'background-color':'#ffffff','border': '2px solid #fff5ea' ,'border-radius':'15px',\n",
    "                      'box-shadow' : '#f5f3f0 0px 0px 28px 7px'}, className = 'col-2'),\n",
    "            html.Div([], className = 'col-1'),\n",
    "            html.Div([html.H2(children=0, id='Death_Name', style={'textAlign':'center','color':'#990808'}),\n",
    "                     html.H3(children=0, id=\"num_death\",style={'textAlign':'center','font-weight': 'bold', 'color':'rgb(217, 50 ,50)'}),\n",
    "                     ],style={'z-index': '0', 'background-color':'#ffffff','border': '2px solid #fff5ea' \n",
    "                            ,'border-radius':'15px', 'box-shadow' : '#f5f3f0 0px 0px 28px 7px'}, \n",
    "                     className = 'col-2'),\n",
    "            html.Div([], className = 'col-1'),\n",
    "            html.Div([html.H2(children=\"Total Deaths\", style={'textAlign':'center','color':'#990808'}),\n",
    "                     html.H3(children=0, id='Total_num_death', style={'textAlign':'center','font-weight': 'bold', 'color':'rgb(217, 50 ,50)'})],\n",
    "                     style={'z-index': '0', 'background-color':'#ffffff','border': '2px solid #fff5ea' ,\n",
    "                            'border-radius':'15px', 'box-shadow' : '#f5f3f0 0px 0px 28px 7px'}, className = 'col-2'),\n",
    "            html.Div([], className = 'col-2'),\n",
    "        ],\n",
    "    className = 'row',\n",
    "    style = {'height' : '100px', 'background-color':'#ededd7', 'padding-bottom': '60px'}),\n",
    "    \n",
    "     \n",
    "    \n",
    "    #######################\n",
    "    ## Body ##\n",
    "    #######################\n",
    "    \n",
    "    html.Div([\n",
    "        html.Div([], className = 'col-1'), # Blank 1 column from left\n",
    "        html.Div([\n",
    "            #html.H2(children = \"Different Diseases \", style = {'color' : '#d93232', 'textAlign':'center'}),\n",
    "            # SLIDER #\n",
    "            #########\n",
    "            html.Div([ \n",
    "                html.Div(\n",
    "                    daq.LEDDisplay(id='my-LED',\n",
    "                    label=\"\",\n",
    "                    value=1990,\n",
    "                    color='#d93232',\n",
    "                    size = 15,\n",
    "                    style = None),\n",
    "                    style={'textAlign':'center','margin-bottom':'3px'}),\n",
    "                dcc.Slider(id='my-slider',\n",
    "                    value=egy_df['Year'].min(), \n",
    "                    min=egy_df['Year'].min(),\n",
    "                    max=egy_df['Year'].max(),\n",
    "                    step=None,\n",
    "                    marks={str(years):str(years) for years in egy_df['Year'].unique()}),\n",
    "                \n",
    "            ],className = 'row', style = recapdiv),\n",
    "           #html.Br(),\n",
    "            \n",
    "           html.P('Proportion of deaths for each disease', style={\"display\":\"inline-block\", 'color':'#f4a582','font_family': 'Courier New','font-size':'20px',\n",
    "                                      'margin':'0px 30px'}), \n",
    "           html.P('Number of deaths per disease',style={\"display\":\"inline-block\", 'color':'#f4a582','font_family': 'Courier New','font-size':'20px',\n",
    "                                      'margin':'0px 300px'}),\n",
    "            ## PART OF GRAPHS\n",
    "            ################\n",
    "            html.Div([ #1 Roww\n",
    "                html.Div([\n",
    "                dcc.Graph(\n",
    "                    id='fig_pie',\n",
    "                    figure=fig3.update_layout(\n",
    "                       # template     = 'plotly_dark',\n",
    "                        plot_bgcolor = 'rgba(0, 0, 0, 0)',\n",
    "                        paper_bgcolor= 'rgba(0, 0, 0, 0)',\n",
    "                        autosize=True,\n",
    "                        margin=dict(l=20, r=20, t=20, b=20),\n",
    "                    ),\n",
    "                    config={'displayModeBar': False, 'autosizable':True, 'responsive':True},\n",
    "                )],className = 'col-4'),\n",
    "               \n",
    "                # Bar Chart \n",
    "                html.Div([\n",
    "                    dcc.Graph(\n",
    "                            id='bar_fig',\n",
    "                            figure=bar_fig.update_layout(\n",
    "                               # template     = 'plotly_dark',\n",
    "                                plot_bgcolor = 'rgba(0, 0, 0, 0)',\n",
    "                                paper_bgcolor= 'rgba(0, 0, 0, 0)',\n",
    "                                autosize=True,\n",
    "                                margin=dict(l=20, r=20, t=20, b=20),\n",
    "                            ),\n",
    "                            config={'displayModeBar': False, 'autosizable':True, 'responsive':True},\n",
    "                        )\n",
    "                ],className = 'col-5'),\n",
    "                \n",
    "                # DropDown & Card \n",
    "                                # DropDown & Card \n",
    "                html.Div([\n",
    "                    dbc.Card([\n",
    "                        html.Div([dbc.Label(\"Select a Country\", html_for=\"dropdown\",\n",
    "                                            style={'color': 'coral', 'font-weight': 'bold', 'padding-top': '8px'}),\n",
    "                                dcc.Dropdown(\n",
    "                                id=\"dropdown_country\",\n",
    "                                value='Denmark',\n",
    "                                options=countries,\n",
    "                                #style={'font-size': '18px','color': '#990808'}\n",
    "                                ),\n",
    "                                ],style={'textAlign':'center', 'box-shadow' : 'rgb(245, 243, 245) 1px 7px 7px 1px'})\n",
    "                    ]),\n",
    "                    html.Br(),\n",
    "                    dbc.Card([\n",
    "                        dbc.CardImg(src=app.get_asset_url('Denmark.gif'), className=\"img-fluid rounded-start\",id=\"card_country\"),\n",
    "                        dbc.CardBody([\n",
    "                        html.P(\n",
    "                        \"Some quick info about the disease\",\n",
    "                        className=\"card-text\"),\n",
    "                        dbc.Button(\"Go somewhere\", color=\"danger\", outline=True,  href=\"https://en.wikipedia.org/wiki/United_States\", id='country'),\n",
    "                        ], style={'textAlign':'center', 'box-shadow' : 'rgb(231, 236, 241) 4px 4px 4px 3px'}),\n",
    "                    ])\n",
    "                ],className = 'col-3')\n",
    "\n",
    "            ],className = 'row'),\n",
    "\n",
    "            ###### End 1 Row ####\n",
    "            \n",
    "            # 2 ROWWWW\n",
    "            html.P('Disease distributions for each country', style={\"display\":\"inline-block\", 'color':'#f4a582','font_family': 'Courier New','font-size':'20px',\n",
    "                                      'margin':'0px 400px'}), \n",
    "            html.Div([\n",
    "                # Map Graph \n",
    "                html.Div([\n",
    "                    dcc.Graph(\n",
    "                        id='Map_Fig',\n",
    "                        figure=fig1.update_layout(\n",
    "                            template     = 'seaborn',\n",
    "                            plot_bgcolor = 'rgba(0, 0, 0, 0)',\n",
    "                            paper_bgcolor= 'rgba(0, 0, 0, 0)',\n",
    "                            autosize=True,\n",
    "                            margin=dict(l=20, r=20, t=20, b=20),\n",
    "                        ),\n",
    "                        config={'displayModeBar': False, 'autosizable':True, 'responsive':True},\n",
    "                        \n",
    "                    )\n",
    "                    \n",
    "                ],\n",
    "                className = 'col-9'),\n",
    "\n",
    "            # Second Card & DropDown\n",
    "                html.Div([\n",
    "                    html.Br(),\n",
    "                    dbc.Card([\n",
    "                        html.Div([dbc.Label(\"Select a Disease\", html_for=\"dropdown\", \n",
    "                                            style={'color': 'coral', 'font-weight': 'bold', 'padding-top': '8px'}),\n",
    "                                dcc.Dropdown(\n",
    "                                id=\"dropdown_diseases\",\n",
    "                                value='Cardiovascular',\n",
    "                                options=names_of_diseases,\n",
    "                                ),\n",
    "                                ],style={'textAlign':'center', 'box-shadow' : 'rgb(245, 243, 245) 1px 7px 7px 1px'})\n",
    "                    ]),\n",
    "                    html.Br(),\n",
    "                    dbc.Card([\n",
    "                        dbc.CardImg(src=app.get_asset_url('Cardiovascular.gif'), className=\"img-fluid rounded-start\",id=\"card_diseases\"),\n",
    "                        dbc.CardBody([\n",
    "                        html.P(\n",
    "                        \"Some quick info about the disease\",\n",
    "                        className=\"card-text\"),\n",
    "                        dbc.Button(\"Go somewhere\", color=\"danger\",outline=True,  href=\"https://en.wikipedia.org/wiki/United_States\", id='disease'),\n",
    "                        ], style={'textAlign':'center', 'box-shadow' : 'rgb(231, 236, 241) 4px 4px 4px 3px'}),\n",
    "                        \n",
    "                    ])\n",
    "                ],className = 'col-3')\n",
    "            ],className = 'row') ,\n",
    "\n",
    "        html.Br(),\n",
    "        html.Br(),\n",
    "        html.Br()\n",
    "        ],\n",
    "        className = 'col-10',\n",
    "        style = externalgraph_colstyling), # External 10-column\n",
    "\n",
    "        html.Div([\n",
    "        ],\n",
    "        className = 'col-1'), # Blank 1 column\n",
    "\n",
    "    \n",
    "    ],\n",
    "    className = 'row',\n",
    "    style = {'background-color' : '#ededd7'}\n",
    "    )\n",
    "\n",
    "]) \n",
    "\n",
    "\n",
    "\n",
    "\n",
    "\n",
    "#############\n",
    "# CALL BACK #\n",
    "#############\n",
    "@app.callback(\n",
    "    Output('Country_Name','children'),\n",
    "    Output('Death_Name','children'),\n",
    "    Output('num_death','children'),\n",
    "    Output('Total_num_death','children'),\n",
    "    Output('my-LED', 'value'),\n",
    "    Output('Map_Fig', 'figure'),\n",
    "    Output('card_diseases', 'src'),\n",
    "    Output('disease', 'href'),\n",
    "    Output('card_country', 'src'),\n",
    "    Output('fig_pie', 'figure'),\n",
    "    Output('bar_fig', 'figure'),\n",
    "    Output('country', 'href'),\n",
    "    Input('my-slider', 'value'),\n",
    "    Input('dropdown_country', 'value'),\n",
    "    Input('dropdown_diseases', 'value')\n",
    "\n",
    ")\n",
    "\n",
    "def ControlFunction(slider, DD1_value, DD2_value):\n",
    "    # plot changes in number of deathes over years in each country \n",
    "    # DD1_value  ---> Country \n",
    "    # DD2_value  ---> Disease\n",
    "    ##########################\n",
    "    country = (prep_df[prep_df['Entity'] == DD1_value])\n",
    "\n",
    "    \n",
    "    bar_data = country[country.Year==slider]\n",
    "    bar_data = bar_data.drop(['Entity','Code','Year'], axis=1)\n",
    "    bar_data = bar_data.squeeze()\n",
    "    bar_data = pd.concat([bar_data, bar_data], axis=1)\n",
    "    bar_data.columns = ['values', 'specificity']\n",
    "    bar_data = bar_data.drop('specificity', axis=1)\n",
    "\n",
    "    bar_data = bar_data.sort_values('values')\n",
    "    x_sorted = bar_data[-11:].squeeze()\n",
    "    y = (x_sorted.index).to_list()\n",
    "    \n",
    "    bar_fig = go.Figure(go.Bar(x = x_sorted, \n",
    "                       y = y,\n",
    "                       marker=dict(\n",
    "     \n",
    "                        color=x_sorted,\n",
    "                        colorbar=dict(\n",
    "                        ),\n",
    "                        colorscale=\"orrd\"\n",
    "                        ), \n",
    "                       orientation='h'),layout=go.Layout(\n",
    "                                                         height=400, width=550,margin=dict(l=10, r=20, t=10, b=10),\n",
    "                            template=\"plotly_white\",\n",
    "                        paper_bgcolor='rgba(0,0,0,0)',\n",
    "                         plot_bgcolor='rgba(0,0,0,0)'))\n",
    "   #marker={\n",
    "    #                    'color': 'brown',\n",
    "     #                   'colorscale': 'Viridis'\n",
    "      #                  }\n",
    "    \n",
    "    \n",
    "    year = (prep_df[prep_df['Year'] == slider])\n",
    "    # Creating two subplots\n",
    "    map_fig =  go.Figure(data=go.Choropleth(\n",
    "    locations=year['Code'], # Spatial coordinates\n",
    "    z = year[DD2_value],\n",
    "    text = year['Entity'],# Data to be color-coded\n",
    "    colorscale = 'YlOrRd',\n",
    "    autocolorscale=False,\n",
    "    marker_line_color='darkgray',\n",
    "    marker_line_width=0.5,\n",
    "    #colorbar_title = 'Density',\n",
    ")\n",
    "    , layout=go.Layout(\n",
    "                       template='seaborn',\n",
    "                       geo=dict(\n",
    "                            showframe=False,\n",
    "                            showcoastlines=False,\n",
    "                            projection_type='equirectangular'),\n",
    "                       margin={\"r\":0,\"t\":50,\"l\":0,\"b\":0}\n",
    "                      )\n",
    "                 )\n",
    "\n",
    "\n",
    "    country['Total of deaths'] = country.sum(axis=1)\n",
    "    country = country[country.Year==slider]\n",
    "    country_total = country.drop(['Entity','Code','Year','Total of deaths'], axis=1)\n",
    "    country_df_Alltotal = pd.DataFrame(country_total.sum(axis=0))\n",
    "    country_df_Alltotal = country_df_Alltotal.reset_index()\n",
    "    country_df_Alltotal.rename(columns = {'index':'diseases', 0:'Numbers'}, inplace = True)\n",
    "    country_df_Alltotal = country_df_Alltotal.sort_values('Numbers', ascending = False)\n",
    "\n",
    "    \n",
    "    pie_fig = px.pie(egy_df_Alltotal, values=country_df_Alltotal.Numbers[:5], names=country_df_Alltotal.diseases[:5],\n",
    "             color_discrete_sequence=px.colors.sequential.RdBu)\n",
    "    pie_fig =pie_fig.update_layout(height=400, width=500,margin=dict(l=20, r=0, t=20, b=20), template=\"plotly_white\",\n",
    "                        paper_bgcolor='rgba(0,0,0,0)',\n",
    "                         plot_bgcolor='rgba(0,0,0,0)')\n",
    "\n",
    "    ban2_value_of_each_disease = prep_df[(prep_df.Entity== DD1_value)&(prep_df.Year == slider)][DD2_value].tolist()[0]\n",
    "    ban3_value_in_each_year = (prep_df[(prep_df.Entity== DD1_value)&(prep_df.Year == slider)].sum(axis=1)).tolist()[0]\n",
    "        \n",
    "    return str(DD1_value), str(DD2_value), str(ban2_value_of_each_disease), str(ban3_value_in_each_year), str(slider), map_fig, app.get_asset_url(DD2_value+'.gif'), \"https://www.who.int/news-room/fact-sheets/detail/road-traffic-injuries#:~:text=Every%20year%20the%20lives%20of,a%20result%20of%20their%20injury.\", app.get_asset_url(DD1_value+'.gif'), pie_fig, bar_fig, \"https://www.who.int/countries/usa\"\n",
    "\n",
    "\n",
    "app.run_server(port=8089, debug=True)"
   ]
  },
  {
   "cell_type": "code",
   "execution_count": null,
   "id": "29ccdd95",
   "metadata": {},
   "outputs": [],
   "source": []
  }
 ],
 "metadata": {
  "kernelspec": {
   "display_name": "Python 3 (ipykernel)",
   "language": "python",
   "name": "python3"
  },
  "language_info": {
   "codemirror_mode": {
    "name": "ipython",
    "version": 3
   },
   "file_extension": ".py",
   "mimetype": "text/x-python",
   "name": "python",
   "nbconvert_exporter": "python",
   "pygments_lexer": "ipython3",
   "version": "3.10.1"
  }
 },
 "nbformat": 4,
 "nbformat_minor": 5
}
